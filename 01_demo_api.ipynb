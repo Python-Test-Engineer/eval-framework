{
 "cells": [
  {
   "cell_type": "code",
   "execution_count": null,
   "id": "de23bb9e-37c5-4377-9a82-d7b6c648eeb6",
   "metadata": {},
   "outputs": [],
   "source": [
    "import os\n",
    "import json\n",
    "from dotenv import load_dotenv\n",
    "from openai import OpenAI"
   ]
  },
  {
   "cell_type": "code",
   "execution_count": 2,
   "id": "17ce3c2c",
   "metadata": {},
   "outputs": [],
   "source": [
    "# for console formatting I use the Rich library\n",
    "from rich.console import Console\n",
    "\n",
    "console = Console()"
   ]
  },
  {
   "cell_type": "code",
   "execution_count": 3,
   "id": "c5dd4d3a",
   "metadata": {},
   "outputs": [],
   "source": [
    "def get_llm_client(llm_choice):\n",
    "    if llm_choice == \"GROQ\":\n",
    "        client = OpenAI(\n",
    "            base_url=\"https://api.groq.com/openai/v1\",\n",
    "            api_key=os.environ.get(\"GROQ_API_KEY\"),\n",
    "        )\n",
    "        return client\n",
    "    elif llm_choice == \"OPENAI\":\n",
    "        load_dotenv()  # load environment variables from .env fil\n",
    "        client = OpenAI(api_key=os.environ.get(\"OPENAI_API_KEY\"))\n",
    "        return client\n",
    "    else:\n",
    "        raise ValueError(\"Invalid LLM choice. Please choose 'GROQ' or 'OPENAI'.\")"
   ]
  },
  {
   "cell_type": "code",
   "execution_count": 4,
   "id": "1179b4c5-cd1f-4131-a876-4c9f3f38d2ba",
   "metadata": {},
   "outputs": [
    {
     "name": "stdout",
     "output_type": "stream",
     "text": [
      "OPENAI_API_KEY exists and begins sk-proj-vIt-L1...\n",
      "GROQ_API_KEY exists and begins gsk_0yKDCuUXkz...\n",
      "LLM_CHOICE: GROQ - MODEL: llama-3.3-70b-versatile\n"
     ]
    }
   ],
   "source": [
    "# Load environment variables in a file called .env\n",
    "# Print the key prefixes to help with any debugging\n",
    "load_dotenv()\n",
    "\n",
    "OPENAI_API_KEY = os.getenv(\"OPENAI_API_KEY\")\n",
    "GROQ_API_KEY = os.getenv(\"GROQ_API_KEY\")\n",
    "\n",
    "LLM_CHOICE = \"OPENAI\"\n",
    "LLM_CHOICE = \"GROQ\"\n",
    "\n",
    "if OPENAI_API_KEY:\n",
    "    print(f\"OPENAI_API_KEY exists and begins {OPENAI_API_KEY[:14]}...\")\n",
    "else:\n",
    "    print(\"OPENAI_API_KEY not set\")\n",
    "\n",
    "if GROQ_API_KEY:\n",
    "    print(f\"GROQ_API_KEY exists and begins {GROQ_API_KEY[:14]}...\")\n",
    "else:\n",
    "    print(\"GROQ_API_KEY not set\")\n",
    "\n",
    "\n",
    "client = get_llm_client(LLM_CHOICE)\n",
    "if LLM_CHOICE == \"GROQ\":\n",
    "    MODEL = \"llama-3.3-70b-versatile\"\n",
    "else:\n",
    "    MODEL = \"gpt-4o-mini\"\n",
    "\n",
    "print(f\"LLM_CHOICE: {LLM_CHOICE} - MODEL: {MODEL}\")"
   ]
  },
  {
   "cell_type": "markdown",
   "id": "dabd0ce2",
   "metadata": {},
   "source": [
    "Essentially, we build up data to pass as SYSTEM MESSAGE that sets the context for the conversation and contexctual data for the LLM.\n",
    "\n",
    "I split this into core SYSTEM_MESSAGE and PROMPT_ENGINEERING = system_message\n",
    "\n",
    "We then create the USER PROMPT that is the input to the LLM.\n",
    "\n",
    "OpenAI was trained on this structure, so it is most effective to do it this way.\n"
   ]
  },
  {
   "cell_type": "code",
   "execution_count": 5,
   "id": "378a0296-59a2-45c6-82eb-941344d3eeff",
   "metadata": {},
   "outputs": [],
   "source": [
    "# We now create our ENDPOINT but on the CLIENT side and in NATURAL LANGUAGE\n",
    "\n",
    "system_message = \"\"\"\n",
    "You are an assistant that is great at telling jokes.\n",
    "\"\"\"\n",
    "\n",
    "# Here is where we can do some prompt engineering - we are adding to the system message and creating our endpoint as it were.\n",
    "\n",
    "prompt_engineering = \"\"\"\n",
    "01_demo_api.ipynb\n",
    "\n",
    "# Background\n",
    "\n",
    "You are an assistant that is great at telling jokes.\n",
    "\n",
    "# Objective\n",
    "\n",
    "To return a joke worthy of publishing including a rating out of 10 an whether to PUBLISH or RETRY as the *next* step.\n",
    "\n",
    "# Suitable to publish\n",
    "\n",
    "A joke is worthy of being published if it has a score of 8.5/10 or higher and is deemed suitable to be published by the editor.\n",
    "\n",
    "# Example Output\n",
    "\n",
    "system_message = 'You are an assistant that is great at telling jokes.'\n",
    "\n",
    "prompt_engineering = 'A joke worthy of publishing is a joke that you feel is OK or higher and above by your own standards, with the following rating scale in ascending order of quality - POOR, OK, MODERATELY GOOD, GOOD, VERY GOOD, EXCELLENT'\n",
    "\n",
    "If the joke is worthy of publishing also include next: PUBLISH otherwise next: RETRY\n",
    "# Example\n",
    "\n",
    "\n",
    "Here is an example of a joke worthy of publishing:\n",
    "\n",
    "Supply the response in the following JSON format:\n",
    "\n",
    "{\"setup\": \"The setup of the joke\",\n",
    "\"punchline\": \"The punchline of the joke\",   \n",
    "\"rating\": \"GOOD\",\n",
    "\"next\": \"PUBLISH\",\n",
    "\"explanation\": \"This joke is funny beacuse it plays on the idea of a common phrase and gives it a humorous twist.\"}\n",
    "\n",
    "Remove all back ticks and other unnecessary characters and just print the JSON format and nothing else.\n",
    "\n",
    "Always give a new joke each time.\n",
    "\n",
    "**Give a short explanation of the joke in a separate JSON object with the key \"explanation\" and the value being the explanation.**\n",
    "\n",
    "Remove all back ticks and other unnecessary characters and just print the JSON format and nothing else.\n",
    "\n",
    "Please ensure jokes are not repeated on retries\n",
    "\"\"\"\n",
    "# We add the prompt engineering to the system message\n",
    "system_message += prompt_engineering\n",
    "\n",
    "\n",
    "# We create our user prompt and will add all of these to the payload.\n",
    "user_prompt = \"Tell a light-hearted joke for a general audience\""
   ]
  },
  {
   "cell_type": "code",
   "execution_count": 6,
   "id": "f4d56a0f-2a3d-484d-9344-0efa6862aff4",
   "metadata": {},
   "outputs": [],
   "source": [
    "# We create a list of messages to pass to the LLM\n",
    "\n",
    "# OpenAI works was trained with a list of messages - system, user, assistant - so using this is most effective\n",
    "\n",
    "prompts = [\n",
    "    {\"role\": \"system\", \"content\": system_message},\n",
    "    {\"role\": \"user\", \"content\": user_prompt},\n",
    "]\n",
    "# we will get back as we have seen previously an 'assistant' message."
   ]
  },
  {
   "cell_type": "code",
   "execution_count": null,
   "id": "d070d976",
   "metadata": {},
   "outputs": [
    {
     "name": "stdout",
     "output_type": "stream",
     "text": [
      "{\"setup\": \"Why couldn't the bicycle stand up by itself?\", \n",
      "\"punchline\": \"Because it was two-tired\", \n",
      "\"rating\": 9, \n",
      "\"next\": \"PUBLISH\", \n",
      "\"explanation\": \"This joke is funny because it plays on the common phrase 'two-tired' meaning exhausted, but also references the fact that a bicycle has two tires.\"}\n"
     ]
    }
   ],
   "source": [
    "# Standard API request\n",
    "response = client.chat.completions.create(\n",
    "    model=MODEL, messages=prompts, temperature=0.7\n",
    ")\n",
    "print(response.choices[0].message.content)  # location of answer\n",
    "output = response.choices[0].message.content.replace(\"\\n\", \"\")"
   ]
  },
  {
   "cell_type": "code",
   "execution_count": 17,
   "id": "f117cf9c",
   "metadata": {},
   "outputs": [
    {
     "data": {
      "text/plain": [
       "{'setup': \"Why couldn't the bicycle stand up by itself?\",\n",
       " 'punchline': 'Because it was two-tired',\n",
       " 'rating': 9,\n",
       " 'next': 'PUBLISH',\n",
       " 'explanation': \"This joke is funny because it plays on the common phrase 'two-tired' meaning exhausted, but also references the fact that a bicycle has two tires.\"}"
      ]
     },
     "execution_count": 17,
     "metadata": {},
     "output_type": "execute_result"
    }
   ],
   "source": [
    "output = dict(json.loads(output))\n",
    "output"
   ]
  },
  {
   "cell_type": "markdown",
   "id": "07b6ca8d",
   "metadata": {},
   "source": [
    "### Autonomy - NEXT determined by Agent\n",
    "\n",
    "This can be used to determine the next step to take in an 'if/else' type scenario\n"
   ]
  },
  {
   "cell_type": "code",
   "execution_count": null,
   "id": "ec6adbaf",
   "metadata": {},
   "outputs": [
    {
     "data": {
      "text/html": [
       "<pre style=\"white-space:pre;overflow-x:auto;line-height:normal;font-family:Menlo,'DejaVu Sans Mono',consolas,'Courier New',monospace\"><span style=\"color: #008080; text-decoration-color: #008080; font-weight: bold\">NEXT: PUBLISH</span>\n",
       "</pre>\n"
      ],
      "text/plain": [
       "\u001b[1;36mNEXT: PUBLISH\u001b[0m\n"
      ]
     },
     "metadata": {},
     "output_type": "display_data"
    }
   ],
   "source": [
    "console.print(f\"[cyan bold]NEXT: {output[\"next\"]}\")  # publish or retry?"
   ]
  }
 ],
 "metadata": {
  "kernelspec": {
   "display_name": "earl2025",
   "language": "python",
   "name": "python3"
  },
  "language_info": {
   "codemirror_mode": {
    "name": "ipython",
    "version": 3
   },
   "file_extension": ".py",
   "mimetype": "text/x-python",
   "name": "python",
   "nbconvert_exporter": "python",
   "pygments_lexer": "ipython3",
   "version": "3.12.1"
  }
 },
 "nbformat": 4,
 "nbformat_minor": 5
}
