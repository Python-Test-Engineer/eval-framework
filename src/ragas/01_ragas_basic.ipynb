{
 "cells": [
  {
   "cell_type": "code",
   "execution_count": null,
   "id": "46303216",
   "metadata": {},
   "outputs": [
    {
     "data": {
      "application/vnd.jupyter.widget-view+json": {
       "model_id": "2b0bbee0037c4e0eb10c289d30d276d6",
       "version_major": 2,
       "version_minor": 0
      },
      "text/plain": [
       "Evaluating:   0%|          | 0/4 [00:00<?, ?it/s]"
      ]
     },
     "metadata": {},
     "output_type": "display_data"
    }
   ],
   "source": [
    "from ragas.metrics import faithfulness, context_precision,context_recall\n",
    "from datasets import Dataset\n",
    "from ragas import evaluate\n",
    "# This is what goes into RAGAS evaluation\n",
    "eval_data = {\n",
    "    \"question\": [\"What are the health benefits of exercise?\"],\n",
    "    \"answer\": [\n",
    "        \"Exercise improves cardiovascular health, strengthens muscles, and reduces stress.\"\n",
    "    ],\n",
    "    \"contexts\": [  # ← These are your retrieved chunks\n",
    "        [\n",
    "            \"Regular exercise strengthens the heart and improves circulation.\",\n",
    "            \"Physical activity helps build and maintain muscle mass.\",\n",
    "            \"Exercise releases endorphins which help reduce stress and anxiety.\",\n",
    "            \"Studies show exercise can lower blood pressure and cholesterol.\",\n",
    "        ]\n",
    "    ],\n",
    "    \"ground_truth\": [\n",
    "        \"Exercise provides cardiovascular benefits, builds muscle strength, and has positive mental health effects.\"\n",
    "    ],\n",
    "}\n",
    "\n",
    "dataset = Dataset.from_dict(eval_data)\n",
    "\n",
    "# RAGAS will check:\n",
    "# - Faithfulness: Is the answer supported by the contexts?\n",
    "# - Context Precision: Are the contexts relevant to the question?\n",
    "results = evaluate(\n",
    "    dataset,\n",
    "    metrics=[faithfulness, context_precision, context_precision, context_recall],\n",
    ")"
   ]
  },
  {
   "cell_type": "code",
   "execution_count": 2,
   "id": "61aefaa9",
   "metadata": {},
   "outputs": [
    {
     "data": {
      "text/plain": [
       "{'faithfulness': 1.0000, 'context_precision': 0.0000, 'context_recall': 1.0000}"
      ]
     },
     "execution_count": 2,
     "metadata": {},
     "output_type": "execute_result"
    }
   ],
   "source": [
    "results"
   ]
  }
 ],
 "metadata": {
  "kernelspec": {
   "display_name": "eval-framework",
   "language": "python",
   "name": "python3"
  },
  "language_info": {
   "codemirror_mode": {
    "name": "ipython",
    "version": 3
   },
   "file_extension": ".py",
   "mimetype": "text/x-python",
   "name": "python",
   "nbconvert_exporter": "python",
   "pygments_lexer": "ipython3",
   "version": "3.12.1"
  }
 },
 "nbformat": 4,
 "nbformat_minor": 5
}
