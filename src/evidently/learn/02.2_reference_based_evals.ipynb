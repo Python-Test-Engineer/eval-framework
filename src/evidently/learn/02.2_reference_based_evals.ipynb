{
  "cells": [
    {
      "cell_type": "code",
      "execution_count": null,
      "metadata": {
        "id": "-J_1wj4LvpCU"
      },
      "outputs": [],
      "source": [
        "import pandas as pd\n",
        "import os\n",
        "from evidently import Report\n",
        "from evidently import Dataset, DataDefinition\n",
        "from evidently.descriptors import (\n",
        "    TextLength,\n",
        "    Sentiment,\n",
        "    HuggingFace,\n",
        "    IncludesWords,\n",
        "    SemanticSimilarity,\n",
        "    ExactMatch,\n",
        "    BERTScore,\n",
        "    SentenceCount,\n",
        ")\n",
        "from evidently.descriptors import (\n",
        "    LLMEval,\n",
        "    PIILLMEval,\n",
        "    DeclineLLMEval,\n",
        "    CorrectnessLLMEval,\n",
        "    FaithfulnessLLMEval,\n",
        ")\n",
        "from evidently.descriptors import ColumnTest, TestSummary, CustomColumnDescriptor\n",
        "from evidently.llm.templates import (\n",
        "    BinaryClassificationPromptTemplate,\n",
        "    MulticlassClassificationPromptTemplate,\n",
        ")\n",
        "from evidently.core.datasets import DatasetColumn\n",
        "from evidently.presets import TextEvals\n",
        "from evidently.tests import eq, gte, lte\n",
        "from evidently.ui.workspace import CloudWorkspace"
      ]
    },
    {
      "cell_type": "markdown",
      "metadata": {
        "id": "xrs0IPLSISpd"
      },
      "source": [
        "# Part 2. Reference-based evals"
      ]
    },
    {
      "cell_type": "markdown",
      "metadata": {
        "id": "cYCqzq6OzdGD"
      },
      "source": [
        "Generate a toy dataset. Let's imagine a Q&A (RAG) use case where the system generates the response based on the retrieved context."
      ]
    },
    {
      "cell_type": "code",
      "execution_count": null,
      "metadata": {
        "id": "awIvxkZAwpRy"
      },
      "outputs": [],
      "source": [
        "eval_data = pd.DataFrame(\n",
        "    [\n",
        "        {\n",
        "            \"question\": \"Will my transaction go through if I don't have enough funds?\",\n",
        "            \"context\": \"Overdraft protection allows transactions to be completed even if the account balance is insufficient. This service incurs a $35 fee per overdraft event unless linked to a backup account..\",\n",
        "            \"answer\": \"Yes, your transaction will go through if overdraft protection is enabled, but a $35 fee will apply\",\n",
        "            \"reference_answer\": \"Yes, with overdraft protection, your transaction will complete, but you will be charged $35.\",\n",
        "        },\n",
        "        {\n",
        "            \"question\": \"How do I block my card if it's lost?\",\n",
        "            \"context\": \"To block a lost or stolen card, users should immediately navigate to the Cards section in the FinBot app, select the affected card, and tap 'Block card'. Blocking is instant and irreversible.\",\n",
        "            \"answer\": \"Go to the Cards section, select your card, and tap 'Block card' to block it instantly.\",\n",
        "            \"reference_answer\": \"Open the app, go to Cards, choose your card, and tap 'Block card'. Blocking is immediate.\",\n",
        "        },\n",
        "        {\n",
        "            \"question\": \"Do you offer loans in Argentina?\",\n",
        "            \"context\": \"FinBot currently offers loans in 20+ locations, including the US, Canada, and selected EU countries.\",\n",
        "            \"answer\": \"Yes, FinBot offers personal loans in Argentina with competitive rates.\",  # Incorrect\n",
        "            \"reference_answer\": \"No, FinBot does not currently offer loans in Argentina.\",\n",
        "        },\n",
        "        {\n",
        "            \"question\": \"Is there a fee for using an ATM in Mexico?\",\n",
        "            \"context\": \"ATM withdrawals in Mexico are free when using partner ATMs. Non-partner ATMs incur a $2.50 fee per withdrawal, which is deducted immediately.\",\n",
        "            \"answer\": \"You’ll be charged $2.50.\",\n",
        "            \"reference_answer\": \"Yes, the fee is $2.50 for non-partner ATMs. Partner ATMs are free.\",\n",
        "        },\n",
        "        {\n",
        "            \"question\": \"Can I cancel a transaction after it's sent?\",\n",
        "            \"context\": \"Outgoing transactions cannot be canceled once processed. Users may initiate a recall request, but success is not guaranteed. The recipient’s bank must agree to reverse the transfer.\",\n",
        "            \"answer\": \"I am afraid I do not have information to answer this question.\",\n",
        "            \"reference_answer\": \"No, but you can submit a recall request. It depends on the recipient’s bank.\",\n",
        "        },\n",
        "    ]\n",
        ")"
      ]
    },
    {
      "cell_type": "markdown",
      "metadata": {
        "id": "1CXoeOh4qR8Q"
      },
      "source": [
        "## Ground truth (Mocked)"
      ]
    },
    {
      "cell_type": "markdown",
      "metadata": {
        "id": "c53Rzfr20KB-"
      },
      "source": [
        "Let's first take a look at the starting point: a golden dataset of expected questions and answers."
      ]
    },
    {
      "cell_type": "code",
      "execution_count": 3,
      "metadata": {
        "colab": {
          "base_uri": "https://localhost:8080/",
          "height": 206
        },
        "id": "opCriAVnz4YZ",
        "outputId": "8c6b2d54-65dd-436e-c95a-0a3cf4dc2b4f"
      },
      "outputs": [
        {
          "data": {
            "text/html": [
              "<div>\n",
              "<style scoped>\n",
              "    .dataframe tbody tr th:only-of-type {\n",
              "        vertical-align: middle;\n",
              "    }\n",
              "\n",
              "    .dataframe tbody tr th {\n",
              "        vertical-align: top;\n",
              "    }\n",
              "\n",
              "    .dataframe thead th {\n",
              "        text-align: right;\n",
              "    }\n",
              "</style>\n",
              "<table border=\"1\" class=\"dataframe\">\n",
              "  <thead>\n",
              "    <tr style=\"text-align: right;\">\n",
              "      <th></th>\n",
              "      <th>question</th>\n",
              "      <th>reference_answer</th>\n",
              "    </tr>\n",
              "  </thead>\n",
              "  <tbody>\n",
              "    <tr>\n",
              "      <th>0</th>\n",
              "      <td>Will my transaction go through if I don't have...</td>\n",
              "      <td>Yes, with overdraft protection, your transacti...</td>\n",
              "    </tr>\n",
              "    <tr>\n",
              "      <th>1</th>\n",
              "      <td>How do I block my card if it's lost?</td>\n",
              "      <td>Open the app, go to Cards, choose your card, a...</td>\n",
              "    </tr>\n",
              "    <tr>\n",
              "      <th>2</th>\n",
              "      <td>Do you offer loans in Argentina?</td>\n",
              "      <td>No, FinBot does not currently offer loans in A...</td>\n",
              "    </tr>\n",
              "    <tr>\n",
              "      <th>3</th>\n",
              "      <td>Is there a fee for using an ATM in Mexico?</td>\n",
              "      <td>Yes, the fee is $2.50 for non-partner ATMs. Pa...</td>\n",
              "    </tr>\n",
              "    <tr>\n",
              "      <th>4</th>\n",
              "      <td>Can I cancel a transaction after it's sent?</td>\n",
              "      <td>No, but you can submit a recall request. It de...</td>\n",
              "    </tr>\n",
              "  </tbody>\n",
              "</table>\n",
              "</div>"
            ],
            "text/plain": [
              "                                            question  \\\n",
              "0  Will my transaction go through if I don't have...   \n",
              "1               How do I block my card if it's lost?   \n",
              "2                   Do you offer loans in Argentina?   \n",
              "3         Is there a fee for using an ATM in Mexico?   \n",
              "4        Can I cancel a transaction after it's sent?   \n",
              "\n",
              "                                    reference_answer  \n",
              "0  Yes, with overdraft protection, your transacti...  \n",
              "1  Open the app, go to Cards, choose your card, a...  \n",
              "2  No, FinBot does not currently offer loans in A...  \n",
              "3  Yes, the fee is $2.50 for non-partner ATMs. Pa...  \n",
              "4  No, but you can submit a recall request. It de...  "
            ]
          },
          "execution_count": 3,
          "metadata": {},
          "output_type": "execute_result"
        }
      ],
      "source": [
        "golden_df = eval_data[[\"question\", \"reference_answer\"]].copy()\n",
        "golden_df.head()"
      ]
    },
    {
      "cell_type": "markdown",
      "metadata": {
        "id": "Gyg24pquqYrt"
      },
      "source": [
        "## Scored data (Mocked)"
      ]
    },
    {
      "cell_type": "markdown",
      "metadata": {
        "id": "tJclbITZ0HZ2"
      },
      "source": [
        "Let's assume we ran it through our app and got the actual answer and context used to generate it."
      ]
    },
    {
      "cell_type": "code",
      "execution_count": 4,
      "metadata": {
        "colab": {
          "base_uri": "https://localhost:8080/",
          "height": 362
        },
        "id": "VE35nYCk0D8-",
        "outputId": "556f9293-988b-4127-eb01-f592a1efba93"
      },
      "outputs": [
        {
          "data": {
            "text/html": [
              "<div>\n",
              "<style scoped>\n",
              "    .dataframe tbody tr th:only-of-type {\n",
              "        vertical-align: middle;\n",
              "    }\n",
              "\n",
              "    .dataframe tbody tr th {\n",
              "        vertical-align: top;\n",
              "    }\n",
              "\n",
              "    .dataframe thead th {\n",
              "        text-align: right;\n",
              "    }\n",
              "</style>\n",
              "<table border=\"1\" class=\"dataframe\">\n",
              "  <thead>\n",
              "    <tr style=\"text-align: right;\">\n",
              "      <th></th>\n",
              "      <th>question</th>\n",
              "      <th>context</th>\n",
              "      <th>answer</th>\n",
              "      <th>reference_answer</th>\n",
              "    </tr>\n",
              "  </thead>\n",
              "  <tbody>\n",
              "    <tr>\n",
              "      <th>0</th>\n",
              "      <td>Will my transaction go through if I don't have...</td>\n",
              "      <td>Overdraft protection allows transactions to be...</td>\n",
              "      <td>Yes, your transaction will go through if overd...</td>\n",
              "      <td>Yes, with overdraft protection, your transacti...</td>\n",
              "    </tr>\n",
              "    <tr>\n",
              "      <th>1</th>\n",
              "      <td>How do I block my card if it's lost?</td>\n",
              "      <td>To block a lost or stolen card, users should i...</td>\n",
              "      <td>Go to the Cards section, select your card, and...</td>\n",
              "      <td>Open the app, go to Cards, choose your card, a...</td>\n",
              "    </tr>\n",
              "    <tr>\n",
              "      <th>2</th>\n",
              "      <td>Do you offer loans in Argentina?</td>\n",
              "      <td>FinBot currently offers loans in 20+ locations...</td>\n",
              "      <td>Yes, FinBot offers personal loans in Argentina...</td>\n",
              "      <td>No, FinBot does not currently offer loans in A...</td>\n",
              "    </tr>\n",
              "    <tr>\n",
              "      <th>3</th>\n",
              "      <td>Is there a fee for using an ATM in Mexico?</td>\n",
              "      <td>ATM withdrawals in Mexico are free when using ...</td>\n",
              "      <td>You’ll be charged $2.50.</td>\n",
              "      <td>Yes, the fee is $2.50 for non-partner ATMs. Pa...</td>\n",
              "    </tr>\n",
              "    <tr>\n",
              "      <th>4</th>\n",
              "      <td>Can I cancel a transaction after it's sent?</td>\n",
              "      <td>Outgoing transactions cannot be canceled once ...</td>\n",
              "      <td>I am afraid I do not have information to answe...</td>\n",
              "      <td>No, but you can submit a recall request. It de...</td>\n",
              "    </tr>\n",
              "  </tbody>\n",
              "</table>\n",
              "</div>"
            ],
            "text/plain": [
              "                                            question  \\\n",
              "0  Will my transaction go through if I don't have...   \n",
              "1               How do I block my card if it's lost?   \n",
              "2                   Do you offer loans in Argentina?   \n",
              "3         Is there a fee for using an ATM in Mexico?   \n",
              "4        Can I cancel a transaction after it's sent?   \n",
              "\n",
              "                                             context  \\\n",
              "0  Overdraft protection allows transactions to be...   \n",
              "1  To block a lost or stolen card, users should i...   \n",
              "2  FinBot currently offers loans in 20+ locations...   \n",
              "3  ATM withdrawals in Mexico are free when using ...   \n",
              "4  Outgoing transactions cannot be canceled once ...   \n",
              "\n",
              "                                              answer  \\\n",
              "0  Yes, your transaction will go through if overd...   \n",
              "1  Go to the Cards section, select your card, and...   \n",
              "2  Yes, FinBot offers personal loans in Argentina...   \n",
              "3                           You’ll be charged $2.50.   \n",
              "4  I am afraid I do not have information to answe...   \n",
              "\n",
              "                                    reference_answer  \n",
              "0  Yes, with overdraft protection, your transacti...  \n",
              "1  Open the app, go to Cards, choose your card, a...  \n",
              "2  No, FinBot does not currently offer loans in A...  \n",
              "3  Yes, the fee is $2.50 for non-partner ATMs. Pa...  \n",
              "4  No, but you can submit a recall request. It de...  "
            ]
          },
          "execution_count": 4,
          "metadata": {},
          "output_type": "execute_result"
        }
      ],
      "source": [
        "eval_data.head()"
      ]
    },
    {
      "cell_type": "markdown",
      "metadata": {
        "id": "N-dpmVMj-tUf"
      },
      "source": [
        "# Reference-based evals"
      ]
    },
    {
      "cell_type": "markdown",
      "metadata": {
        "id": "zgo6VjX9-xMD"
      },
      "source": [
        "## Deterministic"
      ]
    },
    {
      "cell_type": "markdown",
      "metadata": {
        "id": "U3fqWDLt48GD"
      },
      "source": [
        "Exact match - let's use it for illustration."
      ]
    },
    {
      "cell_type": "code",
      "execution_count": null,
      "metadata": {
        "id": "1h9m5jZA81uf"
      },
      "outputs": [],
      "source": [
        "definition = DataDefinition(\n",
        "    text_columns=[\"question\", \"context\", \"answer\", \"reference_answer\"]\n",
        ")"
      ]
    },
    {
      "cell_type": "code",
      "execution_count": null,
      "metadata": {
        "id": "oe8nIBWEBubq"
      },
      "outputs": [],
      "source": [
        "eval_df = Dataset.from_pandas(\n",
        "    pd.DataFrame(eval_data),\n",
        "    data_definition=definition,\n",
        "    descriptors=[\n",
        "        ExactMatch(columns=[\"answer\", \"reference_answer\"], alias=\"ExactMatch\")\n",
        "    ],\n",
        ")"
      ]
    },
    {
      "cell_type": "code",
      "execution_count": 7,
      "metadata": {
        "colab": {
          "base_uri": "https://localhost:8080/",
          "height": 432
        },
        "id": "pUrQz9k95N7r",
        "outputId": "b0542089-89ca-451c-868d-26c7e1565c80"
      },
      "outputs": [
        {
          "data": {
            "text/html": [
              "<div>\n",
              "<style scoped>\n",
              "    .dataframe tbody tr th:only-of-type {\n",
              "        vertical-align: middle;\n",
              "    }\n",
              "\n",
              "    .dataframe tbody tr th {\n",
              "        vertical-align: top;\n",
              "    }\n",
              "\n",
              "    .dataframe thead th {\n",
              "        text-align: right;\n",
              "    }\n",
              "</style>\n",
              "<table border=\"1\" class=\"dataframe\">\n",
              "  <thead>\n",
              "    <tr style=\"text-align: right;\">\n",
              "      <th></th>\n",
              "      <th>question</th>\n",
              "      <th>context</th>\n",
              "      <th>answer</th>\n",
              "      <th>reference_answer</th>\n",
              "      <th>ExactMatch</th>\n",
              "    </tr>\n",
              "  </thead>\n",
              "  <tbody>\n",
              "    <tr>\n",
              "      <th>0</th>\n",
              "      <td>Will my transaction go through if I don't have...</td>\n",
              "      <td>Overdraft protection allows transactions to be...</td>\n",
              "      <td>Yes, your transaction will go through if overd...</td>\n",
              "      <td>Yes, with overdraft protection, your transacti...</td>\n",
              "      <td>False</td>\n",
              "    </tr>\n",
              "    <tr>\n",
              "      <th>1</th>\n",
              "      <td>How do I block my card if it's lost?</td>\n",
              "      <td>To block a lost or stolen card, users should i...</td>\n",
              "      <td>Go to the Cards section, select your card, and...</td>\n",
              "      <td>Open the app, go to Cards, choose your card, a...</td>\n",
              "      <td>False</td>\n",
              "    </tr>\n",
              "    <tr>\n",
              "      <th>2</th>\n",
              "      <td>Do you offer loans in Argentina?</td>\n",
              "      <td>FinBot currently offers loans in 20+ locations...</td>\n",
              "      <td>Yes, FinBot offers personal loans in Argentina...</td>\n",
              "      <td>No, FinBot does not currently offer loans in A...</td>\n",
              "      <td>False</td>\n",
              "    </tr>\n",
              "    <tr>\n",
              "      <th>3</th>\n",
              "      <td>Is there a fee for using an ATM in Mexico?</td>\n",
              "      <td>ATM withdrawals in Mexico are free when using ...</td>\n",
              "      <td>You’ll be charged $2.50.</td>\n",
              "      <td>Yes, the fee is $2.50 for non-partner ATMs. Pa...</td>\n",
              "      <td>False</td>\n",
              "    </tr>\n",
              "    <tr>\n",
              "      <th>4</th>\n",
              "      <td>Can I cancel a transaction after it's sent?</td>\n",
              "      <td>Outgoing transactions cannot be canceled once ...</td>\n",
              "      <td>I am afraid I do not have information to answe...</td>\n",
              "      <td>No, but you can submit a recall request. It de...</td>\n",
              "      <td>False</td>\n",
              "    </tr>\n",
              "  </tbody>\n",
              "</table>\n",
              "</div>"
            ],
            "text/plain": [
              "                                            question  \\\n",
              "0  Will my transaction go through if I don't have...   \n",
              "1               How do I block my card if it's lost?   \n",
              "2                   Do you offer loans in Argentina?   \n",
              "3         Is there a fee for using an ATM in Mexico?   \n",
              "4        Can I cancel a transaction after it's sent?   \n",
              "\n",
              "                                             context  \\\n",
              "0  Overdraft protection allows transactions to be...   \n",
              "1  To block a lost or stolen card, users should i...   \n",
              "2  FinBot currently offers loans in 20+ locations...   \n",
              "3  ATM withdrawals in Mexico are free when using ...   \n",
              "4  Outgoing transactions cannot be canceled once ...   \n",
              "\n",
              "                                              answer  \\\n",
              "0  Yes, your transaction will go through if overd...   \n",
              "1  Go to the Cards section, select your card, and...   \n",
              "2  Yes, FinBot offers personal loans in Argentina...   \n",
              "3                           You’ll be charged $2.50.   \n",
              "4  I am afraid I do not have information to answe...   \n",
              "\n",
              "                                    reference_answer  ExactMatch  \n",
              "0  Yes, with overdraft protection, your transacti...       False  \n",
              "1  Open the app, go to Cards, choose your card, a...       False  \n",
              "2  No, FinBot does not currently offer loans in A...       False  \n",
              "3  Yes, the fee is $2.50 for non-partner ATMs. Pa...       False  \n",
              "4  No, but you can submit a recall request. It de...       False  "
            ]
          },
          "execution_count": 7,
          "metadata": {},
          "output_type": "execute_result"
        }
      ],
      "source": [
        "eval_df.as_dataframe()"
      ]
    },
    {
      "cell_type": "markdown",
      "metadata": {
        "id": "cTsHHYhk5m5e"
      },
      "source": [
        "Exact Match checks if the generated response matches the reference text exactly.\n",
        "\n",
        "However, in real-world LLM output, even perfectly valid answers may use different wording or structure. This method is too strict."
      ]
    },
    {
      "cell_type": "markdown",
      "metadata": {
        "id": "Ag9sZZBj-0Os"
      },
      "source": [
        "## Semantic match"
      ]
    },
    {
      "cell_type": "markdown",
      "metadata": {
        "id": "sTtf6jT85Vgb"
      },
      "source": [
        "Let's compare semantic match.\n",
        "\n",
        "We’ll use two approaches:\n",
        "\n",
        "*   **SemanticSimilarity**: cosine similarity over sentence embeddings. This method produces a single vector per sentence using a built-in embedding model. Measures closeness in meaning between answer and reference. Outputs a float between 0 and 1, where 0 is opposite meanings, 0.5 is unrelated, and 1 is exactly matching.\n",
        "*   **BERTScore** evaluates token-level similarity using contextual embeddings from BERT. It aligns each token in the candidate sentence with the most similar token in the reference sentence based on cosine similarity of their embeddings. Precision, recall, and F1 scores are calculated over these alignments, with the F1 score used as the final metric."
      ]
    },
    {
      "cell_type": "code",
      "execution_count": null,
      "metadata": {
        "id": "mnrTck8R5XBc"
      },
      "outputs": [
        {
          "name": "stderr",
          "output_type": "stream",
          "text": [
            "c:\\Users\\owner\\Desktop\\llm-evaluation-framework\\.venv\\Lib\\site-packages\\tqdm\\auto.py:21: TqdmWarning: IProgress not found. Please update jupyter and ipywidgets. See https://ipywidgets.readthedocs.io/en/stable/user_install.html\n",
            "  from .autonotebook import tqdm as notebook_tqdm\n"
          ]
        }
      ],
      "source": [
        "eval_df.add_descriptors(\n",
        "    descriptors=[\n",
        "        SemanticSimilarity(\n",
        "            columns=[\"answer\", \"reference_answer\"], alias=\"Semantic Similarity\"\n",
        "        ),\n",
        "        BERTScore(columns=[\"answer\", \"reference_answer\"], alias=\"BERTScore\"),\n",
        "    ]\n",
        ")"
      ]
    },
    {
      "cell_type": "code",
      "execution_count": 9,
      "metadata": {
        "colab": {
          "base_uri": "https://localhost:8080/",
          "height": 518
        },
        "id": "LWcvoc-W5hy2",
        "outputId": "2e571967-1316-4280-a8bf-dc0e398e275b"
      },
      "outputs": [
        {
          "data": {
            "text/html": [
              "<div>\n",
              "<style scoped>\n",
              "    .dataframe tbody tr th:only-of-type {\n",
              "        vertical-align: middle;\n",
              "    }\n",
              "\n",
              "    .dataframe tbody tr th {\n",
              "        vertical-align: top;\n",
              "    }\n",
              "\n",
              "    .dataframe thead th {\n",
              "        text-align: right;\n",
              "    }\n",
              "</style>\n",
              "<table border=\"1\" class=\"dataframe\">\n",
              "  <thead>\n",
              "    <tr style=\"text-align: right;\">\n",
              "      <th></th>\n",
              "      <th>question</th>\n",
              "      <th>context</th>\n",
              "      <th>answer</th>\n",
              "      <th>reference_answer</th>\n",
              "      <th>ExactMatch</th>\n",
              "      <th>Semantic Similarity</th>\n",
              "      <th>BERTScore</th>\n",
              "    </tr>\n",
              "  </thead>\n",
              "  <tbody>\n",
              "    <tr>\n",
              "      <th>0</th>\n",
              "      <td>Will my transaction go through if I don't have...</td>\n",
              "      <td>Overdraft protection allows transactions to be...</td>\n",
              "      <td>Yes, your transaction will go through if overd...</td>\n",
              "      <td>Yes, with overdraft protection, your transacti...</td>\n",
              "      <td>False</td>\n",
              "      <td>0.967079</td>\n",
              "      <td>0.811106</td>\n",
              "    </tr>\n",
              "    <tr>\n",
              "      <th>1</th>\n",
              "      <td>How do I block my card if it's lost?</td>\n",
              "      <td>To block a lost or stolen card, users should i...</td>\n",
              "      <td>Go to the Cards section, select your card, and...</td>\n",
              "      <td>Open the app, go to Cards, choose your card, a...</td>\n",
              "      <td>False</td>\n",
              "      <td>0.947559</td>\n",
              "      <td>0.823189</td>\n",
              "    </tr>\n",
              "    <tr>\n",
              "      <th>2</th>\n",
              "      <td>Do you offer loans in Argentina?</td>\n",
              "      <td>FinBot currently offers loans in 20+ locations...</td>\n",
              "      <td>Yes, FinBot offers personal loans in Argentina...</td>\n",
              "      <td>No, FinBot does not currently offer loans in A...</td>\n",
              "      <td>False</td>\n",
              "      <td>0.953436</td>\n",
              "      <td>0.847286</td>\n",
              "    </tr>\n",
              "    <tr>\n",
              "      <th>3</th>\n",
              "      <td>Is there a fee for using an ATM in Mexico?</td>\n",
              "      <td>ATM withdrawals in Mexico are free when using ...</td>\n",
              "      <td>You’ll be charged $2.50.</td>\n",
              "      <td>Yes, the fee is $2.50 for non-partner ATMs. Pa...</td>\n",
              "      <td>False</td>\n",
              "      <td>0.704393</td>\n",
              "      <td>0.641184</td>\n",
              "    </tr>\n",
              "    <tr>\n",
              "      <th>4</th>\n",
              "      <td>Can I cancel a transaction after it's sent?</td>\n",
              "      <td>Outgoing transactions cannot be canceled once ...</td>\n",
              "      <td>I am afraid I do not have information to answe...</td>\n",
              "      <td>No, but you can submit a recall request. It de...</td>\n",
              "      <td>False</td>\n",
              "      <td>0.603113</td>\n",
              "      <td>0.573957</td>\n",
              "    </tr>\n",
              "  </tbody>\n",
              "</table>\n",
              "</div>"
            ],
            "text/plain": [
              "                                            question  \\\n",
              "0  Will my transaction go through if I don't have...   \n",
              "1               How do I block my card if it's lost?   \n",
              "2                   Do you offer loans in Argentina?   \n",
              "3         Is there a fee for using an ATM in Mexico?   \n",
              "4        Can I cancel a transaction after it's sent?   \n",
              "\n",
              "                                             context  \\\n",
              "0  Overdraft protection allows transactions to be...   \n",
              "1  To block a lost or stolen card, users should i...   \n",
              "2  FinBot currently offers loans in 20+ locations...   \n",
              "3  ATM withdrawals in Mexico are free when using ...   \n",
              "4  Outgoing transactions cannot be canceled once ...   \n",
              "\n",
              "                                              answer  \\\n",
              "0  Yes, your transaction will go through if overd...   \n",
              "1  Go to the Cards section, select your card, and...   \n",
              "2  Yes, FinBot offers personal loans in Argentina...   \n",
              "3                           You’ll be charged $2.50.   \n",
              "4  I am afraid I do not have information to answe...   \n",
              "\n",
              "                                    reference_answer  ExactMatch  \\\n",
              "0  Yes, with overdraft protection, your transacti...       False   \n",
              "1  Open the app, go to Cards, choose your card, a...       False   \n",
              "2  No, FinBot does not currently offer loans in A...       False   \n",
              "3  Yes, the fee is $2.50 for non-partner ATMs. Pa...       False   \n",
              "4  No, but you can submit a recall request. It de...       False   \n",
              "\n",
              "   Semantic Similarity  BERTScore  \n",
              "0             0.967079   0.811106  \n",
              "1             0.947559   0.823189  \n",
              "2             0.953436   0.847286  \n",
              "3             0.704393   0.641184  \n",
              "4             0.603113   0.573957  "
            ]
          },
          "execution_count": 9,
          "metadata": {},
          "output_type": "execute_result"
        }
      ],
      "source": [
        "eval_df.as_dataframe()"
      ]
    },
    {
      "cell_type": "markdown",
      "metadata": {
        "id": "MpOvSr5D6gtb"
      },
      "source": [
        "While embedding-based metrics are helpful for measuring overall semantic closeness (and help us capture issues like a denial to respond), they aren't always precise enough for factual evaluations. These methods rely on vector similarity, so they may consider two responses \"similar\" even if they differ in one little detail like reversing a yes/no fact."
      ]
    },
    {
      "cell_type": "markdown",
      "metadata": {
        "id": "dEqViRvN-4Mw"
      },
      "source": [
        "## LLM as a judge"
      ]
    },
    {
      "cell_type": "markdown",
      "metadata": {
        "id": "Lp6m5Gje8RAa"
      },
      "source": [
        "We can achieve better result with LLM-based judges that can reason about meaning or detect contradictions between texts."
      ]
    },
    {
      "cell_type": "code",
      "execution_count": 10,
      "metadata": {
        "id": "FqA471dX9Fpy"
      },
      "outputs": [],
      "source": [
        "## os.environ[\"OPENAI_API_KEY\"] = \"YOUR KEY\"\n",
        "\n",
        "# from google.colab import userdata\n",
        "# os.environ[\"OPENAI_API_KEY\"] = userdata.get('OPEN_AI_API_KEY')"
      ]
    },
    {
      "cell_type": "code",
      "execution_count": null,
      "metadata": {
        "id": "6NAPG31q9iDy"
      },
      "outputs": [],
      "source": [
        "eval_df.add_descriptors(\n",
        "    descriptors=[\n",
        "        CorrectnessLLMEval(\"answer\", target_output=\"reference_answer\"),\n",
        "    ]\n",
        ")"
      ]
    },
    {
      "cell_type": "code",
      "execution_count": 12,
      "metadata": {
        "colab": {
          "base_uri": "https://localhost:8080/",
          "height": 935
        },
        "id": "e4wOmjcS9p3f",
        "outputId": "ea76af2d-5345-4ef1-9fbc-2281820f5802"
      },
      "outputs": [
        {
          "data": {
            "text/html": [
              "<div>\n",
              "<style scoped>\n",
              "    .dataframe tbody tr th:only-of-type {\n",
              "        vertical-align: middle;\n",
              "    }\n",
              "\n",
              "    .dataframe tbody tr th {\n",
              "        vertical-align: top;\n",
              "    }\n",
              "\n",
              "    .dataframe thead th {\n",
              "        text-align: right;\n",
              "    }\n",
              "</style>\n",
              "<table border=\"1\" class=\"dataframe\">\n",
              "  <thead>\n",
              "    <tr style=\"text-align: right;\">\n",
              "      <th></th>\n",
              "      <th>question</th>\n",
              "      <th>context</th>\n",
              "      <th>answer</th>\n",
              "      <th>reference_answer</th>\n",
              "      <th>ExactMatch</th>\n",
              "      <th>Semantic Similarity</th>\n",
              "      <th>BERTScore</th>\n",
              "      <th>Correctness</th>\n",
              "      <th>Correctness reasoning</th>\n",
              "    </tr>\n",
              "  </thead>\n",
              "  <tbody>\n",
              "    <tr>\n",
              "      <th>0</th>\n",
              "      <td>Will my transaction go through if I don't have...</td>\n",
              "      <td>Overdraft protection allows transactions to be...</td>\n",
              "      <td>Yes, your transaction will go through if overd...</td>\n",
              "      <td>Yes, with overdraft protection, your transacti...</td>\n",
              "      <td>False</td>\n",
              "      <td>0.967079</td>\n",
              "      <td>0.811106</td>\n",
              "      <td>CORRECT</td>\n",
              "      <td>The OUTPUT conveys the same facts and details ...</td>\n",
              "    </tr>\n",
              "    <tr>\n",
              "      <th>1</th>\n",
              "      <td>How do I block my card if it's lost?</td>\n",
              "      <td>To block a lost or stolen card, users should i...</td>\n",
              "      <td>Go to the Cards section, select your card, and...</td>\n",
              "      <td>Open the app, go to Cards, choose your card, a...</td>\n",
              "      <td>False</td>\n",
              "      <td>0.947559</td>\n",
              "      <td>0.823189</td>\n",
              "      <td>CORRECT</td>\n",
              "      <td>The OUTPUT conveys the same instructions as th...</td>\n",
              "    </tr>\n",
              "    <tr>\n",
              "      <th>2</th>\n",
              "      <td>Do you offer loans in Argentina?</td>\n",
              "      <td>FinBot currently offers loans in 20+ locations...</td>\n",
              "      <td>Yes, FinBot offers personal loans in Argentina...</td>\n",
              "      <td>No, FinBot does not currently offer loans in A...</td>\n",
              "      <td>False</td>\n",
              "      <td>0.953436</td>\n",
              "      <td>0.847286</td>\n",
              "      <td>INCORRECT</td>\n",
              "      <td>The OUTPUT contradicts the REFERENCE by statin...</td>\n",
              "    </tr>\n",
              "    <tr>\n",
              "      <th>3</th>\n",
              "      <td>Is there a fee for using an ATM in Mexico?</td>\n",
              "      <td>ATM withdrawals in Mexico are free when using ...</td>\n",
              "      <td>You’ll be charged $2.50.</td>\n",
              "      <td>Yes, the fee is $2.50 for non-partner ATMs. Pa...</td>\n",
              "      <td>False</td>\n",
              "      <td>0.704393</td>\n",
              "      <td>0.641184</td>\n",
              "      <td>INCORRECT</td>\n",
              "      <td>The output states 'You’ll be charged $2.50,' b...</td>\n",
              "    </tr>\n",
              "    <tr>\n",
              "      <th>4</th>\n",
              "      <td>Can I cancel a transaction after it's sent?</td>\n",
              "      <td>Outgoing transactions cannot be canceled once ...</td>\n",
              "      <td>I am afraid I do not have information to answe...</td>\n",
              "      <td>No, but you can submit a recall request. It de...</td>\n",
              "      <td>False</td>\n",
              "      <td>0.603113</td>\n",
              "      <td>0.573957</td>\n",
              "      <td>INCORRECT</td>\n",
              "      <td>The OUTPUT does not convey the same facts as t...</td>\n",
              "    </tr>\n",
              "  </tbody>\n",
              "</table>\n",
              "</div>"
            ],
            "text/plain": [
              "                                            question  \\\n",
              "0  Will my transaction go through if I don't have...   \n",
              "1               How do I block my card if it's lost?   \n",
              "2                   Do you offer loans in Argentina?   \n",
              "3         Is there a fee for using an ATM in Mexico?   \n",
              "4        Can I cancel a transaction after it's sent?   \n",
              "\n",
              "                                             context  \\\n",
              "0  Overdraft protection allows transactions to be...   \n",
              "1  To block a lost or stolen card, users should i...   \n",
              "2  FinBot currently offers loans in 20+ locations...   \n",
              "3  ATM withdrawals in Mexico are free when using ...   \n",
              "4  Outgoing transactions cannot be canceled once ...   \n",
              "\n",
              "                                              answer  \\\n",
              "0  Yes, your transaction will go through if overd...   \n",
              "1  Go to the Cards section, select your card, and...   \n",
              "2  Yes, FinBot offers personal loans in Argentina...   \n",
              "3                           You’ll be charged $2.50.   \n",
              "4  I am afraid I do not have information to answe...   \n",
              "\n",
              "                                    reference_answer  ExactMatch  \\\n",
              "0  Yes, with overdraft protection, your transacti...       False   \n",
              "1  Open the app, go to Cards, choose your card, a...       False   \n",
              "2  No, FinBot does not currently offer loans in A...       False   \n",
              "3  Yes, the fee is $2.50 for non-partner ATMs. Pa...       False   \n",
              "4  No, but you can submit a recall request. It de...       False   \n",
              "\n",
              "   Semantic Similarity  BERTScore Correctness  \\\n",
              "0             0.967079   0.811106     CORRECT   \n",
              "1             0.947559   0.823189     CORRECT   \n",
              "2             0.953436   0.847286   INCORRECT   \n",
              "3             0.704393   0.641184   INCORRECT   \n",
              "4             0.603113   0.573957   INCORRECT   \n",
              "\n",
              "                               Correctness reasoning  \n",
              "0  The OUTPUT conveys the same facts and details ...  \n",
              "1  The OUTPUT conveys the same instructions as th...  \n",
              "2  The OUTPUT contradicts the REFERENCE by statin...  \n",
              "3  The output states 'You’ll be charged $2.50,' b...  \n",
              "4  The OUTPUT does not convey the same facts as t...  "
            ]
          },
          "execution_count": 12,
          "metadata": {},
          "output_type": "execute_result"
        }
      ],
      "source": [
        "eval_df.as_dataframe()"
      ]
    },
    {
      "cell_type": "markdown",
      "metadata": {
        "id": "gO-0BfYm-74R"
      },
      "source": [
        "Let's create a custom judge that will instead use 4 categories based on what we observe."
      ]
    },
    {
      "cell_type": "markdown",
      "metadata": {
        "id": "DKY_Y_O-BBZf"
      },
      "source": [
        "Let's re-import data so that we drop the existing descriptors:"
      ]
    },
    {
      "cell_type": "code",
      "execution_count": null,
      "metadata": {
        "id": "8v5VT09XBGBx"
      },
      "outputs": [],
      "source": [
        "eval_df_2 = Dataset.from_pandas(pd.DataFrame(eval_data), data_definition=definition)"
      ]
    },
    {
      "cell_type": "code",
      "execution_count": null,
      "metadata": {
        "id": "fAIzJmxg_h6f"
      },
      "outputs": [],
      "source": [
        "correctness_multiclass = MulticlassClassificationPromptTemplate(\n",
        "    pre_messages=[\n",
        "        (\n",
        "            \"system\",\n",
        "            \"You are a judge that evaluates the factual alignment of two chatbot answers.\",\n",
        "        )\n",
        "    ],\n",
        "    criteria=\"\"\"You are given a new answer and a reference answer. Classify the new answer based on how it compares to the reference.\n",
        "    ===\n",
        "    Reference: {reference_answer} \"\"\",\n",
        "    category_criteria={\n",
        "        \"fully_correct\": \"The answer matches the reference in all factual and semantic details.\",\n",
        "        \"incomplete\": \"The answer is correct in what it says but leaves out details from the reference.\",\n",
        "        \"adds_claims\": \"The answer does not contradict reference but introduces new claims not supported by the reference.\",\n",
        "        \"contradictory\": \"The answer contradicts specific facts or meaning in the reference.\",\n",
        "    },\n",
        "    uncertainty=\"unknown\",\n",
        "    include_reasoning=True,\n",
        "    include_scores=False,\n",
        ")"
      ]
    },
    {
      "cell_type": "code",
      "execution_count": null,
      "metadata": {
        "id": "lVE2nhj1A0ER"
      },
      "outputs": [],
      "source": [
        "eval_df_2.add_descriptors(\n",
        "    descriptors=[\n",
        "        LLMEval(\n",
        "            \"answer\",\n",
        "            template=correctness_multiclass,\n",
        "            additional_columns={\"reference_answer\": \"reference_answer\"},\n",
        "            provider=\"openai\",\n",
        "            model=\"gpt-4o-mini\",\n",
        "            alias=\"Multi-class correctness\",\n",
        "        )\n",
        "    ]\n",
        ")"
      ]
    },
    {
      "cell_type": "code",
      "execution_count": 16,
      "metadata": {
        "colab": {
          "base_uri": "https://localhost:8080/",
          "height": 657
        },
        "id": "yXkkHpasA7aG",
        "outputId": "6e03617d-c99b-48d5-eafa-d0c90d96d56e"
      },
      "outputs": [
        {
          "data": {
            "text/html": [
              "<div>\n",
              "<style scoped>\n",
              "    .dataframe tbody tr th:only-of-type {\n",
              "        vertical-align: middle;\n",
              "    }\n",
              "\n",
              "    .dataframe tbody tr th {\n",
              "        vertical-align: top;\n",
              "    }\n",
              "\n",
              "    .dataframe thead th {\n",
              "        text-align: right;\n",
              "    }\n",
              "</style>\n",
              "<table border=\"1\" class=\"dataframe\">\n",
              "  <thead>\n",
              "    <tr style=\"text-align: right;\">\n",
              "      <th></th>\n",
              "      <th>question</th>\n",
              "      <th>context</th>\n",
              "      <th>answer</th>\n",
              "      <th>reference_answer</th>\n",
              "      <th>Multi-class correctness</th>\n",
              "      <th>Multi-class correctness reasoning</th>\n",
              "    </tr>\n",
              "  </thead>\n",
              "  <tbody>\n",
              "    <tr>\n",
              "      <th>0</th>\n",
              "      <td>Will my transaction go through if I don't have...</td>\n",
              "      <td>Overdraft protection allows transactions to be...</td>\n",
              "      <td>Yes, your transaction will go through if overd...</td>\n",
              "      <td>Yes, with overdraft protection, your transacti...</td>\n",
              "      <td>fully_correct</td>\n",
              "      <td>The new answer accurately represents the infor...</td>\n",
              "    </tr>\n",
              "    <tr>\n",
              "      <th>1</th>\n",
              "      <td>How do I block my card if it's lost?</td>\n",
              "      <td>To block a lost or stolen card, users should i...</td>\n",
              "      <td>Go to the Cards section, select your card, and...</td>\n",
              "      <td>Open the app, go to Cards, choose your card, a...</td>\n",
              "      <td>fully_correct</td>\n",
              "      <td>The new answer accurately summarizes the refer...</td>\n",
              "    </tr>\n",
              "    <tr>\n",
              "      <th>2</th>\n",
              "      <td>Do you offer loans in Argentina?</td>\n",
              "      <td>FinBot currently offers loans in 20+ locations...</td>\n",
              "      <td>Yes, FinBot offers personal loans in Argentina...</td>\n",
              "      <td>No, FinBot does not currently offer loans in A...</td>\n",
              "      <td>contradictory</td>\n",
              "      <td>The new answer states that FinBot offers perso...</td>\n",
              "    </tr>\n",
              "    <tr>\n",
              "      <th>3</th>\n",
              "      <td>Is there a fee for using an ATM in Mexico?</td>\n",
              "      <td>ATM withdrawals in Mexico are free when using ...</td>\n",
              "      <td>You’ll be charged $2.50.</td>\n",
              "      <td>Yes, the fee is $2.50 for non-partner ATMs. Pa...</td>\n",
              "      <td>incomplete</td>\n",
              "      <td>The new answer states that you will be charged...</td>\n",
              "    </tr>\n",
              "    <tr>\n",
              "      <th>4</th>\n",
              "      <td>Can I cancel a transaction after it's sent?</td>\n",
              "      <td>Outgoing transactions cannot be canceled once ...</td>\n",
              "      <td>I am afraid I do not have information to answe...</td>\n",
              "      <td>No, but you can submit a recall request. It de...</td>\n",
              "      <td>incomplete</td>\n",
              "      <td>The new answer states that it does not have in...</td>\n",
              "    </tr>\n",
              "  </tbody>\n",
              "</table>\n",
              "</div>"
            ],
            "text/plain": [
              "                                            question  \\\n",
              "0  Will my transaction go through if I don't have...   \n",
              "1               How do I block my card if it's lost?   \n",
              "2                   Do you offer loans in Argentina?   \n",
              "3         Is there a fee for using an ATM in Mexico?   \n",
              "4        Can I cancel a transaction after it's sent?   \n",
              "\n",
              "                                             context  \\\n",
              "0  Overdraft protection allows transactions to be...   \n",
              "1  To block a lost or stolen card, users should i...   \n",
              "2  FinBot currently offers loans in 20+ locations...   \n",
              "3  ATM withdrawals in Mexico are free when using ...   \n",
              "4  Outgoing transactions cannot be canceled once ...   \n",
              "\n",
              "                                              answer  \\\n",
              "0  Yes, your transaction will go through if overd...   \n",
              "1  Go to the Cards section, select your card, and...   \n",
              "2  Yes, FinBot offers personal loans in Argentina...   \n",
              "3                           You’ll be charged $2.50.   \n",
              "4  I am afraid I do not have information to answe...   \n",
              "\n",
              "                                    reference_answer Multi-class correctness  \\\n",
              "0  Yes, with overdraft protection, your transacti...           fully_correct   \n",
              "1  Open the app, go to Cards, choose your card, a...           fully_correct   \n",
              "2  No, FinBot does not currently offer loans in A...           contradictory   \n",
              "3  Yes, the fee is $2.50 for non-partner ATMs. Pa...              incomplete   \n",
              "4  No, but you can submit a recall request. It de...              incomplete   \n",
              "\n",
              "                   Multi-class correctness reasoning  \n",
              "0  The new answer accurately represents the infor...  \n",
              "1  The new answer accurately summarizes the refer...  \n",
              "2  The new answer states that FinBot offers perso...  \n",
              "3  The new answer states that you will be charged...  \n",
              "4  The new answer states that it does not have in...  "
            ]
          },
          "execution_count": 16,
          "metadata": {},
          "output_type": "execute_result"
        }
      ],
      "source": [
        "eval_df_2.as_dataframe()"
      ]
    },
    {
      "cell_type": "markdown",
      "metadata": {
        "id": "8IHSPznB4ios"
      },
      "source": [
        "# Part 3. Reference-free evals"
      ]
    },
    {
      "cell_type": "markdown",
      "metadata": {
        "id": "Mh5g0m4kCQTT"
      },
      "source": [
        "In production, or high-volume testing, you may not have a reference answer. In this case, you can run open-ended evals judging only the final generation. In many cases, you can also use supplementary information - like question and context in your evaluations."
      ]
    },
    {
      "cell_type": "code",
      "execution_count": 17,
      "metadata": {
        "id": "8ymidaUlCsAp"
      },
      "outputs": [],
      "source": [
        "prod_data = eval_data[[\"question\", \"context\", \"answer\"]].copy()"
      ]
    },
    {
      "cell_type": "code",
      "execution_count": 18,
      "metadata": {
        "colab": {
          "base_uri": "https://localhost:8080/",
          "height": 328
        },
        "id": "qmMEIeIUCz6d",
        "outputId": "db8778be-2ffa-4cd4-b7c7-1371553cb484"
      },
      "outputs": [
        {
          "data": {
            "text/html": [
              "<div>\n",
              "<style scoped>\n",
              "    .dataframe tbody tr th:only-of-type {\n",
              "        vertical-align: middle;\n",
              "    }\n",
              "\n",
              "    .dataframe tbody tr th {\n",
              "        vertical-align: top;\n",
              "    }\n",
              "\n",
              "    .dataframe thead th {\n",
              "        text-align: right;\n",
              "    }\n",
              "</style>\n",
              "<table border=\"1\" class=\"dataframe\">\n",
              "  <thead>\n",
              "    <tr style=\"text-align: right;\">\n",
              "      <th></th>\n",
              "      <th>question</th>\n",
              "      <th>context</th>\n",
              "      <th>answer</th>\n",
              "    </tr>\n",
              "  </thead>\n",
              "  <tbody>\n",
              "    <tr>\n",
              "      <th>0</th>\n",
              "      <td>Will my transaction go through if I don't have...</td>\n",
              "      <td>Overdraft protection allows transactions to be...</td>\n",
              "      <td>Yes, your transaction will go through if overd...</td>\n",
              "    </tr>\n",
              "    <tr>\n",
              "      <th>1</th>\n",
              "      <td>How do I block my card if it's lost?</td>\n",
              "      <td>To block a lost or stolen card, users should i...</td>\n",
              "      <td>Go to the Cards section, select your card, and...</td>\n",
              "    </tr>\n",
              "    <tr>\n",
              "      <th>2</th>\n",
              "      <td>Do you offer loans in Argentina?</td>\n",
              "      <td>FinBot currently offers loans in 20+ locations...</td>\n",
              "      <td>Yes, FinBot offers personal loans in Argentina...</td>\n",
              "    </tr>\n",
              "    <tr>\n",
              "      <th>3</th>\n",
              "      <td>Is there a fee for using an ATM in Mexico?</td>\n",
              "      <td>ATM withdrawals in Mexico are free when using ...</td>\n",
              "      <td>You’ll be charged $2.50.</td>\n",
              "    </tr>\n",
              "    <tr>\n",
              "      <th>4</th>\n",
              "      <td>Can I cancel a transaction after it's sent?</td>\n",
              "      <td>Outgoing transactions cannot be canceled once ...</td>\n",
              "      <td>I am afraid I do not have information to answe...</td>\n",
              "    </tr>\n",
              "  </tbody>\n",
              "</table>\n",
              "</div>"
            ],
            "text/plain": [
              "                                            question  \\\n",
              "0  Will my transaction go through if I don't have...   \n",
              "1               How do I block my card if it's lost?   \n",
              "2                   Do you offer loans in Argentina?   \n",
              "3         Is there a fee for using an ATM in Mexico?   \n",
              "4        Can I cancel a transaction after it's sent?   \n",
              "\n",
              "                                             context  \\\n",
              "0  Overdraft protection allows transactions to be...   \n",
              "1  To block a lost or stolen card, users should i...   \n",
              "2  FinBot currently offers loans in 20+ locations...   \n",
              "3  ATM withdrawals in Mexico are free when using ...   \n",
              "4  Outgoing transactions cannot be canceled once ...   \n",
              "\n",
              "                                              answer  \n",
              "0  Yes, your transaction will go through if overd...  \n",
              "1  Go to the Cards section, select your card, and...  \n",
              "2  Yes, FinBot offers personal loans in Argentina...  \n",
              "3                           You’ll be charged $2.50.  \n",
              "4  I am afraid I do not have information to answe...  "
            ]
          },
          "execution_count": 18,
          "metadata": {},
          "output_type": "execute_result"
        }
      ],
      "source": [
        "prod_data.head()"
      ]
    },
    {
      "cell_type": "code",
      "execution_count": null,
      "metadata": {
        "id": "tLzmf0yHFvtN"
      },
      "outputs": [],
      "source": [
        "definition = DataDefinition(text_columns=[\"question\", \"context\", \"answer\"])\n",
        "\n",
        "prod_df = Dataset.from_pandas(pd.DataFrame(prod_data), data_definition=definition)"
      ]
    },
    {
      "cell_type": "markdown",
      "metadata": {
        "id": "xmlDvirlC1-Q"
      },
      "source": [
        "## Word presence"
      ]
    },
    {
      "cell_type": "markdown",
      "metadata": {
        "id": "o2wwVmB8tSdx"
      },
      "source": [
        "Or you can use \"Contains\", a custom RegEx, etc."
      ]
    },
    {
      "cell_type": "code",
      "execution_count": null,
      "metadata": {
        "id": "gvc0zxXyFhor"
      },
      "outputs": [],
      "source": [
        "prod_df.add_descriptors(\n",
        "    descriptors=[\n",
        "        IncludesWords(\n",
        "            \"answer\",\n",
        "            words_list=[\"hello\", \"hi\", \"good afternoon\"],\n",
        "            mode=\"any\",\n",
        "            alias=\"Says hi\",\n",
        "        ),\n",
        "        IncludesWords(\n",
        "            \"answer\",\n",
        "            words_list=[\"sorry\", \"apologies\", \"apologize\", \"cannot\", \"afraid\"],\n",
        "            mode=\"any\",\n",
        "            alias=\"Declines\",\n",
        "        ),\n",
        "    ]\n",
        ")"
      ]
    },
    {
      "cell_type": "code",
      "execution_count": 21,
      "metadata": {
        "colab": {
          "base_uri": "https://localhost:8080/",
          "height": 362
        },
        "id": "X7_zfhUoGN8c",
        "outputId": "f3def0f2-82b0-49c2-e3ee-c7bea8ad117c"
      },
      "outputs": [
        {
          "data": {
            "text/html": [
              "<div>\n",
              "<style scoped>\n",
              "    .dataframe tbody tr th:only-of-type {\n",
              "        vertical-align: middle;\n",
              "    }\n",
              "\n",
              "    .dataframe tbody tr th {\n",
              "        vertical-align: top;\n",
              "    }\n",
              "\n",
              "    .dataframe thead th {\n",
              "        text-align: right;\n",
              "    }\n",
              "</style>\n",
              "<table border=\"1\" class=\"dataframe\">\n",
              "  <thead>\n",
              "    <tr style=\"text-align: right;\">\n",
              "      <th></th>\n",
              "      <th>question</th>\n",
              "      <th>context</th>\n",
              "      <th>answer</th>\n",
              "      <th>Says hi</th>\n",
              "      <th>Declines</th>\n",
              "    </tr>\n",
              "  </thead>\n",
              "  <tbody>\n",
              "    <tr>\n",
              "      <th>0</th>\n",
              "      <td>Will my transaction go through if I don't have...</td>\n",
              "      <td>Overdraft protection allows transactions to be...</td>\n",
              "      <td>Yes, your transaction will go through if overd...</td>\n",
              "      <td>False</td>\n",
              "      <td>False</td>\n",
              "    </tr>\n",
              "    <tr>\n",
              "      <th>1</th>\n",
              "      <td>How do I block my card if it's lost?</td>\n",
              "      <td>To block a lost or stolen card, users should i...</td>\n",
              "      <td>Go to the Cards section, select your card, and...</td>\n",
              "      <td>False</td>\n",
              "      <td>False</td>\n",
              "    </tr>\n",
              "    <tr>\n",
              "      <th>2</th>\n",
              "      <td>Do you offer loans in Argentina?</td>\n",
              "      <td>FinBot currently offers loans in 20+ locations...</td>\n",
              "      <td>Yes, FinBot offers personal loans in Argentina...</td>\n",
              "      <td>False</td>\n",
              "      <td>False</td>\n",
              "    </tr>\n",
              "    <tr>\n",
              "      <th>3</th>\n",
              "      <td>Is there a fee for using an ATM in Mexico?</td>\n",
              "      <td>ATM withdrawals in Mexico are free when using ...</td>\n",
              "      <td>You’ll be charged $2.50.</td>\n",
              "      <td>False</td>\n",
              "      <td>False</td>\n",
              "    </tr>\n",
              "    <tr>\n",
              "      <th>4</th>\n",
              "      <td>Can I cancel a transaction after it's sent?</td>\n",
              "      <td>Outgoing transactions cannot be canceled once ...</td>\n",
              "      <td>I am afraid I do not have information to answe...</td>\n",
              "      <td>False</td>\n",
              "      <td>True</td>\n",
              "    </tr>\n",
              "  </tbody>\n",
              "</table>\n",
              "</div>"
            ],
            "text/plain": [
              "                                            question  \\\n",
              "0  Will my transaction go through if I don't have...   \n",
              "1               How do I block my card if it's lost?   \n",
              "2                   Do you offer loans in Argentina?   \n",
              "3         Is there a fee for using an ATM in Mexico?   \n",
              "4        Can I cancel a transaction after it's sent?   \n",
              "\n",
              "                                             context  \\\n",
              "0  Overdraft protection allows transactions to be...   \n",
              "1  To block a lost or stolen card, users should i...   \n",
              "2  FinBot currently offers loans in 20+ locations...   \n",
              "3  ATM withdrawals in Mexico are free when using ...   \n",
              "4  Outgoing transactions cannot be canceled once ...   \n",
              "\n",
              "                                              answer  Says hi  Declines  \n",
              "0  Yes, your transaction will go through if overd...    False     False  \n",
              "1  Go to the Cards section, select your card, and...    False     False  \n",
              "2  Yes, FinBot offers personal loans in Argentina...    False     False  \n",
              "3                           You’ll be charged $2.50.    False     False  \n",
              "4  I am afraid I do not have information to answe...    False      True  "
            ]
          },
          "execution_count": 21,
          "metadata": {},
          "output_type": "execute_result"
        }
      ],
      "source": [
        "prod_df.as_dataframe()"
      ]
    },
    {
      "cell_type": "markdown",
      "metadata": {
        "id": "HPZNVBg6DYDp"
      },
      "source": [
        "## Text stats"
      ]
    },
    {
      "cell_type": "code",
      "execution_count": null,
      "metadata": {
        "id": "GbP4GeDQIkKh"
      },
      "outputs": [],
      "source": [
        "prod_df = Dataset.from_pandas(\n",
        "    pd.DataFrame(prod_data),\n",
        "    data_definition=definition,\n",
        "    descriptors=[SentenceCount(\"answer\", alias=\"Sentence_Count\")],\n",
        ")"
      ]
    },
    {
      "cell_type": "code",
      "execution_count": 23,
      "metadata": {
        "colab": {
          "base_uri": "https://localhost:8080/",
          "height": 345
        },
        "id": "WtQKdQzIIgY1",
        "outputId": "0046158d-3756-4584-ed29-e8727b2d61c3"
      },
      "outputs": [
        {
          "data": {
            "text/html": [
              "<div>\n",
              "<style scoped>\n",
              "    .dataframe tbody tr th:only-of-type {\n",
              "        vertical-align: middle;\n",
              "    }\n",
              "\n",
              "    .dataframe tbody tr th {\n",
              "        vertical-align: top;\n",
              "    }\n",
              "\n",
              "    .dataframe thead th {\n",
              "        text-align: right;\n",
              "    }\n",
              "</style>\n",
              "<table border=\"1\" class=\"dataframe\">\n",
              "  <thead>\n",
              "    <tr style=\"text-align: right;\">\n",
              "      <th></th>\n",
              "      <th>question</th>\n",
              "      <th>context</th>\n",
              "      <th>answer</th>\n",
              "      <th>Sentence_Count</th>\n",
              "    </tr>\n",
              "  </thead>\n",
              "  <tbody>\n",
              "    <tr>\n",
              "      <th>0</th>\n",
              "      <td>Will my transaction go through if I don't have...</td>\n",
              "      <td>Overdraft protection allows transactions to be...</td>\n",
              "      <td>Yes, your transaction will go through if overd...</td>\n",
              "      <td>1</td>\n",
              "    </tr>\n",
              "    <tr>\n",
              "      <th>1</th>\n",
              "      <td>How do I block my card if it's lost?</td>\n",
              "      <td>To block a lost or stolen card, users should i...</td>\n",
              "      <td>Go to the Cards section, select your card, and...</td>\n",
              "      <td>1</td>\n",
              "    </tr>\n",
              "    <tr>\n",
              "      <th>2</th>\n",
              "      <td>Do you offer loans in Argentina?</td>\n",
              "      <td>FinBot currently offers loans in 20+ locations...</td>\n",
              "      <td>Yes, FinBot offers personal loans in Argentina...</td>\n",
              "      <td>1</td>\n",
              "    </tr>\n",
              "    <tr>\n",
              "      <th>3</th>\n",
              "      <td>Is there a fee for using an ATM in Mexico?</td>\n",
              "      <td>ATM withdrawals in Mexico are free when using ...</td>\n",
              "      <td>You’ll be charged $2.50.</td>\n",
              "      <td>1</td>\n",
              "    </tr>\n",
              "    <tr>\n",
              "      <th>4</th>\n",
              "      <td>Can I cancel a transaction after it's sent?</td>\n",
              "      <td>Outgoing transactions cannot be canceled once ...</td>\n",
              "      <td>I am afraid I do not have information to answe...</td>\n",
              "      <td>1</td>\n",
              "    </tr>\n",
              "  </tbody>\n",
              "</table>\n",
              "</div>"
            ],
            "text/plain": [
              "                                            question  \\\n",
              "0  Will my transaction go through if I don't have...   \n",
              "1               How do I block my card if it's lost?   \n",
              "2                   Do you offer loans in Argentina?   \n",
              "3         Is there a fee for using an ATM in Mexico?   \n",
              "4        Can I cancel a transaction after it's sent?   \n",
              "\n",
              "                                             context  \\\n",
              "0  Overdraft protection allows transactions to be...   \n",
              "1  To block a lost or stolen card, users should i...   \n",
              "2  FinBot currently offers loans in 20+ locations...   \n",
              "3  ATM withdrawals in Mexico are free when using ...   \n",
              "4  Outgoing transactions cannot be canceled once ...   \n",
              "\n",
              "                                              answer  Sentence_Count  \n",
              "0  Yes, your transaction will go through if overd...               1  \n",
              "1  Go to the Cards section, select your card, and...               1  \n",
              "2  Yes, FinBot offers personal loans in Argentina...               1  \n",
              "3                           You’ll be charged $2.50.               1  \n",
              "4  I am afraid I do not have information to answe...               1  "
            ]
          },
          "execution_count": 23,
          "metadata": {},
          "output_type": "execute_result"
        }
      ],
      "source": [
        "prod_df.as_dataframe()"
      ]
    },
    {
      "cell_type": "markdown",
      "metadata": {
        "id": "VYQcKLJEDaLx"
      },
      "source": [
        "Depending on the use case, could be `IsValidJSON()` etc."
      ]
    },
    {
      "cell_type": "markdown",
      "metadata": {
        "id": "lU45JrNJFT-m"
      },
      "source": [
        "## Custom Python check"
      ]
    },
    {
      "cell_type": "markdown",
      "metadata": {
        "id": "y1PAkL5yF5tL"
      },
      "source": [
        "Implement a function that takes a Pandas Series as input and return a transformed Series. For example, to check if the column is empty:"
      ]
    },
    {
      "cell_type": "code",
      "execution_count": null,
      "metadata": {
        "id": "YNj1kcSWF1h3"
      },
      "outputs": [],
      "source": [
        "def is_empty(data: DatasetColumn) -> DatasetColumn:\n",
        "    return DatasetColumn(\n",
        "        type=\"cat\",\n",
        "        data=pd.Series([\"EMPTY\" if val == \"\" else \"NON EMPTY\" for val in data.data]),\n",
        "    )"
      ]
    },
    {
      "cell_type": "code",
      "execution_count": null,
      "metadata": {
        "id": "WJmB-mwrGBl9"
      },
      "outputs": [],
      "source": [
        "prod_df.add_descriptors(\n",
        "    descriptors=[\n",
        "        CustomColumnDescriptor(\"answer\", is_empty, alias=\"is_empty\"),\n",
        "    ]\n",
        ")"
      ]
    },
    {
      "cell_type": "code",
      "execution_count": 26,
      "metadata": {
        "colab": {
          "base_uri": "https://localhost:8080/",
          "height": 362
        },
        "id": "nt-ISCFTGXUF",
        "outputId": "7ecf2f24-76c2-46d1-af85-4c50ecc8067c"
      },
      "outputs": [
        {
          "data": {
            "text/html": [
              "<div>\n",
              "<style scoped>\n",
              "    .dataframe tbody tr th:only-of-type {\n",
              "        vertical-align: middle;\n",
              "    }\n",
              "\n",
              "    .dataframe tbody tr th {\n",
              "        vertical-align: top;\n",
              "    }\n",
              "\n",
              "    .dataframe thead th {\n",
              "        text-align: right;\n",
              "    }\n",
              "</style>\n",
              "<table border=\"1\" class=\"dataframe\">\n",
              "  <thead>\n",
              "    <tr style=\"text-align: right;\">\n",
              "      <th></th>\n",
              "      <th>question</th>\n",
              "      <th>context</th>\n",
              "      <th>answer</th>\n",
              "      <th>Sentence_Count</th>\n",
              "      <th>is_empty</th>\n",
              "    </tr>\n",
              "  </thead>\n",
              "  <tbody>\n",
              "    <tr>\n",
              "      <th>0</th>\n",
              "      <td>Will my transaction go through if I don't have...</td>\n",
              "      <td>Overdraft protection allows transactions to be...</td>\n",
              "      <td>Yes, your transaction will go through if overd...</td>\n",
              "      <td>1</td>\n",
              "      <td>NON EMPTY</td>\n",
              "    </tr>\n",
              "    <tr>\n",
              "      <th>1</th>\n",
              "      <td>How do I block my card if it's lost?</td>\n",
              "      <td>To block a lost or stolen card, users should i...</td>\n",
              "      <td>Go to the Cards section, select your card, and...</td>\n",
              "      <td>1</td>\n",
              "      <td>NON EMPTY</td>\n",
              "    </tr>\n",
              "    <tr>\n",
              "      <th>2</th>\n",
              "      <td>Do you offer loans in Argentina?</td>\n",
              "      <td>FinBot currently offers loans in 20+ locations...</td>\n",
              "      <td>Yes, FinBot offers personal loans in Argentina...</td>\n",
              "      <td>1</td>\n",
              "      <td>NON EMPTY</td>\n",
              "    </tr>\n",
              "    <tr>\n",
              "      <th>3</th>\n",
              "      <td>Is there a fee for using an ATM in Mexico?</td>\n",
              "      <td>ATM withdrawals in Mexico are free when using ...</td>\n",
              "      <td>You’ll be charged $2.50.</td>\n",
              "      <td>1</td>\n",
              "      <td>NON EMPTY</td>\n",
              "    </tr>\n",
              "    <tr>\n",
              "      <th>4</th>\n",
              "      <td>Can I cancel a transaction after it's sent?</td>\n",
              "      <td>Outgoing transactions cannot be canceled once ...</td>\n",
              "      <td>I am afraid I do not have information to answe...</td>\n",
              "      <td>1</td>\n",
              "      <td>NON EMPTY</td>\n",
              "    </tr>\n",
              "  </tbody>\n",
              "</table>\n",
              "</div>"
            ],
            "text/plain": [
              "                                            question  \\\n",
              "0  Will my transaction go through if I don't have...   \n",
              "1               How do I block my card if it's lost?   \n",
              "2                   Do you offer loans in Argentina?   \n",
              "3         Is there a fee for using an ATM in Mexico?   \n",
              "4        Can I cancel a transaction after it's sent?   \n",
              "\n",
              "                                             context  \\\n",
              "0  Overdraft protection allows transactions to be...   \n",
              "1  To block a lost or stolen card, users should i...   \n",
              "2  FinBot currently offers loans in 20+ locations...   \n",
              "3  ATM withdrawals in Mexico are free when using ...   \n",
              "4  Outgoing transactions cannot be canceled once ...   \n",
              "\n",
              "                                              answer  Sentence_Count  \\\n",
              "0  Yes, your transaction will go through if overd...               1   \n",
              "1  Go to the Cards section, select your card, and...               1   \n",
              "2  Yes, FinBot offers personal loans in Argentina...               1   \n",
              "3                           You’ll be charged $2.50.               1   \n",
              "4  I am afraid I do not have information to answe...               1   \n",
              "\n",
              "    is_empty  \n",
              "0  NON EMPTY  \n",
              "1  NON EMPTY  \n",
              "2  NON EMPTY  \n",
              "3  NON EMPTY  \n",
              "4  NON EMPTY  "
            ]
          },
          "execution_count": 26,
          "metadata": {},
          "output_type": "execute_result"
        }
      ],
      "source": [
        "prod_df.as_dataframe()"
      ]
    },
    {
      "cell_type": "markdown",
      "metadata": {
        "id": "wwJArGXJEuck"
      },
      "source": [
        "## Semantic similarity"
      ]
    },
    {
      "cell_type": "markdown",
      "metadata": {
        "id": "17HVPlALWCUA"
      },
      "source": [
        "You can use semantic similarity between answer and context, or answer and question as proxies for hallucinations and relevance."
      ]
    },
    {
      "cell_type": "code",
      "execution_count": null,
      "metadata": {
        "id": "HnCce2c6JQBA"
      },
      "outputs": [],
      "source": [
        "prod_df.add_descriptors(\n",
        "    descriptors=[\n",
        "        SemanticSimilarity(columns=[\"answer\", \"context\"], alias=\"Hallucination proxy\"),\n",
        "        SemanticSimilarity(columns=[\"answer\", \"question\"], alias=\"Relevance proxy\"),\n",
        "    ]\n",
        ")"
      ]
    },
    {
      "cell_type": "code",
      "execution_count": 28,
      "metadata": {
        "colab": {
          "base_uri": "https://localhost:8080/",
          "height": 449
        },
        "id": "Ug9hHPT1JS0F",
        "outputId": "0138820b-b69e-4998-ee24-b6f034f50bf3"
      },
      "outputs": [
        {
          "data": {
            "text/html": [
              "<div>\n",
              "<style scoped>\n",
              "    .dataframe tbody tr th:only-of-type {\n",
              "        vertical-align: middle;\n",
              "    }\n",
              "\n",
              "    .dataframe tbody tr th {\n",
              "        vertical-align: top;\n",
              "    }\n",
              "\n",
              "    .dataframe thead th {\n",
              "        text-align: right;\n",
              "    }\n",
              "</style>\n",
              "<table border=\"1\" class=\"dataframe\">\n",
              "  <thead>\n",
              "    <tr style=\"text-align: right;\">\n",
              "      <th></th>\n",
              "      <th>question</th>\n",
              "      <th>context</th>\n",
              "      <th>answer</th>\n",
              "      <th>Sentence_Count</th>\n",
              "      <th>is_empty</th>\n",
              "      <th>Hallucination proxy</th>\n",
              "      <th>Relevance proxy</th>\n",
              "    </tr>\n",
              "  </thead>\n",
              "  <tbody>\n",
              "    <tr>\n",
              "      <th>0</th>\n",
              "      <td>Will my transaction go through if I don't have...</td>\n",
              "      <td>Overdraft protection allows transactions to be...</td>\n",
              "      <td>Yes, your transaction will go through if overd...</td>\n",
              "      <td>1</td>\n",
              "      <td>NON EMPTY</td>\n",
              "      <td>0.866907</td>\n",
              "      <td>0.746085</td>\n",
              "    </tr>\n",
              "    <tr>\n",
              "      <th>1</th>\n",
              "      <td>How do I block my card if it's lost?</td>\n",
              "      <td>To block a lost or stolen card, users should i...</td>\n",
              "      <td>Go to the Cards section, select your card, and...</td>\n",
              "      <td>1</td>\n",
              "      <td>NON EMPTY</td>\n",
              "      <td>0.821591</td>\n",
              "      <td>0.858594</td>\n",
              "    </tr>\n",
              "    <tr>\n",
              "      <th>2</th>\n",
              "      <td>Do you offer loans in Argentina?</td>\n",
              "      <td>FinBot currently offers loans in 20+ locations...</td>\n",
              "      <td>Yes, FinBot offers personal loans in Argentina...</td>\n",
              "      <td>1</td>\n",
              "      <td>NON EMPTY</td>\n",
              "      <td>0.810964</td>\n",
              "      <td>0.909730</td>\n",
              "    </tr>\n",
              "    <tr>\n",
              "      <th>3</th>\n",
              "      <td>Is there a fee for using an ATM in Mexico?</td>\n",
              "      <td>ATM withdrawals in Mexico are free when using ...</td>\n",
              "      <td>You’ll be charged $2.50.</td>\n",
              "      <td>1</td>\n",
              "      <td>NON EMPTY</td>\n",
              "      <td>0.615878</td>\n",
              "      <td>0.657645</td>\n",
              "    </tr>\n",
              "    <tr>\n",
              "      <th>4</th>\n",
              "      <td>Can I cancel a transaction after it's sent?</td>\n",
              "      <td>Outgoing transactions cannot be canceled once ...</td>\n",
              "      <td>I am afraid I do not have information to answe...</td>\n",
              "      <td>1</td>\n",
              "      <td>NON EMPTY</td>\n",
              "      <td>0.560166</td>\n",
              "      <td>0.565810</td>\n",
              "    </tr>\n",
              "  </tbody>\n",
              "</table>\n",
              "</div>"
            ],
            "text/plain": [
              "                                            question  \\\n",
              "0  Will my transaction go through if I don't have...   \n",
              "1               How do I block my card if it's lost?   \n",
              "2                   Do you offer loans in Argentina?   \n",
              "3         Is there a fee for using an ATM in Mexico?   \n",
              "4        Can I cancel a transaction after it's sent?   \n",
              "\n",
              "                                             context  \\\n",
              "0  Overdraft protection allows transactions to be...   \n",
              "1  To block a lost or stolen card, users should i...   \n",
              "2  FinBot currently offers loans in 20+ locations...   \n",
              "3  ATM withdrawals in Mexico are free when using ...   \n",
              "4  Outgoing transactions cannot be canceled once ...   \n",
              "\n",
              "                                              answer  Sentence_Count  \\\n",
              "0  Yes, your transaction will go through if overd...               1   \n",
              "1  Go to the Cards section, select your card, and...               1   \n",
              "2  Yes, FinBot offers personal loans in Argentina...               1   \n",
              "3                           You’ll be charged $2.50.               1   \n",
              "4  I am afraid I do not have information to answe...               1   \n",
              "\n",
              "    is_empty  Hallucination proxy  Relevance proxy  \n",
              "0  NON EMPTY             0.866907         0.746085  \n",
              "1  NON EMPTY             0.821591         0.858594  \n",
              "2  NON EMPTY             0.810964         0.909730  \n",
              "3  NON EMPTY             0.615878         0.657645  \n",
              "4  NON EMPTY             0.560166         0.565810  "
            ]
          },
          "execution_count": 28,
          "metadata": {},
          "output_type": "execute_result"
        }
      ],
      "source": [
        "prod_df.as_dataframe()"
      ]
    },
    {
      "cell_type": "markdown",
      "metadata": {
        "id": "UEAbxAy-KcX-"
      },
      "source": [
        "## ML models"
      ]
    },
    {
      "cell_type": "markdown",
      "metadata": {
        "id": "pdW5Qc9St4CG"
      },
      "source": [
        "Example: word-based sentiment model (-1 negative, 0 neutral, 1 positive)."
      ]
    },
    {
      "cell_type": "code",
      "execution_count": null,
      "metadata": {
        "id": "gSRwYwwKKggN"
      },
      "outputs": [],
      "source": [
        "prod_df_2 = Dataset.from_pandas(\n",
        "    pd.DataFrame(prod_data),\n",
        "    data_definition=definition,\n",
        "    descriptors=[Sentiment(\"answer\", alias=\"Sentiment\")],\n",
        ")"
      ]
    },
    {
      "cell_type": "code",
      "execution_count": 30,
      "metadata": {
        "colab": {
          "base_uri": "https://localhost:8080/",
          "height": 345
        },
        "id": "MdnGsdCIKtWD",
        "outputId": "f7eee35a-91ed-46de-dcc9-e339f902f2c0"
      },
      "outputs": [
        {
          "data": {
            "text/html": [
              "<div>\n",
              "<style scoped>\n",
              "    .dataframe tbody tr th:only-of-type {\n",
              "        vertical-align: middle;\n",
              "    }\n",
              "\n",
              "    .dataframe tbody tr th {\n",
              "        vertical-align: top;\n",
              "    }\n",
              "\n",
              "    .dataframe thead th {\n",
              "        text-align: right;\n",
              "    }\n",
              "</style>\n",
              "<table border=\"1\" class=\"dataframe\">\n",
              "  <thead>\n",
              "    <tr style=\"text-align: right;\">\n",
              "      <th></th>\n",
              "      <th>question</th>\n",
              "      <th>context</th>\n",
              "      <th>answer</th>\n",
              "      <th>Sentiment</th>\n",
              "    </tr>\n",
              "  </thead>\n",
              "  <tbody>\n",
              "    <tr>\n",
              "      <th>0</th>\n",
              "      <td>Will my transaction go through if I don't have...</td>\n",
              "      <td>Overdraft protection allows transactions to be...</td>\n",
              "      <td>Yes, your transaction will go through if overd...</td>\n",
              "      <td>0.2144</td>\n",
              "    </tr>\n",
              "    <tr>\n",
              "      <th>1</th>\n",
              "      <td>How do I block my card if it's lost?</td>\n",
              "      <td>To block a lost or stolen card, users should i...</td>\n",
              "      <td>Go to the Cards section, select your card, and...</td>\n",
              "      <td>-0.7003</td>\n",
              "    </tr>\n",
              "    <tr>\n",
              "      <th>2</th>\n",
              "      <td>Do you offer loans in Argentina?</td>\n",
              "      <td>FinBot currently offers loans in 20+ locations...</td>\n",
              "      <td>Yes, FinBot offers personal loans in Argentina...</td>\n",
              "      <td>0.5267</td>\n",
              "    </tr>\n",
              "    <tr>\n",
              "      <th>3</th>\n",
              "      <td>Is there a fee for using an ATM in Mexico?</td>\n",
              "      <td>ATM withdrawals in Mexico are free when using ...</td>\n",
              "      <td>You’ll be charged $2.50.</td>\n",
              "      <td>-0.2023</td>\n",
              "    </tr>\n",
              "    <tr>\n",
              "      <th>4</th>\n",
              "      <td>Can I cancel a transaction after it's sent?</td>\n",
              "      <td>Outgoing transactions cannot be canceled once ...</td>\n",
              "      <td>I am afraid I do not have information to answe...</td>\n",
              "      <td>0.0000</td>\n",
              "    </tr>\n",
              "  </tbody>\n",
              "</table>\n",
              "</div>"
            ],
            "text/plain": [
              "                                            question  \\\n",
              "0  Will my transaction go through if I don't have...   \n",
              "1               How do I block my card if it's lost?   \n",
              "2                   Do you offer loans in Argentina?   \n",
              "3         Is there a fee for using an ATM in Mexico?   \n",
              "4        Can I cancel a transaction after it's sent?   \n",
              "\n",
              "                                             context  \\\n",
              "0  Overdraft protection allows transactions to be...   \n",
              "1  To block a lost or stolen card, users should i...   \n",
              "2  FinBot currently offers loans in 20+ locations...   \n",
              "3  ATM withdrawals in Mexico are free when using ...   \n",
              "4  Outgoing transactions cannot be canceled once ...   \n",
              "\n",
              "                                              answer  Sentiment  \n",
              "0  Yes, your transaction will go through if overd...     0.2144  \n",
              "1  Go to the Cards section, select your card, and...    -0.7003  \n",
              "2  Yes, FinBot offers personal loans in Argentina...     0.5267  \n",
              "3                           You’ll be charged $2.50.    -0.2023  \n",
              "4  I am afraid I do not have information to answe...     0.0000  "
            ]
          },
          "execution_count": 30,
          "metadata": {},
          "output_type": "execute_result"
        }
      ],
      "source": [
        "prod_df_2.as_dataframe()"
      ]
    },
    {
      "cell_type": "markdown",
      "metadata": {
        "id": "srnPY1P0t-ew"
      },
      "source": [
        "Example: custom model from HuggingFace. https://huggingface.co/MoritzLaurer/DeBERTa-v3-large-mnli-fever-anli-ling-wanli (Zero-shot classifier. You can provide candidate labels as params.)"
      ]
    },
    {
      "cell_type": "code",
      "execution_count": null,
      "metadata": {
        "id": "58dYUMdOK8Tx"
      },
      "outputs": [
        {
          "name": "stderr",
          "output_type": "stream",
          "text": [
            "Device set to use cpu\n"
          ]
        }
      ],
      "source": [
        "prod_df_2.add_descriptors(\n",
        "    descriptors=[\n",
        "        HuggingFace(\n",
        "            \"answer\",\n",
        "            model=\"MoritzLaurer/DeBERTa-v3-large-mnli-fever-anli-ling-wanli\",\n",
        "            params={\"labels\": [\"finance\", \"other\"], \"threshold\": 0.5},\n",
        "            alias=\"Topic\",\n",
        "        )\n",
        "    ]\n",
        ")"
      ]
    },
    {
      "cell_type": "code",
      "execution_count": 32,
      "metadata": {
        "colab": {
          "base_uri": "https://localhost:8080/",
          "height": 345
        },
        "id": "O0RtYd4ILNbw",
        "outputId": "3c03b1ad-be1f-4612-c11c-7ca273e8c4f6"
      },
      "outputs": [
        {
          "data": {
            "text/html": [
              "<div>\n",
              "<style scoped>\n",
              "    .dataframe tbody tr th:only-of-type {\n",
              "        vertical-align: middle;\n",
              "    }\n",
              "\n",
              "    .dataframe tbody tr th {\n",
              "        vertical-align: top;\n",
              "    }\n",
              "\n",
              "    .dataframe thead th {\n",
              "        text-align: right;\n",
              "    }\n",
              "</style>\n",
              "<table border=\"1\" class=\"dataframe\">\n",
              "  <thead>\n",
              "    <tr style=\"text-align: right;\">\n",
              "      <th></th>\n",
              "      <th>question</th>\n",
              "      <th>context</th>\n",
              "      <th>answer</th>\n",
              "      <th>Sentiment</th>\n",
              "      <th>Topic</th>\n",
              "    </tr>\n",
              "  </thead>\n",
              "  <tbody>\n",
              "    <tr>\n",
              "      <th>0</th>\n",
              "      <td>Will my transaction go through if I don't have...</td>\n",
              "      <td>Overdraft protection allows transactions to be...</td>\n",
              "      <td>Yes, your transaction will go through if overd...</td>\n",
              "      <td>0.2144</td>\n",
              "      <td>finance</td>\n",
              "    </tr>\n",
              "    <tr>\n",
              "      <th>1</th>\n",
              "      <td>How do I block my card if it's lost?</td>\n",
              "      <td>To block a lost or stolen card, users should i...</td>\n",
              "      <td>Go to the Cards section, select your card, and...</td>\n",
              "      <td>-0.7003</td>\n",
              "      <td>other</td>\n",
              "    </tr>\n",
              "    <tr>\n",
              "      <th>2</th>\n",
              "      <td>Do you offer loans in Argentina?</td>\n",
              "      <td>FinBot currently offers loans in 20+ locations...</td>\n",
              "      <td>Yes, FinBot offers personal loans in Argentina...</td>\n",
              "      <td>0.5267</td>\n",
              "      <td>finance</td>\n",
              "    </tr>\n",
              "    <tr>\n",
              "      <th>3</th>\n",
              "      <td>Is there a fee for using an ATM in Mexico?</td>\n",
              "      <td>ATM withdrawals in Mexico are free when using ...</td>\n",
              "      <td>You’ll be charged $2.50.</td>\n",
              "      <td>-0.2023</td>\n",
              "      <td>finance</td>\n",
              "    </tr>\n",
              "    <tr>\n",
              "      <th>4</th>\n",
              "      <td>Can I cancel a transaction after it's sent?</td>\n",
              "      <td>Outgoing transactions cannot be canceled once ...</td>\n",
              "      <td>I am afraid I do not have information to answe...</td>\n",
              "      <td>0.0000</td>\n",
              "      <td>other</td>\n",
              "    </tr>\n",
              "  </tbody>\n",
              "</table>\n",
              "</div>"
            ],
            "text/plain": [
              "                                            question  \\\n",
              "0  Will my transaction go through if I don't have...   \n",
              "1               How do I block my card if it's lost?   \n",
              "2                   Do you offer loans in Argentina?   \n",
              "3         Is there a fee for using an ATM in Mexico?   \n",
              "4        Can I cancel a transaction after it's sent?   \n",
              "\n",
              "                                             context  \\\n",
              "0  Overdraft protection allows transactions to be...   \n",
              "1  To block a lost or stolen card, users should i...   \n",
              "2  FinBot currently offers loans in 20+ locations...   \n",
              "3  ATM withdrawals in Mexico are free when using ...   \n",
              "4  Outgoing transactions cannot be canceled once ...   \n",
              "\n",
              "                                              answer  Sentiment    Topic  \n",
              "0  Yes, your transaction will go through if overd...     0.2144  finance  \n",
              "1  Go to the Cards section, select your card, and...    -0.7003    other  \n",
              "2  Yes, FinBot offers personal loans in Argentina...     0.5267  finance  \n",
              "3                           You’ll be charged $2.50.    -0.2023  finance  \n",
              "4  I am afraid I do not have information to answe...     0.0000    other  "
            ]
          },
          "execution_count": 32,
          "metadata": {},
          "output_type": "execute_result"
        }
      ],
      "source": [
        "prod_df_2.as_dataframe()"
      ]
    },
    {
      "cell_type": "markdown",
      "metadata": {
        "id": "7oBAI7V6FVgU"
      },
      "source": [
        "## LLM judge"
      ]
    },
    {
      "cell_type": "markdown",
      "metadata": {
        "id": "Y4s0g6SaJt4K"
      },
      "source": [
        "Using LLM judge to check for hallucinations (contradictions between answer and context)."
      ]
    },
    {
      "cell_type": "code",
      "execution_count": null,
      "metadata": {
        "id": "mr4msjBjKV7y"
      },
      "outputs": [],
      "source": [
        "prod_df_2 = Dataset.from_pandas(pd.DataFrame(prod_data), data_definition=definition)"
      ]
    },
    {
      "cell_type": "code",
      "execution_count": null,
      "metadata": {
        "id": "Mr57KEdKKqmo"
      },
      "outputs": [],
      "source": [
        "prod_df_2.add_descriptors(\n",
        "    descriptors=[\n",
        "        FaithfulnessLLMEval(\"answer\", context=\"context\", alias=\"Faithfulness\"),\n",
        "        TextLength(\"answer\", alias=\"Length\"),\n",
        "    ]\n",
        ")"
      ]
    },
    {
      "cell_type": "code",
      "execution_count": 35,
      "metadata": {
        "colab": {
          "base_uri": "https://localhost:8080/",
          "height": 536
        },
        "id": "GcpURmLtKpVm",
        "outputId": "832c2d42-68da-46b0-f40d-846cdcf71242"
      },
      "outputs": [
        {
          "data": {
            "text/html": [
              "<div>\n",
              "<style scoped>\n",
              "    .dataframe tbody tr th:only-of-type {\n",
              "        vertical-align: middle;\n",
              "    }\n",
              "\n",
              "    .dataframe tbody tr th {\n",
              "        vertical-align: top;\n",
              "    }\n",
              "\n",
              "    .dataframe thead th {\n",
              "        text-align: right;\n",
              "    }\n",
              "</style>\n",
              "<table border=\"1\" class=\"dataframe\">\n",
              "  <thead>\n",
              "    <tr style=\"text-align: right;\">\n",
              "      <th></th>\n",
              "      <th>question</th>\n",
              "      <th>context</th>\n",
              "      <th>answer</th>\n",
              "      <th>Faithfulness</th>\n",
              "      <th>Faithfulness reasoning</th>\n",
              "      <th>Length</th>\n",
              "    </tr>\n",
              "  </thead>\n",
              "  <tbody>\n",
              "    <tr>\n",
              "      <th>0</th>\n",
              "      <td>Will my transaction go through if I don't have...</td>\n",
              "      <td>Overdraft protection allows transactions to be...</td>\n",
              "      <td>Yes, your transaction will go through if overd...</td>\n",
              "      <td>FAITHFUL</td>\n",
              "      <td>The response accurately reflects the informati...</td>\n",
              "      <td>98</td>\n",
              "    </tr>\n",
              "    <tr>\n",
              "      <th>1</th>\n",
              "      <td>How do I block my card if it's lost?</td>\n",
              "      <td>To block a lost or stolen card, users should i...</td>\n",
              "      <td>Go to the Cards section, select your card, and...</td>\n",
              "      <td>FAITHFUL</td>\n",
              "      <td>The response accurately reflects the process f...</td>\n",
              "      <td>86</td>\n",
              "    </tr>\n",
              "    <tr>\n",
              "      <th>2</th>\n",
              "      <td>Do you offer loans in Argentina?</td>\n",
              "      <td>FinBot currently offers loans in 20+ locations...</td>\n",
              "      <td>Yes, FinBot offers personal loans in Argentina...</td>\n",
              "      <td>UNFAITHFUL</td>\n",
              "      <td>The response states that FinBot offers persona...</td>\n",
              "      <td>70</td>\n",
              "    </tr>\n",
              "    <tr>\n",
              "      <th>3</th>\n",
              "      <td>Is there a fee for using an ATM in Mexico?</td>\n",
              "      <td>ATM withdrawals in Mexico are free when using ...</td>\n",
              "      <td>You’ll be charged $2.50.</td>\n",
              "      <td>FAITHFUL</td>\n",
              "      <td>The statement 'You’ll be charged $2.50' is con...</td>\n",
              "      <td>24</td>\n",
              "    </tr>\n",
              "    <tr>\n",
              "      <th>4</th>\n",
              "      <td>Can I cancel a transaction after it's sent?</td>\n",
              "      <td>Outgoing transactions cannot be canceled once ...</td>\n",
              "      <td>I am afraid I do not have information to answe...</td>\n",
              "      <td>FAITHFUL</td>\n",
              "      <td>The response acknowledges the lack of informat...</td>\n",
              "      <td>62</td>\n",
              "    </tr>\n",
              "  </tbody>\n",
              "</table>\n",
              "</div>"
            ],
            "text/plain": [
              "                                            question  \\\n",
              "0  Will my transaction go through if I don't have...   \n",
              "1               How do I block my card if it's lost?   \n",
              "2                   Do you offer loans in Argentina?   \n",
              "3         Is there a fee for using an ATM in Mexico?   \n",
              "4        Can I cancel a transaction after it's sent?   \n",
              "\n",
              "                                             context  \\\n",
              "0  Overdraft protection allows transactions to be...   \n",
              "1  To block a lost or stolen card, users should i...   \n",
              "2  FinBot currently offers loans in 20+ locations...   \n",
              "3  ATM withdrawals in Mexico are free when using ...   \n",
              "4  Outgoing transactions cannot be canceled once ...   \n",
              "\n",
              "                                              answer Faithfulness  \\\n",
              "0  Yes, your transaction will go through if overd...     FAITHFUL   \n",
              "1  Go to the Cards section, select your card, and...     FAITHFUL   \n",
              "2  Yes, FinBot offers personal loans in Argentina...   UNFAITHFUL   \n",
              "3                           You’ll be charged $2.50.     FAITHFUL   \n",
              "4  I am afraid I do not have information to answe...     FAITHFUL   \n",
              "\n",
              "                              Faithfulness reasoning  Length  \n",
              "0  The response accurately reflects the informati...      98  \n",
              "1  The response accurately reflects the process f...      86  \n",
              "2  The response states that FinBot offers persona...      70  \n",
              "3  The statement 'You’ll be charged $2.50' is con...      24  \n",
              "4  The response acknowledges the lack of informat...      62  "
            ]
          },
          "execution_count": 35,
          "metadata": {},
          "output_type": "execute_result"
        }
      ],
      "source": [
        "prod_df_2.as_dataframe()"
      ]
    },
    {
      "cell_type": "markdown",
      "metadata": {
        "id": "pqDNqOmNLKFI"
      },
      "source": [
        "Let's create a custom helpfulness evaluator."
      ]
    },
    {
      "cell_type": "code",
      "execution_count": null,
      "metadata": {
        "id": "llEJ-HOMHmFv"
      },
      "outputs": [],
      "source": [
        "completeness = BinaryClassificationPromptTemplate(\n",
        "    pre_messages=[\n",
        "        (\n",
        "            \"system\",\n",
        "            \"You are an evaluator assessing whether a chatbot response is sufficiently complete and informative on its own.\",\n",
        "        )\n",
        "    ],\n",
        "    criteria=\"\"\"A COMPLETE response should be a full sentence or paragraph, and be easy to understand on its own.\n",
        "    For example: \"Yes, you can issue additional credit card for a relative.\", or longer.\n",
        "    A TOO-SHORT response is overly brief or vague—for example, just a number or a simple yes/no—without additional context.\n",
        "    For example: \"Yes, you can.\"\n",
        "    \"\"\",\n",
        "    target_category=\"complete\",\n",
        "    non_target_category=\"too-short\",\n",
        "    uncertainty=\"unknown\",\n",
        "    include_reasoning=True,\n",
        ")"
      ]
    },
    {
      "cell_type": "code",
      "execution_count": null,
      "metadata": {
        "id": "Rer9eULhMAAN"
      },
      "outputs": [],
      "source": [
        "prod_df_2.add_descriptors(\n",
        "    descriptors=[\n",
        "        LLMEval(\n",
        "            \"answer\",\n",
        "            template=completeness,\n",
        "            provider=\"openai\",\n",
        "            model=\"gpt-4o-mini\",\n",
        "            alias=\"Answer completeness\",\n",
        "        )\n",
        "    ]\n",
        ")"
      ]
    },
    {
      "cell_type": "code",
      "execution_count": 38,
      "metadata": {
        "colab": {
          "base_uri": "https://localhost:8080/",
          "height": 848
        },
        "id": "B8_3whwmMSwR",
        "outputId": "de357456-3019-4a62-a667-6c482c7762d6"
      },
      "outputs": [
        {
          "data": {
            "text/html": [
              "<div>\n",
              "<style scoped>\n",
              "    .dataframe tbody tr th:only-of-type {\n",
              "        vertical-align: middle;\n",
              "    }\n",
              "\n",
              "    .dataframe tbody tr th {\n",
              "        vertical-align: top;\n",
              "    }\n",
              "\n",
              "    .dataframe thead th {\n",
              "        text-align: right;\n",
              "    }\n",
              "</style>\n",
              "<table border=\"1\" class=\"dataframe\">\n",
              "  <thead>\n",
              "    <tr style=\"text-align: right;\">\n",
              "      <th></th>\n",
              "      <th>question</th>\n",
              "      <th>context</th>\n",
              "      <th>answer</th>\n",
              "      <th>Faithfulness</th>\n",
              "      <th>Faithfulness reasoning</th>\n",
              "      <th>Length</th>\n",
              "      <th>Answer completeness</th>\n",
              "      <th>Answer completeness reasoning</th>\n",
              "    </tr>\n",
              "  </thead>\n",
              "  <tbody>\n",
              "    <tr>\n",
              "      <th>0</th>\n",
              "      <td>Will my transaction go through if I don't have...</td>\n",
              "      <td>Overdraft protection allows transactions to be...</td>\n",
              "      <td>Yes, your transaction will go through if overd...</td>\n",
              "      <td>FAITHFUL</td>\n",
              "      <td>The response accurately reflects the informati...</td>\n",
              "      <td>98</td>\n",
              "      <td>complete</td>\n",
              "      <td>The response provides a clear explanation that...</td>\n",
              "    </tr>\n",
              "    <tr>\n",
              "      <th>1</th>\n",
              "      <td>How do I block my card if it's lost?</td>\n",
              "      <td>To block a lost or stolen card, users should i...</td>\n",
              "      <td>Go to the Cards section, select your card, and...</td>\n",
              "      <td>FAITHFUL</td>\n",
              "      <td>The response accurately reflects the process f...</td>\n",
              "      <td>86</td>\n",
              "      <td>complete</td>\n",
              "      <td>The response provides clear and detailed instr...</td>\n",
              "    </tr>\n",
              "    <tr>\n",
              "      <th>2</th>\n",
              "      <td>Do you offer loans in Argentina?</td>\n",
              "      <td>FinBot currently offers loans in 20+ locations...</td>\n",
              "      <td>Yes, FinBot offers personal loans in Argentina...</td>\n",
              "      <td>UNFAITHFUL</td>\n",
              "      <td>The response states that FinBot offers persona...</td>\n",
              "      <td>70</td>\n",
              "      <td>complete</td>\n",
              "      <td>The response provides a clear and informative ...</td>\n",
              "    </tr>\n",
              "    <tr>\n",
              "      <th>3</th>\n",
              "      <td>Is there a fee for using an ATM in Mexico?</td>\n",
              "      <td>ATM withdrawals in Mexico are free when using ...</td>\n",
              "      <td>You’ll be charged $2.50.</td>\n",
              "      <td>FAITHFUL</td>\n",
              "      <td>The statement 'You’ll be charged $2.50' is con...</td>\n",
              "      <td>24</td>\n",
              "      <td>too-short</td>\n",
              "      <td>The response is overly brief and does not prov...</td>\n",
              "    </tr>\n",
              "    <tr>\n",
              "      <th>4</th>\n",
              "      <td>Can I cancel a transaction after it's sent?</td>\n",
              "      <td>Outgoing transactions cannot be canceled once ...</td>\n",
              "      <td>I am afraid I do not have information to answe...</td>\n",
              "      <td>FAITHFUL</td>\n",
              "      <td>The response acknowledges the lack of informat...</td>\n",
              "      <td>62</td>\n",
              "      <td>too-short</td>\n",
              "      <td>The statement is overly brief and does not pro...</td>\n",
              "    </tr>\n",
              "  </tbody>\n",
              "</table>\n",
              "</div>"
            ],
            "text/plain": [
              "                                            question  \\\n",
              "0  Will my transaction go through if I don't have...   \n",
              "1               How do I block my card if it's lost?   \n",
              "2                   Do you offer loans in Argentina?   \n",
              "3         Is there a fee for using an ATM in Mexico?   \n",
              "4        Can I cancel a transaction after it's sent?   \n",
              "\n",
              "                                             context  \\\n",
              "0  Overdraft protection allows transactions to be...   \n",
              "1  To block a lost or stolen card, users should i...   \n",
              "2  FinBot currently offers loans in 20+ locations...   \n",
              "3  ATM withdrawals in Mexico are free when using ...   \n",
              "4  Outgoing transactions cannot be canceled once ...   \n",
              "\n",
              "                                              answer Faithfulness  \\\n",
              "0  Yes, your transaction will go through if overd...     FAITHFUL   \n",
              "1  Go to the Cards section, select your card, and...     FAITHFUL   \n",
              "2  Yes, FinBot offers personal loans in Argentina...   UNFAITHFUL   \n",
              "3                           You’ll be charged $2.50.     FAITHFUL   \n",
              "4  I am afraid I do not have information to answe...     FAITHFUL   \n",
              "\n",
              "                              Faithfulness reasoning  Length  \\\n",
              "0  The response accurately reflects the informati...      98   \n",
              "1  The response accurately reflects the process f...      86   \n",
              "2  The response states that FinBot offers persona...      70   \n",
              "3  The statement 'You’ll be charged $2.50' is con...      24   \n",
              "4  The response acknowledges the lack of informat...      62   \n",
              "\n",
              "  Answer completeness                      Answer completeness reasoning  \n",
              "0            complete  The response provides a clear explanation that...  \n",
              "1            complete  The response provides clear and detailed instr...  \n",
              "2            complete  The response provides a clear and informative ...  \n",
              "3           too-short  The response is overly brief and does not prov...  \n",
              "4           too-short  The statement is overly brief and does not pro...  "
            ]
          },
          "execution_count": 38,
          "metadata": {},
          "output_type": "execute_result"
        }
      ],
      "source": [
        "prod_df_2.as_dataframe()"
      ]
    },
    {
      "cell_type": "markdown",
      "metadata": {
        "id": "qE-BLTYORedH"
      },
      "source": [
        "# Advanced: multi-turn coversation evals"
      ]
    },
    {
      "cell_type": "markdown",
      "metadata": {
        "id": "fRAzND2rR9mZ"
      },
      "source": [
        "For dialog systems, it can be useful to analyze multiple responses together. This allows you to assess metrics that apply to the entire session, such as to surface conversations with specific failures, like:\n",
        "- Denial to respond\n",
        "- Presence of PII"
      ]
    },
    {
      "cell_type": "markdown",
      "metadata": {
        "id": "OL1EqOCbSBi0"
      },
      "source": [
        "Let's create a toy dataset."
      ]
    },
    {
      "cell_type": "code",
      "execution_count": null,
      "metadata": {
        "id": "xme6CB7ZRiHu"
      },
      "outputs": [],
      "source": [
        "multi_turn_dialogs = {\n",
        "    \"Session\": [\n",
        "        # 1. Sending money\n",
        "        \"User: Hi, I need to send money to my cousin in Brazil today.\\n\"\n",
        "        \"Assistant: Sure! You can transfer up to $3000 USD per day to Brazil.\\n\"\n",
        "        \"User: I’m sending $2000. Is that okay?\\n\"\n",
        "        \"Assistant: Yes, that’s fine and doesn’t require any additional steps.\\n\"\n",
        "        \"User: Great. The recipient’s name is Carla Mendes, CPF number 123.456.789-00. Is that all you need?\\n\"\n",
        "        \"Assistant: Yes, that's enough to proceed. Please confirm the recipient's bank details on the transfer screen.\\n\"\n",
        "        \"User: Confirmed, thank you!\",\n",
        "        # 2. Lost card\n",
        "        \"User: I lost my debit card! What do I do?\\n\"\n",
        "        \"Assistant: Don’t worry. You can block your card immediately through the FinBot app.\\n\"\n",
        "        \"User: How?\\n\"\n",
        "        \"Assistant: Open the app, go to the Cards section, select the lost card, and tap 'Block card'. It’ll be instant.\\n\"\n",
        "        \"User: Is it reversible?\\n\"\n",
        "        \"Assistant: No, once blocked, the card can't be unblocked. You’ll need to order a replacement.\\n\"\n",
        "        \"User: Got it. Doing it now. Thanks!\",\n",
        "        # 3. Financial market\n",
        "        \"User: Do you know what the average interest rate is for personal loans in Argentina?\\n\"\n",
        "        \"Assistant: I'm sorry, I can’t provide general financial market information like average interest rates in specific countries.\\n\"\n",
        "        \"User: Oh, I thought you might have that info.\\n\"\n",
        "        \"Assistant: I can help with FinBot-specific loan offerings, if available, but I recommend checking with a local financial advisor or bank for up-to-date rates.\\n\"\n",
        "        \"User: Okay, thanks anyway.\",\n",
        "        # 4. ATM fees\n",
        "        \"User: I'm traveling to Mexico next week. Will I be charged ATM fees there?\\n\"\n",
        "        \"Assistant: If you use a partner ATM, withdrawals are free. Non-partner ATMs charge $2.50 per withdrawal.\\n\"\n",
        "        \"User: How do I know which ones are partners?\\n\"\n",
        "        \"Assistant: You can find a list of partner ATMs in the FinBot app’s “ATM Finder” section.\\n\"\n",
        "        \"User: Awesome, thanks!\",\n",
        "        # 5. Cancel transaction\n",
        "        \"User: I just sent money to the wrong person! Can I cancel it?\\n\"\n",
        "        \"Assistant: Unfortunately, once a transaction is processed, it can't be canceled.\\n\"\n",
        "        \"User: Is there anything I can do?\\n\"\n",
        "        \"Assistant: You can submit a recall request, but success depends on the recipient's bank cooperation.\\n\"\n",
        "        \"User: Okay, I'll try that. How do I submit it?\\n\"\n",
        "        \"Assistant: In the app, go to the transaction details and tap ‘Request Recall’. Follow the steps there.\\n\"\n",
        "        \"User: Got it, thanks for your help.\",\n",
        "    ]\n",
        "}\n",
        "\n",
        "multi_turn_df = pd.DataFrame(multi_turn_dialogs)"
      ]
    },
    {
      "cell_type": "markdown",
      "metadata": {
        "id": "pAT5PCigzEpY"
      },
      "source": [
        "Run the evaluation:"
      ]
    },
    {
      "cell_type": "code",
      "execution_count": null,
      "metadata": {
        "id": "cz0cs3-5SVo6"
      },
      "outputs": [],
      "source": [
        "prod_df_3 = Dataset.from_pandas(\n",
        "    pd.DataFrame(multi_turn_df),\n",
        "    data_definition=definition,\n",
        "    descriptors=[DeclineLLMEval(\"Session\"), PIILLMEval(\"Session\")],\n",
        ")\n",
        "\n",
        "report = Report([TextEvals()])\n",
        "my_eval = report.run(prod_df_3)\n",
        "\n",
        "# ws.add_run(project.id, my_eval, include_data=True)"
      ]
    },
    {
      "cell_type": "code",
      "execution_count": 41,
      "metadata": {
        "id": "MxSnYDpZTQcV"
      },
      "outputs": [],
      "source": [
        "# prod_df_3.as_dataframe()\n",
        "# my_eval"
      ]
    },
    {
      "cell_type": "code",
      "execution_count": null,
      "metadata": {
        "id": "Gas_pVXHVW_Q"
      },
      "outputs": [
        {
          "data": {
            "text/html": [
              "<div>\n",
              "<style scoped>\n",
              "    .dataframe tbody tr th:only-of-type {\n",
              "        vertical-align: middle;\n",
              "    }\n",
              "\n",
              "    .dataframe tbody tr th {\n",
              "        vertical-align: top;\n",
              "    }\n",
              "\n",
              "    .dataframe thead th {\n",
              "        text-align: right;\n",
              "    }\n",
              "</style>\n",
              "<table border=\"1\" class=\"dataframe\">\n",
              "  <thead>\n",
              "    <tr style=\"text-align: right;\">\n",
              "      <th></th>\n",
              "      <th>Session</th>\n",
              "      <th>Decline</th>\n",
              "      <th>Decline reasoning</th>\n",
              "      <th>PII</th>\n",
              "      <th>PII reasoning</th>\n",
              "    </tr>\n",
              "  </thead>\n",
              "  <tbody>\n",
              "    <tr>\n",
              "      <th>0</th>\n",
              "      <td>User: Hi, I need to send money to my cousin in...</td>\n",
              "      <td>OK</td>\n",
              "      <td>The assistant confirms that sending $2000 is a...</td>\n",
              "      <td>PII</td>\n",
              "      <td>The text contains identifiable information abo...</td>\n",
              "    </tr>\n",
              "    <tr>\n",
              "      <th>2</th>\n",
              "      <td>User: Do you know what the average interest ra...</td>\n",
              "      <td>DECLINE</td>\n",
              "      <td>The assistant explicitly states that it cannot...</td>\n",
              "      <td>OK</td>\n",
              "      <td>The text does not contain any personally ident...</td>\n",
              "    </tr>\n",
              "  </tbody>\n",
              "</table>\n",
              "</div>"
            ],
            "text/plain": [
              "                                             Session  Decline  \\\n",
              "0  User: Hi, I need to send money to my cousin in...       OK   \n",
              "2  User: Do you know what the average interest ra...  DECLINE   \n",
              "\n",
              "                                   Decline reasoning  PII  \\\n",
              "0  The assistant confirms that sending $2000 is a...  PII   \n",
              "2  The assistant explicitly states that it cannot...   OK   \n",
              "\n",
              "                                       PII reasoning  \n",
              "0  The text contains identifiable information abo...  \n",
              "2  The text does not contain any personally ident...  "
            ]
          },
          "execution_count": 42,
          "metadata": {},
          "output_type": "execute_result"
        }
      ],
      "source": [
        "raw_dialog_data = prod_df_3.as_dataframe()\n",
        "raw_dialog_data[\n",
        "    (raw_dialog_data[\"Decline\"] == \"DECLINE\") | (raw_dialog_data[\"PII\"] == \"PII\")\n",
        "]"
      ]
    }
  ],
  "metadata": {
    "colab": {
      "provenance": []
    },
    "kernelspec": {
      "display_name": ".venv",
      "language": "python",
      "name": "python3"
    },
    "language_info": {
      "codemirror_mode": {
        "name": "ipython",
        "version": 3
      },
      "file_extension": ".py",
      "mimetype": "text/x-python",
      "name": "python",
      "nbconvert_exporter": "python",
      "pygments_lexer": "ipython3",
      "version": "3.12.1"
    }
  },
  "nbformat": 4,
  "nbformat_minor": 0
}
