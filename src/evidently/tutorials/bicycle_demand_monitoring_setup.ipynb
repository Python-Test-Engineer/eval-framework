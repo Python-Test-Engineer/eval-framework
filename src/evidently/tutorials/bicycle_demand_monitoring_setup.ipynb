{
  "cells": [
    {
      "cell_type": "markdown",
      "metadata": {
        "id": "QgumzOZ5wgec",
        "pycharm": {
          "name": "#%% md\n"
        }
      },
      "source": [
        "# Monitoring setup for Bicycle Sharing Demand Prediction"
      ]
    },
    {
      "cell_type": "markdown",
      "metadata": {
        "id": "6eM1BMvDwgee",
        "pycharm": {
          "name": "#%% md\n"
        }
      },
      "source": [
        "**Disclaimer**. This example uses the Evidently API as available in version 0.6.7 or lower. Please ensure you are using the correct version when running this notebook. For updated and new examples using the latest Evidently versions, visit our documentation at:  https://docs.evidentlyai.com. \n",
        "\n",
        "This notebook shows how you can use the Evidently to:\n",
        "* calculate performance and data drift for the model, performed as batch checks\n",
        "* log models quality & data drift using MLflow Tracking\n",
        "* explore the result\n",
        "\n",
        "More examples are available in the github: https://github.com/evidentlyai/evidently/tree/main/examples\n",
        "\n",
        "Evidently docs: https://docs.evidentlyai.com/\n",
        "\n",
        "Join our Discord: https://discord.com/invite/xZjKRaNp8b"
      ]
    },
    {
      "cell_type": "code",
      "execution_count": 2,
      "metadata": {
        "id": "rByuPhg7wgei",
        "pycharm": {
          "name": "#%%\n"
        }
      },
      "outputs": [
        {
          "ename": "ImportError",
          "evalue": "cannot import name 'RegressionErrorPlot' from 'evidently.metrics' (c:\\Users\\mrcra\\Desktop\\llm-evaluation-framework\\.venv\\Lib\\site-packages\\evidently\\metrics\\__init__.py)",
          "output_type": "error",
          "traceback": [
            "\u001b[31m---------------------------------------------------------------------------\u001b[39m",
            "\u001b[31mImportError\u001b[39m                               Traceback (most recent call last)",
            "\u001b[36mCell\u001b[39m\u001b[36m \u001b[39m\u001b[32mIn[2]\u001b[39m\u001b[32m, line 13\u001b[39m\n\u001b[32m     10\u001b[39m \u001b[38;5;28;01mfrom\u001b[39;00m\u001b[38;5;250m \u001b[39m\u001b[34;01mscipy\u001b[39;00m\u001b[34;01m.\u001b[39;00m\u001b[34;01mstats\u001b[39;00m\u001b[38;5;250m \u001b[39m\u001b[38;5;28;01mimport\u001b[39;00m anderson_ksamp\n\u001b[32m     12\u001b[39m \u001b[38;5;66;03m# from evidently.metrics import RegressionQualityMetric, RegressionErrorPlot, RegressionErrorDistribution\u001b[39;00m\n\u001b[32m---> \u001b[39m\u001b[32m13\u001b[39m \u001b[38;5;28;01mfrom\u001b[39;00m\u001b[38;5;250m \u001b[39m\u001b[34;01mevidently\u001b[39;00m\u001b[34;01m.\u001b[39;00m\u001b[34;01mmetrics\u001b[39;00m\u001b[38;5;250m \u001b[39m\u001b[38;5;28;01mimport\u001b[39;00m RegressionErrorPlot, RegressionErrorDistribution\n\u001b[32m     14\u001b[39m \u001b[38;5;28;01mfrom\u001b[39;00m\u001b[38;5;250m \u001b[39m\u001b[34;01mevidently\u001b[39;00m\u001b[34;01m.\u001b[39;00m\u001b[34;01mmetric_preset\u001b[39;00m\u001b[38;5;250m \u001b[39m\u001b[38;5;28;01mimport\u001b[39;00m DataDriftPreset, RegressionPreset\n\u001b[32m     15\u001b[39m \u001b[38;5;28;01mfrom\u001b[39;00m\u001b[38;5;250m \u001b[39m\u001b[34;01mevidently\u001b[39;00m\u001b[34;01m.\u001b[39;00m\u001b[34;01mpipeline\u001b[39;00m\u001b[34;01m.\u001b[39;00m\u001b[34;01mcolumn_mapping\u001b[39;00m\u001b[38;5;250m \u001b[39m\u001b[38;5;28;01mimport\u001b[39;00m ColumnMapping\n",
            "\u001b[31mImportError\u001b[39m: cannot import name 'RegressionErrorPlot' from 'evidently.metrics' (c:\\Users\\mrcra\\Desktop\\llm-evaluation-framework\\.venv\\Lib\\site-packages\\evidently\\metrics\\__init__.py)"
          ]
        }
      ],
      "source": [
        "import datetime\n",
        "import pandas as pd\n",
        "import numpy as np\n",
        "import requests\n",
        "import zipfile\n",
        "import io\n",
        "import json\n",
        "\n",
        "from sklearn import datasets, ensemble, model_selection\n",
        "from scipy.stats import anderson_ksamp\n",
        "\n",
        "# from evidently.metrics import RegressionQualityMetric, RegressionErrorPlot, RegressionErrorDistribution\n",
        "from evidently.metrics import RegressionErrorPlot, RegressionErrorDistribution\n",
        "from evidently.metric_preset import DataDriftPreset, RegressionPreset\n",
        "from evidently.pipeline.column_mapping import ColumnMapping\n",
        "from evidently.report import Report"
      ]
    },
    {
      "cell_type": "code",
      "execution_count": null,
      "metadata": {
        "id": "HiiUl3p8wgej",
        "pycharm": {
          "name": "#%%\n"
        }
      },
      "outputs": [],
      "source": [
        "import warnings\n",
        "warnings.filterwarnings('ignore')\n",
        "warnings.simplefilter('ignore')"
      ]
    },
    {
      "cell_type": "markdown",
      "metadata": {
        "id": "zw5Tap_Xwgej",
        "pycharm": {
          "name": "#%% md\n"
        }
      },
      "source": [
        "## Bicycle Demand Data"
      ]
    },
    {
      "cell_type": "markdown",
      "metadata": {
        "id": "VqGH1Mr6wgej",
        "pycharm": {
          "name": "#%% md\n"
        }
      },
      "source": [
        "More information about the dataset can be found in UCI machine learning repository: https://archive.ics.uci.edu/ml/datasets/bike+sharing+dataset\n",
        "\n",
        "Acknowledgement: Fanaee-T, Hadi, and Gama, Joao, 'Event labeling combining ensemble detectors and background knowledge', Progress in Artificial Intelligence (2013): pp. 1-15, Springer Berlin Heidelberg"
      ]
    },
    {
      "cell_type": "code",
      "execution_count": null,
      "metadata": {
        "id": "dKX2YV19wgek",
        "pycharm": {
          "name": "#%%\n"
        }
      },
      "outputs": [],
      "source": [
        "content = requests.get(\"https://archive.ics.uci.edu/static/public/275/bike+sharing+dataset.zip\", verify=False).content\n",
        "with zipfile.ZipFile(io.BytesIO(content)) as arc:\n",
        "    raw_data = pd.read_csv(arc.open(\"hour.csv\"), header=0, sep=',', parse_dates=['dteday'])"
      ]
    },
    {
      "cell_type": "code",
      "execution_count": null,
      "metadata": {
        "id": "36Gk-YMhwgek",
        "pycharm": {
          "name": "#%%\n"
        }
      },
      "outputs": [],
      "source": [
        "raw_data.index = raw_data.apply(lambda row: datetime.datetime.combine(row.dteday.date(), datetime.time(row.hr)),\n",
        "                                axis=1)"
      ]
    },
    {
      "cell_type": "code",
      "execution_count": null,
      "metadata": {
        "id": "N6oQxQKNwgek",
        "pycharm": {
          "name": "#%%\n"
        }
      },
      "outputs": [],
      "source": [
        "raw_data.head()"
      ]
    },
    {
      "cell_type": "markdown",
      "metadata": {
        "id": "dhZOCJZ1wgel",
        "pycharm": {
          "name": "#%% md\n"
        }
      },
      "source": [
        "## Model training"
      ]
    },
    {
      "cell_type": "code",
      "execution_count": null,
      "metadata": {
        "id": "_i8edS6Ewgem",
        "pycharm": {
          "name": "#%%\n"
        }
      },
      "outputs": [],
      "source": [
        "target = 'cnt'\n",
        "prediction = 'prediction'\n",
        "numerical_features = ['temp', 'atemp', 'hum', 'windspeed', 'mnth', 'hr', 'weekday']\n",
        "categorical_features = ['season', 'holiday', 'workingday', ]#'weathersit']"
      ]
    },
    {
      "cell_type": "code",
      "execution_count": null,
      "metadata": {
        "id": "vTMu0TS_wgem",
        "pycharm": {
          "name": "#%%\n"
        }
      },
      "outputs": [],
      "source": [
        "reference = raw_data.loc['2011-01-01 00:00:00':'2011-01-28 23:00:00']\n",
        "current = raw_data.loc['2011-01-29 00:00:00':'2011-02-28 23:00:00']"
      ]
    },
    {
      "cell_type": "code",
      "execution_count": null,
      "metadata": {
        "id": "dqiRpf2Swgem",
        "pycharm": {
          "name": "#%%\n"
        }
      },
      "outputs": [],
      "source": [
        "X_train, X_test, y_train, y_test = model_selection.train_test_split(\n",
        "    reference[numerical_features + categorical_features],\n",
        "    reference[target],\n",
        "    test_size=0.3\n",
        ")"
      ]
    },
    {
      "cell_type": "code",
      "execution_count": null,
      "metadata": {
        "id": "PWJv-0UKwgen",
        "pycharm": {
          "name": "#%%\n"
        }
      },
      "outputs": [],
      "source": [
        "regressor = ensemble.RandomForestRegressor(random_state = 0, n_estimators = 50)"
      ]
    },
    {
      "cell_type": "code",
      "execution_count": null,
      "metadata": {
        "id": "UOWSxRh1wgen",
        "pycharm": {
          "name": "#%%\n"
        }
      },
      "outputs": [],
      "source": [
        "regressor.fit(X_train, y_train)"
      ]
    },
    {
      "cell_type": "code",
      "execution_count": null,
      "metadata": {
        "id": "TZKZ_biHwgen",
        "pycharm": {
          "name": "#%%\n"
        }
      },
      "outputs": [],
      "source": [
        "preds_train = regressor.predict(X_train)\n",
        "preds_test = regressor.predict(X_test)"
      ]
    },
    {
      "cell_type": "markdown",
      "metadata": {
        "id": "pRV2_SNSwgen",
        "pycharm": {
          "name": "#%% md\n"
        }
      },
      "source": [
        "## Model validation"
      ]
    },
    {
      "cell_type": "code",
      "execution_count": null,
      "metadata": {
        "id": "JcEFJgEswgeo",
        "pycharm": {
          "name": "#%%\n"
        }
      },
      "outputs": [],
      "source": [
        "X_train['target'] = y_train\n",
        "X_train['prediction'] = preds_train\n",
        "\n",
        "X_test['target'] = y_test\n",
        "X_test['prediction'] = preds_test"
      ]
    },
    {
      "cell_type": "code",
      "execution_count": null,
      "metadata": {
        "id": "wEhoX-Xcwgeo",
        "pycharm": {
          "name": "#%%\n"
        }
      },
      "outputs": [],
      "source": [
        "column_mapping = ColumnMapping()\n",
        "\n",
        "column_mapping.target = 'target'\n",
        "column_mapping.prediction = 'prediction'\n",
        "column_mapping.numerical_features = numerical_features\n",
        "column_mapping.categorical_features = categorical_features"
      ]
    },
    {
      "cell_type": "code",
      "execution_count": null,
      "metadata": {
        "id": "iQk44skSwgeo",
        "pycharm": {
          "name": "#%%\n"
        }
      },
      "outputs": [],
      "source": [
        "regression_performance_report = Report(metrics=[\n",
        "    RegressionPreset(),\n",
        "])\n",
        "\n",
        "regression_performance_report.run(reference_data=X_train.sort_index(), current_data=X_test.sort_index(),\n",
        "                                  column_mapping=column_mapping)\n",
        "regression_performance_report"
      ]
    },
    {
      "cell_type": "markdown",
      "metadata": {
        "id": "r4QPdp17wgeo",
        "pycharm": {
          "name": "#%% md\n"
        }
      },
      "source": [
        "## Production model training"
      ]
    },
    {
      "cell_type": "code",
      "execution_count": null,
      "metadata": {
        "id": "9u3zyR-bwgep",
        "pycharm": {
          "name": "#%%\n"
        }
      },
      "outputs": [],
      "source": [
        "regressor.fit(reference[numerical_features + categorical_features], reference[target])"
      ]
    },
    {
      "cell_type": "code",
      "execution_count": null,
      "metadata": {
        "id": "qH5FK4x8wgep",
        "pycharm": {
          "name": "#%%\n"
        }
      },
      "outputs": [],
      "source": [
        "column_mapping = ColumnMapping()\n",
        "\n",
        "column_mapping.target = target\n",
        "column_mapping.prediction = prediction\n",
        "column_mapping.numerical_features = numerical_features\n",
        "column_mapping.categorical_features = categorical_features"
      ]
    },
    {
      "cell_type": "code",
      "execution_count": null,
      "metadata": {
        "id": "vTCmG4Ntwgeq",
        "pycharm": {
          "name": "#%%\n"
        }
      },
      "outputs": [],
      "source": [
        "ref_prediction = regressor.predict(reference[numerical_features + categorical_features])\n",
        "reference['prediction'] = ref_prediction"
      ]
    },
    {
      "cell_type": "code",
      "execution_count": null,
      "metadata": {
        "id": "uV1kyj3Owgeq",
        "pycharm": {
          "name": "#%%\n"
        }
      },
      "outputs": [],
      "source": [
        "regression_performance_report = Report(metrics=[\n",
        "    RegressionPreset(),\n",
        "])\n",
        "\n",
        "regression_performance_report.run(reference_data=None, current_data=reference,\n",
        "                                  column_mapping=column_mapping)\n",
        "regression_performance_report"
      ]
    },
    {
      "cell_type": "markdown",
      "metadata": {
        "id": "2rJyfTJ3wger",
        "pycharm": {
          "name": "#%% md\n"
        }
      },
      "source": [
        "## Some time has passed - how is the model working?"
      ]
    },
    {
      "cell_type": "code",
      "execution_count": null,
      "metadata": {
        "id": "TqljYICLwger",
        "pycharm": {
          "name": "#%%\n"
        }
      },
      "outputs": [],
      "source": [
        "current_prediction = regressor.predict(current[numerical_features + categorical_features])\n",
        "current['prediction'] = current_prediction"
      ]
    },
    {
      "cell_type": "markdown",
      "metadata": {
        "id": "7eBBRAOTwger",
        "pycharm": {
          "name": "#%% md\n"
        }
      },
      "source": [
        "### Week 1"
      ]
    },
    {
      "cell_type": "code",
      "execution_count": null,
      "metadata": {
        "id": "LvuPle_Nwges",
        "pycharm": {
          "name": "#%%\n"
        }
      },
      "outputs": [],
      "source": [
        "regression_performance_report.run(reference_data=reference, current_data=current.loc['2011-01-29 00:00:00':'2011-02-07 23:00:00'],\n",
        "                                  column_mapping=column_mapping)\n",
        "regression_performance_report"
      ]
    },
    {
      "cell_type": "markdown",
      "metadata": {
        "id": "SbmG0hvSwges",
        "pycharm": {
          "name": "#%% md\n"
        }
      },
      "source": [
        "### Week 2"
      ]
    },
    {
      "cell_type": "code",
      "execution_count": null,
      "metadata": {
        "id": "d6tBIZDUwget",
        "pycharm": {
          "name": "#%%\n"
        },
        "scrolled": false
      },
      "outputs": [],
      "source": [
        "regression_performance_report = Report(metrics=[\n",
        "    RegressionQualityMetric(),\n",
        "    RegressionErrorPlot(),\n",
        "    RegressionErrorDistribution()\n",
        "])\n",
        "\n",
        "regression_performance_report.run(reference_data=reference, current_data=current.loc['2011-02-07 00:00:00':'2011-02-14 23:00:00'],\n",
        "                                            column_mapping=column_mapping)\n",
        "regression_performance_report.show()"
      ]
    },
    {
      "cell_type": "markdown",
      "metadata": {
        "id": "Zj3AHeU-wget",
        "pycharm": {
          "name": "#%% md\n"
        }
      },
      "source": [
        "### Week 3"
      ]
    },
    {
      "cell_type": "code",
      "execution_count": null,
      "metadata": {
        "id": "LF6ZFyx_wgeu",
        "pycharm": {
          "name": "#%%\n"
        }
      },
      "outputs": [],
      "source": [
        "regression_performance_report = Report(metrics=[\n",
        "    RegressionQualityMetric(),\n",
        "    RegressionErrorPlot(),\n",
        "    RegressionErrorDistribution()\n",
        "])\n",
        "\n",
        "regression_performance_report.run(reference_data=reference, current_data=current.loc['2011-02-15 00:00:00':'2011-02-21 23:00:00'],\n",
        "                                            column_mapping=column_mapping)\n",
        "regression_performance_report.show()"
      ]
    },
    {
      "cell_type": "markdown",
      "metadata": {
        "id": "sFeB72oIwgev",
        "pycharm": {
          "name": "#%% md\n"
        }
      },
      "source": [
        "## Why the quality has dropped?"
      ]
    },
    {
      "cell_type": "code",
      "execution_count": null,
      "metadata": {
        "id": "ubmWrELOwgev",
        "pycharm": {
          "name": "#%%\n"
        }
      },
      "outputs": [],
      "source": [
        "column_mapping_drift = ColumnMapping()\n",
        "\n",
        "column_mapping_drift.target = target\n",
        "column_mapping_drift.prediction = prediction\n",
        "column_mapping_drift.numerical_features = numerical_features\n",
        "column_mapping_drift.categorical_features = []"
      ]
    },
    {
      "cell_type": "code",
      "execution_count": null,
      "metadata": {
        "id": "Uz1ajc22wgew",
        "pycharm": {
          "name": "#%%\n"
        }
      },
      "outputs": [],
      "source": [
        "data_drift_report = Report(metrics=[\n",
        "    DataDriftPreset(),\n",
        "])\n",
        "\n",
        "data_drift_report.run(\n",
        "    reference_data=reference,\n",
        "    current_data=current.loc['2011-02-14 00:00:00':'2011-02-21 23:00:00'],\n",
        "    column_mapping=column_mapping_drift,\n",
        ")\n",
        "data_drift_report"
      ]
    },
    {
      "cell_type": "markdown",
      "metadata": {
        "id": "-4S20imIwgew",
        "pycharm": {
          "name": "#%% md\n"
        }
      },
      "source": [
        "## Let's customize the report!"
      ]
    },
    {
      "cell_type": "code",
      "execution_count": null,
      "metadata": {
        "id": "zJWuGbzdwgew",
        "pycharm": {
          "name": "#%%\n"
        }
      },
      "outputs": [],
      "source": [
        "from evidently.core import ColumnType\n",
        "from evidently.calculations.stattests import StatTest, register_stattest\n",
        "\n",
        "def _anderson_stat_test(reference_data: pd.Series, current_data: pd.Series, feature_type: ColumnType, threshold: float):\n",
        "    p_value = anderson_ksamp([reference_data, current_data])[2]\n",
        "    return p_value, p_value < threshold\n",
        "\n",
        "anderson_stat_test = StatTest(\n",
        "    name=\"anderson\",\n",
        "    display_name=\"Anderson test (p_value)\",\n",
        "    allowed_feature_types=[ColumnType.Numerical]\n",
        ")\n",
        "\n",
        "register_stattest(anderson_stat_test, default_impl=_anderson_stat_test)\n",
        "# options = DataDriftOptions(feature_stattest_func=anderson_stat_test, all_features_threshold=0.9, nbinsx=20)"
      ]
    },
    {
      "cell_type": "code",
      "execution_count": null,
      "metadata": {
        "id": "EDqb_S9Xwgex",
        "pycharm": {
          "name": "#%%\n"
        }
      },
      "outputs": [],
      "source": [
        "the_report = Report(metrics=[\n",
        "    RegressionQualityMetric(),\n",
        "    RegressionErrorPlot(),\n",
        "    RegressionErrorDistribution(),\n",
        "    DataDriftPreset(stattest=anderson_stat_test, stattest_threshold=0.9),\n",
        "])\n",
        "\n",
        "\n",
        "the_report.run(\n",
        "    reference_data=reference,\n",
        "    current_data=current.loc['2011-02-14 00:00:00':'2011-02-21 23:00:00'],\n",
        "    column_mapping=column_mapping_drift\n",
        ")\n",
        "the_report"
      ]
    },
    {
      "cell_type": "markdown",
      "metadata": {
        "id": "q5lW24Xzwgex",
        "pycharm": {
          "name": "#%% md\n"
        }
      },
      "source": [
        "## Jupyter vs Automated Run?"
      ]
    },
    {
      "cell_type": "markdown",
      "metadata": {
        "id": "p-80D3Bbwgex",
        "pycharm": {
          "name": "#%% md\n"
        }
      },
      "source": [
        "To run this part of the tutorial you need to install MLflow (if not installed yet)\n",
        "\n",
        "You can install MLflow with the following command: `pip install mlflow` or install MLflow with scikit-learn via `pip install mlflow[extras]`\n",
        "\n",
        "More details:https://mlflow.org/docs/latest/tutorials-and-examples/tutorial.html#id5"
      ]
    },
    {
      "cell_type": "code",
      "execution_count": null,
      "metadata": {
        "id": "bUoXVw40AKWj",
        "pycharm": {
          "name": "#%%\n"
        }
      },
      "outputs": [],
      "source": [
        "try:\n",
        "    import mlflow\n",
        "except:\n",
        "    !pip install mlflow"
      ]
    },
    {
      "cell_type": "code",
      "execution_count": null,
      "metadata": {
        "id": "I_IyYlM0wgey",
        "pycharm": {
          "name": "#%%\n"
        }
      },
      "outputs": [],
      "source": [
        "import mlflow\n",
        "#import mlflow.sklearn\n",
        "from mlflow.tracking import MlflowClient"
      ]
    },
    {
      "cell_type": "code",
      "execution_count": null,
      "metadata": {
        "id": "L6PKtAGEwgey",
        "pycharm": {
          "name": "#%%\n"
        }
      },
      "outputs": [],
      "source": [
        "experiment_batches = [\n",
        "    ('2011-01-29 00:00:00','2011-02-07 23:00:00'),\n",
        "    ('2011-02-07 00:00:00','2011-02-14 23:00:00'),\n",
        "    ('2011-02-15 00:00:00','2011-02-21 23:00:00'),\n",
        "]"
      ]
    },
    {
      "cell_type": "code",
      "execution_count": null,
      "metadata": {
        "id": "nHegk6fAwgey",
        "pycharm": {
          "name": "#%%\n"
        }
      },
      "outputs": [],
      "source": [
        "the_report = Report(metrics=[\n",
        "    RegressionQualityMetric(),\n",
        "    RegressionErrorPlot(),\n",
        "    RegressionErrorDistribution(),\n",
        "    DataDriftPreset(stattest=anderson_stat_test, stattest_threshold=0.9),\n",
        "])\n",
        "\n",
        "the_report.run(\n",
        "    reference_data=reference,\n",
        "    current_data=current.loc[experiment_batches[0][0]:experiment_batches[0][1]],\n",
        "    column_mapping=column_mapping_drift\n",
        ")"
      ]
    },
    {
      "cell_type": "code",
      "execution_count": null,
      "metadata": {
        "id": "qMD5Ek7-wgey",
        "pycharm": {
          "name": "#%%\n"
        },
        "scrolled": false
      },
      "outputs": [],
      "source": [
        "logged_json = json.loads(the_report.json())"
      ]
    },
    {
      "cell_type": "code",
      "execution_count": null,
      "metadata": {
        "id": "xwOcfczR-b6d",
        "pycharm": {
          "name": "#%%\n"
        }
      },
      "outputs": [],
      "source": [
        "logged_json"
      ]
    },
    {
      "cell_type": "code",
      "execution_count": null,
      "metadata": {
        "id": "cyVps9-Q-ZoB",
        "pycharm": {
          "name": "#%%\n"
        }
      },
      "outputs": [],
      "source": [
        "[x['metric'] for x in logged_json['metrics']]"
      ]
    },
    {
      "cell_type": "code",
      "execution_count": null,
      "metadata": {
        "id": "yc0HhabLxYVj",
        "pycharm": {
          "name": "#%%\n"
        }
      },
      "outputs": [],
      "source": [
        "logged_json['metrics'][0]['result']['current']['mean_error']"
      ]
    },
    {
      "cell_type": "code",
      "execution_count": null,
      "metadata": {
        "id": "SolMtKPjyHw5",
        "pycharm": {
          "name": "#%%\n"
        }
      },
      "outputs": [],
      "source": [
        "logged_json['metrics'][3]['result']['drift_share']"
      ]
    },
    {
      "cell_type": "code",
      "execution_count": null,
      "metadata": {
        "id": "bTHU8eAqwgez",
        "pycharm": {
          "name": "#%%\n"
        }
      },
      "outputs": [],
      "source": [
        "#log into MLflow\n",
        "client = MlflowClient()\n",
        "\n",
        "#set experiment\n",
        "mlflow.set_experiment('Model Quality Evaluation')\n",
        "\n",
        "#start new run\n",
        "for date in experiment_batches:\n",
        "    with mlflow.start_run() as run: #inside brackets run_name='test'\n",
        "\n",
        "        # Log parameters\n",
        "        mlflow.log_param(\"begin\", date[0])\n",
        "        mlflow.log_param(\"end\", date[1])\n",
        "\n",
        "        # Get metrics\n",
        "        the_report = Report(metrics=[\n",
        "            RegressionQualityMetric(),\n",
        "            RegressionErrorPlot(),\n",
        "            RegressionErrorDistribution(),\n",
        "            DataDriftPreset(stattest=anderson_stat_test, stattest_threshold=0.9),\n",
        "        ])\n",
        "        the_report.run(\n",
        "            reference_data=reference,\n",
        "            current_data=current.loc[date[0]:date[1]],\n",
        "            column_mapping=column_mapping_drift)\n",
        "        logged_json = json.loads(the_report.json())\n",
        "\n",
        "        me = logged_json['metrics'][0]['result']['current']['mean_error']\n",
        "        mae = logged_json['metrics'][0]['result']['current'][\"mean_abs_error\"]\n",
        "        drift_share = logged_json['metrics'][3]['result']['drift_share']\n",
        "\n",
        "        # Log metrics\n",
        "        mlflow.log_metric('me', round(me, 3))\n",
        "        mlflow.log_metric('mae', round(mae, 3))\n",
        "        mlflow.log_metric('drift_share', round(drift_share, 3))\n",
        "\n",
        "        print(run.info)"
      ]
    },
    {
      "cell_type": "code",
      "execution_count": null,
      "metadata": {
        "id": "IUYxYN5nwgez",
        "pycharm": {
          "name": "#%%\n"
        }
      },
      "outputs": [],
      "source": [
        "#run MLflow UI (NOT recommended! It will be more convinient to run it directly from the TERMINAL)\n",
        "#!mlflow ui"
      ]
    },
    {
      "cell_type": "markdown",
      "metadata": {
        "id": "zCEGUaYRnP-W",
        "pycharm": {
          "name": "#%% md\n"
        }
      },
      "source": [
        "# Support Evidently\n",
        "Enjoyed the tutorial? Star Evidently on GitHub to contribute back! This helps us continue creating free open-source tools for the community. https://github.com/evidentlyai/evidently"
      ]
    }
  ],
  "metadata": {
    "colab": {
      "provenance": []
    },
    "kernelspec": {
      "display_name": ".venv",
      "language": "python",
      "name": "python3"
    },
    "language_info": {
      "codemirror_mode": {
        "name": "ipython",
        "version": 3
      },
      "file_extension": ".py",
      "mimetype": "text/x-python",
      "name": "python",
      "nbconvert_exporter": "python",
      "pygments_lexer": "ipython3",
      "version": "3.12.10"
    },
    "toc": {
      "base_numbering": 1,
      "nav_menu": {},
      "number_sections": true,
      "sideBar": true,
      "skip_h1_title": false,
      "title_cell": "Table of Contents",
      "title_sidebar": "Contents",
      "toc_cell": false,
      "toc_position": {},
      "toc_section_display": true,
      "toc_window_display": false
    }
  },
  "nbformat": 4,
  "nbformat_minor": 0
}
