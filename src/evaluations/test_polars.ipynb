{
 "cells": [
  {
   "cell_type": "markdown",
   "id": "5a3ba7c2-c749-4951-8c03-94ae632dca90",
   "metadata": {},
   "source": [
    "<img src=\"assets/data_analysis_with_polars_copyright-1.png\" width=\"500\"/>\n",
    "\n",
    "## Test installation\n",
    "In this notebook we test your installation and whether you are in the virtual environment.\n",
    "\n",
    "First we will run `which python` - this should lead to a path in your `course_env` virtual environment"
   ]
  },
  {
   "cell_type": "markdown",
   "id": "22781391-c420-4940-9210-d437e8ce251a",
   "metadata": {},
   "source": [
    "If it is not in your virtual environment you need to activate your virtual environment. \n",
    "\n",
    "If you have a pre-existing `conda` environment activated you may need to `deactivate` that environment before activating the course_env enviroment"
   ]
  },
  {
   "cell_type": "markdown",
   "id": "fd99aee8-4511-45be-8ca0-1d8870d1bd88",
   "metadata": {},
   "source": [
    "## Test imports\n",
    "You will need to be able to import Polars and (less importantly) Plotly.\n",
    "\n",
    "**If this cell runs for more than 15 seconds without finishing then restart the kernel and try again**"
   ]
  },
  {
   "cell_type": "code",
   "execution_count": 1,
   "id": "f3d26527-2e51-449e-9df1-d4102a89a6f4",
   "metadata": {},
   "outputs": [],
   "source": [
    "import polars as pl\n",
    "import pandas as pd\n",
    "import numpy as np\n",
    "import plotly.express as px"
   ]
  },
  {
   "cell_type": "markdown",
   "id": "601e565d-757b-4a6b-98b3-0a4c2a6b383a",
   "metadata": {},
   "source": [
    "## Test data read\n",
    "You will need to be able to read the following data files"
   ]
  },
  {
   "cell_type": "code",
   "execution_count": 16,
   "id": "556288cc",
   "metadata": {},
   "outputs": [],
   "source": [
    "df = pl.read_csv(\n",
    "    \"../case_study1/langgraph/01_article_writer_should_write.csv\",\n",
    "    separator=\"|\",\n",
    "    has_header=False,  # Default is True\n",
    "    skip_rows=0,  # Skip rows at beginning\n",
    "    null_values=[\"\", \"NULL\"],  # What to treat as null\n",
    "    encoding=\"utf8\",  # File encoding\n",
    "    new_columns=[\n",
    "        \"datetime\",\n",
    "        \"article_writer\",\n",
    "        \"evaluator\",\n",
    "        \"model\",\n",
    "        \"temperature\",\n",
    "        \"query\",\n",
    "        \"output\",\n",
    "        \"input_tokens\",\n",
    "        \"output_tokens\",\n",
    "        \"time_taken\",\n",
    "    ],\n",
    ")"
   ]
  },
  {
   "cell_type": "code",
   "execution_count": 17,
   "id": "6d245b57",
   "metadata": {},
   "outputs": [
    {
     "data": {
      "text/html": [
       "<div><style>\n",
       ".dataframe > thead > tr,\n",
       ".dataframe > tbody > tr {\n",
       "  text-align: right;\n",
       "  white-space: pre-wrap;\n",
       "}\n",
       "</style>\n",
       "<small>shape: (2, 10)</small><table border=\"1\" class=\"dataframe\"><thead><tr><th>datetime</th><th>article_writer</th><th>evaluator</th><th>model</th><th>temperature</th><th>query</th><th>output</th><th>input_tokens</th><th>output_tokens</th><th>time_taken</th></tr><tr><td>str</td><td>str</td><td>str</td><td>str</td><td>i64</td><td>str</td><td>str</td><td>i64</td><td>i64</td><td>f64</td></tr></thead><tbody><tr><td>&quot;2025-07-20-20-46-12&quot;</td><td>&quot;ARTICLE_WRITER&quot;</td><td>&quot;EVALUATOR&quot;</td><td>&quot;gpt-4o-mini&quot;</td><td>0</td><td>&quot;Planning permission for 49 Eng…</td><td>&quot;no&quot;</td><td>6</td><td>5</td><td>1.18</td></tr><tr><td>&quot;2025-07-20-20-46-13&quot;</td><td>&quot;ARTICLE_WRITER&quot;</td><td>&quot;EVALUATOR&quot;</td><td>&quot;gpt-4o-mini&quot;</td><td>0</td><td>&quot;AI and Machine learning in mod…</td><td>&quot;yes&quot;</td><td>6</td><td>5</td><td>0.6</td></tr></tbody></table></div>"
      ],
      "text/plain": [
       "shape: (2, 10)\n",
       "┌────────────┬────────────┬───────────┬───────────┬───┬────────┬───────────┬───────────┬───────────┐\n",
       "│ datetime   ┆ article_wr ┆ evaluator ┆ model     ┆ … ┆ output ┆ input_tok ┆ output_to ┆ time_take │\n",
       "│ ---        ┆ iter       ┆ ---       ┆ ---       ┆   ┆ ---    ┆ ens       ┆ kens      ┆ n         │\n",
       "│ str        ┆ ---        ┆ str       ┆ str       ┆   ┆ str    ┆ ---       ┆ ---       ┆ ---       │\n",
       "│            ┆ str        ┆           ┆           ┆   ┆        ┆ i64       ┆ i64       ┆ f64       │\n",
       "╞════════════╪════════════╪═══════════╪═══════════╪═══╪════════╪═══════════╪═══════════╪═══════════╡\n",
       "│ 2025-07-20 ┆ ARTICLE_WR ┆ EVALUATOR ┆ gpt-4o-mi ┆ … ┆ no     ┆ 6         ┆ 5         ┆ 1.18      │\n",
       "│ -20-46-12  ┆ ITER       ┆           ┆ ni        ┆   ┆        ┆           ┆           ┆           │\n",
       "│ 2025-07-20 ┆ ARTICLE_WR ┆ EVALUATOR ┆ gpt-4o-mi ┆ … ┆ yes    ┆ 6         ┆ 5         ┆ 0.6       │\n",
       "│ -20-46-13  ┆ ITER       ┆           ┆ ni        ┆   ┆        ┆           ┆           ┆           │\n",
       "└────────────┴────────────┴───────────┴───────────┴───┴────────┴───────────┴───────────┴───────────┘"
      ]
     },
     "execution_count": 17,
     "metadata": {},
     "output_type": "execute_result"
    }
   ],
   "source": [
    "df.head(2)"
   ]
  },
  {
   "cell_type": "code",
   "execution_count": 20,
   "id": "3d5b8c92-806e-40df-9c7f-f1ba65ed1641",
   "metadata": {},
   "outputs": [],
   "source": [
    "df = pl.read_csv(\n",
    "    \"../case_study1/langgraph/02_article_writer_translate.csv\",\n",
    "    separator=\"|\",\n",
    "    has_header=False,  # Default is True\n",
    "    skip_rows=0,  # Skip rows at beginning\n",
    "    null_values=[\"\", \"NULL\"],  # What to treat as null\n",
    "    encoding=\"utf8\",  # File encoding\n",
    "    new_columns=[\n",
    "        \"datetime\",\n",
    "        \"article_writer\",\n",
    "        \"evaluator\",\n",
    "        \"model\",\n",
    "        \"temperature\",\n",
    "        \"input\",\n",
    "        \"output\",\n",
    "        \"result\",\n",
    "        \"time_taken\",\n",
    "    ],\n",
    ")"
   ]
  },
  {
   "cell_type": "markdown",
   "id": "38cb5abb-6ac5-4726-adee-e9d25be594f5",
   "metadata": {},
   "source": [
    "Ok, if all that worked you should be good to go!"
   ]
  },
  {
   "cell_type": "code",
   "execution_count": 21,
   "id": "69d23b9c-512d-476d-a136-3cdad5f4375a",
   "metadata": {},
   "outputs": [
    {
     "data": {
      "text/html": [
       "<div><style>\n",
       ".dataframe > thead > tr,\n",
       ".dataframe > tbody > tr {\n",
       "  text-align: right;\n",
       "  white-space: pre-wrap;\n",
       "}\n",
       "</style>\n",
       "<small>shape: (1, 9)</small><table border=\"1\" class=\"dataframe\"><thead><tr><th>datetime</th><th>article_writer</th><th>evaluator</th><th>model</th><th>temperature</th><th>input</th><th>output</th><th>result</th><th>time_taken</th></tr><tr><td>str</td><td>str</td><td>str</td><td>str</td><td>i64</td><td>str</td><td>str</td><td>str</td><td>f64</td></tr></thead><tbody><tr><td>&quot;2025-07-20-20-46-15&quot;</td><td>&quot;ARTICLE_WRITER&quot;</td><td>&quot;TRANSLATE&quot;</td><td>&quot;gpt-4o-mini&quot;</td><td>0</td><td>&quot;AI and Machine learning in mod…</td><td>&quot;content=&quot;L&#x27;IA et l&#x27;apprentissa…</td><td>&quot;content=&quot;L&#x27;IA et l&#x27;apprentissa…</td><td>0.59</td></tr></tbody></table></div>"
      ],
      "text/plain": [
       "shape: (1, 9)\n",
       "┌───────────┬───────────┬───────────┬───────────┬───┬───────────┬───────────┬───────────┬──────────┐\n",
       "│ datetime  ┆ article_w ┆ evaluator ┆ model     ┆ … ┆ input     ┆ output    ┆ result    ┆ time_tak │\n",
       "│ ---       ┆ riter     ┆ ---       ┆ ---       ┆   ┆ ---       ┆ ---       ┆ ---       ┆ en       │\n",
       "│ str       ┆ ---       ┆ str       ┆ str       ┆   ┆ str       ┆ str       ┆ str       ┆ ---      │\n",
       "│           ┆ str       ┆           ┆           ┆   ┆           ┆           ┆           ┆ f64      │\n",
       "╞═══════════╪═══════════╪═══════════╪═══════════╪═══╪═══════════╪═══════════╪═══════════╪══════════╡\n",
       "│ 2025-07-2 ┆ ARTICLE_W ┆ TRANSLATE ┆ gpt-4o-mi ┆ … ┆ AI and    ┆ content=\" ┆ content=\" ┆ 0.59     │\n",
       "│ 0-20-46-1 ┆ RITER     ┆           ┆ ni        ┆   ┆ Machine   ┆ L'IA et   ┆ L'IA et   ┆          │\n",
       "│ 5         ┆           ┆           ┆           ┆   ┆ learning  ┆ l'apprent ┆ l'apprent ┆          │\n",
       "│           ┆           ┆           ┆           ┆   ┆ in mod…   ┆ issa…     ┆ issa…     ┆          │\n",
       "└───────────┴───────────┴───────────┴───────────┴───┴───────────┴───────────┴───────────┴──────────┘"
      ]
     },
     "execution_count": 21,
     "metadata": {},
     "output_type": "execute_result"
    }
   ],
   "source": [
    "df.head(1)"
   ]
  },
  {
   "cell_type": "code",
   "execution_count": 6,
   "id": "fac8921d",
   "metadata": {},
   "outputs": [
    {
     "name": "stdout",
     "output_type": "stream",
     "text": [
      "shape: (1,)\n",
      "Series: 'output' [str]\n",
      "[\n",
      "\t\"content=\"L'IA et l'apprentissa…\n",
      "]\n"
     ]
    }
   ],
   "source": [
    "print(df[\"output\"])  # df[\"output\"]"
   ]
  },
  {
   "cell_type": "code",
   "execution_count": 7,
   "id": "8c17a820",
   "metadata": {},
   "outputs": [
    {
     "name": "stdout",
     "output_type": "stream",
     "text": [
      "Row 1 'output' data:\n",
      "--------------------------------------------------\n",
      "content: L'IA et l'apprentissage automatique dans les affaires modernes\n",
      "additional_kwargs: {'refusal': None}\n",
      "  refusal: None\n",
      "response_metadata found (complex nested structure)\n",
      "  token_usage: {'completion_tokens': 12, 'prompt_tokens': 45, 'total_tokens': 57, 'completion_tokens_details': {'accepted_prediction_tokens': 0, 'audio_tokens': 0, 'reasoning_tokens': 0, 'rejected_prediction_tokens': 0}\n",
      "usage_metadata: {'input_tokens': 45, 'output_tokens': 12, 'total_tokens': 57, 'input_token_details': {'audio': 0, 'cache_read': 0}\n",
      "\n",
      "\n"
     ]
    }
   ],
   "source": [
    "import re\n",
    "import ast\n",
    "\n",
    "# Get the OUTPUT column data\n",
    "output_data = df.select(\"output\").to_series().to_list()\n",
    "\n",
    "# For each row's output data\n",
    "for i, output_str in enumerate(output_data):\n",
    "    print(f\"Row {i+1} 'output' data:\")\n",
    "    print(\"-\" * 50)\n",
    "\n",
    "    # Extract content\n",
    "    content_match = re.search(r'content=\"([^\"]*)\"', output_str)\n",
    "    if content_match:\n",
    "        print(f\"content: {content_match.group(1)}\")\n",
    "\n",
    "    # Extract additional_kwargs\n",
    "    kwargs_match = re.search(r\"additional_kwargs=(\\{[^}]*\\})\", output_str)\n",
    "    if kwargs_match:\n",
    "        try:\n",
    "            kwargs_dict = ast.literal_eval(kwargs_match.group(1))\n",
    "            print(f\"additional_kwargs: {kwargs_dict}\")\n",
    "            for key, value in kwargs_dict.items():\n",
    "                print(f\"  {key}: {value}\")\n",
    "        except Exception:\n",
    "            print(f\"additional_kwargs: {kwargs_match.group(1)}\")\n",
    "\n",
    "    # Extract response_metadata\n",
    "    metadata_match = re.search(r\"response_metadata=(\\{.*?\\}(?=\\s+id=))\", output_str)\n",
    "    if metadata_match:\n",
    "        print(f\"response_metadata found (complex nested structure)\")\n",
    "        # Parse token usage specifically\n",
    "        token_usage_match = re.search(r\"'token_usage':\\s*(\\{[^}]*\\})\", output_str)\n",
    "        if token_usage_match:\n",
    "            try:\n",
    "                token_dict = ast.literal_eval(token_usage_match.group(1))\n",
    "                print(f\"  token_usage:\")\n",
    "                for key, value in token_dict.items():\n",
    "                    print(f\"    {key}: {value}\")\n",
    "            except Exception:\n",
    "                print(f\"  token_usage: {token_usage_match.group(1)}\")\n",
    "\n",
    "    # Extract usage_metadata\n",
    "    usage_match = re.search(r\"usage_metadata=(\\{[^}]*\\})\", output_str)\n",
    "    if usage_match:\n",
    "        try:\n",
    "            usage_dict = ast.literal_eval(usage_match.group(1))\n",
    "            print(\"usage_metadata:\")\n",
    "            for key, value in usage_dict.items():\n",
    "                print(f\"  {key}: {value}\")\n",
    "        except Exception:\n",
    "            print(f\"usage_metadata: {usage_match.group(1)}\")\n",
    "\n",
    "    print(\"\\n\")"
   ]
  },
  {
   "cell_type": "code",
   "execution_count": 8,
   "id": "95f74d34",
   "metadata": {},
   "outputs": [],
   "source": [
    "df = pl.read_csv(\n",
    "    \"../case_study1/langgraph/03_article_writer_expand.csv\",\n",
    "    separator=\"|\",\n",
    "    has_header=False,  # Default is True\n",
    "    skip_rows=0,  # Skip rows at beginning\n",
    "    null_values=[\"\", \"NULL\"],  # What to treat as null\n",
    "    encoding=\"utf8\",  # File encoding\n",
    "    new_columns=[\n",
    "        \"datetime\",\n",
    "        \"article_writer\",\n",
    "        \"evaluator\",\n",
    "        \"model\",\n",
    "        \"temperature\",\n",
    "        \"input\",\n",
    "        \"output\",\n",
    "        \"result\",\n",
    "        \"time_taken\",\n",
    "    ],\n",
    ")"
   ]
  },
  {
   "cell_type": "code",
   "execution_count": 9,
   "id": "ae845ecb",
   "metadata": {},
   "outputs": [
    {
     "name": "stdout",
     "output_type": "stream",
     "text": [
      "Number of rows in output_data: 1\n",
      "Row 1 'output' data:\n",
      "--------------------------------------------------\n",
      "content: L'intelligence artificielle (IA) et l'apprentissage automatique jouent un rôle de plus en plus crucial dans les affaires modernes. Ces technologies permettent aux entreprises d'analyser de vastes quantités de données pour en extraire des insights précieux, améliorant ainsi la prise de décision. Par exemple, grâce à l'IA, les entreprises peuvent personnaliser leurs offres, anticiper les besoins des clients et optimiser leurs opérations. De plus, l'automatisation des tâches répétitives libère du temps pour les employés, leur permettant de se concentrer sur des activités à plus forte valeur ajoutée. En intégrant l'IA et l'apprentissage automatique, les entreprises peuvent non seulement accroître leur efficacité, mais aussi rester compétitives dans un marché en constante évolution.\n",
      "additional_kwargs: {'refusal': None}\n",
      "  refusal: None\n",
      "\n",
      "\n"
     ]
    }
   ],
   "source": [
    "import re\n",
    "import ast\n",
    "\n",
    "# Get the OUTPUT column data\n",
    "output_data = df.select(\"result\").to_series().to_list()\n",
    "print(f\"Number of rows in output_data: {len(output_data)}\")\n",
    "\n",
    "# For each row's output data\n",
    "\n",
    "for i, output_str in enumerate(output_data):\n",
    "    print(f\"Row {i+1} 'output' data:\")\n",
    "    print(\"-\" * 50)\n",
    "\n",
    "    # Extract content\n",
    "    content_match = re.search(r'content=\"([^\"]*)\"', output_str)\n",
    "    if content_match:\n",
    "        print(f\"content: {content_match.group(1)}\")\n",
    "\n",
    "    # Extract additional_kwargs\n",
    "    kwargs_match = re.search(r\"additional_kwargs=(\\{[^}]*\\})\", output_str)\n",
    "    if kwargs_match:\n",
    "        try:\n",
    "            kwargs_dict = ast.literal_eval(kwargs_match.group(1))\n",
    "            print(f\"additional_kwargs: {kwargs_dict}\")\n",
    "            for key, value in kwargs_dict.items():\n",
    "                print(f\"  {key}: {value}\")\n",
    "        except Exception:\n",
    "            print(f\"additional_kwargs: {kwargs_match.group(1)}\")\n",
    "\n",
    "    print(\"\\n\")"
   ]
  }
 ],
 "metadata": {
  "kernelspec": {
   "display_name": "llm-evaluation-framework",
   "language": "python",
   "name": "python3"
  },
  "language_info": {
   "codemirror_mode": {
    "name": "ipython",
    "version": 3
   },
   "file_extension": ".py",
   "mimetype": "text/x-python",
   "name": "python",
   "nbconvert_exporter": "python",
   "pygments_lexer": "ipython3",
   "version": "3.12.1"
  }
 },
 "nbformat": 4,
 "nbformat_minor": 5
}
