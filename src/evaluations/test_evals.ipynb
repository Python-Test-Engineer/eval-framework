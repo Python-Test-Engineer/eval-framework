{
 "cells": [
  {
   "cell_type": "markdown",
   "id": "22781391-c420-4940-9210-d437e8ce251a",
   "metadata": {},
   "source": [
    "If it is not in your virtual environment you need to activate your virtual environment. \n",
    "\n",
    "If you have a pre-existing `conda` environment activated you may need to `deactivate` that environment before activating the course_env enviroment"
   ]
  },
  {
   "cell_type": "markdown",
   "id": "fd99aee8-4511-45be-8ca0-1d8870d1bd88",
   "metadata": {},
   "source": [
    "## Test imports\n",
    "You will need to be able to import Polars and (less importantly) Plotly.\n",
    "\n",
    "**If this cell runs for more than 15 seconds without finishing then restart the kernel and try again**"
   ]
  },
  {
   "cell_type": "code",
   "execution_count": 61,
   "id": "f3d26527-2e51-449e-9df1-d4102a89a6f4",
   "metadata": {},
   "outputs": [],
   "source": [
    "import polars as pl\n",
    "import pandas as pd\n",
    "import numpy as np\n",
    "import plotly.express as px"
   ]
  },
  {
   "cell_type": "markdown",
   "id": "601e565d-757b-4a6b-98b3-0a4c2a6b383a",
   "metadata": {},
   "source": [
    "## Test data read\n",
    "You will need to be able to read the following data files"
   ]
  },
  {
   "cell_type": "code",
   "execution_count": 62,
   "id": "556288cc",
   "metadata": {},
   "outputs": [],
   "source": [
    "df = pd.read_csv(\n",
    "    \"../case_study1/langgraph/01_article_writer_should_write.csv\",\n",
    "    delimiter=\"|\",\n",
    ")"
   ]
  },
  {
   "cell_type": "code",
   "execution_count": 63,
   "id": "6d245b57",
   "metadata": {},
   "outputs": [
    {
     "data": {
      "text/html": [
       "<div>\n",
       "<style scoped>\n",
       "    .dataframe tbody tr th:only-of-type {\n",
       "        vertical-align: middle;\n",
       "    }\n",
       "\n",
       "    .dataframe tbody tr th {\n",
       "        vertical-align: top;\n",
       "    }\n",
       "\n",
       "    .dataframe thead th {\n",
       "        text-align: right;\n",
       "    }\n",
       "</style>\n",
       "<table border=\"1\" class=\"dataframe\">\n",
       "  <thead>\n",
       "    <tr style=\"text-align: right;\">\n",
       "      <th></th>\n",
       "      <th>2025-07-20-21-18-30</th>\n",
       "      <th>ARTICLE_WRITER</th>\n",
       "      <th>EVALUATOR</th>\n",
       "      <th>gpt-4o-mini</th>\n",
       "      <th>0</th>\n",
       "      <th>Planning permission for 49 England Road sought</th>\n",
       "      <th>no</th>\n",
       "      <th>6</th>\n",
       "      <th>5</th>\n",
       "      <th>0.96</th>\n",
       "    </tr>\n",
       "  </thead>\n",
       "  <tbody>\n",
       "    <tr>\n",
       "      <th>0</th>\n",
       "      <td>2025-07-20-21-18-31</td>\n",
       "      <td>ARTICLE_WRITER</td>\n",
       "      <td>EVALUATOR</td>\n",
       "      <td>gpt-4o-mini</td>\n",
       "      <td>0</td>\n",
       "      <td>AI and Machine learning in modern business</td>\n",
       "      <td>yes</td>\n",
       "      <td>6</td>\n",
       "      <td>5</td>\n",
       "      <td>0.69</td>\n",
       "    </tr>\n",
       "  </tbody>\n",
       "</table>\n",
       "</div>"
      ],
      "text/plain": [
       "   2025-07-20-21-18-30  ARTICLE_WRITER  EVALUATOR  gpt-4o-mini  0  \\\n",
       "0  2025-07-20-21-18-31  ARTICLE_WRITER  EVALUATOR  gpt-4o-mini  0   \n",
       "\n",
       "  Planning permission for 49 England Road sought   no  6  5  0.96  \n",
       "0     AI and Machine learning in modern business  yes  6  5  0.69  "
      ]
     },
     "execution_count": 63,
     "metadata": {},
     "output_type": "execute_result"
    }
   ],
   "source": [
    "df.head(1)"
   ]
  },
  {
   "cell_type": "code",
   "execution_count": 64,
   "id": "3d5b8c92-806e-40df-9c7f-f1ba65ed1641",
   "metadata": {},
   "outputs": [],
   "source": [
    "df = pd.read_csv(\n",
    "    \"../case_study1/langgraph/02_article_writer_translate.csv\",\n",
    "    delimiter=\"|\",\n",
    "   \n",
    "    encoding=\"utf8\",  # File encoding\n",
    ")"
   ]
  },
  {
   "cell_type": "markdown",
   "id": "38cb5abb-6ac5-4726-adee-e9d25be594f5",
   "metadata": {},
   "source": [
    "Ok, if all that worked you should be good to go!"
   ]
  },
  {
   "cell_type": "code",
   "execution_count": 65,
   "id": "69d23b9c-512d-476d-a136-3cdad5f4375a",
   "metadata": {},
   "outputs": [
    {
     "data": {
      "text/html": [
       "<div>\n",
       "<style scoped>\n",
       "    .dataframe tbody tr th:only-of-type {\n",
       "        vertical-align: middle;\n",
       "    }\n",
       "\n",
       "    .dataframe tbody tr th {\n",
       "        vertical-align: top;\n",
       "    }\n",
       "\n",
       "    .dataframe thead th {\n",
       "        text-align: right;\n",
       "    }\n",
       "</style>\n",
       "<table border=\"1\" class=\"dataframe\">\n",
       "  <thead>\n",
       "    <tr style=\"text-align: right;\">\n",
       "      <th></th>\n",
       "      <th>2025-07-20-21-18-33</th>\n",
       "      <th>ARTICLE_WRITER</th>\n",
       "      <th>TRANSLATE</th>\n",
       "      <th>gpt-4o-mini</th>\n",
       "      <th>0</th>\n",
       "      <th>AI and Machine learning in modern business</th>\n",
       "      <th>0.56</th>\n",
       "      <th>{'content': \"L'IA et l'apprentissage automatique dans les affaires modernes\", 'additional_kwargs': {'refusal': None}, 'response_metadata': {'token_usage': {'completion_tokens': 12, 'prompt_tokens': 45, 'total_tokens': 57, 'completion_tokens_details': {'accepted_prediction_tokens': 0, 'audio_tokens': 0, 'reasoning_tokens': 0, 'rejected_prediction_tokens': 0}, 'prompt_tokens_details': {'audio_tokens': 0, 'cached_tokens': 0}}, 'model_name': 'gpt-4o-mini-2024-07-18', 'system_fingerprint': None, 'id': 'chatcmpl-BvUmOydpjRTukoYH4KoeLWMZyKyCE', 'service_tier': 'default', 'finish_reason': 'stop', 'logprobs': None}, 'type': 'ai', 'name': None, 'id': 'run--ccdfc078-fb5b-4cbe-ba12-e55681af84af-0', 'example': False, 'tool_calls': [], 'invalid_tool_calls': [], 'usage_metadata': {'input_tokens': 45, 'output_tokens': 12, 'total_tokens': 57, 'input_token_details': {'audio': 0, 'cache_read': 0}, 'output_token_details': {'audio': 0, 'reasoning': 0}}}</th>\n",
       "    </tr>\n",
       "  </thead>\n",
       "  <tbody>\n",
       "  </tbody>\n",
       "</table>\n",
       "</div>"
      ],
      "text/plain": [
       "Empty DataFrame\n",
       "Columns: [2025-07-20-21-18-33, ARTICLE_WRITER, TRANSLATE, gpt-4o-mini, 0, AI and Machine learning in modern business, 0.56, {'content': \"L'IA et l'apprentissage automatique dans les affaires modernes\", 'additional_kwargs': {'refusal': None}, 'response_metadata': {'token_usage': {'completion_tokens': 12, 'prompt_tokens': 45, 'total_tokens': 57, 'completion_tokens_details': {'accepted_prediction_tokens': 0, 'audio_tokens': 0, 'reasoning_tokens': 0, 'rejected_prediction_tokens': 0}, 'prompt_tokens_details': {'audio_tokens': 0, 'cached_tokens': 0}}, 'model_name': 'gpt-4o-mini-2024-07-18', 'system_fingerprint': None, 'id': 'chatcmpl-BvUmOydpjRTukoYH4KoeLWMZyKyCE', 'service_tier': 'default', 'finish_reason': 'stop', 'logprobs': None}, 'type': 'ai', 'name': None, 'id': 'run--ccdfc078-fb5b-4cbe-ba12-e55681af84af-0', 'example': False, 'tool_calls': [], 'invalid_tool_calls': [], 'usage_metadata': {'input_tokens': 45, 'output_tokens': 12, 'total_tokens': 57, 'input_token_details': {'audio': 0, 'cache_read': 0}, 'output_token_details': {'audio': 0, 'reasoning': 0}}}]\n",
       "Index: []"
      ]
     },
     "execution_count": 65,
     "metadata": {},
     "output_type": "execute_result"
    }
   ],
   "source": [
    "df.head(1)"
   ]
  },
  {
   "cell_type": "code",
   "execution_count": 66,
   "id": "95f74d34",
   "metadata": {},
   "outputs": [],
   "source": [
    "df = pl.read_csv(\n",
    "    \"../case_study1/langgraph/03_article_writer_expand.csv\",\n",
    "    separator=\"|\",\n",
    "    has_header=False,  # Default is True\n",
    "    skip_rows=0,  # Skip rows at beginning\n",
    "    null_values=[\"\", \"NULL\"],  # What to treat as null\n",
    "    encoding=\"utf8\",  # File encoding\n",
    "    new_columns=[\n",
    "        \"datetime\",\n",
    "        \"result\",\n",
    "        \"article_writer\",\n",
    "        \"expander\",\n",
    "        \"model\",\n",
    "        \"temperature\",\n",
    "        \"input\",\n",
    "        \"time_taken\",\n",
    "    ],\n",
    ")"
   ]
  },
  {
   "cell_type": "code",
   "execution_count": 67,
   "id": "a226974a",
   "metadata": {},
   "outputs": [
    {
     "data": {
      "text/html": [
       "<div><style>\n",
       ".dataframe > thead > tr,\n",
       ".dataframe > tbody > tr {\n",
       "  text-align: right;\n",
       "  white-space: pre-wrap;\n",
       "}\n",
       "</style>\n",
       "<small>shape: (1, 8)</small><table border=\"1\" class=\"dataframe\"><thead><tr><th>datetime</th><th>result</th><th>article_writer</th><th>expander</th><th>model</th><th>temperature</th><th>input</th><th>time_taken</th></tr><tr><td>str</td><td>str</td><td>str</td><td>str</td><td>i64</td><td>str</td><td>f64</td><td>str</td></tr></thead><tbody><tr><td>&quot;2025-07-20-21-18-36&quot;</td><td>&quot;ARTICLE_WRITER&quot;</td><td>&quot;EXPANDER&quot;</td><td>&quot;gpt-4o-mini&quot;</td><td>0</td><td>&quot;L&#x27;IA et l&#x27;apprentissage automa…</td><td>2.29</td><td>&quot;{&#x27;content&#x27;: &quot;L&#x27;intelligence ar…</td></tr></tbody></table></div>"
      ],
      "text/plain": [
       "shape: (1, 8)\n",
       "┌─────────────┬─────────────┬─────────────┬─────────────┬───────┬─────────────┬───────┬────────────┐\n",
       "│ datetime    ┆ result      ┆ article_wri ┆ expander    ┆ model ┆ temperature ┆ input ┆ time_taken │\n",
       "│ ---         ┆ ---         ┆ ter         ┆ ---         ┆ ---   ┆ ---         ┆ ---   ┆ ---        │\n",
       "│ str         ┆ str         ┆ ---         ┆ str         ┆ i64   ┆ str         ┆ f64   ┆ str        │\n",
       "│             ┆             ┆ str         ┆             ┆       ┆             ┆       ┆            │\n",
       "╞═════════════╪═════════════╪═════════════╪═════════════╪═══════╪═════════════╪═══════╪════════════╡\n",
       "│ 2025-07-20- ┆ ARTICLE_WRI ┆ EXPANDER    ┆ gpt-4o-mini ┆ 0     ┆ L'IA et l'a ┆ 2.29  ┆ {'content' │\n",
       "│ 21-18-36    ┆ TER         ┆             ┆             ┆       ┆ pprentissag ┆       ┆ : \"L'intel │\n",
       "│             ┆             ┆             ┆             ┆       ┆ e automa…   ┆       ┆ ligence    │\n",
       "│             ┆             ┆             ┆             ┆       ┆             ┆       ┆ ar…        │\n",
       "└─────────────┴─────────────┴─────────────┴─────────────┴───────┴─────────────┴───────┴────────────┘"
      ]
     },
     "execution_count": 67,
     "metadata": {},
     "output_type": "execute_result"
    }
   ],
   "source": [
    "df.head(1)"
   ]
  },
  {
   "cell_type": "code",
   "execution_count": 68,
   "id": "baf2c2f9",
   "metadata": {},
   "outputs": [
    {
     "name": "stdout",
     "output_type": "stream",
     "text": [
      "shape: (1,)\n",
      "Series: 'result' [str]\n",
      "[\n",
      "\t\"ARTICLE_WRITER\"\n",
      "]\n"
     ]
    }
   ],
   "source": [
    "result = df[\"result\"]\n",
    "\n",
    "print(result)"
   ]
  }
 ],
 "metadata": {
  "kernelspec": {
   "display_name": "llm-evaluation-framework",
   "language": "python",
   "name": "python3"
  },
  "language_info": {
   "codemirror_mode": {
    "name": "ipython",
    "version": 3
   },
   "file_extension": ".py",
   "mimetype": "text/x-python",
   "name": "python",
   "nbconvert_exporter": "python",
   "pygments_lexer": "ipython3",
   "version": "3.12.1"
  }
 },
 "nbformat": 4,
 "nbformat_minor": 5
}
