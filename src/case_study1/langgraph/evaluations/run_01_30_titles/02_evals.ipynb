{
 "cells": [
  {
   "cell_type": "code",
   "execution_count": 1,
   "id": "f3d26527-2e51-449e-9df1-d4102a89a6f4",
   "metadata": {},
   "outputs": [],
   "source": [
    "import ast\n",
    "import json\n",
    "import pandas as pd\n",
    "\n",
    "\n",
    "import numpy as np\n",
    "\n",
    "\n",
    "import plotly.express as px\n",
    "from langdetect import detect"
   ]
  },
  {
   "cell_type": "code",
   "execution_count": 2,
   "id": "3d5b8c92-806e-40df-9c7f-f1ba65ed1641",
   "metadata": {},
   "outputs": [
    {
     "data": {
      "application/vnd.microsoft.datawrangler.viewer.v0+json": {
       "columns": [
        {
         "name": "index",
         "rawType": "int64",
         "type": "integer"
        },
        {
         "name": "0",
         "rawType": "object",
         "type": "string"
        },
        {
         "name": "1",
         "rawType": "object",
         "type": "string"
        },
        {
         "name": "2",
         "rawType": "object",
         "type": "string"
        },
        {
         "name": "3",
         "rawType": "object",
         "type": "string"
        },
        {
         "name": "4",
         "rawType": "int64",
         "type": "integer"
        },
        {
         "name": "5",
         "rawType": "object",
         "type": "string"
        },
        {
         "name": "6",
         "rawType": "float64",
         "type": "float"
        },
        {
         "name": "7",
         "rawType": "object",
         "type": "string"
        }
       ],
       "ref": "755b94da-783f-47ef-b223-b26431099890",
       "rows": [
        [
         "0",
         "2025-07-22-17-42-28",
         "ARTICLE_WRITER",
         "TRANSLATE",
         "gpt-4o-mini",
         "0",
         "Building Your First AI Agent: A Step-by-Step Guide",
         "1.05",
         "{'content': 'Construire votre premier agent IA : Un guide étape par étape', 'additional_kwargs': {'refusal': None}, 'response_metadata': {'token_usage': {'completion_tokens': 12, 'prompt_tokens': 49, 'total_tokens': 61, 'completion_tokens_details': {'accepted_prediction_tokens': 0, 'audio_tokens': 0, 'reasoning_tokens': 0, 'rejected_prediction_tokens': 0}, 'prompt_tokens_details': {'audio_tokens': 0, 'cached_tokens': 0}}, 'model_name': 'gpt-4o-mini-2024-07-18', 'system_fingerprint': None, 'id': 'chatcmpl-BwAMM5idg3pUbTzGeO5I1XqnmABsL', 'service_tier': 'default', 'finish_reason': 'stop', 'logprobs': None}, 'type': 'ai', 'name': None, 'id': 'run--7ce6587e-016f-495b-8288-ca8d69f7752a-0', 'example': False, 'tool_calls': [], 'invalid_tool_calls': [], 'usage_metadata': {'input_tokens': 49, 'output_tokens': 12, 'total_tokens': 61, 'input_token_details': {'audio': 0, 'cache_read': 0}, 'output_token_details': {'audio': 0, 'reasoning': 0}}}"
        ],
        [
         "1",
         "2025-07-22-17-42-40",
         "ARTICLE_WRITER",
         "TRANSLATE",
         "gpt-4o-mini",
         "0",
         "Why AI Agents Will Replace Traditional Software",
         "0.7",
         "{'content': \"Pourquoi les agents d'IA remplaceront les logiciels traditionnels\", 'additional_kwargs': {'refusal': None}, 'response_metadata': {'token_usage': {'completion_tokens': 12, 'prompt_tokens': 45, 'total_tokens': 57, 'completion_tokens_details': {'accepted_prediction_tokens': 0, 'audio_tokens': 0, 'reasoning_tokens': 0, 'rejected_prediction_tokens': 0}, 'prompt_tokens_details': {'audio_tokens': 0, 'cached_tokens': 0}}, 'model_name': 'gpt-4o-mini-2024-07-18', 'system_fingerprint': None, 'id': 'chatcmpl-BwAMYKNANp4dw759m6Djm8fM7wviZ', 'service_tier': 'default', 'finish_reason': 'stop', 'logprobs': None}, 'type': 'ai', 'name': None, 'id': 'run--8ca9944d-f2ad-40ec-84c5-db0d3f065706-0', 'example': False, 'tool_calls': [], 'invalid_tool_calls': [], 'usage_metadata': {'input_tokens': 45, 'output_tokens': 12, 'total_tokens': 57, 'input_token_details': {'audio': 0, 'cache_read': 0}, 'output_token_details': {'audio': 0, 'reasoning': 0}}}"
        ],
        [
         "2",
         "2025-07-22-17-42-50",
         "ARTICLE_WRITER",
         "TRANSLATE",
         "gpt-4o-mini",
         "0",
         "The Ethics of Autonomous AI Decision-Making",
         "0.6",
         "{'content': \"L'éthique de la prise de décision autonome par l'IA\", 'additional_kwargs': {'refusal': None}, 'response_metadata': {'token_usage': {'completion_tokens': 13, 'prompt_tokens': 46, 'total_tokens': 59, 'completion_tokens_details': {'accepted_prediction_tokens': 0, 'audio_tokens': 0, 'reasoning_tokens': 0, 'rejected_prediction_tokens': 0}, 'prompt_tokens_details': {'audio_tokens': 0, 'cached_tokens': 0}}, 'model_name': 'gpt-4o-mini-2024-07-18', 'system_fingerprint': None, 'id': 'chatcmpl-BwAMikfaIDFBjp5Yq4Z0fQhkhsDDM', 'service_tier': 'default', 'finish_reason': 'stop', 'logprobs': None}, 'type': 'ai', 'name': None, 'id': 'run--f5f982c1-afb0-41c0-bb95-5c2536b6204f-0', 'example': False, 'tool_calls': [], 'invalid_tool_calls': [], 'usage_metadata': {'input_tokens': 46, 'output_tokens': 13, 'total_tokens': 59, 'input_token_details': {'audio': 0, 'cache_read': 0}, 'output_token_details': {'audio': 0, 'reasoning': 0}}}"
        ]
       ],
       "shape": {
        "columns": 8,
        "rows": 3
       }
      },
      "text/html": [
       "<div>\n",
       "<style scoped>\n",
       "    .dataframe tbody tr th:only-of-type {\n",
       "        vertical-align: middle;\n",
       "    }\n",
       "\n",
       "    .dataframe tbody tr th {\n",
       "        vertical-align: top;\n",
       "    }\n",
       "\n",
       "    .dataframe thead th {\n",
       "        text-align: right;\n",
       "    }\n",
       "</style>\n",
       "<table border=\"1\" class=\"dataframe\">\n",
       "  <thead>\n",
       "    <tr style=\"text-align: right;\">\n",
       "      <th></th>\n",
       "      <th>0</th>\n",
       "      <th>1</th>\n",
       "      <th>2</th>\n",
       "      <th>3</th>\n",
       "      <th>4</th>\n",
       "      <th>5</th>\n",
       "      <th>6</th>\n",
       "      <th>7</th>\n",
       "    </tr>\n",
       "  </thead>\n",
       "  <tbody>\n",
       "    <tr>\n",
       "      <th>0</th>\n",
       "      <td>2025-07-22-17-42-28</td>\n",
       "      <td>ARTICLE_WRITER</td>\n",
       "      <td>TRANSLATE</td>\n",
       "      <td>gpt-4o-mini</td>\n",
       "      <td>0</td>\n",
       "      <td>Building Your First AI Agent: A Step-by-Step G...</td>\n",
       "      <td>1.05</td>\n",
       "      <td>{'content': 'Construire votre premier agent IA...</td>\n",
       "    </tr>\n",
       "    <tr>\n",
       "      <th>1</th>\n",
       "      <td>2025-07-22-17-42-40</td>\n",
       "      <td>ARTICLE_WRITER</td>\n",
       "      <td>TRANSLATE</td>\n",
       "      <td>gpt-4o-mini</td>\n",
       "      <td>0</td>\n",
       "      <td>Why AI Agents Will Replace Traditional Software</td>\n",
       "      <td>0.70</td>\n",
       "      <td>{'content': \"Pourquoi les agents d'IA remplace...</td>\n",
       "    </tr>\n",
       "    <tr>\n",
       "      <th>2</th>\n",
       "      <td>2025-07-22-17-42-50</td>\n",
       "      <td>ARTICLE_WRITER</td>\n",
       "      <td>TRANSLATE</td>\n",
       "      <td>gpt-4o-mini</td>\n",
       "      <td>0</td>\n",
       "      <td>The Ethics of Autonomous AI Decision-Making</td>\n",
       "      <td>0.60</td>\n",
       "      <td>{'content': \"L'éthique de la prise de décision...</td>\n",
       "    </tr>\n",
       "  </tbody>\n",
       "</table>\n",
       "</div>"
      ],
      "text/plain": [
       "                     0               1          2            3  4  \\\n",
       "0  2025-07-22-17-42-28  ARTICLE_WRITER  TRANSLATE  gpt-4o-mini  0   \n",
       "1  2025-07-22-17-42-40  ARTICLE_WRITER  TRANSLATE  gpt-4o-mini  0   \n",
       "2  2025-07-22-17-42-50  ARTICLE_WRITER  TRANSLATE  gpt-4o-mini  0   \n",
       "\n",
       "                                                   5     6  \\\n",
       "0  Building Your First AI Agent: A Step-by-Step G...  1.05   \n",
       "1    Why AI Agents Will Replace Traditional Software  0.70   \n",
       "2        The Ethics of Autonomous AI Decision-Making  0.60   \n",
       "\n",
       "                                                   7  \n",
       "0  {'content': 'Construire votre premier agent IA...  \n",
       "1  {'content': \"Pourquoi les agents d'IA remplace...  \n",
       "2  {'content': \"L'éthique de la prise de décision...  "
      ]
     },
     "execution_count": 2,
     "metadata": {},
     "output_type": "execute_result"
    }
   ],
   "source": [
    "df = pd.read_csv(\n",
    "    \"./02_article_writer_translate.csv\",\n",
    "    header=None,\n",
    "    delimiter=\"|\",\n",
    "    encoding=\"utf8\",  # File encoding\n",
    ")\n",
    "df.head(3)"
   ]
  },
  {
   "cell_type": "code",
   "execution_count": 3,
   "id": "7d8e16ca",
   "metadata": {},
   "outputs": [
    {
     "name": "stdout",
     "output_type": "stream",
     "text": [
      "Number of rows: 30\n",
      " 1 - Construire votre premier agent IA : Un guide étape par étape - FRENCH\n",
      " 2 - Pourquoi les agents d'IA remplaceront les logiciels traditionnels - FRENCH\n",
      " 3 - L'éthique de la prise de décision autonome par l'IA - FRENCH\n",
      " 4 - Systèmes Multi-Agents : Quand les Agents IA Travaillent Ensemble - FRENCH\n",
      " 5 - Des chatbots aux agents IA : L'évolution de l'IA conversationnelle - FRENCH\n",
      " 6 - Sécurité des agents d'IA : Protéger contre les attaques par injection de prompt - FRENCH\n",
      " 7 - L'avenir du travail : Comment les agents d'IA transformeront les industries - FRENCH\n",
      " 8 - Former des agents d'IA avec l'apprentissage par renforcement - FRENCH\n",
      " 9 - Systèmes de Mémoire des Agents IA : Faire en Sorte que les Machines se Souviennent - FRENCH\n",
      " 10 - Intelligence Collective : Ce que les Colonies de Fourmis Nous Apprennent sur l'IA - FRENCH\n",
      " 11 - Construire des agents d'IA fiables pour la santé - FRENCH\n",
      " 12 - L'économie des agents d'IA : Coût vs. Travail humain - FRENCH\n",
      " 13 - Agents IA dans les jeux vidéo : Créer des PNJ intelligents - FRENCH\n",
      " 14 - Débogage du Comportement des Agents IA : Outils et Techniques - FRENCH\n",
      " 15 - Orchestration des agents IA : Gestion des flux de travail complexes - FRENCH\n",
      " 16 - Traitement du langage naturel pour la communication des agents IA - FRENCH\n",
      " 17 - Agents IA et Confidentialité : Équilibrer Personnalisation et Protection - FRENCH\n",
      " 18 - Construire des agents d'IA explicables pour des applications critiques - FRENCH\n",
      " 19 - Test des agents IA : Assurer la fiabilité en production - FRENCH\n",
      " 20 - Le Rôle des Agents IA dans la Découverte Scientifique - FRENCH\n",
      " 21 - Démocratiser l'IA : Rendre le développement d'agents accessible - FRENCH\n",
      " 22 - Agents IA et Créativité : Les Machines Peuvent-elles Être Vraiment Originales ? - FRENCH\n",
      " 23 - Déployer des agents d'IA à grande échelle : Leçons du terrain - FRENCH\n",
      " 24 - Biais des agents d'IA : stratégies de détection et d'atténuation - FRENCH\n",
      " 25 - La neuroscience derrière la prise de décision des agents d'IA - FRENCH\n",
      " 26 - Agents IA dans l'informatique en périphérie : Traitement à la source - FRENCH\n",
      " 27 - Agents d'IA conversationnelle : Au-delà des questions et réponses - FRENCH\n",
      " 28 - Interopérabilité des agents IA : Faire fonctionner différents systèmes ensemble - FRENCH\n",
      " 29 - L'impact environnemental de l'infrastructure des agents d'IA - FRENCH\n",
      " 30 - Agents IA et Créativité Humaine : Collaboration, Pas Compétition - FRENCH\n"
     ]
    }
   ],
   "source": [
    "# Read CSV without header\n",
    "df = pd.read_csv(\n",
    "    \"./02_article_writer_translate.csv\", header=None, delimiter=\"|\", encoding=\"utf8\"\n",
    ")\n",
    "\n",
    "print(f\"Number of rows: {len(df)}\")\n",
    "\n",
    "# Process each row\n",
    "count = 0\n",
    "errors = []\n",
    "for index, row in df.iterrows():\n",
    "    row_number = index + 1\n",
    "    for col_name, value in row.items():\n",
    "        if col_name == 7:\n",
    "\n",
    "            # Attempt to parse the content as JSON\n",
    "            content_data = ast.literal_eval(value)\n",
    "            if isinstance(content_data, dict):\n",
    "                content = content_data.get(\"content\", \"No content found\")\n",
    "            else:\n",
    "                content = \"Invalid content format\"\n",
    "            language = detect(content)\n",
    "            if language == \"fr\":\n",
    "                language = \"FRENCH\"\n",
    "                count += 1\n",
    "            else:\n",
    "                language = \"NOT FRENCH\"\n",
    "                count -= 1\n",
    "                errors.append((index, content, language))\n",
    "\n",
    "            print(f\" {row_number} - {content} - {language}\")"
   ]
  },
  {
   "cell_type": "code",
   "execution_count": 4,
   "id": "45085119",
   "metadata": {},
   "outputs": [
    {
     "name": "stdout",
     "output_type": "stream",
     "text": [
      "[]\n"
     ]
    }
   ],
   "source": [
    "print(errors)  # Print first 5 errors for brevity"
   ]
  }
 ],
 "metadata": {
  "kernelspec": {
   "display_name": "llm-evaluation-framework",
   "language": "python",
   "name": "python3"
  },
  "language_info": {
   "codemirror_mode": {
    "name": "ipython",
    "version": 3
   },
   "file_extension": ".py",
   "mimetype": "text/x-python",
   "name": "python",
   "nbconvert_exporter": "python",
   "pygments_lexer": "ipython3",
   "version": "3.12.11"
  }
 },
 "nbformat": 4,
 "nbformat_minor": 5
}
