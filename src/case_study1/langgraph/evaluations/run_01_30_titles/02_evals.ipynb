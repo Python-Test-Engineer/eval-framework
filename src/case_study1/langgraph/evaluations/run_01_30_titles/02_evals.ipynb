{
 "cells": [
  {
   "cell_type": "code",
   "execution_count": 1,
   "id": "f3d26527-2e51-449e-9df1-d4102a89a6f4",
   "metadata": {},
   "outputs": [],
   "source": [
    "import ast\n",
    "import json\n",
    "import pandas as pd\n",
    "\n",
    "\n",
    "import numpy as np\n",
    "\n",
    "\n",
    "import plotly.express as px\n",
    "from langdetect import detect"
   ]
  },
  {
   "cell_type": "code",
   "execution_count": 2,
   "id": "63a120e0",
   "metadata": {},
   "outputs": [],
   "source": [
    "from config_langgraph import CONTENT_LENGTH, LANGUAGE"
   ]
  },
  {
   "cell_type": "code",
   "execution_count": 3,
   "id": "3d5b8c92-806e-40df-9c7f-f1ba65ed1641",
   "metadata": {},
   "outputs": [
    {
     "data": {
      "text/html": [
       "<div>\n",
       "<style scoped>\n",
       "    .dataframe tbody tr th:only-of-type {\n",
       "        vertical-align: middle;\n",
       "    }\n",
       "\n",
       "    .dataframe tbody tr th {\n",
       "        vertical-align: top;\n",
       "    }\n",
       "\n",
       "    .dataframe thead th {\n",
       "        text-align: right;\n",
       "    }\n",
       "</style>\n",
       "<table border=\"1\" class=\"dataframe\">\n",
       "  <thead>\n",
       "    <tr style=\"text-align: right;\">\n",
       "      <th></th>\n",
       "      <th>0</th>\n",
       "      <th>1</th>\n",
       "      <th>2</th>\n",
       "      <th>3</th>\n",
       "      <th>4</th>\n",
       "      <th>5</th>\n",
       "      <th>6</th>\n",
       "      <th>7</th>\n",
       "    </tr>\n",
       "  </thead>\n",
       "  <tbody>\n",
       "    <tr>\n",
       "      <th>0</th>\n",
       "      <td>2025-07-22-17-42-28</td>\n",
       "      <td>ARTICLE_WRITER</td>\n",
       "      <td>TRANSLATE</td>\n",
       "      <td>gpt-4o-mini</td>\n",
       "      <td>0</td>\n",
       "      <td>Building Your First AI Agent: A Step-by-Step G...</td>\n",
       "      <td>1.05</td>\n",
       "      <td>{'content': 'Construire votre premier agent IA...</td>\n",
       "    </tr>\n",
       "    <tr>\n",
       "      <th>1</th>\n",
       "      <td>2025-07-22-17-42-40</td>\n",
       "      <td>ARTICLE_WRITER</td>\n",
       "      <td>TRANSLATE</td>\n",
       "      <td>gpt-4o-mini</td>\n",
       "      <td>0</td>\n",
       "      <td>Why AI Agents Will Replace Traditional Software</td>\n",
       "      <td>0.70</td>\n",
       "      <td>{'content': \"Pourquoi les agents d'IA remplace...</td>\n",
       "    </tr>\n",
       "    <tr>\n",
       "      <th>2</th>\n",
       "      <td>2025-07-22-17-42-50</td>\n",
       "      <td>ARTICLE_WRITER</td>\n",
       "      <td>TRANSLATE</td>\n",
       "      <td>gpt-4o-mini</td>\n",
       "      <td>0</td>\n",
       "      <td>The Ethics of Autonomous AI Decision-Making</td>\n",
       "      <td>0.60</td>\n",
       "      <td>{'content': \"L'éthique de la prise de décision...</td>\n",
       "    </tr>\n",
       "  </tbody>\n",
       "</table>\n",
       "</div>"
      ],
      "text/plain": [
       "                     0               1          2            3  4  \\\n",
       "0  2025-07-22-17-42-28  ARTICLE_WRITER  TRANSLATE  gpt-4o-mini  0   \n",
       "1  2025-07-22-17-42-40  ARTICLE_WRITER  TRANSLATE  gpt-4o-mini  0   \n",
       "2  2025-07-22-17-42-50  ARTICLE_WRITER  TRANSLATE  gpt-4o-mini  0   \n",
       "\n",
       "                                                   5     6  \\\n",
       "0  Building Your First AI Agent: A Step-by-Step G...  1.05   \n",
       "1    Why AI Agents Will Replace Traditional Software  0.70   \n",
       "2        The Ethics of Autonomous AI Decision-Making  0.60   \n",
       "\n",
       "                                                   7  \n",
       "0  {'content': 'Construire votre premier agent IA...  \n",
       "1  {'content': \"Pourquoi les agents d'IA remplace...  \n",
       "2  {'content': \"L'éthique de la prise de décision...  "
      ]
     },
     "execution_count": 3,
     "metadata": {},
     "output_type": "execute_result"
    }
   ],
   "source": [
    "df = pd.read_csv(\n",
    "    \"./02_article_writer_translate.csv\",\n",
    "    header=None,\n",
    "    delimiter=\"|\",\n",
    "    encoding=\"utf8\",  # File encoding\n",
    ")\n",
    "df.head(3)"
   ]
  },
  {
   "cell_type": "code",
   "execution_count": 4,
   "id": "7d8e16ca",
   "metadata": {},
   "outputs": [
    {
     "name": "stdout",
     "output_type": "stream",
     "text": [
      "Number of rows: 30\n",
      " 1 - Construire votre premier agent IA : Un guide étape par étape - FRENCH\n",
      " 2 - Pourquoi les agents d'IA remplaceront les logiciels traditionnels - FRENCH\n",
      " 3 - L'éthique de la prise de décision autonome par l'IA - FRENCH\n",
      " 4 - Systèmes Multi-Agents : Quand les Agents IA Travaillent Ensemble - FRENCH\n",
      " 5 - Des chatbots aux agents IA : L'évolution de l'IA conversationnelle - FRENCH\n",
      " 6 - Sécurité des agents d'IA : Protéger contre les attaques par injection de prompt - FRENCH\n",
      " 7 - L'avenir du travail : Comment les agents d'IA transformeront les industries - FRENCH\n",
      " 8 - Former des agents d'IA avec l'apprentissage par renforcement - FRENCH\n",
      " 9 - Systèmes de Mémoire des Agents IA : Faire en Sorte que les Machines se Souviennent - FRENCH\n",
      " 10 - Intelligence Collective : Ce que les Colonies de Fourmis Nous Apprennent sur l'IA - FRENCH\n",
      " 11 - Construire des agents d'IA fiables pour la santé - FRENCH\n",
      " 12 - L'économie des agents d'IA : Coût vs. Travail humain - FRENCH\n",
      " 13 - Agents IA dans les jeux vidéo : Créer des PNJ intelligents - FRENCH\n",
      " 14 - Débogage du Comportement des Agents IA : Outils et Techniques - FRENCH\n",
      " 15 - Orchestration des agents IA : Gestion des flux de travail complexes - FRENCH\n",
      " 16 - Traitement du langage naturel pour la communication des agents IA - FRENCH\n",
      " 17 - Agents IA et Confidentialité : Équilibrer Personnalisation et Protection - FRENCH\n",
      " 18 - Construire des agents d'IA explicables pour des applications critiques - FRENCH\n",
      " 19 - Test des agents IA : Assurer la fiabilité en production - FRENCH\n",
      " 20 - Le Rôle des Agents IA dans la Découverte Scientifique - FRENCH\n",
      " 21 - Démocratiser l'IA : Rendre le développement d'agents accessible - FRENCH\n",
      " 22 - Agents IA et Créativité : Les Machines Peuvent-elles Être Vraiment Originales ? - FRENCH\n",
      " 23 - Déployer des agents d'IA à grande échelle : Leçons du terrain - FRENCH\n",
      " 24 - Biais des agents d'IA : stratégies de détection et d'atténuation - FRENCH\n",
      " 25 - La neuroscience derrière la prise de décision des agents d'IA - FRENCH\n",
      " 26 - Agents IA dans l'informatique en périphérie : Traitement à la source - FRENCH\n",
      " 27 - Agents d'IA conversationnelle : Au-delà des questions et réponses - FRENCH\n",
      " 28 - Interopérabilité des agents IA : Faire fonctionner différents systèmes ensemble - FRENCH\n",
      " 29 - L'impact environnemental de l'infrastructure des agents d'IA - FRENCH\n",
      " 30 - Agents IA et Créativité Humaine : Collaboration, Pas Compétition - FRENCH\n"
     ]
    }
   ],
   "source": [
    "# Read CSV without header\n",
    "df = pd.read_csv(\n",
    "    \"./02_article_writer_translate.csv\", header=None, delimiter=\"|\", encoding=\"utf8\"\n",
    ")\n",
    "\n",
    "print(f\"Number of rows: {len(df)}\")\n",
    "\n",
    "# Process each row\n",
    "count = 0\n",
    "errors = []\n",
    "for index, row in df.iterrows():\n",
    "    row_number = index + 1\n",
    "    for col_name, value in row.items():\n",
    "        if col_name == 7:\n",
    "\n",
    "            # Attempt to parse the content as JSON\n",
    "            content_data = ast.literal_eval(value)\n",
    "            if isinstance(content_data, dict):\n",
    "                content = content_data.get(\"content\", \"No content found\")\n",
    "            else:\n",
    "                content = \"Invalid content format\"\n",
    "            language = detect(content)\n",
    "            if language == \"fr\":\n",
    "                language = LANGUAGE\n",
    "                count += 1\n",
    "            else:\n",
    "                language = f\"NOT {LANGUAGE}\"\n",
    "                count -= 1\n",
    "                errors.append((index, content, language))\n",
    "\n",
    "            print(f\" {row_number} - {content} - {language}\")"
   ]
  },
  {
   "cell_type": "code",
   "execution_count": 5,
   "id": "45085119",
   "metadata": {},
   "outputs": [
    {
     "name": "stdout",
     "output_type": "stream",
     "text": [
      "[]\n"
     ]
    }
   ],
   "source": [
    "print(errors)  # Print first 5 errors for brevity"
   ]
  }
 ],
 "metadata": {
  "kernelspec": {
   "display_name": "llm-evaluation-framework",
   "language": "python",
   "name": "python3"
  },
  "language_info": {
   "codemirror_mode": {
    "name": "ipython",
    "version": 3
   },
   "file_extension": ".py",
   "mimetype": "text/x-python",
   "name": "python",
   "nbconvert_exporter": "python",
   "pygments_lexer": "ipython3",
   "version": "3.12.1"
  }
 },
 "nbformat": 4,
 "nbformat_minor": 5
}
