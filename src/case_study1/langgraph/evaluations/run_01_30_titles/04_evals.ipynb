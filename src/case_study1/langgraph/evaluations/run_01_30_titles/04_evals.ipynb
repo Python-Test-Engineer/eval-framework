{
 "cells": [
  {
   "cell_type": "markdown",
   "id": "24804516",
   "metadata": {},
   "source": [
    "EVAL03 - we check article length is greater than required length"
   ]
  },
  {
   "cell_type": "code",
   "execution_count": 52,
   "id": "f3d26527-2e51-449e-9df1-d4102a89a6f4",
   "metadata": {},
   "outputs": [],
   "source": [
    "import csv\n",
    "\n",
    "\n",
    "\n",
    "import re\n",
    "import pandas as pd\n",
    "\n",
    "\n",
    "\n",
    "import plotly.express as px"
   ]
  },
  {
   "cell_type": "code",
   "execution_count": 53,
   "id": "6e543685",
   "metadata": {},
   "outputs": [],
   "source": [
    "file_path = \"./04_article_writer_publishable.csv\""
   ]
  },
  {
   "cell_type": "code",
   "execution_count": 54,
   "id": "d00bd2ea",
   "metadata": {},
   "outputs": [],
   "source": [
    "def convert_string_to_dict(input_string):\n",
    "    \"\"\"\n",
    "    Convert a space-separated string of key=value pairs to a dictionary.\n",
    "\n",
    "    Args:\n",
    "        input_string (str): String with key='value' pairs\n",
    "\n",
    "    Returns:\n",
    "        dict: Dictionary of key-value pairs\n",
    "    \"\"\"\n",
    "    # Remove quotes and split by spaces\n",
    "    result = {}\n",
    "\n",
    "    # Split the string by spaces while preserving quoted values\n",
    "    import re\n",
    "\n",
    "    # Use regex to find key='value' pairs\n",
    "    pairs = re.findall(r\"(\\w+)='([^']*)'\", input_string)\n",
    "\n",
    "    # Convert to dictionary\n",
    "    result = dict(pairs)\n",
    "\n",
    "    return result\n",
    "\n",
    "\n",
    "df = pd.read_csv(\n",
    "    file_path,\n",
    "    sep=\"|\",\n",
    "    header=None,\n",
    ")\n",
    "\n",
    "for row in df.iterrows():\n",
    "    if len(row) > 6:\n",
    "        # Assuming the 7th column (index 6) contains the string to convert\n",
    "\n",
    "        print(row)\n",
    "        can_be_posted = (\n",
    "            df.head(1)[6]\n",
    "            .apply(lambda x: convert_string_to_dict(x))\n",
    "            .to_list()[0][\"can_be_posted\"]\n",
    "        )\n",
    "        meets_word_count = (\n",
    "            df.head(1)[6]\n",
    "            .apply(lambda x: convert_string_to_dict(x))\n",
    "            .to_list()[0][\"meets_word_count\"]\n",
    "        )\n",
    "        is_not_sensationalistic = (\n",
    "            df.head(1)[6]\n",
    "            .apply(lambda x: convert_string_to_dict(x))\n",
    "            .to_list()[0][\"is_not_sensationalistic\"]\n",
    "        )\n",
    "        is_language_french = (\n",
    "            df.head(1)[6]\n",
    "            .apply(lambda x: convert_string_to_dict(x))\n",
    "            .to_list()[0][\"is_language_french\"]\n",
    "        )\n",
    "\n",
    "        print(f\"Can be posted: {can_be_posted}\")\n",
    "        print(f\"Meets word count: {meets_word_count}\")\n",
    "        print(f\"Is not sensationalistic: {is_not_sensationalistic}\")\n",
    "        print(f\"Is language french: {is_language_french}\")"
   ]
  },
  {
   "cell_type": "code",
   "execution_count": 55,
   "id": "e5ec5aa3",
   "metadata": {},
   "outputs": [],
   "source": [
    "dict_results = {\n",
    "    \"can_be_posted\": can_be_posted,\n",
    "    \"meets_word_count\": meets_word_count,\n",
    "    \"is_not_sensationalistic\": is_not_sensationalistic,\n",
    "    \"is_language_french\": is_language_french,\n",
    "}"
   ]
  },
  {
   "cell_type": "code",
   "execution_count": 56,
   "id": "55cdc481",
   "metadata": {},
   "outputs": [
    {
     "data": {
      "text/plain": [
       "{'can_be_posted': 'no',\n",
       " 'meets_word_count': 'no',\n",
       " 'is_not_sensationalistic': 'yes',\n",
       " 'is_language_french': 'no'}"
      ]
     },
     "execution_count": 56,
     "metadata": {},
     "output_type": "execute_result"
    }
   ],
   "source": [
    "dict_results"
   ]
  },
  {
   "cell_type": "code",
   "execution_count": 57,
   "id": "7f28cf09",
   "metadata": {},
   "outputs": [
    {
     "name": "stdout",
     "output_type": "stream",
     "text": [
      "{'can_be_posted': 'no', 'meets_word_count': 'no', 'is_not_sensationalistic': 'yes', 'is_language_french': 'no'}\n",
      "can_be_posted: no\n",
      "meets_word_count: no\n",
      "is_not_sensationalistic: yes\n",
      "is_language_french: no\n"
     ]
    }
   ],
   "source": [
    "def extract_conditions(csv_row):\n",
    "    \"\"\"Extract the condition values from the CSV row.\"\"\"\n",
    "    # Split by pipe and get the 7th field (index 6)\n",
    "    conditions_field = csv_row.split(\"|\")[6]\n",
    "\n",
    "    # Extract all key='value' pairs\n",
    "    matches = re.findall(r\"(\\w+)='([^']+)'\", conditions_field)\n",
    "\n",
    "    # Return as dictionary\n",
    "    return dict(matches)\n",
    "\n",
    "\n",
    "# Your data\n",
    "row = \"2025-07-22-17-42-26|ARTICLE_WRITER|PUBLISHER|gpt-4o-mini|0.5|Building Your First AI Agent: A Step-by-Step Guide...|can_be_posted='no' meets_word_count='no' is_not_sensationalistic='yes' is_language_french='no'|6|29|1.33\"\n",
    "\n",
    "# Extract conditions\n",
    "conditions = extract_conditions(row)\n",
    "print(conditions)\n",
    "\n",
    "# Access individual values\n",
    "print(f\"can_be_posted: {conditions['can_be_posted']}\")\n",
    "print(f\"meets_word_count: {conditions['meets_word_count']}\")\n",
    "print(f\"is_not_sensationalistic: {conditions['is_not_sensationalistic']}\")\n",
    "print(f\"is_language_french: {conditions['is_language_french']}\")"
   ]
  }
 ],
 "metadata": {
  "kernelspec": {
   "display_name": "llm-evaluation-framework",
   "language": "python",
   "name": "python3"
  },
  "language_info": {
   "codemirror_mode": {
    "name": "ipython",
    "version": 3
   },
   "file_extension": ".py",
   "mimetype": "text/x-python",
   "name": "python",
   "nbconvert_exporter": "python",
   "pygments_lexer": "ipython3",
   "version": "3.12.1"
  }
 },
 "nbformat": 4,
 "nbformat_minor": 5
}
