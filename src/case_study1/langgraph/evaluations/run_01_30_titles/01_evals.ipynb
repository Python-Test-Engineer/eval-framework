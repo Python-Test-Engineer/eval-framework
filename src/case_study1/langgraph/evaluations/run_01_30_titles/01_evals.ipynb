{
 "cells": [
  {
   "cell_type": "code",
   "execution_count": 60,
   "id": "f3d26527-2e51-449e-9df1-d4102a89a6f4",
   "metadata": {},
   "outputs": [],
   "source": [
    "import pandas as pd\n",
    "import numpy as np\n",
    "import plotly.express as px"
   ]
  },
  {
   "cell_type": "markdown",
   "id": "601e565d-757b-4a6b-98b3-0a4c2a6b383a",
   "metadata": {},
   "source": [
    "## Test data read\n"
   ]
  },
  {
   "cell_type": "code",
   "execution_count": 63,
   "id": "556288cc",
   "metadata": {},
   "outputs": [],
   "source": [
    "df = pd.read_csv(\n",
    "    \"./01_article_writer_should_write.csv\",\n",
    "    delimiter=\"|\",\n",
    "    names=[\n",
    "        \"datetime\",\"app\",\"evaluator\",\"model\",\"temperature\",\"title\",\"is_relevant\", \"input_tokens\",\n",
    "        \"output_tokens\",\"total_tokens\",\"input_text\",\"output_text\",\"time_taken\",\n",
    "    ]\n",
    ")"
   ]
  },
  {
   "cell_type": "code",
   "execution_count": 64,
   "id": "6d245b57",
   "metadata": {},
   "outputs": [
    {
     "data": {
      "application/vnd.microsoft.datawrangler.viewer.v0+json": {
       "columns": [
        {
         "name": "index",
         "rawType": "int64",
         "type": "integer"
        },
        {
         "name": "datetime",
         "rawType": "object",
         "type": "string"
        },
        {
         "name": "app",
         "rawType": "object",
         "type": "string"
        },
        {
         "name": "evaluator",
         "rawType": "object",
         "type": "string"
        },
        {
         "name": "model",
         "rawType": "object",
         "type": "string"
        },
        {
         "name": "temperature",
         "rawType": "int64",
         "type": "integer"
        },
        {
         "name": "title",
         "rawType": "object",
         "type": "string"
        },
        {
         "name": "is_relevant",
         "rawType": "object",
         "type": "string"
        },
        {
         "name": "input_tokens",
         "rawType": "int64",
         "type": "integer"
        },
        {
         "name": "output_tokens",
         "rawType": "int64",
         "type": "integer"
        },
        {
         "name": "total_tokens",
         "rawType": "float64",
         "type": "float"
        },
        {
         "name": "input_text",
         "rawType": "float64",
         "type": "float"
        },
        {
         "name": "output_text",
         "rawType": "float64",
         "type": "float"
        },
        {
         "name": "time_taken",
         "rawType": "float64",
         "type": "float"
        }
       ],
       "ref": "19de2d8c-cfab-4915-9c93-16c005b9c181",
       "rows": [
        [
         "0",
         "2025-07-22-17-42-25",
         "ARTICLE_WRITER",
         "EVALUATOR",
         "gpt-4o-mini",
         "0",
         "The Art of Sourdough: From Starter to Perfect Loaf",
         "no",
         "6",
         "5",
         "0.82",
         null,
         null,
         null
        ]
       ],
       "shape": {
        "columns": 13,
        "rows": 1
       }
      },
      "text/html": [
       "<div>\n",
       "<style scoped>\n",
       "    .dataframe tbody tr th:only-of-type {\n",
       "        vertical-align: middle;\n",
       "    }\n",
       "\n",
       "    .dataframe tbody tr th {\n",
       "        vertical-align: top;\n",
       "    }\n",
       "\n",
       "    .dataframe thead th {\n",
       "        text-align: right;\n",
       "    }\n",
       "</style>\n",
       "<table border=\"1\" class=\"dataframe\">\n",
       "  <thead>\n",
       "    <tr style=\"text-align: right;\">\n",
       "      <th></th>\n",
       "      <th>datetime</th>\n",
       "      <th>app</th>\n",
       "      <th>evaluator</th>\n",
       "      <th>model</th>\n",
       "      <th>temperature</th>\n",
       "      <th>title</th>\n",
       "      <th>is_relevant</th>\n",
       "      <th>input_tokens</th>\n",
       "      <th>output_tokens</th>\n",
       "      <th>total_tokens</th>\n",
       "      <th>input_text</th>\n",
       "      <th>output_text</th>\n",
       "      <th>time_taken</th>\n",
       "    </tr>\n",
       "  </thead>\n",
       "  <tbody>\n",
       "    <tr>\n",
       "      <th>0</th>\n",
       "      <td>2025-07-22-17-42-25</td>\n",
       "      <td>ARTICLE_WRITER</td>\n",
       "      <td>EVALUATOR</td>\n",
       "      <td>gpt-4o-mini</td>\n",
       "      <td>0</td>\n",
       "      <td>The Art of Sourdough: From Starter to Perfect ...</td>\n",
       "      <td>no</td>\n",
       "      <td>6</td>\n",
       "      <td>5</td>\n",
       "      <td>0.82</td>\n",
       "      <td>NaN</td>\n",
       "      <td>NaN</td>\n",
       "      <td>NaN</td>\n",
       "    </tr>\n",
       "  </tbody>\n",
       "</table>\n",
       "</div>"
      ],
      "text/plain": [
       "              datetime             app  evaluator        model  temperature  \\\n",
       "0  2025-07-22-17-42-25  ARTICLE_WRITER  EVALUATOR  gpt-4o-mini            0   \n",
       "\n",
       "                                               title is_relevant  \\\n",
       "0  The Art of Sourdough: From Starter to Perfect ...          no   \n",
       "\n",
       "   input_tokens  output_tokens  total_tokens  input_text  output_text  \\\n",
       "0             6              5          0.82         NaN          NaN   \n",
       "\n",
       "   time_taken  \n",
       "0         NaN  "
      ]
     },
     "execution_count": 64,
     "metadata": {},
     "output_type": "execute_result"
    }
   ],
   "source": [
    "df.head(1)"
   ]
  },
  {
   "cell_type": "code",
   "execution_count": 12,
   "id": "3d5b8c92-806e-40df-9c7f-f1ba65ed1641",
   "metadata": {},
   "outputs": [],
   "source": [
    "df = pd.read_csv(\n",
    "    \"./02_article_writer_translate.csv\",\n",
    "    delimiter=\"|\",\n",
    "   \n",
    "    encoding=\"utf8\",  # File encoding\n",
    ")"
   ]
  },
  {
   "cell_type": "markdown",
   "id": "38cb5abb-6ac5-4726-adee-e9d25be594f5",
   "metadata": {},
   "source": [
    "Ok, if all that worked you should be good to go!"
   ]
  },
  {
   "cell_type": "code",
   "execution_count": 13,
   "id": "69d23b9c-512d-476d-a136-3cdad5f4375a",
   "metadata": {},
   "outputs": [
    {
     "data": {
      "application/vnd.microsoft.datawrangler.viewer.v0+json": {
       "columns": [
        {
         "name": "index",
         "rawType": "int64",
         "type": "integer"
        },
        {
         "name": "2025-07-22-17-42-28",
         "rawType": "object",
         "type": "string"
        },
        {
         "name": "ARTICLE_WRITER",
         "rawType": "object",
         "type": "string"
        },
        {
         "name": "TRANSLATE",
         "rawType": "object",
         "type": "string"
        },
        {
         "name": "gpt-4o-mini",
         "rawType": "object",
         "type": "string"
        },
        {
         "name": "0",
         "rawType": "int64",
         "type": "integer"
        },
        {
         "name": "Building Your First AI Agent: A Step-by-Step Guide",
         "rawType": "object",
         "type": "string"
        },
        {
         "name": "1.05",
         "rawType": "float64",
         "type": "float"
        },
        {
         "name": "{'content': 'Construire votre premier agent IA : Un guide étape par étape', 'additional_kwargs': {'refusal': None}, 'response_metadata': {'token_usage': {'completion_tokens': 12, 'prompt_tokens': 49, 'total_tokens': 61, 'completion_tokens_details': {'accepted_prediction_tokens': 0, 'audio_tokens': 0, 'reasoning_tokens': 0, 'rejected_prediction_tokens': 0}, 'prompt_tokens_details': {'audio_tokens': 0, 'cached_tokens': 0}}, 'model_name': 'gpt-4o-mini-2024-07-18', 'system_fingerprint': None, 'id': 'chatcmpl-BwAMM5idg3pUbTzGeO5I1XqnmABsL', 'service_tier': 'default', 'finish_reason': 'stop', 'logprobs': None}, 'type': 'ai', 'name': None, 'id': 'run--7ce6587e-016f-495b-8288-ca8d69f7752a-0', 'example': False, 'tool_calls': [], 'invalid_tool_calls': [], 'usage_metadata': {'input_tokens': 49, 'output_tokens': 12, 'total_tokens': 61, 'input_token_details': {'audio': 0, 'cache_read': 0}, 'output_token_details': {'audio': 0, 'reasoning': 0}}}",
         "rawType": "object",
         "type": "string"
        }
       ],
       "ref": "e55bafb4-0b43-4e4e-86e7-0a3bd78e78a3",
       "rows": [
        [
         "0",
         "2025-07-22-17-42-40",
         "ARTICLE_WRITER",
         "TRANSLATE",
         "gpt-4o-mini",
         "0",
         "Why AI Agents Will Replace Traditional Software",
         "0.7",
         "{'content': \"Pourquoi les agents d'IA remplaceront les logiciels traditionnels\", 'additional_kwargs': {'refusal': None}, 'response_metadata': {'token_usage': {'completion_tokens': 12, 'prompt_tokens': 45, 'total_tokens': 57, 'completion_tokens_details': {'accepted_prediction_tokens': 0, 'audio_tokens': 0, 'reasoning_tokens': 0, 'rejected_prediction_tokens': 0}, 'prompt_tokens_details': {'audio_tokens': 0, 'cached_tokens': 0}}, 'model_name': 'gpt-4o-mini-2024-07-18', 'system_fingerprint': None, 'id': 'chatcmpl-BwAMYKNANp4dw759m6Djm8fM7wviZ', 'service_tier': 'default', 'finish_reason': 'stop', 'logprobs': None}, 'type': 'ai', 'name': None, 'id': 'run--8ca9944d-f2ad-40ec-84c5-db0d3f065706-0', 'example': False, 'tool_calls': [], 'invalid_tool_calls': [], 'usage_metadata': {'input_tokens': 45, 'output_tokens': 12, 'total_tokens': 57, 'input_token_details': {'audio': 0, 'cache_read': 0}, 'output_token_details': {'audio': 0, 'reasoning': 0}}}"
        ]
       ],
       "shape": {
        "columns": 8,
        "rows": 1
       }
      },
      "text/html": [
       "<div>\n",
       "<style scoped>\n",
       "    .dataframe tbody tr th:only-of-type {\n",
       "        vertical-align: middle;\n",
       "    }\n",
       "\n",
       "    .dataframe tbody tr th {\n",
       "        vertical-align: top;\n",
       "    }\n",
       "\n",
       "    .dataframe thead th {\n",
       "        text-align: right;\n",
       "    }\n",
       "</style>\n",
       "<table border=\"1\" class=\"dataframe\">\n",
       "  <thead>\n",
       "    <tr style=\"text-align: right;\">\n",
       "      <th></th>\n",
       "      <th>2025-07-22-17-42-28</th>\n",
       "      <th>ARTICLE_WRITER</th>\n",
       "      <th>TRANSLATE</th>\n",
       "      <th>gpt-4o-mini</th>\n",
       "      <th>0</th>\n",
       "      <th>Building Your First AI Agent: A Step-by-Step Guide</th>\n",
       "      <th>1.05</th>\n",
       "      <th>{'content': 'Construire votre premier agent IA : Un guide étape par étape', 'additional_kwargs': {'refusal': None}, 'response_metadata': {'token_usage': {'completion_tokens': 12, 'prompt_tokens': 49, 'total_tokens': 61, 'completion_tokens_details': {'accepted_prediction_tokens': 0, 'audio_tokens': 0, 'reasoning_tokens': 0, 'rejected_prediction_tokens': 0}, 'prompt_tokens_details': {'audio_tokens': 0, 'cached_tokens': 0}}, 'model_name': 'gpt-4o-mini-2024-07-18', 'system_fingerprint': None, 'id': 'chatcmpl-BwAMM5idg3pUbTzGeO5I1XqnmABsL', 'service_tier': 'default', 'finish_reason': 'stop', 'logprobs': None}, 'type': 'ai', 'name': None, 'id': 'run--7ce6587e-016f-495b-8288-ca8d69f7752a-0', 'example': False, 'tool_calls': [], 'invalid_tool_calls': [], 'usage_metadata': {'input_tokens': 49, 'output_tokens': 12, 'total_tokens': 61, 'input_token_details': {'audio': 0, 'cache_read': 0}, 'output_token_details': {'audio': 0, 'reasoning': 0}}}</th>\n",
       "    </tr>\n",
       "  </thead>\n",
       "  <tbody>\n",
       "    <tr>\n",
       "      <th>0</th>\n",
       "      <td>2025-07-22-17-42-40</td>\n",
       "      <td>ARTICLE_WRITER</td>\n",
       "      <td>TRANSLATE</td>\n",
       "      <td>gpt-4o-mini</td>\n",
       "      <td>0</td>\n",
       "      <td>Why AI Agents Will Replace Traditional Software</td>\n",
       "      <td>0.7</td>\n",
       "      <td>{'content': \"Pourquoi les agents d'IA remplace...</td>\n",
       "    </tr>\n",
       "  </tbody>\n",
       "</table>\n",
       "</div>"
      ],
      "text/plain": [
       "   2025-07-22-17-42-28  ARTICLE_WRITER  TRANSLATE  gpt-4o-mini  0  \\\n",
       "0  2025-07-22-17-42-40  ARTICLE_WRITER  TRANSLATE  gpt-4o-mini  0   \n",
       "\n",
       "  Building Your First AI Agent: A Step-by-Step Guide  1.05  \\\n",
       "0    Why AI Agents Will Replace Traditional Software   0.7   \n",
       "\n",
       "  {'content': 'Construire votre premier agent IA : Un guide étape par étape', 'additional_kwargs': {'refusal': None}, 'response_metadata': {'token_usage': {'completion_tokens': 12, 'prompt_tokens': 49, 'total_tokens': 61, 'completion_tokens_details': {'accepted_prediction_tokens': 0, 'audio_tokens': 0, 'reasoning_tokens': 0, 'rejected_prediction_tokens': 0}, 'prompt_tokens_details': {'audio_tokens': 0, 'cached_tokens': 0}}, 'model_name': 'gpt-4o-mini-2024-07-18', 'system_fingerprint': None, 'id': 'chatcmpl-BwAMM5idg3pUbTzGeO5I1XqnmABsL', 'service_tier': 'default', 'finish_reason': 'stop', 'logprobs': None}, 'type': 'ai', 'name': None, 'id': 'run--7ce6587e-016f-495b-8288-ca8d69f7752a-0', 'example': False, 'tool_calls': [], 'invalid_tool_calls': [], 'usage_metadata': {'input_tokens': 49, 'output_tokens': 12, 'total_tokens': 61, 'input_token_details': {'audio': 0, 'cache_read': 0}, 'output_token_details': {'audio': 0, 'reasoning': 0}}}  \n",
       "0  {'content': \"Pourquoi les agents d'IA remplace...                                                                                                                                                                                                                                                                                                                                                                                                                                                                                                                                                                                                                                                                                                                                                                                                                                                                                                                                "
      ]
     },
     "execution_count": 13,
     "metadata": {},
     "output_type": "execute_result"
    }
   ],
   "source": [
    "df.head(1)"
   ]
  },
  {
   "cell_type": "code",
   "execution_count": null,
   "id": "a226974a",
   "metadata": {},
   "outputs": [],
   "source": [
    "df.head(1)"
   ]
  },
  {
   "cell_type": "code",
   "execution_count": null,
   "id": "baf2c2f9",
   "metadata": {},
   "outputs": [],
   "source": [
    "result = df[\"result\"]\n",
    "\n",
    "print(result)"
   ]
  }
 ],
 "metadata": {
  "kernelspec": {
   "display_name": "llm-evaluation-framework",
   "language": "python",
   "name": "python3"
  },
  "language_info": {
   "codemirror_mode": {
    "name": "ipython",
    "version": 3
   },
   "file_extension": ".py",
   "mimetype": "text/x-python",
   "name": "python",
   "nbconvert_exporter": "python",
   "pygments_lexer": "ipython3",
   "version": "3.12.11"
  }
 },
 "nbformat": 4,
 "nbformat_minor": 5
}
