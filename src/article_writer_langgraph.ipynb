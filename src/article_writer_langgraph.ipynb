{
 "cells": [
  {
   "cell_type": "markdown",
   "metadata": {},
   "source": [
    "### Team of Agents with a supervisor"
   ]
  },
  {
   "cell_type": "markdown",
   "metadata": {},
   "source": [
    "https://www.youtube.com/watch?v=9HhcFiSgLok&list=PLNVqeXDm5tIqUIPQHLk5Xw5mpisruvsac&index=7"
   ]
  },
  {
   "cell_type": "code",
   "execution_count": 1,
   "metadata": {},
   "outputs": [
    {
     "name": "stderr",
     "output_type": "stream",
     "text": [
      "c:\\Users\\owner\\Desktop\\llm-evaluation-framework\\.venv\\Lib\\site-packages\\IPython\\core\\interactiveshell.py:3699: LangChainDeprecationWarning: As of langchain-core 0.3.0, LangChain uses pydantic v2 internally. The langchain_core.pydantic_v1 module was a compatibility shim for pydantic v1, and should no longer be used. Please update the code to import from Pydantic directly.\n",
      "\n",
      "For example, replace imports like: `from langchain_core.pydantic_v1 import BaseModel`\n",
      "with: `from pydantic import BaseModel`\n",
      "or the v1 compatibility namespace if you are working in a code base that has not been fully upgraded to pydantic 2 yet. \tfrom pydantic.v1 import BaseModel\n",
      "\n",
      "  exec(code_obj, self.user_global_ns, self.user_ns)\n",
      "c:\\Users\\owner\\Desktop\\llm-evaluation-framework\\.venv\\Lib\\site-packages\\langchain_openai\\chat_models\\base.py:1844: UserWarning: Received a Pydantic BaseModel V1 schema. This is not supported by method=\"json_schema\". Please use method=\"function_calling\" or specify schema via JSON Schema or Pydantic V2 BaseModel. Overriding to method=\"function_calling\".\n",
      "  warnings.warn(\n"
     ]
    }
   ],
   "source": [
    "from langchain_openai import ChatOpenAI\n",
    "from langchain_core.prompts import ChatPromptTemplate\n",
    "from langchain_core.pydantic_v1 import BaseModel, Field\n",
    "\n",
    "\n",
    "class TransferNewsGrader(BaseModel):\n",
    "    \"\"\"Binary score for relevance check on football transfer news.\"\"\"\n",
    "\n",
    "    binary_score: str = Field(\n",
    "        description=\"The article is about football transfers, 'yes' or 'no'\"\n",
    "    )\n",
    "\n",
    "\n",
    "llm = ChatOpenAI(model=\"gpt-4o-mini\", temperature=0)\n",
    "structured_llm_grader = llm.with_structured_output(TransferNewsGrader)\n",
    "\n",
    "system = \"\"\"You are a grader assessing whether a news article concerns a football transfer. \\n\n",
    "    Check if the article explicitly mentions player transfers between clubs, potential transfers, or confirmed transfers. \\n\n",
    "    Provide a binary score 'yes' or 'no' to indicate whether the news is about a football transfer.\"\"\"\n",
    "grade_prompt = ChatPromptTemplate.from_messages(\n",
    "    [(\"system\", system), (\"human\", \"News Article:\\n\\n {article}\")]\n",
    ")\n",
    "evaluator = grade_prompt | structured_llm_grader\n",
    "result = evaluator.invoke(\n",
    "    {\"There are rumors messi will switch from real madrid to FC Barcelona\"}\n",
    ")"
   ]
  },
  {
   "cell_type": "code",
   "execution_count": 2,
   "metadata": {},
   "outputs": [
    {
     "name": "stderr",
     "output_type": "stream",
     "text": [
      "c:\\Users\\owner\\Desktop\\llm-evaluation-framework\\.venv\\Lib\\site-packages\\langchain_openai\\chat_models\\base.py:1844: UserWarning: Received a Pydantic BaseModel V1 schema. This is not supported by method=\"json_schema\". Please use method=\"function_calling\" or specify schema via JSON Schema or Pydantic V2 BaseModel. Overriding to method=\"function_calling\".\n",
      "  warnings.warn(\n"
     ]
    }
   ],
   "source": [
    "from langchain_openai import ChatOpenAI\n",
    "from langchain_core.prompts import ChatPromptTemplate\n",
    "from langchain_core.pydantic_v1 import BaseModel, Field\n",
    "\n",
    "\n",
    "class ArticlePostabilityGrader(BaseModel):\n",
    "    \"\"\"Binary scores for postability check, word count, sensationalism, and language verification of a news article.\"\"\"\n",
    "\n",
    "    can_be_posted: str = Field(\n",
    "        description=\"The article is ready to be posted, 'yes' or 'no'\"\n",
    "    )\n",
    "    meets_word_count: str = Field(\n",
    "        description=\"The article has at least 200 words, 'yes' or 'no'\"\n",
    "    )\n",
    "    is_sensationalistic: str = Field(\n",
    "        description=\"The article is written in a sensationalistic style, 'yes' or 'no'\"\n",
    "    )\n",
    "    is_language_german: str = Field(\n",
    "        description=\"The language of the article is German, 'yes' or 'no'\"\n",
    "    )\n",
    "\n",
    "\n",
    "llm_postability = ChatOpenAI(model=\"gpt-4o-mini\", temperature=0)\n",
    "structured_llm_postability_grader = llm_postability.with_structured_output(\n",
    "    ArticlePostabilityGrader\n",
    ")\n",
    "\n",
    "postability_system = \"\"\"You are a grader assessing whether a news article is ready to be posted, if it meets the minimum word count of 200 words, is written in a sensationalistic style, and if it is in German. \\n\n",
    "    Evaluate the article for grammatical errors, completeness, appropriateness for publication, and EXAGERATED sensationalism. \\n\n",
    "    Also, confirm if the language used in the article is German and it meets the word count requirement. \\n\n",
    "    Provide four binary scores: one to indicate if the article can be posted ('yes' or 'no'), one for adequate word count ('yes' or 'no'), one for sensationalistic writing ('yes' or 'no'), and another if the language is German ('yes' or 'no').\"\"\"\n",
    "postability_grade_prompt = ChatPromptTemplate.from_messages(\n",
    "    [(\"system\", postability_system), (\"human\", \"News Article:\\n\\n {article}\")]\n",
    ")\n",
    "\n",
    "news_chef = postability_grade_prompt | structured_llm_postability_grader\n",
    "\n",
    "result = news_chef.invoke(\n",
    "    {\n",
    "        \"article\": \"Es wurde gemeldet, dass Messi von Real Madrid zu FC Barcelona wechselt.\"\n",
    "    }\n",
    ")"
   ]
  },
  {
   "cell_type": "code",
   "execution_count": 3,
   "metadata": {},
   "outputs": [
    {
     "name": "stdout",
     "output_type": "stream",
     "text": [
      "content='Es wurde berichtet, dass Messi von Real Madrid zu FC Barcelona wechseln wird.' additional_kwargs={'refusal': None} response_metadata={'token_usage': {'completion_tokens': 15, 'prompt_tokens': 51, 'total_tokens': 66, 'completion_tokens_details': {'accepted_prediction_tokens': 0, 'audio_tokens': 0, 'reasoning_tokens': 0, 'rejected_prediction_tokens': 0}, 'prompt_tokens_details': {'audio_tokens': 0, 'cached_tokens': 0}}, 'model_name': 'gpt-4o-mini-2024-07-18', 'system_fingerprint': 'fp_34a54ae93c', 'id': 'chatcmpl-Bpd4wGPdt0st321rb4TKuVImrARKV', 'service_tier': 'default', 'finish_reason': 'stop', 'logprobs': None} id='run--ad40c2ec-42a2-4d62-991d-2a1585edb7dd-0' usage_metadata={'input_tokens': 51, 'output_tokens': 15, 'total_tokens': 66, 'input_token_details': {'audio': 0, 'cache_read': 0}, 'output_token_details': {'audio': 0, 'reasoning': 0}}\n"
     ]
    }
   ],
   "source": [
    "llm_translation = ChatOpenAI(model=\"gpt-4o-mini\", temperature=0)\n",
    "\n",
    "translation_system = \"\"\"You are a translator converting articles into German. Translate the text accurately while maintaining the original tone and style.\"\"\"\n",
    "translation_prompt = ChatPromptTemplate.from_messages(\n",
    "    [(\"system\", translation_system), (\"human\", \"Article to translate:\\n\\n {article}\")]\n",
    ")\n",
    "\n",
    "translator = translation_prompt | llm_translation\n",
    "\n",
    "result = translator.invoke(\n",
    "    {\n",
    "        \"article\": \"It has been reported that Messi will transfer from Real Madrid to FC Barcelona.\"\n",
    "    }\n",
    ")\n",
    "print(result)"
   ]
  },
  {
   "cell_type": "code",
   "execution_count": 4,
   "metadata": {},
   "outputs": [
    {
     "name": "stdout",
     "output_type": "stream",
     "text": [
      "content='Lionel Messi is reportedly considering a move from Real Madrid to FC Barcelona next season, a development that has sent shockwaves through the football community. The Argentine superstar, who has long been regarded as one of the greatest players in the history of the sport, has had a storied career at both clubs, but his potential switch could redefine the landscape of European football.\\n\\nThis speculation comes in the wake of Messi\\'s recent performances, which have been nothing short of spectacular. His ability to change the course of a match with his dribbling, vision, and goal-scoring prowess remains unparalleled, and many fans are eager to see him return to the club where he spent the majority of his career and became a global icon. \\n\\nThe rivalry between Real Madrid and FC Barcelona, known as \"El Clásico,\" is one of the most intense in sports, and Messi\\'s return to Barcelona could reignite that fierce competition. Moreover, the financial implications of such a move would be significant, as both clubs navigate the complexities of player contracts and salary caps.\\n\\nAs the football world waits for confirmation, the potential for Messi to don the iconic Barcelona colors once again raises questions about his legacy and the future of both clubs. Fans are left dreaming of the magic that could unfold if Messi indeed decides to return to his roots.' additional_kwargs={'refusal': None} response_metadata={'token_usage': {'completion_tokens': 262, 'prompt_tokens': 57, 'total_tokens': 319, 'completion_tokens_details': {'accepted_prediction_tokens': 0, 'audio_tokens': 0, 'reasoning_tokens': 0, 'rejected_prediction_tokens': 0}, 'prompt_tokens_details': {'audio_tokens': 0, 'cached_tokens': 0}}, 'model_name': 'gpt-4o-mini-2024-07-18', 'system_fingerprint': 'fp_34a54ae93c', 'id': 'chatcmpl-Bpd4xsyqyhcmgTgRl1cBVafAJ1riq', 'service_tier': 'default', 'finish_reason': 'stop', 'logprobs': None} id='run--e7ae4370-fc1c-4ac0-bb9a-ce8548906f04-0' usage_metadata={'input_tokens': 57, 'output_tokens': 262, 'total_tokens': 319, 'input_token_details': {'audio': 0, 'cache_read': 0}, 'output_token_details': {'audio': 0, 'reasoning': 0}}\n"
     ]
    }
   ],
   "source": [
    "llm_expansion = ChatOpenAI(model=\"gpt-4o-mini\", temperature=0.5)\n",
    "expansion_system = \"\"\"You are a writer tasked with expanding the given article to at least 200 words while maintaining relevance, coherence, and the original tone.\"\"\"\n",
    "expansion_prompt = ChatPromptTemplate.from_messages(\n",
    "    [(\"system\", expansion_system), (\"human\", \"Original article:\\n\\n {article}\")]\n",
    ")\n",
    "\n",
    "expander = expansion_prompt | llm_expansion\n",
    "\n",
    "article_content = \"Lionel Messi is reportedly considering a move from Real Madrid to FC Barcelona next season.\"\n",
    "result = expander.invoke({\"article\": article_content})\n",
    "print(result)"
   ]
  },
  {
   "cell_type": "code",
   "execution_count": 5,
   "metadata": {},
   "outputs": [],
   "source": [
    "from langgraph.graph import StateGraph, END\n",
    "from typing import TypedDict, Literal\n",
    "\n",
    "\n",
    "class AgentState(TypedDict):\n",
    "    article_state: str"
   ]
  },
  {
   "cell_type": "code",
   "execution_count": 6,
   "metadata": {},
   "outputs": [],
   "source": [
    "def get_transfer_news_grade(state: AgentState) -> AgentState:\n",
    "    print(f\"get_transfer_news_grade: Current state: {state}\")\n",
    "    print(\"Evaluator: Reading article but doing nothing to change it...\")\n",
    "    return state"
   ]
  },
  {
   "cell_type": "code",
   "execution_count": 7,
   "metadata": {},
   "outputs": [],
   "source": [
    "def evaluate_article(state: AgentState) -> AgentState:\n",
    "    print(f\"evaluate_article: Current state: {state}\")\n",
    "    print(\"News : Reading article but doing nothing to change it...\")\n",
    "    return state"
   ]
  },
  {
   "cell_type": "code",
   "execution_count": 8,
   "metadata": {},
   "outputs": [],
   "source": [
    "def translate_article(state: AgentState) -> AgentState:\n",
    "    print(f\"translate_article: Current state: {state}\")\n",
    "    article = state[\"article_state\"]\n",
    "    result = translator.invoke({\"article\": article})\n",
    "    state[\"article_state\"] = result.content\n",
    "    return state"
   ]
  },
  {
   "cell_type": "code",
   "execution_count": 9,
   "metadata": {},
   "outputs": [],
   "source": [
    "def expand_article(state: AgentState) -> AgentState:\n",
    "    print(f\"expand_article: Current state: {state}\")\n",
    "    article = state[\"article_state\"]\n",
    "    result = expander.invoke({\"article\": article})\n",
    "    state[\"article_state\"] = result.content\n",
    "    return state"
   ]
  },
  {
   "cell_type": "code",
   "execution_count": 10,
   "metadata": {},
   "outputs": [],
   "source": [
    "def publisher(state: AgentState) -> AgentState:\n",
    "    print(f\"publisher: Current state: {state}\")\n",
    "    print(\"FINAL_STATE in publisher:\", state)\n",
    "    return state"
   ]
  },
  {
   "cell_type": "code",
   "execution_count": 11,
   "metadata": {},
   "outputs": [],
   "source": [
    "def evaluator_router(state: AgentState) -> Literal[\"editor\", \"not_relevant\"]:\n",
    "    article = state[\"article_state\"]\n",
    "    evaluator = grade_prompt | structured_llm_grader\n",
    "    result = evaluator.invoke({\"article\": article})\n",
    "    print(f\"evaluator_router: Current state: {state}\")\n",
    "    print(\"Evaluator result: \", result)\n",
    "    if result.binary_score == \"yes\":\n",
    "        return \"editor\"\n",
    "    else:\n",
    "        return \"not_relevant\""
   ]
  },
  {
   "cell_type": "code",
   "execution_count": 12,
   "metadata": {},
   "outputs": [],
   "source": [
    "def news_chef_router(\n",
    "    state: AgentState,\n",
    ") -> Literal[\"translator\", \"publisher\", \"expander\"]:\n",
    "    article = state[\"article_state\"]\n",
    "    result = news_chef.invoke({\"article\": article})\n",
    "    print(f\"news_chef_router: Current state: {state}\")\n",
    "    print(\"News chef result: \", result)\n",
    "    if result.can_be_posted == \"yes\":\n",
    "        return \"publisher\"\n",
    "    elif result.is_language_german == \"yes\":\n",
    "        if result.meets_word_count == \"no\" or result.is_sensationalistic == \"no\":\n",
    "            return \"expander\"\n",
    "    return \"translator\""
   ]
  },
  {
   "cell_type": "code",
   "execution_count": 13,
   "metadata": {},
   "outputs": [],
   "source": [
    "workflow = StateGraph(AgentState)\n",
    "\n",
    "workflow.add_node(\"should_write_article\", get_transfer_news_grade)\n",
    "workflow.add_node(\"editor\", evaluate_article)\n",
    "workflow.add_node(\"translator\", translate_article)\n",
    "workflow.add_node(\"expander\", expand_article)\n",
    "workflow.add_node(\"publisher\", publisher)\n",
    "\n",
    "workflow.set_entry_point(\"should_write_article\")\n",
    "\n",
    "workflow.add_conditional_edges(\n",
    "    \"should_write_article\", evaluator_router, {\"editor\": \"editor\", \"not_relevant\": END}\n",
    ")\n",
    "workflow.add_conditional_edges(\n",
    "    \"editor\",\n",
    "    news_chef_router,\n",
    "    {\"translator\": \"translator\", \"publisher\": \"publisher\", \"expander\": \"expander\"},\n",
    ")\n",
    "workflow.add_edge(\"translator\", \"editor\")\n",
    "workflow.add_edge(\"expander\", \"editor\")\n",
    "workflow.add_edge(\"publisher\", END)\n",
    "\n",
    "app = workflow.compile()"
   ]
  },
  {
   "cell_type": "code",
   "execution_count": 14,
   "metadata": {},
   "outputs": [
    {
     "data": {
      "image/png": "[encoded data removed]",
      "text/plain": [
       "<IPython.core.display.Image object>"
      ]
     },
     "metadata": {},
     "output_type": "display_data"
    }
   ],
   "source": [
    "from IPython.display import Image, display\n",
    "\n",
    "try:\n",
    "    display(Image(app.get_graph(xray=True).draw_mermaid_png()))\n",
    "except Exception:\n",
    "    pass"
   ]
  },
  {
   "cell_type": "code",
   "execution_count": 15,
   "metadata": {},
   "outputs": [
    {
     "name": "stdout",
     "output_type": "stream",
     "text": [
      "get_transfer_news_grade: Current state: {'article_state': 'The Pope will visit Spain today'}\n",
      "Evaluator: Reading article but doing nothing to change it...\n",
      "evaluator_router: Current state: {'article_state': 'The Pope will visit Spain today'}\n",
      "Evaluator result:  binary_score='no'\n",
      "Final result: {'article_state': 'The Pope will visit Spain today'}\n"
     ]
    }
   ],
   "source": [
    "initial_state = {\"article_state\": \"The Pope will visit Spain today\"}\n",
    "result = app.invoke(initial_state)\n",
    "\n",
    "print(\"Final result:\", result)"
   ]
  },
  {
   "cell_type": "code",
   "execution_count": 16,
   "metadata": {},
   "outputs": [
    {
     "name": "stdout",
     "output_type": "stream",
     "text": [
      "get_transfer_news_grade: Current state: {'article_state': 'Messi gonna switch from barca to real madrid'}\n",
      "Evaluator: Reading article but doing nothing to change it...\n",
      "evaluator_router: Current state: {'article_state': 'Messi gonna switch from barca to real madrid'}\n",
      "Evaluator result:  binary_score='yes'\n",
      "evaluate_article: Current state: {'article_state': 'Messi gonna switch from barca to real madrid'}\n",
      "News : Reading article but doing nothing to change it...\n",
      "news_chef_router: Current state: {'article_state': 'Messi gonna switch from barca to real madrid'}\n",
      "News chef result:  can_be_posted='no' meets_word_count='no' is_sensationalistic='no' is_language_german='no'\n",
      "translate_article: Current state: {'article_state': 'Messi gonna switch from barca to real madrid'}\n",
      "evaluate_article: Current state: {'article_state': 'Messi wird von Barcelona zu Real Madrid wechseln.'}\n",
      "News : Reading article but doing nothing to change it...\n",
      "news_chef_router: Current state: {'article_state': 'Messi wird von Barcelona zu Real Madrid wechseln.'}\n",
      "News chef result:  can_be_posted='no' meets_word_count='no' is_sensationalistic='no' is_language_german='yes'\n",
      "expand_article: Current state: {'article_state': 'Messi wird von Barcelona zu Real Madrid wechseln.'}\n",
      "evaluate_article: Current state: {'article_state': 'Lionel Messi, einer der größten Fußballspieler aller Zeiten, steht vor einem überraschenden Wechsel von Barcelona zu Real Madrid. Diese Nachricht hat die Fußballwelt in Aufregung versetzt, da Messi über zwei Jahrzehnte lang das Herzstück des FC Barcelona war. Seine beeindruckenden Fähigkeiten, seine Spielintelligenz und seine unzähligen Tore haben ihn zu einer Legende gemacht, die die Fans in aller Welt begeistert hat.\\n\\nDer Wechsel zu Real Madrid, dem Erzrivalen von Barcelona, könnte als eine der kontroversesten Entscheidungen in der Geschichte des Fußballs angesehen werden. Fans beider Seiten haben leidenschaftliche Meinungen zu diesem Thema, und die sozialen Medien sind bereits voller Diskussionen über die möglichen Auswirkungen auf die beiden Clubs und ihre Anhänger. Messi, der für seine Loyalität und Hingabe zu Barcelona bekannt ist, wird nun in einer neuen Umgebung spielen, was sowohl Herausforderungen als auch Chancen mit sich bringt.\\n\\nDie Gründe für diesen Wechsel könnten vielfältig sein. Möglicherweise sucht Messi nach einer neuen Herausforderung oder möchte seine Karriere in einem anderen Kontext fortsetzen. Der Druck und die Erwartungen bei Real Madrid könnten jedoch erheblich sein, besonders angesichts der hohen Ansprüche der Fans und der Vereinsführung. Es bleibt abzuwarten, wie sich dieser Wechsel auf die Dynamik in La Liga und den internationalen Fußball auswirken wird.'}\n",
      "News : Reading article but doing nothing to change it...\n",
      "news_chef_router: Current state: {'article_state': 'Lionel Messi, einer der größten Fußballspieler aller Zeiten, steht vor einem überraschenden Wechsel von Barcelona zu Real Madrid. Diese Nachricht hat die Fußballwelt in Aufregung versetzt, da Messi über zwei Jahrzehnte lang das Herzstück des FC Barcelona war. Seine beeindruckenden Fähigkeiten, seine Spielintelligenz und seine unzähligen Tore haben ihn zu einer Legende gemacht, die die Fans in aller Welt begeistert hat.\\n\\nDer Wechsel zu Real Madrid, dem Erzrivalen von Barcelona, könnte als eine der kontroversesten Entscheidungen in der Geschichte des Fußballs angesehen werden. Fans beider Seiten haben leidenschaftliche Meinungen zu diesem Thema, und die sozialen Medien sind bereits voller Diskussionen über die möglichen Auswirkungen auf die beiden Clubs und ihre Anhänger. Messi, der für seine Loyalität und Hingabe zu Barcelona bekannt ist, wird nun in einer neuen Umgebung spielen, was sowohl Herausforderungen als auch Chancen mit sich bringt.\\n\\nDie Gründe für diesen Wechsel könnten vielfältig sein. Möglicherweise sucht Messi nach einer neuen Herausforderung oder möchte seine Karriere in einem anderen Kontext fortsetzen. Der Druck und die Erwartungen bei Real Madrid könnten jedoch erheblich sein, besonders angesichts der hohen Ansprüche der Fans und der Vereinsführung. Es bleibt abzuwarten, wie sich dieser Wechsel auf die Dynamik in La Liga und den internationalen Fußball auswirken wird.'}\n",
      "News chef result:  can_be_posted='yes' meets_word_count='yes' is_sensationalistic='yes' is_language_german='yes'\n",
      "publisher: Current state: {'article_state': 'Lionel Messi, einer der größten Fußballspieler aller Zeiten, steht vor einem überraschenden Wechsel von Barcelona zu Real Madrid. Diese Nachricht hat die Fußballwelt in Aufregung versetzt, da Messi über zwei Jahrzehnte lang das Herzstück des FC Barcelona war. Seine beeindruckenden Fähigkeiten, seine Spielintelligenz und seine unzähligen Tore haben ihn zu einer Legende gemacht, die die Fans in aller Welt begeistert hat.\\n\\nDer Wechsel zu Real Madrid, dem Erzrivalen von Barcelona, könnte als eine der kontroversesten Entscheidungen in der Geschichte des Fußballs angesehen werden. Fans beider Seiten haben leidenschaftliche Meinungen zu diesem Thema, und die sozialen Medien sind bereits voller Diskussionen über die möglichen Auswirkungen auf die beiden Clubs und ihre Anhänger. Messi, der für seine Loyalität und Hingabe zu Barcelona bekannt ist, wird nun in einer neuen Umgebung spielen, was sowohl Herausforderungen als auch Chancen mit sich bringt.\\n\\nDie Gründe für diesen Wechsel könnten vielfältig sein. Möglicherweise sucht Messi nach einer neuen Herausforderung oder möchte seine Karriere in einem anderen Kontext fortsetzen. Der Druck und die Erwartungen bei Real Madrid könnten jedoch erheblich sein, besonders angesichts der hohen Ansprüche der Fans und der Vereinsführung. Es bleibt abzuwarten, wie sich dieser Wechsel auf die Dynamik in La Liga und den internationalen Fußball auswirken wird.'}\n",
      "FINAL_STATE in publisher: {'article_state': 'Lionel Messi, einer der größten Fußballspieler aller Zeiten, steht vor einem überraschenden Wechsel von Barcelona zu Real Madrid. Diese Nachricht hat die Fußballwelt in Aufregung versetzt, da Messi über zwei Jahrzehnte lang das Herzstück des FC Barcelona war. Seine beeindruckenden Fähigkeiten, seine Spielintelligenz und seine unzähligen Tore haben ihn zu einer Legende gemacht, die die Fans in aller Welt begeistert hat.\\n\\nDer Wechsel zu Real Madrid, dem Erzrivalen von Barcelona, könnte als eine der kontroversesten Entscheidungen in der Geschichte des Fußballs angesehen werden. Fans beider Seiten haben leidenschaftliche Meinungen zu diesem Thema, und die sozialen Medien sind bereits voller Diskussionen über die möglichen Auswirkungen auf die beiden Clubs und ihre Anhänger. Messi, der für seine Loyalität und Hingabe zu Barcelona bekannt ist, wird nun in einer neuen Umgebung spielen, was sowohl Herausforderungen als auch Chancen mit sich bringt.\\n\\nDie Gründe für diesen Wechsel könnten vielfältig sein. Möglicherweise sucht Messi nach einer neuen Herausforderung oder möchte seine Karriere in einem anderen Kontext fortsetzen. Der Druck und die Erwartungen bei Real Madrid könnten jedoch erheblich sein, besonders angesichts der hohen Ansprüche der Fans und der Vereinsführung. Es bleibt abzuwarten, wie sich dieser Wechsel auf die Dynamik in La Liga und den internationalen Fußball auswirken wird.'}\n",
      "Final result: {'article_state': 'Lionel Messi, einer der größten Fußballspieler aller Zeiten, steht vor einem überraschenden Wechsel von Barcelona zu Real Madrid. Diese Nachricht hat die Fußballwelt in Aufregung versetzt, da Messi über zwei Jahrzehnte lang das Herzstück des FC Barcelona war. Seine beeindruckenden Fähigkeiten, seine Spielintelligenz und seine unzähligen Tore haben ihn zu einer Legende gemacht, die die Fans in aller Welt begeistert hat.\\n\\nDer Wechsel zu Real Madrid, dem Erzrivalen von Barcelona, könnte als eine der kontroversesten Entscheidungen in der Geschichte des Fußballs angesehen werden. Fans beider Seiten haben leidenschaftliche Meinungen zu diesem Thema, und die sozialen Medien sind bereits voller Diskussionen über die möglichen Auswirkungen auf die beiden Clubs und ihre Anhänger. Messi, der für seine Loyalität und Hingabe zu Barcelona bekannt ist, wird nun in einer neuen Umgebung spielen, was sowohl Herausforderungen als auch Chancen mit sich bringt.\\n\\nDie Gründe für diesen Wechsel könnten vielfältig sein. Möglicherweise sucht Messi nach einer neuen Herausforderung oder möchte seine Karriere in einem anderen Kontext fortsetzen. Der Druck und die Erwartungen bei Real Madrid könnten jedoch erheblich sein, besonders angesichts der hohen Ansprüche der Fans und der Vereinsführung. Es bleibt abzuwarten, wie sich dieser Wechsel auf die Dynamik in La Liga und den internationalen Fußball auswirken wird.'}\n"
     ]
    }
   ],
   "source": [
    "initial_state = {\"article_state\": \"Messi gonna switch from barca to real madrid\"}\n",
    "result = app.invoke(initial_state)\n",
    "\n",
    "print(\"Final result:\", result)"
   ]
  }
 ],
 "metadata": {
  "kernelspec": {
   "display_name": ".venv",
   "language": "python",
   "name": "python3"
  },
  "language_info": {
   "codemirror_mode": {
    "name": "ipython",
    "version": 3
   },
   "file_extension": ".py",
   "mimetype": "text/x-python",
   "name": "python",
   "nbconvert_exporter": "python",
   "pygments_lexer": "ipython3",
   "version": "3.12.1"
  }
 },
 "nbformat": 4,
 "nbformat_minor": 2
}
