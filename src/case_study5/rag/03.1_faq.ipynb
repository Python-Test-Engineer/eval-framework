{
 "cells": [
  {
   "cell_type": "markdown",
   "id": "f8e520df",
   "metadata": {},
   "source": [
    "<img src=\"./images/03-faq.png\" width=700px>\n"
   ]
  },
  {
   "cell_type": "markdown",
   "id": "b44f832a",
   "metadata": {},
   "source": [
    "In this example we will see an example of RAG - Retrieval Augmented Generation.\n",
    "\n",
    "We have 'retrieved' some data and stored in the FAQ variable. In this demo, this is hard coded but there are a multitude of ways of RETRIEVING data to AUGMENT the prompt and consequent GENERATION.\n",
    "\n",
    "OpenAi does not have any domain specifice knowledge. In lieu of a fine tuned model on our domain, we can AUGMENT the prompt with retrieved data.\n",
    "\n",
    "RAG is not just asking questions of documents using vector search - it is augmenting the LLM request with additonal data in lieu of fine tuning the model.\n",
    "\n",
    "We are going to give it a list of FAQs so that we can use a ChatBot to ask questions.\n"
   ]
  },
  {
   "cell_type": "code",
   "execution_count": 1,
   "id": "70e39cd8-ec79-4e3e-9c26-5659d42d0861",
   "metadata": {},
   "outputs": [
    {
     "name": "stderr",
     "output_type": "stream",
     "text": [
      "c:\\Users\\owner\\Desktop\\eval-framework\\.venv\\Lib\\site-packages\\tqdm\\auto.py:21: TqdmWarning: IProgress not found. Please update jupyter and ipywidgets. See https://ipywidgets.readthedocs.io/en/stable/user_install.html\n",
      "  from .autonotebook import tqdm as notebook_tqdm\n"
     ]
    }
   ],
   "source": [
    "import os\n",
    "from dotenv import load_dotenv\n",
    "from openai import OpenAI\n",
    "import gradio as gr"
   ]
  },
  {
   "cell_type": "code",
   "execution_count": 2,
   "id": "3279d690",
   "metadata": {},
   "outputs": [],
   "source": [
    "def get_llm_client(llm_choice):\n",
    "    if llm_choice == \"GROQ\":\n",
    "        client = OpenAI(\n",
    "            base_url=\"https://api.groq.com/openai/v1\",\n",
    "            api_key=os.environ.get(\"GROQ_API_KEY\"),\n",
    "        )\n",
    "        return client\n",
    "    elif llm_choice == \"OPENAI\":\n",
    "        load_dotenv()  # load environment variables from .env fil\n",
    "        client = OpenAI(api_key=os.environ.get(\"OPENAI_API_KEY\"))\n",
    "        return client\n",
    "    else:\n",
    "        raise ValueError(\"Invalid LLM choice. Please choose 'GROQ' or 'OPENAI'.\")"
   ]
  },
  {
   "cell_type": "code",
   "execution_count": 3,
   "id": "231605aa-fccb-447e-89cf-8b187444536a",
   "metadata": {},
   "outputs": [
    {
     "name": "stdout",
     "output_type": "stream",
     "text": [
      "OPENAI_API_KEY not set\n",
      "GROQ_API_KEY exists and begins gsk_0yKDCuUXkz...\n",
      "LLM_CHOICE: GROQ - MODEL: llama-3.3-70b-versatile\n"
     ]
    }
   ],
   "source": [
    "# Load environment variables in a file called .env\n",
    "# Print the key prefixes to help with any debugging\n",
    "load_dotenv()\n",
    "\n",
    "OPENAI_API_KEY = os.getenv(\"OPENAI_AP#I_KEY\")\n",
    "GROQ_API_KEY = os.getenv(\"GROQ_API_KEY\")\n",
    "\n",
    "LLM_CHOICE = \"OPENAI\"\n",
    "LLM_CHOICE = \"GROQ\"\n",
    "\n",
    "if OPENAI_API_KEY:\n",
    "    print(f\"OPENAI_API_KEY exists and begins {OPENAI_API_KEY[:14]}...\")\n",
    "else:\n",
    "    print(\"OPENAI_API_KEY not set\")\n",
    "\n",
    "if GROQ_API_KEY:\n",
    "    print(f\"GROQ_API_KEY exists and begins {GROQ_API_KEY[:14]}...\")\n",
    "else:\n",
    "    print(\"GROQ_API_KEY not set\")\n",
    "\n",
    "\n",
    "client = get_llm_client(LLM_CHOICE)\n",
    "if LLM_CHOICE == \"GROQ\":\n",
    "    MODEL = \"llama-3.3-70b-versatile\"\n",
    "else:\n",
    "    MODEL = \"gpt-4o-mini\"\n",
    "\n",
    "print(f\"LLM_CHOICE: {LLM_CHOICE} - MODEL: {MODEL}\")"
   ]
  },
  {
   "cell_type": "code",
   "execution_count": 4,
   "id": "1eacc8a4-4b48-4358-9e06-ce0020041bc1",
   "metadata": {},
   "outputs": [],
   "source": [
    "# A request to the LLM is stateless so we will always need to pass all the data that is needed each time.\n",
    "\n",
    "# `history` is just that - a record of what has gone on before so that the LLM can have context to answer the query.\n",
    "\n",
    "\n",
    "# We will use GRADIO as our UI.\n",
    "def chat(message, history):\n",
    "    # history is part of the gradio ChatInterface and it stores previous answers\n",
    "    messages = (\n",
    "        [{\"role\": \"system\", \"content\": system_message}]\n",
    "        # + history ## groq adds metadata and causes error\n",
    "        + [{\"role\": \"user\", \"content\": message}]\n",
    "    )\n",
    "    print(\"History is:\")\n",
    "    print(history)\n",
    "    print(\"And messages is:\")\n",
    "    print(messages)\n",
    "    # ====================\n",
    "    # AI bit\n",
    "    stream = client.chat.completions.create(\n",
    "        model=MODEL, messages=messages, stream=True, temperature=0.0\n",
    "    )\n",
    "\n",
    "    # Just UI implementation\n",
    "    response = \"\"\n",
    "    for stream_so_far in stream:\n",
    "        response += stream_so_far.choices[0].delta.content or \"\"\n",
    "        yield response"
   ]
  },
  {
   "cell_type": "code",
   "execution_count": 5,
   "id": "1f91b414-8bab-472d-b9c9-3fa51259bdfe",
   "metadata": {},
   "outputs": [],
   "source": [
    "# We set up the backround scenario in the system messaage.\n",
    "# In some frameworks this is called 'background' or 'character'.\n",
    "\n",
    "system_message = (\n",
    "    \"\"\"You are a helpful assistant that provides answers to questions about PyData. \"\"\"\n",
    ")"
   ]
  },
  {
   "cell_type": "code",
   "execution_count": 6,
   "id": "ce9cfe59",
   "metadata": {},
   "outputs": [],
   "source": [
    "pydata_southampton_facts = [\n",
    "    \"PyData Southampton is a local chapter of the global PyData community based in Southampton, UK.\",\n",
    "    \"The group brings together data science enthusiasts, professionals, and academics from Southampton and the surrounding Hampshire area.\",\n",
    "    \"PyData Southampton regularly hosts meetups featuring talks on data analysis, machine learning, and related Python technologies.\",\n",
    "    \"The chapter has strong connections with the University of Southampton, particularly its data science and AI departments.\",\n",
    "    \"PyData Southampton events typically include networking opportunities for local data professionals and students.\",\n",
    "    \"The group welcomes members of all skill levels, from beginners to experienced data scientists and developers.\",\n",
    "    \"PyData Southampton occasionally collaborates with other tech communities in the South of England for joint events.\",\n",
    "    \"The chapter helps promote open-source Python tools and libraries for data analysis within the local tech ecosystem.\",\n",
    "    \"PyData Southampton meetups often feature both technical presentations and more accessible introductory content.\",\n",
    "    \"The group serves as an important hub for data science knowledge exchange in the Solent region of the UK.\",\n",
    "]"
   ]
  },
  {
   "cell_type": "code",
   "execution_count": 7,
   "id": "698d1d02",
   "metadata": {},
   "outputs": [
    {
     "name": "stdout",
     "output_type": "stream",
     "text": [
      "Total number of facts: 41\n"
     ]
    }
   ],
   "source": [
    "FAQ = [\n",
    "    \"Needle in a haystack? 42 communities in Southampton.\", # Needle in a haystack?\n",
    "    \"PyData is a community for developers and users of data tools in Python, founded in 2012.\",\n",
    "    \"The PyData ecosystem is maintained by NumFOCUS, a 501(c)(3) non-profit organization.\",\n",
    "    \"PyData conferences bring together users and developers of data analysis tools to share ideas and learn from each other.\",\n",
    "    \"The first PyData conference was held in 2012 in New York City.\",\n",
    "    \"PyData events feature workshops, tutorials, and talks on data science, machine learning, and analytics.\",\n",
    "    \"PyData has a global presence with conferences held across North America, Europe, Asia, Australia, and South America.\",\n",
    "    \"Local PyData meetup groups exist in over 100 cities worldwide.\",\n",
    "    \"PyData conferences typically run for 2-3 days, with additional workshop days sometimes offered.\",\n",
    "    \"The PyData community emphasizes open-source software development.\",\n",
    "    \"Key libraries in the PyData ecosystem include NumPy, pandas, Matplotlib, SciPy, and scikit-learn.\",\n",
    "    \"PyData conferences have a code of conduct to ensure inclusivity and respect for all participants.\",\n",
    "    \"Many PyData events offer financial aid programs to increase accessibility.\",\n",
    "    \"PyData conferences often feature keynote speeches from prominent figures in data science and machine learning.\",\n",
    "    \"The PyData YouTube channel - https://www.youtube.com/@PyDataTV - hosts recordings of talks from previous conferences.\",\n",
    "    \"PyData events typically include networking opportunities like conference dinners or social events.\",\n",
    "    \"The PyData community welcomes members of all skill levels, from beginners to experts.\",\n",
    "    \"PyData conferences often have dedicated tracks for different skill levels or specialized topics.\",\n",
    "    \"Many PyData conferences feature 'lightning talks' where participants can give short 5-minute presentations.\",\n",
    "    \"PyData events sometimes include hackathons or sprints to contribute to open-source projects.\",\n",
    "    \"Local PyData meetups often serve as a gateway for people to get involved with the broader community.\",\n",
    "    \"Some popular annual PyData conferences include PyData London, PyData New York, and PyData Berlin.\",\n",
    "    \"PyData conferences attract attendees from academia, industry, and government sectors.\",\n",
    "    \"Speaker proposals for PyData conferences are typically selected through a community review process.\",\n",
    "    \"Many PyData conferences are run primarily by volunteers from the local community.\",\n",
    "    \"PyData often collaborates with other Python communities like SciPy and PyCon.\",\n",
    "    \"The PyData website (pydata.org) serves as a central hub for conference information and community resources.\",\n",
    "    \"PyData has developed into a trusted brand for high-quality technical content in the data science space.\",\n",
    "    \"Many companies sponsor PyData events to connect with the data science community.\",\n",
    "    \"PyData conferences often feature poster sessions where researchers can present their work.\",\n",
    "    \"The PyData community emphasizes diversity and inclusion in both its membership and leadership.\",\n",
    "]\n",
    "\n",
    "FAQ += pydata_southampton_facts\n",
    "# Get total number of facts\n",
    "print(f\"Total number of facts: {len(FAQ)}\")"
   ]
  },
  {
   "cell_type": "code",
   "execution_count": 8,
   "id": "96493ba5",
   "metadata": {},
   "outputs": [],
   "source": [
    "# Create the base system message - 'character and instructions' along with retrieved data.\n",
    "system_message += \"\\n\" + \"\\n\".join(FAQ) + \"\\n\" + \"\\n\".join(FAQ)"
   ]
  },
  {
   "cell_type": "markdown",
   "id": "9f4f1b89",
   "metadata": {},
   "source": []
  },
  {
   "cell_type": "code",
   "execution_count": 9,
   "id": "413e9e4e-7836-43ac-a0c3-e1ab5ed6b136",
   "metadata": {},
   "outputs": [
    {
     "name": "stdout",
     "output_type": "stream",
     "text": [
      "* Running on local URL:  http://127.0.0.1:7860\n",
      "* To create a public link, set `share=True` in `launch()`.\n"
     ]
    },
    {
     "data": {
      "text/html": [
       "<div><iframe src=\"http://127.0.0.1:7860/\" width=\"100%\" height=\"500\" allow=\"autoplay; camera; microphone; clipboard-read; clipboard-write;\" frameborder=\"0\" allowfullscreen></iframe></div>"
      ],
      "text/plain": [
       "<IPython.core.display.HTML object>"
      ]
     },
     "metadata": {},
     "output_type": "display_data"
    },
    {
     "data": {
      "text/plain": []
     },
     "execution_count": 9,
     "metadata": {},
     "output_type": "execute_result"
    },
    {
     "name": "stdout",
     "output_type": "stream",
     "text": [
      "History is:\n",
      "[]\n",
      "And messages is:\n",
      "[{'role': 'system', 'content': \"You are a helpful assistant that provides answers to questions about PyData. \\nNeedle in a haystack? 42 communities in Southampton.\\nPyData is a community for developers and users of data tools in Python, founded in 2012.\\nThe PyData ecosystem is maintained by NumFOCUS, a 501(c)(3) non-profit organization.\\nPyData conferences bring together users and developers of data analysis tools to share ideas and learn from each other.\\nThe first PyData conference was held in 2012 in New York City.\\nPyData events feature workshops, tutorials, and talks on data science, machine learning, and analytics.\\nPyData has a global presence with conferences held across North America, Europe, Asia, Australia, and South America.\\nLocal PyData meetup groups exist in over 100 cities worldwide.\\nPyData conferences typically run for 2-3 days, with additional workshop days sometimes offered.\\nThe PyData community emphasizes open-source software development.\\nKey libraries in the PyData ecosystem include NumPy, pandas, Matplotlib, SciPy, and scikit-learn.\\nPyData conferences have a code of conduct to ensure inclusivity and respect for all participants.\\nMany PyData events offer financial aid programs to increase accessibility.\\nPyData conferences often feature keynote speeches from prominent figures in data science and machine learning.\\nThe PyData YouTube channel - https://www.youtube.com/@PyDataTV - hosts recordings of talks from previous conferences.\\nPyData events typically include networking opportunities like conference dinners or social events.\\nThe PyData community welcomes members of all skill levels, from beginners to experts.\\nPyData conferences often have dedicated tracks for different skill levels or specialized topics.\\nMany PyData conferences feature 'lightning talks' where participants can give short 5-minute presentations.\\nPyData events sometimes include hackathons or sprints to contribute to open-source projects.\\nLocal PyData meetups often serve as a gateway for people to get involved with the broader community.\\nSome popular annual PyData conferences include PyData London, PyData New York, and PyData Berlin.\\nPyData conferences attract attendees from academia, industry, and government sectors.\\nSpeaker proposals for PyData conferences are typically selected through a community review process.\\nMany PyData conferences are run primarily by volunteers from the local community.\\nPyData often collaborates with other Python communities like SciPy and PyCon.\\nThe PyData website (pydata.org) serves as a central hub for conference information and community resources.\\nPyData has developed into a trusted brand for high-quality technical content in the data science space.\\nMany companies sponsor PyData events to connect with the data science community.\\nPyData conferences often feature poster sessions where researchers can present their work.\\nThe PyData community emphasizes diversity and inclusion in both its membership and leadership.\\nPyData Southampton is a local chapter of the global PyData community based in Southampton, UK.\\nThe group brings together data science enthusiasts, professionals, and academics from Southampton and the surrounding Hampshire area.\\nPyData Southampton regularly hosts meetups featuring talks on data analysis, machine learning, and related Python technologies.\\nThe chapter has strong connections with the University of Southampton, particularly its data science and AI departments.\\nPyData Southampton events typically include networking opportunities for local data professionals and students.\\nThe group welcomes members of all skill levels, from beginners to experienced data scientists and developers.\\nPyData Southampton occasionally collaborates with other tech communities in the South of England for joint events.\\nThe chapter helps promote open-source Python tools and libraries for data analysis within the local tech ecosystem.\\nPyData Southampton meetups often feature both technical presentations and more accessible introductory content.\\nThe group serves as an important hub for data science knowledge exchange in the Solent region of the UK.\\nNeedle in a haystack? 42 communities in Southampton.\\nPyData is a community for developers and users of data tools in Python, founded in 2012.\\nThe PyData ecosystem is maintained by NumFOCUS, a 501(c)(3) non-profit organization.\\nPyData conferences bring together users and developers of data analysis tools to share ideas and learn from each other.\\nThe first PyData conference was held in 2012 in New York City.\\nPyData events feature workshops, tutorials, and talks on data science, machine learning, and analytics.\\nPyData has a global presence with conferences held across North America, Europe, Asia, Australia, and South America.\\nLocal PyData meetup groups exist in over 100 cities worldwide.\\nPyData conferences typically run for 2-3 days, with additional workshop days sometimes offered.\\nThe PyData community emphasizes open-source software development.\\nKey libraries in the PyData ecosystem include NumPy, pandas, Matplotlib, SciPy, and scikit-learn.\\nPyData conferences have a code of conduct to ensure inclusivity and respect for all participants.\\nMany PyData events offer financial aid programs to increase accessibility.\\nPyData conferences often feature keynote speeches from prominent figures in data science and machine learning.\\nThe PyData YouTube channel - https://www.youtube.com/@PyDataTV - hosts recordings of talks from previous conferences.\\nPyData events typically include networking opportunities like conference dinners or social events.\\nThe PyData community welcomes members of all skill levels, from beginners to experts.\\nPyData conferences often have dedicated tracks for different skill levels or specialized topics.\\nMany PyData conferences feature 'lightning talks' where participants can give short 5-minute presentations.\\nPyData events sometimes include hackathons or sprints to contribute to open-source projects.\\nLocal PyData meetups often serve as a gateway for people to get involved with the broader community.\\nSome popular annual PyData conferences include PyData London, PyData New York, and PyData Berlin.\\nPyData conferences attract attendees from academia, industry, and government sectors.\\nSpeaker proposals for PyData conferences are typically selected through a community review process.\\nMany PyData conferences are run primarily by volunteers from the local community.\\nPyData often collaborates with other Python communities like SciPy and PyCon.\\nThe PyData website (pydata.org) serves as a central hub for conference information and community resources.\\nPyData has developed into a trusted brand for high-quality technical content in the data science space.\\nMany companies sponsor PyData events to connect with the data science community.\\nPyData conferences often feature poster sessions where researchers can present their work.\\nThe PyData community emphasizes diversity and inclusion in both its membership and leadership.\\nPyData Southampton is a local chapter of the global PyData community based in Southampton, UK.\\nThe group brings together data science enthusiasts, professionals, and academics from Southampton and the surrounding Hampshire area.\\nPyData Southampton regularly hosts meetups featuring talks on data analysis, machine learning, and related Python technologies.\\nThe chapter has strong connections with the University of Southampton, particularly its data science and AI departments.\\nPyData Southampton events typically include networking opportunities for local data professionals and students.\\nThe group welcomes members of all skill levels, from beginners to experienced data scientists and developers.\\nPyData Southampton occasionally collaborates with other tech communities in the South of England for joint events.\\nThe chapter helps promote open-source Python tools and libraries for data analysis within the local tech ecosystem.\\nPyData Southampton meetups often feature both technical presentations and more accessible introductory content.\\nThe group serves as an important hub for data science knowledge exchange in the Solent region of the UK.\"}, {'role': 'user', 'content': 'how many communitiesw'}]\n"
     ]
    }
   ],
   "source": [
    "# We use Gradio for a chat interface\n",
    "# prompt: I am interested in green belts, probably coming Sunday and will have cash. Is this OK?\n",
    "\n",
    "gr.ChatInterface(fn=chat, type=\"messages\").launch()"
   ]
  }
 ],
 "metadata": {
  "kernelspec": {
   "display_name": "eval-framework",
   "language": "python",
   "name": "python3"
  },
  "language_info": {
   "codemirror_mode": {
    "name": "ipython",
    "version": 3
   },
   "file_extension": ".py",
   "mimetype": "text/x-python",
   "name": "python",
   "nbconvert_exporter": "python",
   "pygments_lexer": "ipython3",
   "version": "3.12.1"
  }
 },
 "nbformat": 4,
 "nbformat_minor": 5
}
