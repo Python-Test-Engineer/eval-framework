{
 "cells": [
  {
   "cell_type": "code",
   "execution_count": 1,
   "id": "46303216",
   "metadata": {},
   "outputs": [
    {
     "data": {
      "application/vnd.jupyter.widget-view+json": {
       "model_id": "a5472d46387b4656a4e66cfb31d741c2",
       "version_major": 2,
       "version_minor": 0
      },
      "text/plain": [
       "Evaluating:   0%|          | 0/3 [00:00<?, ?it/s]"
      ]
     },
     "metadata": {},
     "output_type": "display_data"
    }
   ],
   "source": [
    "from ragas.metrics import faithfulness, context_precision, context_recall\n",
    "from datasets import Dataset\n",
    "from ragas import evaluate\n",
    "\n",
    "# This is what goes into RAGAS evaluation\n",
    "eval_data = {\n",
    "    \"question\": [\"What is Langraph?\"],\n",
    "    \"answer\": [\n",
    "        \"LangGraph is a library for building stateful, multi-actor applications with Large Language Models (LLMs), built on top of LangChain. It uses a finite state machine approach.\"\n",
    "    ],\n",
    "    \"contexts\": [  # ← These are your retrieved chunks\n",
    "        [\n",
    "            \"\"\"LangGraph is a library for building stateful, multi-actor applications with Large Language Models (LLMs), built on top of LangChain. It's designed to create complex, graph-based workflows where different components can interact and maintain state across multiple steps.\n",
    "            Key Features\n",
    "            Graph-based Architecture: LangGraph represents your application as a directed graph where nodes are functions (often LLM calls or other operations) and edges define the flow between them.\n",
    "            State Management: Unlike simple chains, LangGraph maintains state that persists across the entire workflow, allowing for complex multi-step reasoning and decision-making.\n",
    "    \"\"\"\n",
    "        ]\n",
    "    ],\n",
    "    \"ground_truth\": [\n",
    "        \"LangGraph is a library for building stateful, multi-actor applications with Large Language Models (LLMs), built on top of LangChain..\"\n",
    "    ],\n",
    "}\n",
    "\n",
    "dataset = Dataset.from_dict(eval_data)\n",
    "\n",
    "# RAGAS will check:\n",
    "# - Faithfulness: Is the answer supported by the contexts?\n",
    "# - Context Precision: Are the contexts relevant to the question?+\n",
    "# - Context Recall: Are the contexts relevant to the ground truth?\n",
    "\n",
    "results = evaluate(\n",
    "    dataset,\n",
    "    metrics=[faithfulness, context_precision, context_recall],\n",
    ")"
   ]
  },
  {
   "cell_type": "code",
   "execution_count": 2,
   "id": "61aefaa9",
   "metadata": {},
   "outputs": [
    {
     "data": {
      "text/plain": [
       "{'faithfulness': 0.6667, 'context_precision': 1.0000, 'context_recall': 1.0000}"
      ]
     },
     "execution_count": 2,
     "metadata": {},
     "output_type": "execute_result"
    }
   ],
   "source": [
    "results"
   ]
  }
 ],
 "metadata": {
  "kernelspec": {
   "display_name": "eval-framework",
   "language": "python",
   "name": "python3"
  },
  "language_info": {
   "codemirror_mode": {
    "name": "ipython",
    "version": 3
   },
   "file_extension": ".py",
   "mimetype": "text/x-python",
   "name": "python",
   "nbconvert_exporter": "python",
   "pygments_lexer": "ipython3",
   "version": "3.12.1"
  }
 },
 "nbformat": 4,
 "nbformat_minor": 5
}
