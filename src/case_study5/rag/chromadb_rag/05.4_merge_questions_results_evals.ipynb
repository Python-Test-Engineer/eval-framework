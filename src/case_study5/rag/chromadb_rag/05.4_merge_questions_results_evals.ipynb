{
 "cells": [
  {
   "cell_type": "code",
   "execution_count": null,
   "id": "4a6822ca",
   "metadata": {},
   "outputs": [],
   "source": [
    "import pandas as pd "
   ]
  },
  {
   "cell_type": "code",
   "execution_count": 7,
   "id": "b32992d9",
   "metadata": {},
   "outputs": [
    {
     "name": "stdout",
     "output_type": "stream",
     "text": [
      "4\n"
     ]
    },
    {
     "data": {
      "application/vnd.microsoft.datawrangler.viewer.v0+json": {
       "columns": [
        {
         "name": "index",
         "rawType": "int64",
         "type": "integer"
        },
        {
         "name": "id",
         "rawType": "object",
         "type": "string"
        },
        {
         "name": "question",
         "rawType": "object",
         "type": "string"
        },
        {
         "name": "contexts",
         "rawType": "object",
         "type": "string"
        },
        {
         "name": "metadata",
         "rawType": "object",
         "type": "string"
        }
       ],
       "ref": "07ccea1e-580e-4eec-bafe-d9e8a824014a",
       "rows": [
        [
         "0",
         "04d59d5a-73f5-4827-90f9-4ce75ef74473",
         "What was the climate change about last year?",
         "Climate change poses significant risks to global food security and agricultural systems, threatening the livelihoods of billions of people worldwide and challenging the fundamental stability of food production networks. Rising temperatures, altered precipitation patterns, and increased frequency of extreme weather events are disrupting traditional farming practices and crop yields across different geographic regions. Agricultural communities face unprecedented challenges as changing climate conditions affect soil quality, water availability, and pest populations, forcing farmers to adapt their cultivation methods and crop selections. Developing nations are particularly vulnerable to these impacts, as their agricultural sectors often lack the resources and technology needed for rapid adaptation to changing environmental conditions. Food price volatility has increased as supply chains become more susceptible to climate-related disruptions, affecting global markets and food accessibility for vulnerable populations. Scientists and agricultural experts are developing climate-resilient crop varieties, implementing sustainable farming practices, and creating early warning systems to help communities prepare for climate-related challenges. International cooperation and investment in agricultural research, infrastructure development, and technology transfer are essential for building resilient food systems capable of feeding a growing global population while mitigating environmental impacts. The urgency of addressing climate change's agricultural impacts cannot be overstated, as food security represents a fundamental human need and economic stability factor.",
         "{'source': 'journal_article', 'keywords_str': 'climate change, food security, agriculture', 'author': 'Maria Rodriguez', 'year': 2022}"
        ],
        [
         "1",
         "04d59d5a-73f5-4827-90f9-4ce75ef74473",
         "Why was food price volatility so high?",
         "Climate change poses significant risks to global food security and agricultural systems, threatening the livelihoods of billions of people worldwide and challenging the fundamental stability of food production networks. Rising temperatures, altered precipitation patterns, and increased frequency of extreme weather events are disrupting traditional farming practices and crop yields across different geographic regions. Agricultural communities face unprecedented challenges as changing climate conditions affect soil quality, water availability, and pest populations, forcing farmers to adapt their cultivation methods and crop selections. Developing nations are particularly vulnerable to these impacts, as their agricultural sectors often lack the resources and technology needed for rapid adaptation to changing environmental conditions. Food price volatility has increased as supply chains become more susceptible to climate-related disruptions, affecting global markets and food accessibility for vulnerable populations. Scientists and agricultural experts are developing climate-resilient crop varieties, implementing sustainable farming practices, and creating early warning systems to help communities prepare for climate-related challenges. International cooperation and investment in agricultural research, infrastructure development, and technology transfer are essential for building resilient food systems capable of feeding a growing global population while mitigating environmental impacts. The urgency of addressing climate change's agricultural impacts cannot be overstated, as food security represents a fundamental human need and economic stability factor.",
         "{'keywords_str': 'climate change, food security, agriculture', 'source': 'journal_article', 'author': 'Maria Rodriguez', 'year': 2022}"
        ],
        [
         "2",
         "071c8d19-d748-4ad2-bd31-21cb756b4a9e",
         "What does CRISPR-Cas9 enable?",
         "Genetic editing techniques show promise for treating previously incurable diseases, offering hope to millions of patients worldwide who suffer from inherited disorders, cancer, and other conditions that have resisted traditional therapeutic approaches for generations. CRISPR-Cas9 and other advanced gene editing technologies enable precise modifications to DNA sequences, allowing scientists to correct genetic defects, enhance immune system responses, and develop personalized treatments tailored to individual patient genetics and disease characteristics. Clinical trials are demonstrating remarkable success in treating conditions like sickle cell disease, Duchenne muscular dystrophy, and certain types of cancer, with some patients experiencing complete remission after receiving genetically modified cell therapies. The potential applications of genetic editing extend beyond treating existing diseases to preventing hereditary conditions from being passed to future generations, raising important ethical questions about human enhancement and the appropriate limits of genetic intervention. Regulatory agencies are carefully evaluating the safety and efficacy of genetic editing therapies while developing frameworks to ensure responsible research and clinical application of these powerful technologies. Scientists emphasize the importance of rigorous testing, informed consent processes, and equitable access to genetic treatments to prevent these revolutionary therapies from exacerbating existing healthcare disparities. International collaboration and knowledge sharing are accelerating genetic editing research while establishing ethical guidelines and safety standards that protect patients and maintain public trust in genetic medicine's potential to transform healthcare delivery and outcomes.",
         "{'year': 2024, 'keywords_str': 'genetic editing, CRISPR, medical research', 'author': 'Dr. Emma Watson', 'source': 'biotech_research'}"
        ],
        [
         "3",
         "59280b90-3a54-4ecb-9044-76d94ad22f20",
         "Optimise self driving?",
         "Urban planning strategies are adapting to accommodate autonomous vehicles, fundamentally reimagining city infrastructure, transportation networks, and land use patterns to optimize the benefits of self-driving technology while addressing potential challenges and unintended consequences. City planners and transportation engineers are redesigning road systems, parking facilities, and traffic management systems to support seamless integration of autonomous vehicles with existing transportation modes, including public transit, cycling, and pedestrian infrastructure. The widespread adoption of autonomous vehicles promises to reduce traffic congestion, lower accident rates, and improve mobility access for elderly and disabled populations who may face challenges with traditional transportation options. However, this technological transition also raises concerns about potential increases in vehicle miles traveled, urban sprawl, and impacts on public transportation ridership and funding sustainability. Smart city initiatives are incorporating autonomous vehicle capabilities into comprehensive urban planning frameworks that address housing, economic development, environmental sustainability, and social equity considerations. Planners must consider the implications of reduced parking demand, which could free up valuable urban land for housing, parks, and commercial development, while ensuring that autonomous vehicle benefits are accessible to all income levels and communities. Collaboration between technology companies, government agencies, and community stakeholders is essential for developing autonomous vehicle policies and infrastructure investments that support inclusive, sustainable urban development while maximizing the societal benefits of this transformative transportation technology.",
         "{'year': 2023, 'source': 'urban_studies_journal', 'keywords_str': 'urban planning, autonomous vehicles, infrastructure', 'author': 'City Planning Institute'}"
        ]
       ],
       "shape": {
        "columns": 4,
        "rows": 4
       }
      },
      "text/html": [
       "<div>\n",
       "<style scoped>\n",
       "    .dataframe tbody tr th:only-of-type {\n",
       "        vertical-align: middle;\n",
       "    }\n",
       "\n",
       "    .dataframe tbody tr th {\n",
       "        vertical-align: top;\n",
       "    }\n",
       "\n",
       "    .dataframe thead th {\n",
       "        text-align: right;\n",
       "    }\n",
       "</style>\n",
       "<table border=\"1\" class=\"dataframe\">\n",
       "  <thead>\n",
       "    <tr style=\"text-align: right;\">\n",
       "      <th></th>\n",
       "      <th>id</th>\n",
       "      <th>question</th>\n",
       "      <th>contexts</th>\n",
       "      <th>metadata</th>\n",
       "    </tr>\n",
       "  </thead>\n",
       "  <tbody>\n",
       "    <tr>\n",
       "      <th>0</th>\n",
       "      <td>04d59d5a-73f5-4827-90f9-4ce75ef74473</td>\n",
       "      <td>What was the climate change about last year?</td>\n",
       "      <td>Climate change poses significant risks to glob...</td>\n",
       "      <td>{'source': 'journal_article', 'keywords_str': ...</td>\n",
       "    </tr>\n",
       "    <tr>\n",
       "      <th>1</th>\n",
       "      <td>04d59d5a-73f5-4827-90f9-4ce75ef74473</td>\n",
       "      <td>Why was food price volatility so high?</td>\n",
       "      <td>Climate change poses significant risks to glob...</td>\n",
       "      <td>{'keywords_str': 'climate change, food securit...</td>\n",
       "    </tr>\n",
       "    <tr>\n",
       "      <th>2</th>\n",
       "      <td>071c8d19-d748-4ad2-bd31-21cb756b4a9e</td>\n",
       "      <td>What does CRISPR-Cas9 enable?</td>\n",
       "      <td>Genetic editing techniques show promise for tr...</td>\n",
       "      <td>{'year': 2024, 'keywords_str': 'genetic editin...</td>\n",
       "    </tr>\n",
       "    <tr>\n",
       "      <th>3</th>\n",
       "      <td>59280b90-3a54-4ecb-9044-76d94ad22f20</td>\n",
       "      <td>Optimise self driving?</td>\n",
       "      <td>Urban planning strategies are adapting to acco...</td>\n",
       "      <td>{'year': 2023, 'source': 'urban_studies_journa...</td>\n",
       "    </tr>\n",
       "  </tbody>\n",
       "</table>\n",
       "</div>"
      ],
      "text/plain": [
       "                                     id  \\\n",
       "0  04d59d5a-73f5-4827-90f9-4ce75ef74473   \n",
       "1  04d59d5a-73f5-4827-90f9-4ce75ef74473   \n",
       "2  071c8d19-d748-4ad2-bd31-21cb756b4a9e   \n",
       "3  59280b90-3a54-4ecb-9044-76d94ad22f20   \n",
       "\n",
       "                                       question  \\\n",
       "0  What was the climate change about last year?   \n",
       "1        Why was food price volatility so high?   \n",
       "2                 What does CRISPR-Cas9 enable?   \n",
       "3                        Optimise self driving?   \n",
       "\n",
       "                                            contexts  \\\n",
       "0  Climate change poses significant risks to glob...   \n",
       "1  Climate change poses significant risks to glob...   \n",
       "2  Genetic editing techniques show promise for tr...   \n",
       "3  Urban planning strategies are adapting to acco...   \n",
       "\n",
       "                                            metadata  \n",
       "0  {'source': 'journal_article', 'keywords_str': ...  \n",
       "1  {'keywords_str': 'climate change, food securit...  \n",
       "2  {'year': 2024, 'keywords_str': 'genetic editin...  \n",
       "3  {'year': 2023, 'source': 'urban_studies_journa...  "
      ]
     },
     "execution_count": 7,
     "metadata": {},
     "output_type": "execute_result"
    }
   ],
   "source": [
    "# read in results\n",
    "df_results = pd.read_csv(\"05.3_results.csv\", delimiter=\"|\", encoding=\"utf8\")\n",
    "print(len(df_results))\n",
    "df_results.head()"
   ]
  },
  {
   "cell_type": "code",
   "execution_count": null,
   "id": "0d7e602f",
   "metadata": {},
   "outputs": [],
   "source": [
    "# get answer"
   ]
  }
 ],
 "metadata": {
  "kernelspec": {
   "display_name": "eval-framework",
   "language": "python",
   "name": "python3"
  },
  "language_info": {
   "codemirror_mode": {
    "name": "ipython",
    "version": 3
   },
   "file_extension": ".py",
   "mimetype": "text/x-python",
   "name": "python",
   "nbconvert_exporter": "python",
   "pygments_lexer": "ipython3",
   "version": "3.12.11"
  }
 },
 "nbformat": 4,
 "nbformat_minor": 5
}
