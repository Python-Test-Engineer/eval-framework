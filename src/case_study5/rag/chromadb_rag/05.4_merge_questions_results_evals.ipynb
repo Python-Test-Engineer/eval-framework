{
 "cells": [
  {
   "cell_type": "code",
   "execution_count": 1,
   "id": "70e39cd8-ec79-4e3e-9c26-5659d42d0861",
   "metadata": {},
   "outputs": [],
   "source": [
    "import os\n",
    "from dotenv import load_dotenv, find_dotenv\n",
    "import pandas as pd\n",
    "from openai import OpenAI"
   ]
  },
  {
   "cell_type": "code",
   "execution_count": 2,
   "id": "c36cee87",
   "metadata": {},
   "outputs": [
    {
     "data": {
      "text/plain": [
       "True"
      ]
     },
     "execution_count": 2,
     "metadata": {},
     "output_type": "execute_result"
    }
   ],
   "source": [
    "load_dotenv(find_dotenv(), override=True)"
   ]
  },
  {
   "cell_type": "markdown",
   "id": "20aebcce",
   "metadata": {},
   "source": []
  },
  {
   "cell_type": "code",
   "execution_count": 3,
   "id": "6508d02e",
   "metadata": {},
   "outputs": [],
   "source": [
    "CSV_QUESTIONS = \"05.0_questions.csv\"\n",
    "CSV_GROUND_TRUTH = \"05.0_ground_truths.csv\"\n",
    "CSV_CONTEXTS = \"05.3_selected_contexts.csv\"  # RAG contexts\n",
    "CSV_LLM_ANSWERS = \"05.5_answers.csv\"  # LLM answers\n",
    "CSV_EVALS_NO_GROUND_TRUTH = \"05.6_evals_no_ground_truths.csv\"  # All bar ground truths\n",
    "CSV_COMPLETE = \"05.7_complete_evals_dataset.csv\"  # ALL"
   ]
  },
  {
   "cell_type": "code",
   "execution_count": 4,
   "id": "3279d690",
   "metadata": {},
   "outputs": [],
   "source": [
    "def get_llm_client(llm_choice):\n",
    "    if llm_choice == \"GROQ\":\n",
    "        client = OpenAI(\n",
    "            base_url=\"https://api.groq.com/openai/v1\",\n",
    "            api_key=os.environ.get(\"GROQ_API_KEY\"),\n",
    "        )\n",
    "        return client\n",
    "    elif llm_choice == \"OPENAI\":\n",
    "        load_dotenv()  # load environment variables from .env fil\n",
    "        client = OpenAI(api_key=os.environ.get(\"OPENAI_API_KEY\"))\n",
    "        return client\n",
    "    else:\n",
    "        raise ValueError(\"Invalid LLM choice. Please choose 'GROQ' or 'OPENAI'.\")"
   ]
  },
  {
   "cell_type": "code",
   "execution_count": 5,
   "id": "231605aa-fccb-447e-89cf-8b187444536a",
   "metadata": {},
   "outputs": [
    {
     "name": "stdout",
     "output_type": "stream",
     "text": [
      "OPENAI_API_KEY exists and begins sk-proj-vIt-L1...\n",
      "GROQ_API_KEY exists and begins gsk_0yKDCuUXkz...\n",
      "LLM_CHOICE: GROQ - MODEL: llama-3.3-70b-versatile\n"
     ]
    }
   ],
   "source": [
    "# Load environment variables in a file called .env\n",
    "# Print the key prefixes to help with any debugging\n",
    "\n",
    "OPENAI_API_KEY = os.getenv(\"OPENAI_API_KEY\")\n",
    "GROQ_API_KEY = os.getenv(\"GROQ_API_KEY\")\n",
    "\n",
    "LLM_CHOICE = \"OPENAI\"\n",
    "LLM_CHOICE = \"GROQ\"\n",
    "\n",
    "if OPENAI_API_KEY:\n",
    "    print(f\"OPENAI_API_KEY exists and begins {OPENAI_API_KEY[:14]}...\")\n",
    "else:\n",
    "    print(\"OPENAI_API_KEY not set\")\n",
    "\n",
    "if GROQ_API_KEY:\n",
    "    print(f\"GROQ_API_KEY exists and begins {GROQ_API_KEY[:14]}...\")\n",
    "else:\n",
    "    print(\"GROQ_API_KEY not set\")\n",
    "\n",
    "\n",
    "client = get_llm_client(LLM_CHOICE)\n",
    "if LLM_CHOICE == \"GROQ\":\n",
    "    MODEL = \"llama-3.3-70b-versatile\"\n",
    "else:\n",
    "    MODEL = \"gpt-4o-mini\"\n",
    "\n",
    "print(f\"LLM_CHOICE: {LLM_CHOICE} - MODEL: {MODEL}\")"
   ]
  },
  {
   "cell_type": "code",
   "execution_count": 6,
   "id": "2400d81b",
   "metadata": {},
   "outputs": [],
   "source": [
    "list_questions = []\n",
    "\n",
    "with open(CSV_QUESTIONS, \"r\") as f:\n",
    "    for line in f:\n",
    "        list_questions.append(line.strip())"
   ]
  },
  {
   "cell_type": "code",
   "execution_count": 7,
   "id": "85a72148",
   "metadata": {},
   "outputs": [
    {
     "name": "stdout",
     "output_type": "stream",
     "text": [
      "['What was the climate change about last year?', 'Why was food price volatility so high?', 'What does CRISPR-Cas9 enable?', 'Optimise self driving?']\n"
     ]
    }
   ],
   "source": [
    "print(list_questions)"
   ]
  },
  {
   "cell_type": "code",
   "execution_count": 8,
   "id": "db71a590",
   "metadata": {},
   "outputs": [
    {
     "data": {
      "text/html": [
       "<div>\n",
       "<style scoped>\n",
       "    .dataframe tbody tr th:only-of-type {\n",
       "        vertical-align: middle;\n",
       "    }\n",
       "\n",
       "    .dataframe tbody tr th {\n",
       "        vertical-align: top;\n",
       "    }\n",
       "\n",
       "    .dataframe thead th {\n",
       "        text-align: right;\n",
       "    }\n",
       "</style>\n",
       "<table border=\"1\" class=\"dataframe\">\n",
       "  <thead>\n",
       "    <tr style=\"text-align: right;\">\n",
       "      <th></th>\n",
       "      <th>id</th>\n",
       "      <th>question</th>\n",
       "      <th>contexts</th>\n",
       "      <th>metadata</th>\n",
       "    </tr>\n",
       "  </thead>\n",
       "  <tbody>\n",
       "    <tr>\n",
       "      <th>0</th>\n",
       "      <td>69b8a036-74e0-440d-9d5e-8a42cd0d4efa</td>\n",
       "      <td>What was the climate change about last year?</td>\n",
       "      <td>Climate change poses significant risks to glob...</td>\n",
       "      <td>{'keywords_str': 'climate change, food securit...</td>\n",
       "    </tr>\n",
       "    <tr>\n",
       "      <th>1</th>\n",
       "      <td>69b8a036-74e0-440d-9d5e-8a42cd0d4efa</td>\n",
       "      <td>Why was food price volatility so high?</td>\n",
       "      <td>Climate change poses significant risks to glob...</td>\n",
       "      <td>{'source': 'journal_article', 'author': 'Maria...</td>\n",
       "    </tr>\n",
       "    <tr>\n",
       "      <th>2</th>\n",
       "      <td>8a2fb5a6-9f44-4cc3-ad4d-6551404a0e15</td>\n",
       "      <td>What does CRISPR-Cas9 enable?</td>\n",
       "      <td>Genetic editing techniques show promise for tr...</td>\n",
       "      <td>{'keywords_str': 'genetic editing, CRISPR, med...</td>\n",
       "    </tr>\n",
       "    <tr>\n",
       "      <th>3</th>\n",
       "      <td>cde31609-587d-4b68-a4d7-5f936c58b3bd</td>\n",
       "      <td>Optimise self driving?</td>\n",
       "      <td>Urban planning strategies are adapting to acco...</td>\n",
       "      <td>{'keywords_str': 'urban planning, autonomous v...</td>\n",
       "    </tr>\n",
       "  </tbody>\n",
       "</table>\n",
       "</div>"
      ],
      "text/plain": [
       "                                     id  \\\n",
       "0  69b8a036-74e0-440d-9d5e-8a42cd0d4efa   \n",
       "1  69b8a036-74e0-440d-9d5e-8a42cd0d4efa   \n",
       "2  8a2fb5a6-9f44-4cc3-ad4d-6551404a0e15   \n",
       "3  cde31609-587d-4b68-a4d7-5f936c58b3bd   \n",
       "\n",
       "                                       question  \\\n",
       "0  What was the climate change about last year?   \n",
       "1        Why was food price volatility so high?   \n",
       "2                 What does CRISPR-Cas9 enable?   \n",
       "3                        Optimise self driving?   \n",
       "\n",
       "                                            contexts  \\\n",
       "0  Climate change poses significant risks to glob...   \n",
       "1  Climate change poses significant risks to glob...   \n",
       "2  Genetic editing techniques show promise for tr...   \n",
       "3  Urban planning strategies are adapting to acco...   \n",
       "\n",
       "                                            metadata  \n",
       "0  {'keywords_str': 'climate change, food securit...  \n",
       "1  {'source': 'journal_article', 'author': 'Maria...  \n",
       "2  {'keywords_str': 'genetic editing, CRISPR, med...  \n",
       "3  {'keywords_str': 'urban planning, autonomous v...  "
      ]
     },
     "execution_count": 8,
     "metadata": {},
     "output_type": "execute_result"
    }
   ],
   "source": [
    "df_contexts = pd.read_csv(CSV_CONTEXTS, sep=\"|\")\n",
    "df_contexts.head()"
   ]
  },
  {
   "cell_type": "code",
   "execution_count": 9,
   "id": "ceb7d370",
   "metadata": {},
   "outputs": [
    {
     "name": "stdout",
     "output_type": "stream",
     "text": [
      "Question: What was the climate change about last year?\n",
      "Answer: According to the context, climate change last year, and in general, posed significant risks to global food security, including rising temperatures, altered precipitation patterns, and increased frequency of extreme weather events, which disrupted traditional farming practices and crop yields.\n",
      "Context: Climate change poses significant risks to global food security and agricultural systems, threatening the livelihoods of billions of people worldwide and challenging the fundamental stability of food production networks. Rising temperatures, altered precipitation patterns, and increased frequency of extreme weather events are disrupting traditional farming practices and crop yields across different geographic regions. Agricultural communities face unprecedented challenges as changing climate conditions affect soil quality, water availability, and pest populations, forcing farmers to adapt their cultivation methods and crop selections. Developing nations are particularly vulnerable to these impacts, as their agricultural sectors often lack the resources and technology needed for rapid adaptation to changing environmental conditions. Food price volatility has increased as supply chains become more susceptible to climate-related disruptions, affecting global markets and food accessibility for vulnerable populations. Scientists and agricultural experts are developing climate-resilient crop varieties, implementing sustainable farming practices, and creating early warning systems to help communities prepare for climate-related challenges. International cooperation and investment in agricultural research, infrastructure development, and technology transfer are essential for building resilient food systems capable of feeding a growing global population while mitigating environmental impacts. The urgency of addressing climate change's agricultural impacts cannot be overstated, as food security represents a fundamental human need and economic stability factor.\n",
      "----------------------------------------------------------------------------------------------------\n",
      "Question: Why was food price volatility so high?\n",
      "Answer: Food price volatility was high due to supply chains becoming more susceptible to climate-related disruptions.\n",
      "Context: Climate change poses significant risks to global food security and agricultural systems, threatening the livelihoods of billions of people worldwide and challenging the fundamental stability of food production networks. Rising temperatures, altered precipitation patterns, and increased frequency of extreme weather events are disrupting traditional farming practices and crop yields across different geographic regions. Agricultural communities face unprecedented challenges as changing climate conditions affect soil quality, water availability, and pest populations, forcing farmers to adapt their cultivation methods and crop selections. Developing nations are particularly vulnerable to these impacts, as their agricultural sectors often lack the resources and technology needed for rapid adaptation to changing environmental conditions. Food price volatility has increased as supply chains become more susceptible to climate-related disruptions, affecting global markets and food accessibility for vulnerable populations. Scientists and agricultural experts are developing climate-resilient crop varieties, implementing sustainable farming practices, and creating early warning systems to help communities prepare for climate-related challenges. International cooperation and investment in agricultural research, infrastructure development, and technology transfer are essential for building resilient food systems capable of feeding a growing global population while mitigating environmental impacts. The urgency of addressing climate change's agricultural impacts cannot be overstated, as food security represents a fundamental human need and economic stability factor.\n",
      "----------------------------------------------------------------------------------------------------\n",
      "Question: What does CRISPR-Cas9 enable?\n",
      "Answer: CRISPR-Cas9 enables precise modifications to DNA sequences, allowing scientists to correct genetic defects, enhance immune system responses, and develop personalized treatments.\n",
      "Context: Genetic editing techniques show promise for treating previously incurable diseases, offering hope to millions of patients worldwide who suffer from inherited disorders, cancer, and other conditions that have resisted traditional therapeutic approaches for generations. CRISPR-Cas9 and other advanced gene editing technologies enable precise modifications to DNA sequences, allowing scientists to correct genetic defects, enhance immune system responses, and develop personalized treatments tailored to individual patient genetics and disease characteristics. Clinical trials are demonstrating remarkable success in treating conditions like sickle cell disease, Duchenne muscular dystrophy, and certain types of cancer, with some patients experiencing complete remission after receiving genetically modified cell therapies. The potential applications of genetic editing extend beyond treating existing diseases to preventing hereditary conditions from being passed to future generations, raising important ethical questions about human enhancement and the appropriate limits of genetic intervention. Regulatory agencies are carefully evaluating the safety and efficacy of genetic editing therapies while developing frameworks to ensure responsible research and clinical application of these powerful technologies. Scientists emphasize the importance of rigorous testing, informed consent processes, and equitable access to genetic treatments to prevent these revolutionary therapies from exacerbating existing healthcare disparities. International collaboration and knowledge sharing are accelerating genetic editing research while establishing ethical guidelines and safety standards that protect patients and maintain public trust in genetic medicine's potential to transform healthcare delivery and outcomes.\n",
      "----------------------------------------------------------------------------------------------------\n",
      "Question: Optimise self driving?\n",
      "Answer: To optimize self-driving technology, city planners are redesigning road systems, parking facilities, and traffic management systems to support seamless integration with existing transportation modes.\n",
      "Context: Urban planning strategies are adapting to accommodate autonomous vehicles, fundamentally reimagining city infrastructure, transportation networks, and land use patterns to optimize the benefits of self-driving technology while addressing potential challenges and unintended consequences. City planners and transportation engineers are redesigning road systems, parking facilities, and traffic management systems to support seamless integration of autonomous vehicles with existing transportation modes, including public transit, cycling, and pedestrian infrastructure. The widespread adoption of autonomous vehicles promises to reduce traffic congestion, lower accident rates, and improve mobility access for elderly and disabled populations who may face challenges with traditional transportation options. However, this technological transition also raises concerns about potential increases in vehicle miles traveled, urban sprawl, and impacts on public transportation ridership and funding sustainability. Smart city initiatives are incorporating autonomous vehicle capabilities into comprehensive urban planning frameworks that address housing, economic development, environmental sustainability, and social equity considerations. Planners must consider the implications of reduced parking demand, which could free up valuable urban land for housing, parks, and commercial development, while ensuring that autonomous vehicle benefits are accessible to all income levels and communities. Collaboration between technology companies, government agencies, and community stakeholders is essential for developing autonomous vehicle policies and infrastructure investments that support inclusive, sustainable urban development while maximizing the societal benefits of this transformative transportation technology.\n",
      "----------------------------------------------------------------------------------------------------\n"
     ]
    }
   ],
   "source": [
    "list_answers = []\n",
    "\n",
    "for i, question in enumerate(list_questions):\n",
    "    context = df_contexts.loc[i, \"contexts\"]\n",
    "    # print(i, question, context)\n",
    "    prompts = [\n",
    "        {\n",
    "            \"role\": \"system\",\n",
    "            \"content\": f\"\"\"You are a RAG specialist. You are given a question from the user and the most relevant context will be provided in <context></context>. You will answer the question based on the context. The answer should be a short and concise answer: \n",
    "            <context>\n",
    "            {context}\n",
    "            </context>\n",
    "            \n",
    "            \"\"\",\n",
    "        },\n",
    "        {\"role\": \"user\", \"content\": question},\n",
    "    ]\n",
    "    # get llm answer\n",
    "    response = client.chat.completions.create(\n",
    "        model=MODEL, messages=prompts, temperature=0.7\n",
    "    )\n",
    "    # print(response.choices[0].message.content)\n",
    "    answer = response.choices[0].message.content\n",
    "    list_answers.append(answer)\n",
    "    print(f\"Question: {question}\")\n",
    "    print(f\"Answer: {answer}\")\n",
    "    print(f\"Context: {context}\")\n",
    "    print(\"-\" * 100)"
   ]
  },
  {
   "cell_type": "code",
   "execution_count": 10,
   "id": "78b4ead3",
   "metadata": {},
   "outputs": [
    {
     "data": {
      "text/html": [
       "<div>\n",
       "<style scoped>\n",
       "    .dataframe tbody tr th:only-of-type {\n",
       "        vertical-align: middle;\n",
       "    }\n",
       "\n",
       "    .dataframe tbody tr th {\n",
       "        vertical-align: top;\n",
       "    }\n",
       "\n",
       "    .dataframe thead th {\n",
       "        text-align: right;\n",
       "    }\n",
       "</style>\n",
       "<table border=\"1\" class=\"dataframe\">\n",
       "  <thead>\n",
       "    <tr style=\"text-align: right;\">\n",
       "      <th></th>\n",
       "      <th>answer</th>\n",
       "    </tr>\n",
       "  </thead>\n",
       "  <tbody>\n",
       "    <tr>\n",
       "      <th>0</th>\n",
       "      <td>According to the context, climate change last ...</td>\n",
       "    </tr>\n",
       "    <tr>\n",
       "      <th>1</th>\n",
       "      <td>Food price volatility was high due to supply c...</td>\n",
       "    </tr>\n",
       "    <tr>\n",
       "      <th>2</th>\n",
       "      <td>CRISPR-Cas9 enables precise modifications to D...</td>\n",
       "    </tr>\n",
       "    <tr>\n",
       "      <th>3</th>\n",
       "      <td>To optimize self-driving technology, city plan...</td>\n",
       "    </tr>\n",
       "  </tbody>\n",
       "</table>\n",
       "</div>"
      ],
      "text/plain": [
       "                                              answer\n",
       "0  According to the context, climate change last ...\n",
       "1  Food price volatility was high due to supply c...\n",
       "2  CRISPR-Cas9 enables precise modifications to D...\n",
       "3  To optimize self-driving technology, city plan..."
      ]
     },
     "execution_count": 10,
     "metadata": {},
     "output_type": "execute_result"
    }
   ],
   "source": [
    "# convert list_answers to pandas dataframe\n",
    "df_answers = pd.DataFrame({\"answer\": list_answers})\n",
    "df_answers.to_csv(CSV_LLM_ANSWERS, index=False)\n",
    "df_answers"
   ]
  },
  {
   "cell_type": "code",
   "execution_count": 11,
   "id": "40393f2a",
   "metadata": {},
   "outputs": [
    {
     "data": {
      "text/html": [
       "<div>\n",
       "<style scoped>\n",
       "    .dataframe tbody tr th:only-of-type {\n",
       "        vertical-align: middle;\n",
       "    }\n",
       "\n",
       "    .dataframe tbody tr th {\n",
       "        vertical-align: top;\n",
       "    }\n",
       "\n",
       "    .dataframe thead th {\n",
       "        text-align: right;\n",
       "    }\n",
       "</style>\n",
       "<table border=\"1\" class=\"dataframe\">\n",
       "  <thead>\n",
       "    <tr style=\"text-align: right;\">\n",
       "      <th></th>\n",
       "      <th>id</th>\n",
       "      <th>question</th>\n",
       "      <th>contexts</th>\n",
       "      <th>metadata</th>\n",
       "      <th>answer</th>\n",
       "    </tr>\n",
       "  </thead>\n",
       "  <tbody>\n",
       "    <tr>\n",
       "      <th>0</th>\n",
       "      <td>69b8a036-74e0-440d-9d5e-8a42cd0d4efa</td>\n",
       "      <td>What was the climate change about last year?</td>\n",
       "      <td>Climate change poses significant risks to glob...</td>\n",
       "      <td>{'keywords_str': 'climate change, food securit...</td>\n",
       "      <td>According to the context, climate change last ...</td>\n",
       "    </tr>\n",
       "    <tr>\n",
       "      <th>1</th>\n",
       "      <td>69b8a036-74e0-440d-9d5e-8a42cd0d4efa</td>\n",
       "      <td>Why was food price volatility so high?</td>\n",
       "      <td>Climate change poses significant risks to glob...</td>\n",
       "      <td>{'source': 'journal_article', 'author': 'Maria...</td>\n",
       "      <td>Food price volatility was high due to supply c...</td>\n",
       "    </tr>\n",
       "    <tr>\n",
       "      <th>2</th>\n",
       "      <td>8a2fb5a6-9f44-4cc3-ad4d-6551404a0e15</td>\n",
       "      <td>What does CRISPR-Cas9 enable?</td>\n",
       "      <td>Genetic editing techniques show promise for tr...</td>\n",
       "      <td>{'keywords_str': 'genetic editing, CRISPR, med...</td>\n",
       "      <td>CRISPR-Cas9 enables precise modifications to D...</td>\n",
       "    </tr>\n",
       "    <tr>\n",
       "      <th>3</th>\n",
       "      <td>cde31609-587d-4b68-a4d7-5f936c58b3bd</td>\n",
       "      <td>Optimise self driving?</td>\n",
       "      <td>Urban planning strategies are adapting to acco...</td>\n",
       "      <td>{'keywords_str': 'urban planning, autonomous v...</td>\n",
       "      <td>To optimize self-driving technology, city plan...</td>\n",
       "    </tr>\n",
       "  </tbody>\n",
       "</table>\n",
       "</div>"
      ],
      "text/plain": [
       "                                     id  \\\n",
       "0  69b8a036-74e0-440d-9d5e-8a42cd0d4efa   \n",
       "1  69b8a036-74e0-440d-9d5e-8a42cd0d4efa   \n",
       "2  8a2fb5a6-9f44-4cc3-ad4d-6551404a0e15   \n",
       "3  cde31609-587d-4b68-a4d7-5f936c58b3bd   \n",
       "\n",
       "                                       question  \\\n",
       "0  What was the climate change about last year?   \n",
       "1        Why was food price volatility so high?   \n",
       "2                 What does CRISPR-Cas9 enable?   \n",
       "3                        Optimise self driving?   \n",
       "\n",
       "                                            contexts  \\\n",
       "0  Climate change poses significant risks to glob...   \n",
       "1  Climate change poses significant risks to glob...   \n",
       "2  Genetic editing techniques show promise for tr...   \n",
       "3  Urban planning strategies are adapting to acco...   \n",
       "\n",
       "                                            metadata  \\\n",
       "0  {'keywords_str': 'climate change, food securit...   \n",
       "1  {'source': 'journal_article', 'author': 'Maria...   \n",
       "2  {'keywords_str': 'genetic editing, CRISPR, med...   \n",
       "3  {'keywords_str': 'urban planning, autonomous v...   \n",
       "\n",
       "                                              answer  \n",
       "0  According to the context, climate change last ...  \n",
       "1  Food price volatility was high due to supply c...  \n",
       "2  CRISPR-Cas9 enables precise modifications to D...  \n",
       "3  To optimize self-driving technology, city plan...  "
      ]
     },
     "execution_count": 11,
     "metadata": {},
     "output_type": "execute_result"
    }
   ],
   "source": [
    "# merge df_contexts and df_answers\n",
    "df_merged = pd.concat([df_contexts, df_answers], axis=1)\n",
    "df_merged"
   ]
  },
  {
   "cell_type": "code",
   "execution_count": 12,
   "id": "6829c792",
   "metadata": {},
   "outputs": [],
   "source": [
    "# save df_merged to csv\n",
    "df_merged.to_csv(CSV_EVALS_NO_GROUND_TRUTH, index=False)"
   ]
  },
  {
   "cell_type": "code",
   "execution_count": 13,
   "id": "533f12ef",
   "metadata": {},
   "outputs": [
    {
     "data": {
      "text/html": [
       "<div>\n",
       "<style scoped>\n",
       "    .dataframe tbody tr th:only-of-type {\n",
       "        vertical-align: middle;\n",
       "    }\n",
       "\n",
       "    .dataframe tbody tr th {\n",
       "        vertical-align: top;\n",
       "    }\n",
       "\n",
       "    .dataframe thead th {\n",
       "        text-align: right;\n",
       "    }\n",
       "</style>\n",
       "<table border=\"1\" class=\"dataframe\">\n",
       "  <thead>\n",
       "    <tr style=\"text-align: right;\">\n",
       "      <th></th>\n",
       "      <th>ground_truth</th>\n",
       "    </tr>\n",
       "  </thead>\n",
       "  <tbody>\n",
       "    <tr>\n",
       "      <th>0</th>\n",
       "      <td>What was the climate change about last year?</td>\n",
       "    </tr>\n",
       "    <tr>\n",
       "      <th>1</th>\n",
       "      <td>Why was food price volatility so high?</td>\n",
       "    </tr>\n",
       "    <tr>\n",
       "      <th>2</th>\n",
       "      <td>What does CRISPR-Cas9 enable?</td>\n",
       "    </tr>\n",
       "    <tr>\n",
       "      <th>3</th>\n",
       "      <td>Optimise self driving?</td>\n",
       "    </tr>\n",
       "  </tbody>\n",
       "</table>\n",
       "</div>"
      ],
      "text/plain": [
       "                                   ground_truth\n",
       "0  What was the climate change about last year?\n",
       "1        Why was food price volatility so high?\n",
       "2                 What does CRISPR-Cas9 enable?\n",
       "3                        Optimise self driving?"
      ]
     },
     "execution_count": 13,
     "metadata": {},
     "output_type": "execute_result"
    }
   ],
   "source": [
    "df_ground_truth = pd.read_csv(CSV_GROUND_TRUTH, sep=\"|\")\n",
    "df_ground_truth.head()"
   ]
  },
  {
   "cell_type": "markdown",
   "id": "9f4f1b89",
   "metadata": {},
   "source": []
  },
  {
   "cell_type": "code",
   "execution_count": 14,
   "id": "dadd3db9",
   "metadata": {},
   "outputs": [
    {
     "data": {
      "text/html": [
       "<div>\n",
       "<style scoped>\n",
       "    .dataframe tbody tr th:only-of-type {\n",
       "        vertical-align: middle;\n",
       "    }\n",
       "\n",
       "    .dataframe tbody tr th {\n",
       "        vertical-align: top;\n",
       "    }\n",
       "\n",
       "    .dataframe thead th {\n",
       "        text-align: right;\n",
       "    }\n",
       "</style>\n",
       "<table border=\"1\" class=\"dataframe\">\n",
       "  <thead>\n",
       "    <tr style=\"text-align: right;\">\n",
       "      <th></th>\n",
       "      <th>id</th>\n",
       "      <th>question</th>\n",
       "      <th>contexts</th>\n",
       "      <th>metadata</th>\n",
       "      <th>answer</th>\n",
       "      <th>ground_truth</th>\n",
       "    </tr>\n",
       "  </thead>\n",
       "  <tbody>\n",
       "    <tr>\n",
       "      <th>0</th>\n",
       "      <td>69b8a036-74e0-440d-9d5e-8a42cd0d4efa</td>\n",
       "      <td>What was the climate change about last year?</td>\n",
       "      <td>Climate change poses significant risks to glob...</td>\n",
       "      <td>{'keywords_str': 'climate change, food securit...</td>\n",
       "      <td>According to the context, climate change last ...</td>\n",
       "      <td>What was the climate change about last year?</td>\n",
       "    </tr>\n",
       "    <tr>\n",
       "      <th>1</th>\n",
       "      <td>69b8a036-74e0-440d-9d5e-8a42cd0d4efa</td>\n",
       "      <td>Why was food price volatility so high?</td>\n",
       "      <td>Climate change poses significant risks to glob...</td>\n",
       "      <td>{'source': 'journal_article', 'author': 'Maria...</td>\n",
       "      <td>Food price volatility was high due to supply c...</td>\n",
       "      <td>Why was food price volatility so high?</td>\n",
       "    </tr>\n",
       "    <tr>\n",
       "      <th>2</th>\n",
       "      <td>8a2fb5a6-9f44-4cc3-ad4d-6551404a0e15</td>\n",
       "      <td>What does CRISPR-Cas9 enable?</td>\n",
       "      <td>Genetic editing techniques show promise for tr...</td>\n",
       "      <td>{'keywords_str': 'genetic editing, CRISPR, med...</td>\n",
       "      <td>CRISPR-Cas9 enables precise modifications to D...</td>\n",
       "      <td>What does CRISPR-Cas9 enable?</td>\n",
       "    </tr>\n",
       "    <tr>\n",
       "      <th>3</th>\n",
       "      <td>cde31609-587d-4b68-a4d7-5f936c58b3bd</td>\n",
       "      <td>Optimise self driving?</td>\n",
       "      <td>Urban planning strategies are adapting to acco...</td>\n",
       "      <td>{'keywords_str': 'urban planning, autonomous v...</td>\n",
       "      <td>To optimize self-driving technology, city plan...</td>\n",
       "      <td>Optimise self driving?</td>\n",
       "    </tr>\n",
       "  </tbody>\n",
       "</table>\n",
       "</div>"
      ],
      "text/plain": [
       "                                     id  \\\n",
       "0  69b8a036-74e0-440d-9d5e-8a42cd0d4efa   \n",
       "1  69b8a036-74e0-440d-9d5e-8a42cd0d4efa   \n",
       "2  8a2fb5a6-9f44-4cc3-ad4d-6551404a0e15   \n",
       "3  cde31609-587d-4b68-a4d7-5f936c58b3bd   \n",
       "\n",
       "                                       question  \\\n",
       "0  What was the climate change about last year?   \n",
       "1        Why was food price volatility so high?   \n",
       "2                 What does CRISPR-Cas9 enable?   \n",
       "3                        Optimise self driving?   \n",
       "\n",
       "                                            contexts  \\\n",
       "0  Climate change poses significant risks to glob...   \n",
       "1  Climate change poses significant risks to glob...   \n",
       "2  Genetic editing techniques show promise for tr...   \n",
       "3  Urban planning strategies are adapting to acco...   \n",
       "\n",
       "                                            metadata  \\\n",
       "0  {'keywords_str': 'climate change, food securit...   \n",
       "1  {'source': 'journal_article', 'author': 'Maria...   \n",
       "2  {'keywords_str': 'genetic editing, CRISPR, med...   \n",
       "3  {'keywords_str': 'urban planning, autonomous v...   \n",
       "\n",
       "                                              answer  \\\n",
       "0  According to the context, climate change last ...   \n",
       "1  Food price volatility was high due to supply c...   \n",
       "2  CRISPR-Cas9 enables precise modifications to D...   \n",
       "3  To optimize self-driving technology, city plan...   \n",
       "\n",
       "                                   ground_truth  \n",
       "0  What was the climate change about last year?  \n",
       "1        Why was food price volatility so high?  \n",
       "2                 What does CRISPR-Cas9 enable?  \n",
       "3                        Optimise self driving?  "
      ]
     },
     "execution_count": 14,
     "metadata": {},
     "output_type": "execute_result"
    }
   ],
   "source": [
    "# merge df_contexts and df_answers\n",
    "df_complete = pd.concat([df_merged, df_ground_truth], axis=1)\n",
    "df_complete"
   ]
  },
  {
   "cell_type": "code",
   "execution_count": 15,
   "id": "5921d973",
   "metadata": {},
   "outputs": [],
   "source": [
    "df_complete.to_csv(CSV_COMPLETE, index=False)"
   ]
  },
  {
   "cell_type": "code",
   "execution_count": null,
   "id": "b6814684",
   "metadata": {},
   "outputs": [],
   "source": []
  },
  {
   "cell_type": "markdown",
   "id": "a6c5736a",
   "metadata": {},
   "source": [
    "### We can now perform the evaluations"
   ]
  }
 ],
 "metadata": {
  "kernelspec": {
   "display_name": "eval-framework",
   "language": "python",
   "name": "python3"
  },
  "language_info": {
   "codemirror_mode": {
    "name": "ipython",
    "version": 3
   },
   "file_extension": ".py",
   "mimetype": "text/x-python",
   "name": "python",
   "nbconvert_exporter": "python",
   "pygments_lexer": "ipython3",
   "version": "3.12.1"
  }
 },
 "nbformat": 4,
 "nbformat_minor": 5
}
