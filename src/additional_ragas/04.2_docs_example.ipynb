{
 "cells": [
  {
   "cell_type": "markdown",
   "id": "ffa4705e",
   "metadata": {},
   "source": [
    "https://docs.ragas.io/en/stable/howtos/applications/singlehop_testset_gen/"
   ]
  },
  {
   "cell_type": "code",
   "execution_count": 1,
   "id": "50eb4a80",
   "metadata": {},
   "outputs": [
    {
     "name": "stdout",
     "output_type": "stream",
     "text": [
      "0.2.15\n"
     ]
    }
   ],
   "source": [
    "import ragas\n",
    "\n",
    "print(ragas.__version__)"
   ]
  },
  {
   "cell_type": "code",
   "execution_count": 2,
   "id": "aaa6e415",
   "metadata": {},
   "outputs": [
    {
     "name": "stdout",
     "output_type": "stream",
     "text": [
      "['AgentGoalAccuracyWithReference', 'AgentGoalAccuracyWithoutReference', 'AnswerAccuracy', 'AnswerCorrectness', 'AnswerRelevancy', 'AnswerSimilarity', 'AspectCritic', 'BleuScore', 'ContextEntityRecall', 'ContextPrecision', 'ContextRecall', 'ContextRelevance', 'ContextUtilization', 'DataCompyScore', 'DistanceMeasure', 'ExactMatch', 'FactualCorrectness', 'Faithfulness', 'FaithfulnesswithHHEM', 'InstanceRubrics', 'LLMContextPrecisionWithReference', 'LLMContextPrecisionWithoutReference', 'LLMContextRecall', 'LLMSQLEquivalence', 'Metric', 'MetricOutputType', 'MetricType', 'MetricWithEmbeddings', 'MetricWithLLM', 'MultiModalFaithfulness', 'MultiModalRelevance', 'MultiTurnMetric', 'NoiseSensitivity', 'NonLLMContextPrecisionWithReference', 'NonLLMContextRecall', 'NonLLMStringSimilarity', 'ResponseGroundedness', 'ResponseRelevancy', 'RougeScore', 'RubricsScore', 'SemanticSimilarity', 'SimpleCriteriaScore', 'SingleTurnMetric', 'StringPresence', 'SummarizationScore', 'ToolCallAccuracy', 'TopicAdherenceScore', '__all__', '__builtins__', '__cached__', '__doc__', '__file__', '__loader__', '__name__', '__package__', '__path__', '__spec__', '_answer_correctness', '_answer_relevance', '_answer_similarity', '_aspect_critic', '_bleu_score', '_context_entities_recall', '_context_precision', '_context_recall', '_datacompy_score', '_domain_specific_rubrics', '_factual_correctness', '_faithfulness', '_goal_accuracy', '_instance_specific_rubrics', '_multi_modal_faithfulness', '_multi_modal_relevance', '_noise_sensitivity', '_nv_metrics', '_rouge_score', '_simple_criteria', '_sql_semantic_equivalence', '_string', '_summarization', '_tool_call_accuracy', '_topic_adherence', 'answer_correctness', 'answer_relevancy', 'answer_similarity', 'base', 'context_entity_recall', 'context_precision', 'context_recall', 'faithfulness', 'multimodal_faithness', 'multimodal_relevance', 'summarization_score', 'utils']\n"
     ]
    }
   ],
   "source": [
    "import ragas.metrics\n",
    "\n",
    "print(dir(ragas.metrics))"
   ]
  },
  {
   "cell_type": "code",
   "execution_count": 3,
   "id": "d04d901e",
   "metadata": {},
   "outputs": [
    {
     "name": "stderr",
     "output_type": "stream",
     "text": [
      "fatal: destination path 'ragas-airline-dataset' already exists and is not an empty directory.\n"
     ]
    }
   ],
   "source": [
    "! git clone https://huggingface.co/datasets/explodinggradients/ragas-airline-dataset"
   ]
  },
  {
   "cell_type": "code",
   "execution_count": 4,
   "id": "0278d98c",
   "metadata": {},
   "outputs": [
    {
     "name": "stderr",
     "output_type": "stream",
     "text": [
      "libmagic is unavailable but assists in filetype detection. Please consider installing libmagic for better results.\n",
      "libmagic is unavailable but assists in filetype detection. Please consider installing libmagic for better results.\n",
      "libmagic is unavailable but assists in filetype detection. Please consider installing libmagic for better results.\n",
      "libmagic is unavailable but assists in filetype detection. Please consider installing libmagic for better results.\n",
      "libmagic is unavailable but assists in filetype detection. Please consider installing libmagic for better results.\n",
      "libmagic is unavailable but assists in filetype detection. Please consider installing libmagic for better results.\n",
      "libmagic is unavailable but assists in filetype detection. Please consider installing libmagic for better results.\n",
      "libmagic is unavailable but assists in filetype detection. Please consider installing libmagic for better results.\n",
      "libmagic is unavailable but assists in filetype detection. Please consider installing libmagic for better results.\n"
     ]
    }
   ],
   "source": [
    "from langchain_community.document_loaders import DirectoryLoader\n",
    "\n",
    "path = \"ragas-airline-dataset\"\n",
    "loader = DirectoryLoader(path, glob=\"**/*.md\")\n",
    "docs = loader.load()"
   ]
  },
  {
   "cell_type": "code",
   "execution_count": 5,
   "id": "9548e684",
   "metadata": {},
   "outputs": [],
   "source": [
    "from ragas.llms import LangchainLLMWrapper\n",
    "from ragas.embeddings import LangchainEmbeddingsWrapper\n",
    "from langchain_openai import ChatOpenAI, OpenAIEmbeddings\n",
    "\n",
    "\n",
    "generator_llm = LangchainLLMWrapper(ChatOpenAI(model=\"gpt-4o-mini\"))\n",
    "generator_embeddings = LangchainEmbeddingsWrapper(\n",
    "    OpenAIEmbeddings(model=\"text-embedding-3-small\")\n",
    ")"
   ]
  },
  {
   "cell_type": "code",
   "execution_count": 6,
   "id": "dd6b3c97",
   "metadata": {},
   "outputs": [
    {
     "data": {
      "text/plain": [
       "KnowledgeGraph(nodes: 9, relationships: 0)"
      ]
     },
     "execution_count": 6,
     "metadata": {},
     "output_type": "execute_result"
    }
   ],
   "source": [
    "from ragas.testset.graph import KnowledgeGraph\n",
    "from ragas.testset.graph import Node, NodeType\n",
    "\n",
    "\n",
    "kg = KnowledgeGraph()\n",
    "\n",
    "for doc in docs:\n",
    "    kg.nodes.append(\n",
    "        Node(\n",
    "            type=NodeType.DOCUMENT,\n",
    "            properties={\n",
    "                \"page_content\": doc.page_content,\n",
    "                \"document_metadata\": doc.metadata,\n",
    "            },\n",
    "        )\n",
    "    )\n",
    "\n",
    "kg"
   ]
  },
  {
   "cell_type": "code",
   "execution_count": 7,
   "id": "997922ef",
   "metadata": {},
   "outputs": [
    {
     "data": {
      "application/vnd.jupyter.widget-view+json": {
       "model_id": "1d12a025a7aa4304aa9b6283f8775d87",
       "version_major": 2,
       "version_minor": 0
      },
      "text/plain": [
       "Applying HeadlinesExtractor:   0%|          | 0/9 [00:00<?, ?it/s]"
      ]
     },
     "metadata": {},
     "output_type": "display_data"
    },
    {
     "data": {
      "application/vnd.jupyter.widget-view+json": {
       "model_id": "f7b7077f2f6f4376b82e6a6dbc1c8009",
       "version_major": 2,
       "version_minor": 0
      },
      "text/plain": [
       "Applying HeadlineSplitter:   0%|          | 0/9 [00:00<?, ?it/s]"
      ]
     },
     "metadata": {},
     "output_type": "display_data"
    },
    {
     "data": {
      "application/vnd.jupyter.widget-view+json": {
       "model_id": "a8532897c9cb469584473b2fabfb3f0b",
       "version_major": 2,
       "version_minor": 0
      },
      "text/plain": [
       "Applying KeyphrasesExtractor:   0%|          | 0/27 [00:00<?, ?it/s]"
      ]
     },
     "metadata": {},
     "output_type": "display_data"
    },
    {
     "name": "stderr",
     "output_type": "stream",
     "text": [
      "Property 'keyphrases' already exists in node '2b0acf'. Skipping!\n"
     ]
    }
   ],
   "source": [
    "from ragas.testset.transforms import apply_transforms\n",
    "from ragas.testset.transforms import (\n",
    "    HeadlinesExtractor,\n",
    "    HeadlineSplitter,\n",
    "    KeyphrasesExtractor,\n",
    ")\n",
    "\n",
    "headline_extractor = HeadlinesExtractor(llm=generator_llm, max_num=20)\n",
    "headline_splitter = HeadlineSplitter(max_tokens=1500)\n",
    "keyphrase_extractor = KeyphrasesExtractor(llm=generator_llm)\n",
    "\n",
    "transforms = [headline_extractor, headline_splitter, keyphrase_extractor]\n",
    "\n",
    "apply_transforms(kg, transforms=transforms)"
   ]
  },
  {
   "cell_type": "code",
   "execution_count": 8,
   "id": "b9d8ed78",
   "metadata": {},
   "outputs": [],
   "source": [
    "from ragas.testset.persona import Persona\n",
    "\n",
    "persona_first_time_flier = Persona(\n",
    "    name=\"First Time Flier\",\n",
    "    role_description=\"Is flying for the first time and may feel anxious. Needs clear guidance on flight procedures, safety protocols, and what to expect throughout the journey.\",\n",
    ")\n",
    "\n",
    "persona_frequent_flier = Persona(\n",
    "    name=\"Frequent Flier\",\n",
    "    role_description=\"Travels regularly and values efficiency and comfort. Interested in loyalty programs, express services, and a seamless travel experience.\",\n",
    ")\n",
    "\n",
    "persona_angry_business_flier = Persona(\n",
    "    name=\"Angry Business Class Flier\",\n",
    "    role_description=\"Demands top-tier service and is easily irritated by any delays or issues. Expects immediate resolutions and is quick to express frustration if standards are not met.\",\n",
    ")\n",
    "\n",
    "personas = [\n",
    "    persona_first_time_flier,\n",
    "    persona_frequent_flier,\n",
    "    persona_angry_business_flier,\n",
    "]"
   ]
  },
  {
   "cell_type": "markdown",
   "id": "fea998d8",
   "metadata": {},
   "source": [
    "Query Generation Using Synthesizers\n",
    "\n",
    "Synthesizers are responsible for converting enriched nodes and personas into queries. They achieve this by selecting a node property (e.g., \"entities\" or \"keyphrases\"), pairing it with a persona, style, and query length, and then using a LLM to generate a query-answer pair based on the content of the node.\n",
    "\n",
    "Two instances of the SingleHopSpecificQuerySynthesizer are used to define the query distribution:\n",
    "\n",
    "Headlines-Based Synthesizer – Generates queries using extracted document headlines, leading to structured questions that reference specific sections.\n",
    "Keyphrases-Based Synthesizer – Forms queries around key concepts, generating broader, thematic questions.\n",
    "Both synthesizers are weighted equally (0.5 each), ensuring a balanced mix of specific and conceptual queries, which ultimately enhances the diversity of the test set."
   ]
  },
  {
   "cell_type": "code",
   "execution_count": 9,
   "id": "6689d81c",
   "metadata": {},
   "outputs": [],
   "source": [
    "from ragas.testset.synthesizers.single_hop.specific import (\n",
    "    SingleHopSpecificQuerySynthesizer,\n",
    ")\n",
    "\n",
    "query_distibution = [\n",
    "    (\n",
    "        SingleHopSpecificQuerySynthesizer(llm=generator_llm, property_name=\"headlines\"),\n",
    "        0.5,\n",
    "    ),\n",
    "    (\n",
    "        SingleHopSpecificQuerySynthesizer(\n",
    "            llm=generator_llm, property_name=\"keyphrases\"\n",
    "        ),\n",
    "        0.5,\n",
    "    ),\n",
    "]"
   ]
  },
  {
   "cell_type": "code",
   "execution_count": 10,
   "id": "368e56dc",
   "metadata": {},
   "outputs": [],
   "source": [
    "from ragas.testset import TestsetGenerator\n",
    "\n",
    "generator = TestsetGenerator(\n",
    "    llm=generator_llm,\n",
    "    embedding_model=generator_embeddings,\n",
    "    knowledge_graph=kg,\n",
    "    persona_list=personas,\n",
    ")"
   ]
  },
  {
   "cell_type": "code",
   "execution_count": 11,
   "id": "261410df",
   "metadata": {},
   "outputs": [
    {
     "data": {
      "application/vnd.jupyter.widget-view+json": {
       "model_id": "2d7a5a64fc464d678bab41fe9e31eb7a",
       "version_major": 2,
       "version_minor": 0
      },
      "text/plain": [
       "Generating Scenarios:   0%|          | 0/2 [00:00<?, ?it/s]"
      ]
     },
     "metadata": {},
     "output_type": "display_data"
    },
    {
     "data": {
      "application/vnd.jupyter.widget-view+json": {
       "model_id": "cdcc9f8eead84208b60fad25d3ddaff0",
       "version_major": 2,
       "version_minor": 0
      },
      "text/plain": [
       "Generating Samples:   0%|          | 0/10 [00:00<?, ?it/s]"
      ]
     },
     "metadata": {},
     "output_type": "display_data"
    },
    {
     "data": {
      "text/html": [
       "<div>\n",
       "<style scoped>\n",
       "    .dataframe tbody tr th:only-of-type {\n",
       "        vertical-align: middle;\n",
       "    }\n",
       "\n",
       "    .dataframe tbody tr th {\n",
       "        vertical-align: top;\n",
       "    }\n",
       "\n",
       "    .dataframe thead th {\n",
       "        text-align: right;\n",
       "    }\n",
       "</style>\n",
       "<table border=\"1\" class=\"dataframe\">\n",
       "  <thead>\n",
       "    <tr style=\"text-align: right;\">\n",
       "      <th></th>\n",
       "      <th>user_input</th>\n",
       "      <th>reference_contexts</th>\n",
       "      <th>reference</th>\n",
       "      <th>synthesizer_name</th>\n",
       "    </tr>\n",
       "  </thead>\n",
       "  <tbody>\n",
       "    <tr>\n",
       "      <th>0</th>\n",
       "      <td>What to do if my baggage is Delayed, Lost, or ...</td>\n",
       "      <td>[Baggage Policies\\n\\nThis section provides a d...</td>\n",
       "      <td>If your baggage is delayed, lost, or damaged, ...</td>\n",
       "      <td>single_hop_specifc_query_synthesizer</td>\n",
       "    </tr>\n",
       "    <tr>\n",
       "      <th>1</th>\n",
       "      <td>What to do if payment fail when booking?</td>\n",
       "      <td>[Booking Tickets\\n\\nOnline Booking\\n\\nBooking ...</td>\n",
       "      <td>If your payment does not go through, follow th...</td>\n",
       "      <td>single_hop_specifc_query_synthesizer</td>\n",
       "    </tr>\n",
       "    <tr>\n",
       "      <th>2</th>\n",
       "      <td>Can you explain the process involved in Step 3...</td>\n",
       "      <td>[Flight Cancellations\\n\\nFlight cancellations ...</td>\n",
       "      <td>In Step 3: Refund Processing, refunds will be ...</td>\n",
       "      <td>single_hop_specifc_query_synthesizer</td>\n",
       "    </tr>\n",
       "    <tr>\n",
       "      <th>3</th>\n",
       "      <td>What are the potential issues and resolutions ...</td>\n",
       "      <td>[Flight Delays\\n\\nFlight delays can be caused ...</td>\n",
       "      <td>Potential issues and resolutions for flight de...</td>\n",
       "      <td>single_hop_specifc_query_synthesizer</td>\n",
       "    </tr>\n",
       "    <tr>\n",
       "      <th>4</th>\n",
       "      <td>What can first-time fliers expect regarding me...</td>\n",
       "      <td>[In-Flight Services\\n\\nRagas Airlines provides...</td>\n",
       "      <td>On Ragas Airlines, first-time fliers can expec...</td>\n",
       "      <td>single_hop_specifc_query_synthesizer</td>\n",
       "    </tr>\n",
       "    <tr>\n",
       "      <th>5</th>\n",
       "      <td>As a first-time flier, what should I do if my ...</td>\n",
       "      <td>[Baggage Policies This section provides a deta...</td>\n",
       "      <td>If your baggage is delayed, follow these steps...</td>\n",
       "      <td>single_hop_specifc_query_synthesizer</td>\n",
       "    </tr>\n",
       "    <tr>\n",
       "      <th>6</th>\n",
       "      <td>What should I do if I encounter baggage issues...</td>\n",
       "      <td>[Potential Issues and Resolutions for Baggage ...</td>\n",
       "      <td>If you encounter baggage issues, it is crucial...</td>\n",
       "      <td>single_hop_specifc_query_synthesizer</td>\n",
       "    </tr>\n",
       "    <tr>\n",
       "      <th>7</th>\n",
       "      <td>How I do booking tickets for my first flight?</td>\n",
       "      <td>[Booking Tickets]</td>\n",
       "      <td>Booking tickets is the first step for your fli...</td>\n",
       "      <td>single_hop_specifc_query_synthesizer</td>\n",
       "    </tr>\n",
       "    <tr>\n",
       "      <th>8</th>\n",
       "      <td>What steps should I follow to browse available...</td>\n",
       "      <td>[Online Booking Booking a ticket online throug...</td>\n",
       "      <td>To browse available flights on Ragas Airlines'...</td>\n",
       "      <td>single_hop_specifc_query_synthesizer</td>\n",
       "    </tr>\n",
       "    <tr>\n",
       "      <th>9</th>\n",
       "      <td>What should I do if I haven't received my conf...</td>\n",
       "      <td>[Booking via Customer Service If you prefer bo...</td>\n",
       "      <td>If you have not received an email confirmation...</td>\n",
       "      <td>single_hop_specifc_query_synthesizer</td>\n",
       "    </tr>\n",
       "  </tbody>\n",
       "</table>\n",
       "</div>"
      ],
      "text/plain": [
       "                                          user_input  \\\n",
       "0  What to do if my baggage is Delayed, Lost, or ...   \n",
       "1           What to do if payment fail when booking?   \n",
       "2  Can you explain the process involved in Step 3...   \n",
       "3  What are the potential issues and resolutions ...   \n",
       "4  What can first-time fliers expect regarding me...   \n",
       "5  As a first-time flier, what should I do if my ...   \n",
       "6  What should I do if I encounter baggage issues...   \n",
       "7      How I do booking tickets for my first flight?   \n",
       "8  What steps should I follow to browse available...   \n",
       "9  What should I do if I haven't received my conf...   \n",
       "\n",
       "                                  reference_contexts  \\\n",
       "0  [Baggage Policies\\n\\nThis section provides a d...   \n",
       "1  [Booking Tickets\\n\\nOnline Booking\\n\\nBooking ...   \n",
       "2  [Flight Cancellations\\n\\nFlight cancellations ...   \n",
       "3  [Flight Delays\\n\\nFlight delays can be caused ...   \n",
       "4  [In-Flight Services\\n\\nRagas Airlines provides...   \n",
       "5  [Baggage Policies This section provides a deta...   \n",
       "6  [Potential Issues and Resolutions for Baggage ...   \n",
       "7                                  [Booking Tickets]   \n",
       "8  [Online Booking Booking a ticket online throug...   \n",
       "9  [Booking via Customer Service If you prefer bo...   \n",
       "\n",
       "                                           reference  \\\n",
       "0  If your baggage is delayed, lost, or damaged, ...   \n",
       "1  If your payment does not go through, follow th...   \n",
       "2  In Step 3: Refund Processing, refunds will be ...   \n",
       "3  Potential issues and resolutions for flight de...   \n",
       "4  On Ragas Airlines, first-time fliers can expec...   \n",
       "5  If your baggage is delayed, follow these steps...   \n",
       "6  If you encounter baggage issues, it is crucial...   \n",
       "7  Booking tickets is the first step for your fli...   \n",
       "8  To browse available flights on Ragas Airlines'...   \n",
       "9  If you have not received an email confirmation...   \n",
       "\n",
       "                       synthesizer_name  \n",
       "0  single_hop_specifc_query_synthesizer  \n",
       "1  single_hop_specifc_query_synthesizer  \n",
       "2  single_hop_specifc_query_synthesizer  \n",
       "3  single_hop_specifc_query_synthesizer  \n",
       "4  single_hop_specifc_query_synthesizer  \n",
       "5  single_hop_specifc_query_synthesizer  \n",
       "6  single_hop_specifc_query_synthesizer  \n",
       "7  single_hop_specifc_query_synthesizer  \n",
       "8  single_hop_specifc_query_synthesizer  \n",
       "9  single_hop_specifc_query_synthesizer  "
      ]
     },
     "execution_count": 11,
     "metadata": {},
     "output_type": "execute_result"
    }
   ],
   "source": [
    "testset = generator.generate(testset_size=10, query_distribution=query_distibution)\n",
    "testset.to_pandas()"
   ]
  }
 ],
 "metadata": {
  "kernelspec": {
   "display_name": "eval-framework",
   "language": "python",
   "name": "python3"
  },
  "language_info": {
   "codemirror_mode": {
    "name": "ipython",
    "version": 3
   },
   "file_extension": ".py",
   "mimetype": "text/x-python",
   "name": "python",
   "nbconvert_exporter": "python",
   "pygments_lexer": "ipython3",
   "version": "3.12.1"
  }
 },
 "nbformat": 4,
 "nbformat_minor": 5
}
