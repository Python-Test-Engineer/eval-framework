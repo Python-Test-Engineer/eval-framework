{
 "cells": [
  {
   "cell_type": "code",
   "execution_count": 1,
   "id": "eb11d01b",
   "metadata": {},
   "outputs": [],
   "source": [
    "from langchain_community.document_loaders import DirectoryLoader\n",
    "from dotenv import load_dotenv, find_dotenv\n",
    "from rich.console import Console\n",
    "import os\n",
    "from ragas.llms import LangchainLLMWrapper\n",
    "from ragas.embeddings import LangchainEmbeddingsWrapper\n",
    "from langchain_openai import ChatOpenAI\n",
    "from langchain_openai import OpenAIEmbeddings\n",
    "from ragas.testset import TestsetGenerator"
   ]
  },
  {
   "cell_type": "code",
   "execution_count": 2,
   "id": "0cba3349",
   "metadata": {},
   "outputs": [],
   "source": [
    "path = \"Sample_Docs_Markdown/\"\n",
    "loader = DirectoryLoader(path, glob=\"**/*.md\")\n",
    "docs = loader.load()"
   ]
  },
  {
   "cell_type": "code",
   "execution_count": 3,
   "id": "95898ae9",
   "metadata": {},
   "outputs": [
    {
     "data": {
      "text/html": [
       "<pre style=\"white-space:pre;overflow-x:auto;line-height:normal;font-family:Menlo,'DejaVu Sans Mono',consolas,'Courier New',monospace\"><span style=\"color: #008080; text-decoration-color: #008080\">Starting...</span>\n",
       "</pre>\n"
      ],
      "text/plain": [
       "\u001b[36mStarting\u001b[0m\u001b[36m...\u001b[0m\n"
      ]
     },
     "metadata": {},
     "output_type": "display_data"
    }
   ],
   "source": [
    "console = Console()\n",
    "\n",
    "load_dotenv(find_dotenv(), override=True)\n",
    "OPENAI_API_KEY = os.environ[\"OPENAI_API_KEY\"]\n",
    "GROQ_API_KEY = os.environ[\"GROQ_API_KEY\"]\n",
    "MODEL = \"gpt-4o-mini\"\n",
    "\n",
    "console.print(\"[cyan]Starting...[/]\")\n",
    "\n",
    "generator_llm = LangchainLLMWrapper(ChatOpenAI(model=MODEL))\n",
    "generator_embeddings = LangchainEmbeddingsWrapper(OpenAIEmbeddings())"
   ]
  },
  {
   "cell_type": "code",
   "execution_count": 4,
   "id": "3cc85314",
   "metadata": {},
   "outputs": [
    {
     "data": {
      "application/vnd.jupyter.widget-view+json": {
       "model_id": "b95baac2bbfe4a25b69d79f217e7cb6e",
       "version_major": 2,
       "version_minor": 0
      },
      "text/plain": [
       "Applying HeadlinesExtractor:   0%|          | 0/5 [00:00<?, ?it/s]"
      ]
     },
     "metadata": {},
     "output_type": "display_data"
    },
    {
     "data": {
      "application/vnd.jupyter.widget-view+json": {
       "model_id": "7cf81b7cc01b4cb7b9828d892f0ebcea",
       "version_major": 2,
       "version_minor": 0
      },
      "text/plain": [
       "Applying HeadlineSplitter:   0%|          | 0/12 [00:00<?, ?it/s]"
      ]
     },
     "metadata": {},
     "output_type": "display_data"
    },
    {
     "name": "stderr",
     "output_type": "stream",
     "text": [
      "unable to apply transformation: 'headlines' property not found in this node\n",
      "unable to apply transformation: 'headlines' property not found in this node\n",
      "unable to apply transformation: 'headlines' property not found in this node\n",
      "unable to apply transformation: 'headlines' property not found in this node\n",
      "unable to apply transformation: 'headlines' property not found in this node\n",
      "unable to apply transformation: 'headlines' property not found in this node\n",
      "unable to apply transformation: 'headlines' property not found in this node\n"
     ]
    },
    {
     "data": {
      "application/vnd.jupyter.widget-view+json": {
       "model_id": "1d609c371139418cbcef05b44c45419d",
       "version_major": 2,
       "version_minor": 0
      },
      "text/plain": [
       "Applying SummaryExtractor:   0%|          | 0/6 [00:00<?, ?it/s]"
      ]
     },
     "metadata": {},
     "output_type": "display_data"
    },
    {
     "name": "stderr",
     "output_type": "stream",
     "text": [
      "Property 'summary' already exists in node 'b69ee6'. Skipping!\n"
     ]
    },
    {
     "data": {
      "application/vnd.jupyter.widget-view+json": {
       "model_id": "9bac90b140614d55a735aec03caf4992",
       "version_major": 2,
       "version_minor": 0
      },
      "text/plain": [
       "Applying CustomNodeFilter:   0%|          | 0/13 [00:00<?, ?it/s]"
      ]
     },
     "metadata": {},
     "output_type": "display_data"
    },
    {
     "data": {
      "application/vnd.jupyter.widget-view+json": {
       "model_id": "a0c1fe1622eb4f67af3674365bda0b0f",
       "version_major": 2,
       "version_minor": 0
      },
      "text/plain": [
       "Applying [EmbeddingExtractor, ThemesExtractor, NERExtractor]:   0%|          | 0/32 [00:00<?, ?it/s]"
      ]
     },
     "metadata": {},
     "output_type": "display_data"
    },
    {
     "name": "stderr",
     "output_type": "stream",
     "text": [
      "Property 'summary_embedding' already exists in node 'b69ee6'. Skipping!\n"
     ]
    },
    {
     "data": {
      "application/vnd.jupyter.widget-view+json": {
       "model_id": "365eb830680f4ecea70f07c47c35374e",
       "version_major": 2,
       "version_minor": 0
      },
      "text/plain": [
       "Applying [CosineSimilarityBuilder, OverlapScoreBuilder]:   0%|          | 0/2 [00:00<?, ?it/s]"
      ]
     },
     "metadata": {},
     "output_type": "display_data"
    },
    {
     "data": {
      "application/vnd.jupyter.widget-view+json": {
       "model_id": "8b8788d9718e4b1fb875c678f57f10f7",
       "version_major": 2,
       "version_minor": 0
      },
      "text/plain": [
       "Generating personas:   0%|          | 0/3 [00:00<?, ?it/s]"
      ]
     },
     "metadata": {},
     "output_type": "display_data"
    },
    {
     "data": {
      "application/vnd.jupyter.widget-view+json": {
       "model_id": "dd4f2b1b00e945b9909e2e932969d53d",
       "version_major": 2,
       "version_minor": 0
      },
      "text/plain": [
       "Generating Scenarios:   0%|          | 0/3 [00:00<?, ?it/s]"
      ]
     },
     "metadata": {},
     "output_type": "display_data"
    },
    {
     "data": {
      "application/vnd.jupyter.widget-view+json": {
       "model_id": "9c16ae7c650e4653b2d9dbaa2cd2a14b",
       "version_major": 2,
       "version_minor": 0
      },
      "text/plain": [
       "Generating Samples:   0%|          | 0/12 [00:00<?, ?it/s]"
      ]
     },
     "metadata": {},
     "output_type": "display_data"
    }
   ],
   "source": [
    "generator = TestsetGenerator(llm=generator_llm, embedding_model=generator_embeddings)\n",
    "dataset = generator.generate_with_langchain_docs(docs, testset_size=10)"
   ]
  },
  {
   "cell_type": "code",
   "execution_count": 5,
   "id": "b44c6676",
   "metadata": {},
   "outputs": [
    {
     "data": {
      "text/html": [
       "<div>\n",
       "<style scoped>\n",
       "    .dataframe tbody tr th:only-of-type {\n",
       "        vertical-align: middle;\n",
       "    }\n",
       "\n",
       "    .dataframe tbody tr th {\n",
       "        vertical-align: top;\n",
       "    }\n",
       "\n",
       "    .dataframe thead th {\n",
       "        text-align: right;\n",
       "    }\n",
       "</style>\n",
       "<table border=\"1\" class=\"dataframe\">\n",
       "  <thead>\n",
       "    <tr style=\"text-align: right;\">\n",
       "      <th></th>\n",
       "      <th>user_input</th>\n",
       "      <th>reference_contexts</th>\n",
       "      <th>reference</th>\n",
       "      <th>synthesizer_name</th>\n",
       "    </tr>\n",
       "  </thead>\n",
       "  <tbody>\n",
       "    <tr>\n",
       "      <th>0</th>\n",
       "      <td>What GitLab say about being ally?</td>\n",
       "      <td>[title: \"The Ally Lab\" description: Learn what...</td>\n",
       "      <td>At GitLab, it is required to be inclusive, but...</td>\n",
       "      <td>single_hop_specifc_query_synthesizer</td>\n",
       "    </tr>\n",
       "    <tr>\n",
       "      <th>1</th>\n",
       "      <td>What does belonging mean in the context of div...</td>\n",
       "      <td>[Tips on being an ally Identifying your power ...</td>\n",
       "      <td>Belonging in the context of diversity and incl...</td>\n",
       "      <td>single_hop_specifc_query_synthesizer</td>\n",
       "    </tr>\n",
       "    <tr>\n",
       "      <th>2</th>\n",
       "      <td>What are the key responsibilities of an ally i...</td>\n",
       "      <td>[What it means to be an ally Take on the strug...</td>\n",
       "      <td>An ally takes on the struggle against oppressi...</td>\n",
       "      <td>single_hop_specifc_query_synthesizer</td>\n",
       "    </tr>\n",
       "    <tr>\n",
       "      <th>3</th>\n",
       "      <td>What are TMRGs and how do they support diversity?</td>\n",
       "      <td>[title: \"Building an Inclusive Remote Culture\"...</td>\n",
       "      <td>TMRGs, or Team Member Resource Groups, are an ...</td>\n",
       "      <td>single_hop_specifc_query_synthesizer</td>\n",
       "    </tr>\n",
       "    <tr>\n",
       "      <th>4</th>\n",
       "      <td>What initiatives can be implemented to foster ...</td>\n",
       "      <td>[&lt;1-hop&gt;\\n\\ntitle: \"Building an Inclusive Remo...</td>\n",
       "      <td>To foster an inclusive remote culture and prom...</td>\n",
       "      <td>multi_hop_abstract_query_synthesizer</td>\n",
       "    </tr>\n",
       "    <tr>\n",
       "      <th>5</th>\n",
       "      <td>What are the key skills and behaviors that an ...</td>\n",
       "      <td>[&lt;1-hop&gt;\\n\\ntitle: \"The Ally Lab\" description:...</td>\n",
       "      <td>To be an effective ally, it is important to un...</td>\n",
       "      <td>multi_hop_abstract_query_synthesizer</td>\n",
       "    </tr>\n",
       "    <tr>\n",
       "      <th>6</th>\n",
       "      <td>What are the key responsibilities of a sponsee...</td>\n",
       "      <td>[&lt;1-hop&gt;\\n\\ntitle: \"Sales Sponsorship Pilot Pr...</td>\n",
       "      <td>In the Sales Sponsorship Pilot Program at GitL...</td>\n",
       "      <td>multi_hop_abstract_query_synthesizer</td>\n",
       "    </tr>\n",
       "    <tr>\n",
       "      <th>7</th>\n",
       "      <td>What is the role of underrepresented groups in...</td>\n",
       "      <td>[&lt;1-hop&gt;\\n\\ntitle: \"Sales Sponsorship Pilot Pr...</td>\n",
       "      <td>The Sales Sponsorship Pilot Program at GitLab ...</td>\n",
       "      <td>multi_hop_abstract_query_synthesizer</td>\n",
       "    </tr>\n",
       "    <tr>\n",
       "      <th>8</th>\n",
       "      <td>What is the purpose of the Leadership DIB Coun...</td>\n",
       "      <td>[&lt;1-hop&gt;\\n\\ntitle: Diversity Inclusion &amp; Belon...</td>\n",
       "      <td>The purpose of the Leadership DIB Council Call...</td>\n",
       "      <td>multi_hop_specific_query_synthesizer</td>\n",
       "    </tr>\n",
       "    <tr>\n",
       "      <th>9</th>\n",
       "      <td>How does the Diversity, Inclusion &amp; Belonging ...</td>\n",
       "      <td>[&lt;1-hop&gt;\\n\\ntitle: Diversity Inclusion &amp; Belon...</td>\n",
       "      <td>The Diversity, Inclusion &amp; Belonging Advisory ...</td>\n",
       "      <td>multi_hop_specific_query_synthesizer</td>\n",
       "    </tr>\n",
       "    <tr>\n",
       "      <th>10</th>\n",
       "      <td>How do TMRGs contribute to fostering diversity...</td>\n",
       "      <td>[&lt;1-hop&gt;\\n\\nTips for Managers Set aside time t...</td>\n",
       "      <td>TMRGs, or Team Member Resource Groups, play a ...</td>\n",
       "      <td>multi_hop_specific_query_synthesizer</td>\n",
       "    </tr>\n",
       "    <tr>\n",
       "      <th>11</th>\n",
       "      <td>How does the creation of a Diversity, Inclusio...</td>\n",
       "      <td>[&lt;1-hop&gt;\\n\\ntitle: \"Building an Inclusive Remo...</td>\n",
       "      <td>The creation of a Diversity, Inclusion &amp; Belon...</td>\n",
       "      <td>multi_hop_specific_query_synthesizer</td>\n",
       "    </tr>\n",
       "  </tbody>\n",
       "</table>\n",
       "</div>"
      ],
      "text/plain": [
       "                                           user_input  \\\n",
       "0                   What GitLab say about being ally?   \n",
       "1   What does belonging mean in the context of div...   \n",
       "2   What are the key responsibilities of an ally i...   \n",
       "3   What are TMRGs and how do they support diversity?   \n",
       "4   What initiatives can be implemented to foster ...   \n",
       "5   What are the key skills and behaviors that an ...   \n",
       "6   What are the key responsibilities of a sponsee...   \n",
       "7   What is the role of underrepresented groups in...   \n",
       "8   What is the purpose of the Leadership DIB Coun...   \n",
       "9   How does the Diversity, Inclusion & Belonging ...   \n",
       "10  How do TMRGs contribute to fostering diversity...   \n",
       "11  How does the creation of a Diversity, Inclusio...   \n",
       "\n",
       "                                   reference_contexts  \\\n",
       "0   [title: \"The Ally Lab\" description: Learn what...   \n",
       "1   [Tips on being an ally Identifying your power ...   \n",
       "2   [What it means to be an ally Take on the strug...   \n",
       "3   [title: \"Building an Inclusive Remote Culture\"...   \n",
       "4   [<1-hop>\\n\\ntitle: \"Building an Inclusive Remo...   \n",
       "5   [<1-hop>\\n\\ntitle: \"The Ally Lab\" description:...   \n",
       "6   [<1-hop>\\n\\ntitle: \"Sales Sponsorship Pilot Pr...   \n",
       "7   [<1-hop>\\n\\ntitle: \"Sales Sponsorship Pilot Pr...   \n",
       "8   [<1-hop>\\n\\ntitle: Diversity Inclusion & Belon...   \n",
       "9   [<1-hop>\\n\\ntitle: Diversity Inclusion & Belon...   \n",
       "10  [<1-hop>\\n\\nTips for Managers Set aside time t...   \n",
       "11  [<1-hop>\\n\\ntitle: \"Building an Inclusive Remo...   \n",
       "\n",
       "                                            reference  \\\n",
       "0   At GitLab, it is required to be inclusive, but...   \n",
       "1   Belonging in the context of diversity and incl...   \n",
       "2   An ally takes on the struggle against oppressi...   \n",
       "3   TMRGs, or Team Member Resource Groups, are an ...   \n",
       "4   To foster an inclusive remote culture and prom...   \n",
       "5   To be an effective ally, it is important to un...   \n",
       "6   In the Sales Sponsorship Pilot Program at GitL...   \n",
       "7   The Sales Sponsorship Pilot Program at GitLab ...   \n",
       "8   The purpose of the Leadership DIB Council Call...   \n",
       "9   The Diversity, Inclusion & Belonging Advisory ...   \n",
       "10  TMRGs, or Team Member Resource Groups, play a ...   \n",
       "11  The creation of a Diversity, Inclusion & Belon...   \n",
       "\n",
       "                        synthesizer_name  \n",
       "0   single_hop_specifc_query_synthesizer  \n",
       "1   single_hop_specifc_query_synthesizer  \n",
       "2   single_hop_specifc_query_synthesizer  \n",
       "3   single_hop_specifc_query_synthesizer  \n",
       "4   multi_hop_abstract_query_synthesizer  \n",
       "5   multi_hop_abstract_query_synthesizer  \n",
       "6   multi_hop_abstract_query_synthesizer  \n",
       "7   multi_hop_abstract_query_synthesizer  \n",
       "8   multi_hop_specific_query_synthesizer  \n",
       "9   multi_hop_specific_query_synthesizer  \n",
       "10  multi_hop_specific_query_synthesizer  \n",
       "11  multi_hop_specific_query_synthesizer  "
      ]
     },
     "execution_count": 5,
     "metadata": {},
     "output_type": "execute_result"
    }
   ],
   "source": [
    "dataset.to_pandas()"
   ]
  }
 ],
 "metadata": {
  "kernelspec": {
   "display_name": "eval-framework",
   "language": "python",
   "name": "python3"
  },
  "language_info": {
   "codemirror_mode": {
    "name": "ipython",
    "version": 3
   },
   "file_extension": ".py",
   "mimetype": "text/x-python",
   "name": "python",
   "nbconvert_exporter": "python",
   "pygments_lexer": "ipython3",
   "version": "3.12.1"
  }
 },
 "nbformat": 4,
 "nbformat_minor": 5
}
