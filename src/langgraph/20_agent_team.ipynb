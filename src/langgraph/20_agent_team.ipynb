{
 "cells": [
  {
   "cell_type": "markdown",
   "metadata": {},
   "source": [
    "### Team of Agents with a supervisor"
   ]
  },
  {
   "cell_type": "markdown",
   "metadata": {},
   "source": [
    "https://www.youtube.com/watch?v=9HhcFiSgLok&list=PLNVqeXDm5tIqUIPQHLk5Xw5mpisruvsac&index=7"
   ]
  },
  {
   "cell_type": "code",
   "execution_count": 1,
   "metadata": {},
   "outputs": [
    {
     "name": "stderr",
     "output_type": "stream",
     "text": [
      "c:\\Users\\owner\\Desktop\\llm-evaluation-framework\\.venv\\Lib\\site-packages\\IPython\\core\\interactiveshell.py:3699: LangChainDeprecationWarning: As of langchain-core 0.3.0, LangChain uses pydantic v2 internally. The langchain_core.pydantic_v1 module was a compatibility shim for pydantic v1, and should no longer be used. Please update the code to import from Pydantic directly.\n",
      "\n",
      "For example, replace imports like: `from langchain_core.pydantic_v1 import BaseModel`\n",
      "with: `from pydantic import BaseModel`\n",
      "or the v1 compatibility namespace if you are working in a code base that has not been fully upgraded to pydantic 2 yet. \tfrom pydantic.v1 import BaseModel\n",
      "\n",
      "  exec(code_obj, self.user_global_ns, self.user_ns)\n",
      "c:\\Users\\owner\\Desktop\\llm-evaluation-framework\\.venv\\Lib\\site-packages\\langchain_openai\\chat_models\\base.py:1844: UserWarning: Received a Pydantic BaseModel V1 schema. This is not supported by method=\"json_schema\". Please use method=\"function_calling\" or specify schema via JSON Schema or Pydantic V2 BaseModel. Overriding to method=\"function_calling\".\n",
      "  warnings.warn(\n",
      "c:\\Users\\owner\\Desktop\\llm-evaluation-framework\\.venv\\Lib\\site-packages\\langchain_openai\\chat_models\\base.py:1857: UserWarning: Cannot use method='json_schema' with model gpt-3.5-turbo-0125 since it doesn't support OpenAI's Structured Output API. You can see supported models here: https://platform.openai.com/docs/guides/structured-outputs#supported-models. To fix this warning, set `method='function_calling'. Overriding to method='function_calling'.\n",
      "  warnings.warn(\n"
     ]
    }
   ],
   "source": [
    "from langchain_openai import ChatOpenAI\n",
    "from langchain_core.prompts import ChatPromptTemplate\n",
    "from langchain_core.pydantic_v1 import BaseModel, Field\n",
    "\n",
    "\n",
    "class TransferNewsGrader(BaseModel):\n",
    "    \"\"\"Binary score for relevance check on football transfer news.\"\"\"\n",
    "\n",
    "    binary_score: str = Field(\n",
    "        description=\"The article is about football transfers, 'yes' or 'no'\"\n",
    "    )\n",
    "\n",
    "\n",
    "llm = ChatOpenAI(model=\"gpt-3.5-turbo-0125\", temperature=0)\n",
    "structured_llm_grader = llm.with_structured_output(TransferNewsGrader)\n",
    "\n",
    "system = \"\"\"You are a grader assessing whether a news article concerns a football transfer. \\n\n",
    "    Check if the article explicitly mentions player transfers between clubs, potential transfers, or confirmed transfers. \\n\n",
    "    Provide a binary score 'yes' or 'no' to indicate whether the news is about a football transfer.\"\"\"\n",
    "grade_prompt = ChatPromptTemplate.from_messages(\n",
    "    [(\"system\", system), (\"human\", \"News Article:\\n\\n {article}\")]\n",
    ")\n",
    "evaluator = grade_prompt | structured_llm_grader\n",
    "result = evaluator.invoke(\n",
    "    {\"There are rumors messi will switch from real madrid to FC Barcelona\"}\n",
    ")"
   ]
  },
  {
   "cell_type": "code",
   "execution_count": 2,
   "metadata": {},
   "outputs": [
    {
     "name": "stderr",
     "output_type": "stream",
     "text": [
      "c:\\Users\\owner\\Desktop\\llm-evaluation-framework\\.venv\\Lib\\site-packages\\langchain_openai\\chat_models\\base.py:1844: UserWarning: Received a Pydantic BaseModel V1 schema. This is not supported by method=\"json_schema\". Please use method=\"function_calling\" or specify schema via JSON Schema or Pydantic V2 BaseModel. Overriding to method=\"function_calling\".\n",
      "  warnings.warn(\n",
      "c:\\Users\\owner\\Desktop\\llm-evaluation-framework\\.venv\\Lib\\site-packages\\langchain_openai\\chat_models\\base.py:1857: UserWarning: Cannot use method='json_schema' with model gpt-3.5-turbo-0125 since it doesn't support OpenAI's Structured Output API. You can see supported models here: https://platform.openai.com/docs/guides/structured-outputs#supported-models. To fix this warning, set `method='function_calling'. Overriding to method='function_calling'.\n",
      "  warnings.warn(\n"
     ]
    }
   ],
   "source": [
    "from langchain_openai import ChatOpenAI\n",
    "from langchain_core.prompts import ChatPromptTemplate\n",
    "from langchain_core.pydantic_v1 import BaseModel, Field\n",
    "\n",
    "\n",
    "class ArticlePostabilityGrader(BaseModel):\n",
    "    \"\"\"Binary scores for postability check, word count, sensationalism, and language verification of a news article.\"\"\"\n",
    "\n",
    "    can_be_posted: str = Field(\n",
    "        description=\"The article is ready to be posted, 'yes' or 'no'\"\n",
    "    )\n",
    "    meets_word_count: str = Field(\n",
    "        description=\"The article has at least 200 words, 'yes' or 'no'\"\n",
    "    )\n",
    "    is_sensationalistic: str = Field(\n",
    "        description=\"The article is written in a sensationalistic style, 'yes' or 'no'\"\n",
    "    )\n",
    "    is_language_german: str = Field(\n",
    "        description=\"The language of the article is German, 'yes' or 'no'\"\n",
    "    )\n",
    "\n",
    "\n",
    "llm_postability = ChatOpenAI(model=\"gpt-3.5-turbo-0125\", temperature=0)\n",
    "structured_llm_postability_grader = llm_postability.with_structured_output(\n",
    "    ArticlePostabilityGrader\n",
    ")\n",
    "\n",
    "postability_system = \"\"\"You are a grader assessing whether a news article is ready to be posted, if it meets the minimum word count of 200 words, is written in a sensationalistic style, and if it is in German. \\n\n",
    "    Evaluate the article for grammatical errors, completeness, appropriateness for publication, and EXAGERATED sensationalism. \\n\n",
    "    Also, confirm if the language used in the article is German and it meets the word count requirement. \\n\n",
    "    Provide four binary scores: one to indicate if the article can be posted ('yes' or 'no'), one for adequate word count ('yes' or 'no'), one for sensationalistic writing ('yes' or 'no'), and another if the language is German ('yes' or 'no').\"\"\"\n",
    "postability_grade_prompt = ChatPromptTemplate.from_messages(\n",
    "    [(\"system\", postability_system), (\"human\", \"News Article:\\n\\n {article}\")]\n",
    ")\n",
    "\n",
    "news_chef = postability_grade_prompt | structured_llm_postability_grader\n",
    "\n",
    "result = news_chef.invoke(\n",
    "    {\n",
    "        \"article\": \"Es wurde gemeldet, dass Messi von Real Madrid zu FC Barcelona wechselt.\"\n",
    "    }\n",
    ")"
   ]
  },
  {
   "cell_type": "code",
   "execution_count": 3,
   "metadata": {},
   "outputs": [
    {
     "name": "stdout",
     "output_type": "stream",
     "text": [
      "content='Es wurde berichtet, dass Messi von Real Madrid zum FC Barcelona wechseln wird.' additional_kwargs={'refusal': None} response_metadata={'token_usage': {'completion_tokens': 18, 'prompt_tokens': 51, 'total_tokens': 69, 'completion_tokens_details': {'accepted_prediction_tokens': 0, 'audio_tokens': 0, 'reasoning_tokens': 0, 'rejected_prediction_tokens': 0}, 'prompt_tokens_details': {'audio_tokens': 0, 'cached_tokens': 0}}, 'model_name': 'gpt-3.5-turbo-0125', 'system_fingerprint': None, 'id': 'chatcmpl-BpFbDzpHZx5i2Xb6p9jB86eablxAz', 'service_tier': 'default', 'finish_reason': 'stop', 'logprobs': None} id='run--cbbd6b64-0cdb-4813-863f-485fc1677390-0' usage_metadata={'input_tokens': 51, 'output_tokens': 18, 'total_tokens': 69, 'input_token_details': {'audio': 0, 'cache_read': 0}, 'output_token_details': {'audio': 0, 'reasoning': 0}}\n"
     ]
    }
   ],
   "source": [
    "llm_translation = ChatOpenAI(model=\"gpt-3.5-turbo-0125\", temperature=0)\n",
    "\n",
    "translation_system = \"\"\"You are a translator converting articles into German. Translate the text accurately while maintaining the original tone and style.\"\"\"\n",
    "translation_prompt = ChatPromptTemplate.from_messages(\n",
    "    [(\"system\", translation_system), (\"human\", \"Article to translate:\\n\\n {article}\")]\n",
    ")\n",
    "\n",
    "translator = translation_prompt | llm_translation\n",
    "\n",
    "result = translator.invoke(\n",
    "    {\n",
    "        \"article\": \"It has been reported that Messi will transfer from Real Madrid to FC Barcelona.\"\n",
    "    }\n",
    ")\n",
    "print(result)"
   ]
  },
  {
   "cell_type": "code",
   "execution_count": 4,
   "metadata": {},
   "outputs": [
    {
     "name": "stdout",
     "output_type": "stream",
     "text": [
      "content=\"Recent reports suggest that Lionel Messi, one of the most talented footballers of all time, is contemplating a transfer from Real Madrid to FC Barcelona for the upcoming season. This potential move has sent shockwaves through the football world, as Messi has been a pivotal player for Real Madrid, showcasing his exceptional skills and leading the team to numerous victories.\\n\\nIf Messi decides to make the switch to FC Barcelona, it would mark a significant moment in his career and could potentially reshape the dynamics of both teams. The Argentine forward is known for his incredible dribbling ability, precise passing, and goal-scoring prowess, making him a coveted asset for any club.\\n\\nMessi's potential move to FC Barcelona has sparked intense speculation among fans and experts alike, with many eagerly anticipating how this transfer saga will unfold. As negotiations and discussions continue behind the scenes, football enthusiasts around the globe are eagerly awaiting official confirmation of Messi's decision.\\n\\nThe upcoming season promises to be an exciting one, with the possibility of Messi donning the iconic FC Barcelona jersey once again adding an extra layer of intrigue to the football landscape. Only time will tell where Messi's future lies, but one thing is for certain – his next move will undoubtedly make headlines and captivate football fans worldwide.\" additional_kwargs={'refusal': None} response_metadata={'token_usage': {'completion_tokens': 247, 'prompt_tokens': 57, 'total_tokens': 304, 'completion_tokens_details': {'accepted_prediction_tokens': 0, 'audio_tokens': 0, 'reasoning_tokens': 0, 'rejected_prediction_tokens': 0}, 'prompt_tokens_details': {'audio_tokens': 0, 'cached_tokens': 0}}, 'model_name': 'gpt-3.5-turbo-0125', 'system_fingerprint': None, 'id': 'chatcmpl-BpFbDYZ4Ev1RdbrI2zmmemgJ48Aex', 'service_tier': 'default', 'finish_reason': 'stop', 'logprobs': None} id='run--72f286ca-7695-4fbb-b1e9-a4293391f30f-0' usage_metadata={'input_tokens': 57, 'output_tokens': 247, 'total_tokens': 304, 'input_token_details': {'audio': 0, 'cache_read': 0}, 'output_token_details': {'audio': 0, 'reasoning': 0}}\n"
     ]
    }
   ],
   "source": [
    "llm_expansion = ChatOpenAI(model=\"gpt-3.5-turbo-0125\", temperature=0.5)\n",
    "expansion_system = \"\"\"You are a writer tasked with expanding the given article to at least 200 words while maintaining relevance, coherence, and the original tone.\"\"\"\n",
    "expansion_prompt = ChatPromptTemplate.from_messages(\n",
    "    [(\"system\", expansion_system), (\"human\", \"Original article:\\n\\n {article}\")]\n",
    ")\n",
    "\n",
    "expander = expansion_prompt | llm_expansion\n",
    "\n",
    "article_content = \"Lionel Messi is reportedly considering a move from Real Madrid to FC Barcelona next season.\"\n",
    "result = expander.invoke({\"article\": article_content})\n",
    "print(result)"
   ]
  },
  {
   "cell_type": "code",
   "execution_count": 5,
   "metadata": {},
   "outputs": [],
   "source": [
    "from langgraph.graph import StateGraph, END\n",
    "from typing import TypedDict, Literal\n",
    "\n",
    "\n",
    "class AgentState(TypedDict):\n",
    "    article_state: str"
   ]
  },
  {
   "cell_type": "code",
   "execution_count": 6,
   "metadata": {},
   "outputs": [],
   "source": [
    "def get_transfer_news_grade(state: AgentState) -> AgentState:\n",
    "    print(f\"get_transfer_news_grade: Current state: {state}\")\n",
    "    print(\"Evaluator: Reading article but doing nothing to change it...\")\n",
    "    return state"
   ]
  },
  {
   "cell_type": "code",
   "execution_count": 7,
   "metadata": {},
   "outputs": [],
   "source": [
    "def evaluate_article(state: AgentState) -> AgentState:\n",
    "    print(f\"evaluate_article: Current state: {state}\")\n",
    "    print(\"News : Reading article but doing nothing to change it...\")\n",
    "    return state"
   ]
  },
  {
   "cell_type": "code",
   "execution_count": 8,
   "metadata": {},
   "outputs": [],
   "source": [
    "def translate_article(state: AgentState) -> AgentState:\n",
    "    print(f\"translate_article: Current state: {state}\")\n",
    "    article = state[\"article_state\"]\n",
    "    result = translator.invoke({\"article\": article})\n",
    "    state[\"article_state\"] = result.content\n",
    "    return state"
   ]
  },
  {
   "cell_type": "code",
   "execution_count": 9,
   "metadata": {},
   "outputs": [],
   "source": [
    "def expand_article(state: AgentState) -> AgentState:\n",
    "    print(f\"expand_article: Current state: {state}\")\n",
    "    article = state[\"article_state\"]\n",
    "    result = expander.invoke({\"article\": article})\n",
    "    state[\"article_state\"] = result.content\n",
    "    return state"
   ]
  },
  {
   "cell_type": "code",
   "execution_count": 10,
   "metadata": {},
   "outputs": [],
   "source": [
    "def publisher(state: AgentState) -> AgentState:\n",
    "    print(f\"publisher: Current state: {state}\")\n",
    "    print(\"FINAL_STATE in publisher:\", state)\n",
    "    return state"
   ]
  },
  {
   "cell_type": "code",
   "execution_count": 11,
   "metadata": {},
   "outputs": [],
   "source": [
    "def evaluator_router(state: AgentState) -> Literal[\"news_chef\", \"not_relevant\"]:\n",
    "    article = state[\"article_state\"]\n",
    "    evaluator = grade_prompt | structured_llm_grader\n",
    "    result = evaluator.invoke({\"article\": article})\n",
    "    print(f\"evaluator_router: Current state: {state}\")\n",
    "    print(\"Evaluator result: \", result)\n",
    "    if result.binary_score == \"yes\":\n",
    "        return \"news_chef\"\n",
    "    else:\n",
    "        return \"not_relevant\""
   ]
  },
  {
   "cell_type": "code",
   "execution_count": 12,
   "metadata": {},
   "outputs": [],
   "source": [
    "def news_chef_router(\n",
    "    state: AgentState,\n",
    ") -> Literal[\"translator\", \"publisher\", \"expander\"]:\n",
    "    article = state[\"article_state\"]\n",
    "    result = news_chef.invoke({\"article\": article})\n",
    "    print(f\"news_chef_router: Current state: {state}\")\n",
    "    print(\"News chef result: \", result)\n",
    "    if result.can_be_posted == \"yes\":\n",
    "        return \"publisher\"\n",
    "    elif result.is_language_german == \"yes\":\n",
    "        if result.meets_word_count == \"no\" or result.is_sensationalistic == \"no\":\n",
    "            return \"expander\"\n",
    "    return \"translator\""
   ]
  },
  {
   "cell_type": "code",
   "execution_count": 13,
   "metadata": {},
   "outputs": [],
   "source": [
    "workflow = StateGraph(AgentState)\n",
    "\n",
    "workflow.add_node(\"evaluator\", get_transfer_news_grade)\n",
    "workflow.add_node(\"news_chef\", evaluate_article)\n",
    "workflow.add_node(\"translator\", translate_article)\n",
    "workflow.add_node(\"expander\", expand_article)\n",
    "workflow.add_node(\"publisher\", publisher)\n",
    "\n",
    "workflow.set_entry_point(\"evaluator\")\n",
    "\n",
    "workflow.add_conditional_edges(\n",
    "    \"evaluator\", evaluator_router, {\"news_chef\": \"news_chef\", \"not_relevant\": END}\n",
    ")\n",
    "workflow.add_conditional_edges(\n",
    "    \"news_chef\",\n",
    "    news_chef_router,\n",
    "    {\"translator\": \"translator\", \"publisher\": \"publisher\", \"expander\": \"expander\"},\n",
    ")\n",
    "workflow.add_edge(\"translator\", \"news_chef\")\n",
    "workflow.add_edge(\"expander\", \"news_chef\")\n",
    "workflow.add_edge(\"publisher\", END)\n",
    "\n",
    "app = workflow.compile()"
   ]
  },
  {
   "cell_type": "code",
   "execution_count": 14,
   "metadata": {},
   "outputs": [
    {
     "data": {
      "image/png": "[encoded data removed]",
      "text/plain": [
       "<IPython.core.display.Image object>"
      ]
     },
     "metadata": {},
     "output_type": "display_data"
    }
   ],
   "source": [
    "from IPython.display import Image, display\n",
    "\n",
    "try:\n",
    "    display(Image(app.get_graph(xray=True).draw_mermaid_png()))\n",
    "except:\n",
    "    pass"
   ]
  },
  {
   "cell_type": "code",
   "execution_count": 15,
   "metadata": {},
   "outputs": [
    {
     "name": "stdout",
     "output_type": "stream",
     "text": [
      "get_transfer_news_grade: Current state: {'article_state': 'The Pope will visit Spain today'}\n",
      "Evaluator: Reading article but doing nothing to change it...\n",
      "evaluator_router: Current state: {'article_state': 'The Pope will visit Spain today'}\n",
      "Evaluator result:  binary_score='no'\n",
      "Final result: {'article_state': 'The Pope will visit Spain today'}\n"
     ]
    }
   ],
   "source": [
    "initial_state = {\"article_state\": \"The Pope will visit Spain today\"}\n",
    "result = app.invoke(initial_state)\n",
    "\n",
    "print(\"Final result:\", result)"
   ]
  },
  {
   "cell_type": "code",
   "execution_count": 16,
   "metadata": {},
   "outputs": [
    {
     "name": "stdout",
     "output_type": "stream",
     "text": [
      "get_transfer_news_grade: Current state: {'article_state': 'Messi gonna switch from barca to real madrid'}\n",
      "Evaluator: Reading article but doing nothing to change it...\n",
      "evaluator_router: Current state: {'article_state': 'Messi gonna switch from barca to real madrid'}\n",
      "Evaluator result:  binary_score='yes'\n",
      "evaluate_article: Current state: {'article_state': 'Messi gonna switch from barca to real madrid'}\n",
      "News : Reading article but doing nothing to change it...\n",
      "news_chef_router: Current state: {'article_state': 'Messi gonna switch from barca to real madrid'}\n",
      "News chef result:  can_be_posted='no' meets_word_count='no' is_sensationalistic='yes' is_language_german='no'\n",
      "translate_article: Current state: {'article_state': 'Messi gonna switch from barca to real madrid'}\n",
      "evaluate_article: Current state: {'article_state': 'Messi wechselt von Barca zu Real Madrid'}\n",
      "News : Reading article but doing nothing to change it...\n",
      "news_chef_router: Current state: {'article_state': 'Messi wechselt von Barca zu Real Madrid'}\n",
      "News chef result:  can_be_posted='no' meets_word_count='no' is_sensationalistic='no' is_language_german='yes'\n",
      "expand_article: Current state: {'article_state': 'Messi wechselt von Barca zu Real Madrid'}\n",
      "evaluate_article: Current state: {'article_state': 'Lionel Messi, einer der größten Fußballstars unserer Zeit, hat eine bahnbrechende Entscheidung getroffen: Er wechselt vom FC Barcelona zu Real Madrid. Diese Nachricht hat die Fußballwelt in Staunen versetzt und die Rivalität zwischen den beiden spanischen Giganten auf ein neues Level gehoben.\\n\\nMessis Wechsel zu Real Madrid markiert das Ende einer Ära bei Barcelona, wo er über ein Jahrzehnt lang gespielt und zahlreiche Rekorde gebrochen hat. Seine Entscheidung, zu ihrem Erzrivalen zu wechseln, hat bei den Fans gemischte Reaktionen hervorgerufen. Die einen sind entsetzt über den Gedanken, Messi in einem anderen Trikot zu sehen, während die anderen sich auf die spektakulären Duelle zwischen Messi und seinem langjährigen Rivalen Cristiano Ronaldo freuen.\\n\\nFür Real Madrid bedeutet die Verpflichtung von Messi eine enorme Verstärkung ihres Kaders und eine klare Botschaft an die Konkurrenz. Die Kombination aus Messi und anderen Top-Spielern wie Karim Benzema verspricht eine furchterregende Offensive, die die Gegner vor große Herausforderungen stellen wird.\\n\\nDie kommende Saison verspricht also nicht nur spannende Derbys zwischen Barcelona und Real Madrid, sondern auch eine neue Ära des spanischen Fußballs, geprägt von einem unerwarteten Wechsel, der die Grenzen des Vorstellbaren überschreitet.'}\n",
      "News : Reading article but doing nothing to change it...\n",
      "news_chef_router: Current state: {'article_state': 'Lionel Messi, einer der größten Fußballstars unserer Zeit, hat eine bahnbrechende Entscheidung getroffen: Er wechselt vom FC Barcelona zu Real Madrid. Diese Nachricht hat die Fußballwelt in Staunen versetzt und die Rivalität zwischen den beiden spanischen Giganten auf ein neues Level gehoben.\\n\\nMessis Wechsel zu Real Madrid markiert das Ende einer Ära bei Barcelona, wo er über ein Jahrzehnt lang gespielt und zahlreiche Rekorde gebrochen hat. Seine Entscheidung, zu ihrem Erzrivalen zu wechseln, hat bei den Fans gemischte Reaktionen hervorgerufen. Die einen sind entsetzt über den Gedanken, Messi in einem anderen Trikot zu sehen, während die anderen sich auf die spektakulären Duelle zwischen Messi und seinem langjährigen Rivalen Cristiano Ronaldo freuen.\\n\\nFür Real Madrid bedeutet die Verpflichtung von Messi eine enorme Verstärkung ihres Kaders und eine klare Botschaft an die Konkurrenz. Die Kombination aus Messi und anderen Top-Spielern wie Karim Benzema verspricht eine furchterregende Offensive, die die Gegner vor große Herausforderungen stellen wird.\\n\\nDie kommende Saison verspricht also nicht nur spannende Derbys zwischen Barcelona und Real Madrid, sondern auch eine neue Ära des spanischen Fußballs, geprägt von einem unerwarteten Wechsel, der die Grenzen des Vorstellbaren überschreitet.'}\n",
      "News chef result:  can_be_posted='yes' meets_word_count='yes' is_sensationalistic='yes' is_language_german='yes'\n",
      "publisher: Current state: {'article_state': 'Lionel Messi, einer der größten Fußballstars unserer Zeit, hat eine bahnbrechende Entscheidung getroffen: Er wechselt vom FC Barcelona zu Real Madrid. Diese Nachricht hat die Fußballwelt in Staunen versetzt und die Rivalität zwischen den beiden spanischen Giganten auf ein neues Level gehoben.\\n\\nMessis Wechsel zu Real Madrid markiert das Ende einer Ära bei Barcelona, wo er über ein Jahrzehnt lang gespielt und zahlreiche Rekorde gebrochen hat. Seine Entscheidung, zu ihrem Erzrivalen zu wechseln, hat bei den Fans gemischte Reaktionen hervorgerufen. Die einen sind entsetzt über den Gedanken, Messi in einem anderen Trikot zu sehen, während die anderen sich auf die spektakulären Duelle zwischen Messi und seinem langjährigen Rivalen Cristiano Ronaldo freuen.\\n\\nFür Real Madrid bedeutet die Verpflichtung von Messi eine enorme Verstärkung ihres Kaders und eine klare Botschaft an die Konkurrenz. Die Kombination aus Messi und anderen Top-Spielern wie Karim Benzema verspricht eine furchterregende Offensive, die die Gegner vor große Herausforderungen stellen wird.\\n\\nDie kommende Saison verspricht also nicht nur spannende Derbys zwischen Barcelona und Real Madrid, sondern auch eine neue Ära des spanischen Fußballs, geprägt von einem unerwarteten Wechsel, der die Grenzen des Vorstellbaren überschreitet.'}\n",
      "FINAL_STATE in publisher: {'article_state': 'Lionel Messi, einer der größten Fußballstars unserer Zeit, hat eine bahnbrechende Entscheidung getroffen: Er wechselt vom FC Barcelona zu Real Madrid. Diese Nachricht hat die Fußballwelt in Staunen versetzt und die Rivalität zwischen den beiden spanischen Giganten auf ein neues Level gehoben.\\n\\nMessis Wechsel zu Real Madrid markiert das Ende einer Ära bei Barcelona, wo er über ein Jahrzehnt lang gespielt und zahlreiche Rekorde gebrochen hat. Seine Entscheidung, zu ihrem Erzrivalen zu wechseln, hat bei den Fans gemischte Reaktionen hervorgerufen. Die einen sind entsetzt über den Gedanken, Messi in einem anderen Trikot zu sehen, während die anderen sich auf die spektakulären Duelle zwischen Messi und seinem langjährigen Rivalen Cristiano Ronaldo freuen.\\n\\nFür Real Madrid bedeutet die Verpflichtung von Messi eine enorme Verstärkung ihres Kaders und eine klare Botschaft an die Konkurrenz. Die Kombination aus Messi und anderen Top-Spielern wie Karim Benzema verspricht eine furchterregende Offensive, die die Gegner vor große Herausforderungen stellen wird.\\n\\nDie kommende Saison verspricht also nicht nur spannende Derbys zwischen Barcelona und Real Madrid, sondern auch eine neue Ära des spanischen Fußballs, geprägt von einem unerwarteten Wechsel, der die Grenzen des Vorstellbaren überschreitet.'}\n",
      "Final result: {'article_state': 'Lionel Messi, einer der größten Fußballstars unserer Zeit, hat eine bahnbrechende Entscheidung getroffen: Er wechselt vom FC Barcelona zu Real Madrid. Diese Nachricht hat die Fußballwelt in Staunen versetzt und die Rivalität zwischen den beiden spanischen Giganten auf ein neues Level gehoben.\\n\\nMessis Wechsel zu Real Madrid markiert das Ende einer Ära bei Barcelona, wo er über ein Jahrzehnt lang gespielt und zahlreiche Rekorde gebrochen hat. Seine Entscheidung, zu ihrem Erzrivalen zu wechseln, hat bei den Fans gemischte Reaktionen hervorgerufen. Die einen sind entsetzt über den Gedanken, Messi in einem anderen Trikot zu sehen, während die anderen sich auf die spektakulären Duelle zwischen Messi und seinem langjährigen Rivalen Cristiano Ronaldo freuen.\\n\\nFür Real Madrid bedeutet die Verpflichtung von Messi eine enorme Verstärkung ihres Kaders und eine klare Botschaft an die Konkurrenz. Die Kombination aus Messi und anderen Top-Spielern wie Karim Benzema verspricht eine furchterregende Offensive, die die Gegner vor große Herausforderungen stellen wird.\\n\\nDie kommende Saison verspricht also nicht nur spannende Derbys zwischen Barcelona und Real Madrid, sondern auch eine neue Ära des spanischen Fußballs, geprägt von einem unerwarteten Wechsel, der die Grenzen des Vorstellbaren überschreitet.'}\n"
     ]
    }
   ],
   "source": [
    "initial_state = {\"article_state\": \"Messi gonna switch from barca to real madrid\"}\n",
    "result = app.invoke(initial_state)\n",
    "\n",
    "print(\"Final result:\", result)"
   ]
  }
 ],
 "metadata": {
  "kernelspec": {
   "display_name": ".venv",
   "language": "python",
   "name": "python3"
  },
  "language_info": {
   "codemirror_mode": {
    "name": "ipython",
    "version": 3
   },
   "file_extension": ".py",
   "mimetype": "text/x-python",
   "name": "python",
   "nbconvert_exporter": "python",
   "pygments_lexer": "ipython3",
   "version": "3.12.1"
  }
 },
 "nbformat": 4,
 "nbformat_minor": 2
}
