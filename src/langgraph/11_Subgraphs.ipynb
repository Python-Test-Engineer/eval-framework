{
 "cells": [
  {
   "cell_type": "code",
   "execution_count": 1,
   "metadata": {},
   "outputs": [
    {
     "data": {
      "text/plain": [
       "True"
      ]
     },
     "execution_count": 1,
     "metadata": {},
     "output_type": "execute_result"
    }
   ],
   "source": [
    "from dotenv import load_dotenv\n",
    "\n",
    "load_dotenv()"
   ]
  },
  {
   "cell_type": "code",
   "execution_count": 2,
   "metadata": {},
   "outputs": [],
   "source": [
    "from typing import Literal\n",
    "from langchain_core.messages import HumanMessage\n",
    "from langgraph.graph import END, START, StateGraph, MessagesState\n",
    "from langchain_openai import ChatOpenAI\n",
    "from langchain_core.tools import tool\n",
    "from langgraph.prebuilt import ToolNode\n",
    "\n",
    "\n",
    "# Define a tool for weather information\n",
    "@tool\n",
    "def get_weather(location: str):\n",
    "    \"\"\"Call to get the current weather.\"\"\"\n",
    "    if location.lower() in [\"munich\"]:\n",
    "        return \"It's 15 degrees Celsius and cloudy.\"\n",
    "    else:\n",
    "        return \"It's 32 degrees Celsius and sunny.\"\n",
    "\n",
    "\n",
    "tools = [get_weather]\n",
    "model = ChatOpenAI(model=\"gpt-4o-mini\").bind_tools(tools)\n",
    "\n",
    "\n",
    "def call_model(state: MessagesState):\n",
    "    messages = state[\"messages\"]\n",
    "    response = model.invoke(messages)\n",
    "    return {\"messages\": [response]}\n",
    "\n",
    "\n",
    "def should_continue(state: MessagesState) -> Literal[\"tools\", END]:\n",
    "    messages = state[\"messages\"]\n",
    "    last_message = messages[-1]\n",
    "    if last_message.tool_calls:\n",
    "        return \"tools\"\n",
    "    return END\n",
    "\n",
    "\n",
    "subgraph_workflow = StateGraph(MessagesState)\n",
    "tool_node = ToolNode(tools)\n",
    "\n",
    "subgraph_workflow.add_node(\"agent\", call_model)\n",
    "subgraph_workflow.add_node(\"tools\", tool_node)\n",
    "subgraph_workflow.add_conditional_edges(\"agent\", should_continue)\n",
    "subgraph_workflow.add_edge(\"tools\", \"agent\")\n",
    "subgraph_workflow.set_entry_point(\"agent\")\n",
    "\n",
    "subgraph = subgraph_workflow.compile()"
   ]
  },
  {
   "cell_type": "code",
   "execution_count": 3,
   "metadata": {},
   "outputs": [
    {
     "data": {
      "image/png": "[encoded data removed]",
      "text/plain": [
       "<IPython.core.display.Image object>"
      ]
     },
     "metadata": {},
     "output_type": "display_data"
    }
   ],
   "source": [
    "from IPython.display import Image, display\n",
    "from langchain_core.runnables.graph import MermaidDrawMethod\n",
    "\n",
    "display(\n",
    "    Image(\n",
    "        subgraph.get_graph().draw_mermaid_png(\n",
    "            draw_method=MermaidDrawMethod.API,\n",
    "        )\n",
    "    )\n",
    ")"
   ]
  },
  {
   "cell_type": "code",
   "execution_count": 4,
   "metadata": {},
   "outputs": [
    {
     "data": {
      "text/plain": [
       "{'messages': [HumanMessage(content='How is the weather in Munich?', additional_kwargs={}, response_metadata={}, id='c3b27cd2-6df4-421d-b17c-54d5782563c2'),\n",
       "  AIMessage(content='', additional_kwargs={'tool_calls': [{'id': 'call_W7qBjI93KOm4dscEP4LCsrM4', 'function': {'arguments': '{\"location\":\"Munich\"}', 'name': 'get_weather'}, 'type': 'function'}], 'refusal': None}, response_metadata={'token_usage': {'completion_tokens': 15, 'prompt_tokens': 51, 'total_tokens': 66, 'completion_tokens_details': {'accepted_prediction_tokens': 0, 'audio_tokens': 0, 'reasoning_tokens': 0, 'rejected_prediction_tokens': 0}, 'prompt_tokens_details': {'audio_tokens': 0, 'cached_tokens': 0}}, 'model_name': 'gpt-4o-mini-2024-07-18', 'system_fingerprint': 'fp_34a54ae93c', 'id': 'chatcmpl-BpcNVywt1wWbe0YuxyBbPY1U096ow', 'service_tier': 'default', 'finish_reason': 'tool_calls', 'logprobs': None}, id='run--f5f64d63-9b19-4225-8745-0b12fa741177-0', tool_calls=[{'name': 'get_weather', 'args': {'location': 'Munich'}, 'id': 'call_W7qBjI93KOm4dscEP4LCsrM4', 'type': 'tool_call'}], usage_metadata={'input_tokens': 51, 'output_tokens': 15, 'total_tokens': 66, 'input_token_details': {'audio': 0, 'cache_read': 0}, 'output_token_details': {'audio': 0, 'reasoning': 0}}),\n",
       "  ToolMessage(content=\"It's 15 degrees Celsius and cloudy.\", name='get_weather', id='198a233a-cf5b-4c5d-ab85-dbd37546d597', tool_call_id='call_W7qBjI93KOm4dscEP4LCsrM4'),\n",
       "  AIMessage(content='The weather in Munich is currently 15 degrees Celsius and cloudy.', additional_kwargs={'refusal': None}, response_metadata={'token_usage': {'completion_tokens': 14, 'prompt_tokens': 82, 'total_tokens': 96, 'completion_tokens_details': {'accepted_prediction_tokens': 0, 'audio_tokens': 0, 'reasoning_tokens': 0, 'rejected_prediction_tokens': 0}, 'prompt_tokens_details': {'audio_tokens': 0, 'cached_tokens': 0}}, 'model_name': 'gpt-4o-mini-2024-07-18', 'system_fingerprint': 'fp_34a54ae93c', 'id': 'chatcmpl-BpcNWrjEY9OKaIfhLSw5i6m6ccb8O', 'service_tier': 'default', 'finish_reason': 'stop', 'logprobs': None}, id='run--f5dd0a88-94fc-490e-a3d5-1fa32426ac85-0', usage_metadata={'input_tokens': 82, 'output_tokens': 14, 'total_tokens': 96, 'input_token_details': {'audio': 0, 'cache_read': 0}, 'output_token_details': {'audio': 0, 'reasoning': 0}})]}"
      ]
     },
     "execution_count": 4,
     "metadata": {},
     "output_type": "execute_result"
    }
   ],
   "source": [
    "subgraph.invoke({\"messages\": [HumanMessage(content=\"How is the weather in Munich?\")]})"
   ]
  },
  {
   "cell_type": "code",
   "execution_count": 5,
   "metadata": {},
   "outputs": [],
   "source": [
    "from typing import TypedDict\n",
    "from langgraph.graph import StateGraph\n",
    "\n",
    "\n",
    "# Dummy start node implementation\n",
    "def start_node(state: MessagesState):\n",
    "    return state\n",
    "\n",
    "\n",
    "main_graph = StateGraph(MessagesState)\n",
    "main_graph.add_node(\"start\", start_node)\n",
    "main_graph.add_node(\"subgraph\", subgraph)\n",
    "main_graph.add_edge(START, \"start\")\n",
    "main_graph.add_edge(\"start\", \"subgraph\")\n",
    "\n",
    "graph = main_graph.compile()"
   ]
  },
  {
   "cell_type": "code",
   "execution_count": 6,
   "metadata": {},
   "outputs": [],
   "source": [
    "initial_state = {\"messages\": [HumanMessage(content=\"What's the weather in Munich?\")]}\n",
    "result = graph.invoke(initial_state, subgraphs=False)"
   ]
  },
  {
   "cell_type": "code",
   "execution_count": 7,
   "metadata": {},
   "outputs": [
    {
     "data": {
      "text/plain": [
       "{'messages': [HumanMessage(content=\"What's the weather in Munich?\", additional_kwargs={}, response_metadata={}, id='5ede6d4d-554e-4762-94ce-d7fc38ccfbd1'),\n",
       "  AIMessage(content='', additional_kwargs={'tool_calls': [{'id': 'call_Hj5Yk0ZICBvK2EJbAciEALlf', 'function': {'arguments': '{\"location\":\"Munich\"}', 'name': 'get_weather'}, 'type': 'function'}], 'refusal': None}, response_metadata={'token_usage': {'completion_tokens': 15, 'prompt_tokens': 50, 'total_tokens': 65, 'completion_tokens_details': {'accepted_prediction_tokens': 0, 'audio_tokens': 0, 'reasoning_tokens': 0, 'rejected_prediction_tokens': 0}, 'prompt_tokens_details': {'audio_tokens': 0, 'cached_tokens': 0}}, 'model_name': 'gpt-4o-mini-2024-07-18', 'system_fingerprint': 'fp_34a54ae93c', 'id': 'chatcmpl-BpcNXD9bsqd6LP9EMpPDloYPRQftQ', 'service_tier': 'default', 'finish_reason': 'tool_calls', 'logprobs': None}, id='run--8df94a84-9f10-4fd9-9a27-ae8ebdb9d8c0-0', tool_calls=[{'name': 'get_weather', 'args': {'location': 'Munich'}, 'id': 'call_Hj5Yk0ZICBvK2EJbAciEALlf', 'type': 'tool_call'}], usage_metadata={'input_tokens': 50, 'output_tokens': 15, 'total_tokens': 65, 'input_token_details': {'audio': 0, 'cache_read': 0}, 'output_token_details': {'audio': 0, 'reasoning': 0}}),\n",
       "  ToolMessage(content=\"It's 15 degrees Celsius and cloudy.\", name='get_weather', id='83f35214-d71d-4670-9552-1738cdc73f1e', tool_call_id='call_Hj5Yk0ZICBvK2EJbAciEALlf'),\n",
       "  AIMessage(content='The weather in Munich is currently 15 degrees Celsius and cloudy.', additional_kwargs={'refusal': None}, response_metadata={'token_usage': {'completion_tokens': 14, 'prompt_tokens': 81, 'total_tokens': 95, 'completion_tokens_details': {'accepted_prediction_tokens': 0, 'audio_tokens': 0, 'reasoning_tokens': 0, 'rejected_prediction_tokens': 0}, 'prompt_tokens_details': {'audio_tokens': 0, 'cached_tokens': 0}}, 'model_name': 'gpt-4o-mini-2024-07-18', 'system_fingerprint': 'fp_34a54ae93c', 'id': 'chatcmpl-BpcNXWQHMH5cypAQCV9eitKdUc4SP', 'service_tier': 'default', 'finish_reason': 'stop', 'logprobs': None}, id='run--4eeec5f1-5995-4bb3-bbde-232960f76446-0', usage_metadata={'input_tokens': 81, 'output_tokens': 14, 'total_tokens': 95, 'input_token_details': {'audio': 0, 'cache_read': 0}, 'output_token_details': {'audio': 0, 'reasoning': 0}})]}"
      ]
     },
     "execution_count": 7,
     "metadata": {},
     "output_type": "execute_result"
    }
   ],
   "source": [
    "result"
   ]
  },
  {
   "cell_type": "code",
   "execution_count": 8,
   "metadata": {},
   "outputs": [],
   "source": [
    "class MessagesState(TypedDict):\n",
    "    parent_messages: list[str]\n",
    "\n",
    "\n",
    "def invoke_subgraph(state: MessagesState):\n",
    "    subgraph_output = subgraph.invoke({\"messages\": state[\"parent_messages\"]})\n",
    "    state[\"parent_messages\"] = subgraph_output[\"messages\"]\n",
    "    return state\n",
    "\n",
    "\n",
    "main_graph = StateGraph(MessagesState)\n",
    "main_graph.add_node(\"start\", start_node)\n",
    "main_graph.add_node(\"invoke_subgraph\", invoke_subgraph)\n",
    "main_graph.add_edge(START, \"start\")\n",
    "main_graph.add_edge(\"start\", \"invoke_subgraph\")\n",
    "\n",
    "\n",
    "graph = main_graph.compile()"
   ]
  },
  {
   "cell_type": "code",
   "execution_count": 9,
   "metadata": {},
   "outputs": [],
   "source": [
    "initial_state = {\n",
    "    \"parent_messages\": [HumanMessage(content=\"What's the weather in Munich?\")]\n",
    "}\n",
    "result = graph.invoke(initial_state, subgraphs=True)"
   ]
  },
  {
   "cell_type": "code",
   "execution_count": 10,
   "metadata": {},
   "outputs": [
    {
     "data": {
      "text/plain": [
       "{'parent_messages': [HumanMessage(content=\"What's the weather in Munich?\", additional_kwargs={}, response_metadata={}, id='d55e54fa-1df0-45d1-a15b-558d492f9b2b'),\n",
       "  AIMessage(content='', additional_kwargs={'tool_calls': [{'id': 'call_VEuUVn9QhL18EOtCxtc7PQI1', 'function': {'arguments': '{\"location\":\"Munich\"}', 'name': 'get_weather'}, 'type': 'function'}], 'refusal': None}, response_metadata={'token_usage': {'completion_tokens': 15, 'prompt_tokens': 50, 'total_tokens': 65, 'completion_tokens_details': {'accepted_prediction_tokens': 0, 'audio_tokens': 0, 'reasoning_tokens': 0, 'rejected_prediction_tokens': 0}, 'prompt_tokens_details': {'audio_tokens': 0, 'cached_tokens': 0}}, 'model_name': 'gpt-4o-mini-2024-07-18', 'system_fingerprint': 'fp_34a54ae93c', 'id': 'chatcmpl-BpcNYxnAao4LodlTIStw1jUhMQAfF', 'service_tier': 'default', 'finish_reason': 'tool_calls', 'logprobs': None}, id='run--ce629468-545f-40a9-a82e-cb6178dfd94b-0', tool_calls=[{'name': 'get_weather', 'args': {'location': 'Munich'}, 'id': 'call_VEuUVn9QhL18EOtCxtc7PQI1', 'type': 'tool_call'}], usage_metadata={'input_tokens': 50, 'output_tokens': 15, 'total_tokens': 65, 'input_token_details': {'audio': 0, 'cache_read': 0}, 'output_token_details': {'audio': 0, 'reasoning': 0}}),\n",
       "  ToolMessage(content=\"It's 15 degrees Celsius and cloudy.\", name='get_weather', id='e54a4c58-b40b-41e4-bcdd-414d066a036a', tool_call_id='call_VEuUVn9QhL18EOtCxtc7PQI1'),\n",
       "  AIMessage(content='The weather in Munich is currently 15 degrees Celsius and cloudy.', additional_kwargs={'refusal': None}, response_metadata={'token_usage': {'completion_tokens': 14, 'prompt_tokens': 81, 'total_tokens': 95, 'completion_tokens_details': {'accepted_prediction_tokens': 0, 'audio_tokens': 0, 'reasoning_tokens': 0, 'rejected_prediction_tokens': 0}, 'prompt_tokens_details': {'audio_tokens': 0, 'cached_tokens': 0}}, 'model_name': 'gpt-4o-mini-2024-07-18', 'system_fingerprint': 'fp_34a54ae93c', 'id': 'chatcmpl-BpcNZNS8UKq4G0IyW7HhPUscpcDSi', 'service_tier': 'default', 'finish_reason': 'stop', 'logprobs': None}, id='run--3e0372e1-0b5e-4887-af3b-2c8ff01ec7a2-0', usage_metadata={'input_tokens': 81, 'output_tokens': 14, 'total_tokens': 95, 'input_token_details': {'audio': 0, 'cache_read': 0}, 'output_token_details': {'audio': 0, 'reasoning': 0}})]}"
      ]
     },
     "execution_count": 10,
     "metadata": {},
     "output_type": "execute_result"
    }
   ],
   "source": [
    "result"
   ]
  }
 ],
 "metadata": {
  "kernelspec": {
   "display_name": ".venv",
   "language": "python",
   "name": "python3"
  },
  "language_info": {
   "codemirror_mode": {
    "name": "ipython",
    "version": 3
   },
   "file_extension": ".py",
   "mimetype": "text/x-python",
   "name": "python",
   "nbconvert_exporter": "python",
   "pygments_lexer": "ipython3",
   "version": "3.12.1"
  }
 },
 "nbformat": 4,
 "nbformat_minor": 2
}
