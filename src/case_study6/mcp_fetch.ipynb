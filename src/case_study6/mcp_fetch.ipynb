{
 "cells": [
  {
   "cell_type": "markdown",
   "metadata": {
    "id": "2I6agy8kkgG6"
   },
   "source": [
    "https://mcpservers.org/remote-mcp-servers\n"
   ]
  },
  {
   "cell_type": "markdown",
   "metadata": {
    "id": "pY9ulTcBk0fk"
   },
   "source": [
    "https://mcpservers.org/servers/modelcontextprotocol/fetch\n"
   ]
  },
  {
   "cell_type": "code",
   "execution_count": null,
   "metadata": {
    "executionInfo": {
     "elapsed": 787,
     "status": "ok",
     "timestamp": 1748943346027,
     "user": {
      "displayName": "Diogo Resende",
      "userId": "05706604408624562002"
     },
     "user_tz": -120
    },
    "id": "WyBPZedGVUEn"
   },
   "outputs": [],
   "source": [
    "import os\n",
    "from dotenv import load_dotenv, find_dotenv\n",
    "\n",
    "load_dotenv(find_dotenv(), override=True)\n",
    "OPENAI_API_KEY = os.getenv(\"OPENAI_API_KEY\")"
   ]
  },
  {
   "cell_type": "code",
   "execution_count": null,
   "metadata": {
    "executionInfo": {
     "elapsed": 8980,
     "status": "ok",
     "timestamp": 1748943355012,
     "user": {
      "displayName": "Diogo Resende",
      "userId": "05706604408624562002"
     },
     "user_tz": -120
    },
    "id": "-kfo9cy8Whmg"
   },
   "outputs": [],
   "source": [
    "from openai import OpenAI\n",
    "from IPython.display import Markdown\n",
    "\n",
    "client = OpenAI()"
   ]
  },
  {
   "cell_type": "code",
   "execution_count": null,
   "metadata": {},
   "outputs": [],
   "source": [
    "question = \"\"\"Find information about the Hotel Metropole in Brighton, UK\"\"\"\n",
    "MODEL = \"gpt-4o-mini\""
   ]
  },
  {
   "cell_type": "markdown",
   "metadata": {
    "id": "HG83UxrRKoJz"
   },
   "source": [
    "# MCP Fetch\n"
   ]
  },
  {
   "cell_type": "code",
   "execution_count": 4,
   "metadata": {
    "executionInfo": {
     "elapsed": 20877,
     "status": "ok",
     "timestamp": 1748944248622,
     "user": {
      "displayName": "Diogo Resende",
      "userId": "05706604408624562002"
     },
     "user_tz": -120
    },
    "id": "9C43ZzI9KrSG"
   },
   "outputs": [],
   "source": [
    "# Call the OpenAI API with the responses endpoint\n",
    "response1 = client.responses.create(\n",
    "    model=MODEL,\n",
    "    input=question,\n",
    "    tools=[\n",
    "        {\n",
    "            \"type\": \"mcp\",\n",
    "            \"server_label\": \"fetch\",\n",
    "            \"server_url\": \"https://remote.mcpservers.org/fetch/mcp\",\n",
    "            \"require_approval\": \"never\",\n",
    "        }\n",
    "    ],\n",
    ")"
   ]
  },
  {
   "cell_type": "code",
   "execution_count": 5,
   "metadata": {},
   "outputs": [
    {
     "data": {
      "text/plain": [
       "'The Hotel Metropole is a prominent seaside hotel located in Brighton, UK, known for its stunning views of the English Channel. Here are some key features:\\n\\n1. **Location**: Situated on the seafront, offering easy access to the beach and nearby attractions like the Brighton Pier and Royal Pavilion.\\n\\n2. **Accommodations**: The hotel provides a range of rooms and suites, many with ocean views, catering to both leisure and business travelers.\\n\\n3. **Facilities**: Amenities might include dining options, meeting rooms, and leisure facilities like a pool or fitness center (specific offerings can vary).\\n\\n4. **History**: The hotel has a rich history, dating back to the Victorian era, making it an interesting location not just for modern guests but also for those interested in its historical significance.\\n\\n5. **Events and Weddings**: The hotel often hosts events and weddings, with various spaces available for such occasions.\\n\\nIf you need more specific details or current offerings, let me know!'"
      ]
     },
     "execution_count": 5,
     "metadata": {},
     "output_type": "execute_result"
    }
   ],
   "source": [
    "response1.output_text"
   ]
  },
  {
   "cell_type": "code",
   "execution_count": 6,
   "metadata": {
    "colab": {
     "base_uri": "https://localhost:8080/",
     "height": 528
    },
    "executionInfo": {
     "elapsed": 11,
     "status": "ok",
     "timestamp": 1748944248637,
     "user": {
      "displayName": "Diogo Resende",
      "userId": "05706604408624562002"
     },
     "user_tz": -120
    },
    "id": "J-MObDPDMBoU",
    "outputId": "9d9194e1-8508-4d2d-80d2-59c5a1f92787"
   },
   "outputs": [
    {
     "data": {
      "text/markdown": [
       "The Hotel Metropole is a prominent seaside hotel located in Brighton, UK, known for its stunning views of the English Channel. Here are some key features:\n",
       "\n",
       "1. **Location**: Situated on the seafront, offering easy access to the beach and nearby attractions like the Brighton Pier and Royal Pavilion.\n",
       "\n",
       "2. **Accommodations**: The hotel provides a range of rooms and suites, many with ocean views, catering to both leisure and business travelers.\n",
       "\n",
       "3. **Facilities**: Amenities might include dining options, meeting rooms, and leisure facilities like a pool or fitness center (specific offerings can vary).\n",
       "\n",
       "4. **History**: The hotel has a rich history, dating back to the Victorian era, making it an interesting location not just for modern guests but also for those interested in its historical significance.\n",
       "\n",
       "5. **Events and Weddings**: The hotel often hosts events and weddings, with various spaces available for such occasions.\n",
       "\n",
       "If you need more specific details or current offerings, let me know!"
      ],
      "text/plain": [
       "<IPython.core.display.Markdown object>"
      ]
     },
     "execution_count": 6,
     "metadata": {},
     "output_type": "execute_result"
    }
   ],
   "source": [
    "# Display the output\n",
    "Markdown(response1.output_text)"
   ]
  },
  {
   "cell_type": "code",
   "execution_count": 7,
   "metadata": {
    "colab": {
     "base_uri": "https://localhost:8080/"
    },
    "executionInfo": {
     "elapsed": 7,
     "status": "ok",
     "timestamp": 1748944341542,
     "user": {
      "displayName": "Diogo Resende",
      "userId": "05706604408624562002"
     },
     "user_tz": -120
    },
    "id": "54R4OQ3QNKZ9",
    "outputId": "c269b237-e181-4635-a6a2-9b1b4925f3ad"
   },
   "outputs": [
    {
     "data": {
      "text/plain": [
       "[Mcp(server_label='fetch', server_url='https://remote.mcpservers.org/<redacted>', type='mcp', allowed_tools=None, headers=None, require_approval='never', server_description=None)]"
      ]
     },
     "execution_count": 7,
     "metadata": {},
     "output_type": "execute_result"
    }
   ],
   "source": [
    "# What tools were used\n",
    "response1.tools"
   ]
  }
 ],
 "metadata": {
  "colab": {
   "authorship_tag": "ABX9TyMxTRb+a2MrbVo2rw9XwYvw",
   "provenance": []
  },
  "kernelspec": {
   "display_name": "eval-framework",
   "language": "python",
   "name": "python3"
  },
  "language_info": {
   "codemirror_mode": {
    "name": "ipython",
    "version": 3
   },
   "file_extension": ".py",
   "mimetype": "text/x-python",
   "name": "python",
   "nbconvert_exporter": "python",
   "pygments_lexer": "ipython3",
   "version": "3.12.1"
  }
 },
 "nbformat": 4,
 "nbformat_minor": 0
}
