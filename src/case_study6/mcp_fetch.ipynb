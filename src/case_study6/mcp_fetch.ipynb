{
 "cells": [
  {
   "cell_type": "markdown",
   "metadata": {
    "id": "2I6agy8kkgG6"
   },
   "source": [
    "https://mcpservers.org/remote-mcp-servers\n"
   ]
  },
  {
   "cell_type": "markdown",
   "metadata": {
    "id": "pY9ulTcBk0fk"
   },
   "source": [
    "https://mcpservers.org/servers/modelcontextprotocol/fetch\n"
   ]
  },
  {
   "cell_type": "code",
   "execution_count": 2,
   "metadata": {
    "executionInfo": {
     "elapsed": 787,
     "status": "ok",
     "timestamp": 1748943346027,
     "user": {
      "displayName": "Diogo Resende",
      "userId": "05706604408624562002"
     },
     "user_tz": -120
    },
    "id": "WyBPZedGVUEn"
   },
   "outputs": [],
   "source": [
    "import os\n",
    "from dotenv import load_dotenv, find_dotenv\n",
    "\n",
    "load_dotenv(find_dotenv(), override=True)\n",
    "OPENAI_API_KEY = os.getenv(\"OPENAI_API_KEY\")"
   ]
  },
  {
   "cell_type": "code",
   "execution_count": 3,
   "metadata": {
    "executionInfo": {
     "elapsed": 8980,
     "status": "ok",
     "timestamp": 1748943355012,
     "user": {
      "displayName": "Diogo Resende",
      "userId": "05706604408624562002"
     },
     "user_tz": -120
    },
    "id": "-kfo9cy8Whmg"
   },
   "outputs": [],
   "source": [
    "from openai import OpenAI\n",
    "from IPython.display import Markdown\n",
    "\n",
    "client = OpenAI()"
   ]
  },
  {
   "cell_type": "code",
   "execution_count": 4,
   "metadata": {},
   "outputs": [],
   "source": [
    "question = \"\"\"Find information about the Hotel Metropole in Brighton, UK\"\"\"\n",
    "MODEL = \"gpt-4o-mini\""
   ]
  },
  {
   "cell_type": "markdown",
   "metadata": {
    "id": "HG83UxrRKoJz"
   },
   "source": [
    "# MCP Fetch\n"
   ]
  },
  {
   "cell_type": "code",
   "execution_count": 5,
   "metadata": {
    "executionInfo": {
     "elapsed": 20877,
     "status": "ok",
     "timestamp": 1748944248622,
     "user": {
      "displayName": "Diogo Resende",
      "userId": "05706604408624562002"
     },
     "user_tz": -120
    },
    "id": "9C43ZzI9KrSG"
   },
   "outputs": [],
   "source": [
    "# Call the OpenAI API with the responses endpoint\n",
    "response1 = client.responses.create(\n",
    "    model=MODEL,\n",
    "    input=question,\n",
    "    tools=[\n",
    "        {\n",
    "            \"type\": \"mcp\",\n",
    "            \"server_label\": \"fetch\",\n",
    "            \"server_url\": \"https://remote.mcpservers.org/fetch/mcp\",\n",
    "            \"require_approval\": \"never\",\n",
    "        }\n",
    "    ],\n",
    ")"
   ]
  },
  {
   "cell_type": "code",
   "execution_count": 6,
   "metadata": {},
   "outputs": [
    {
     "data": {
      "text/plain": [
       "'It seems that I fetched information about a different Hotel Metropole located in Venice, not Brighton. Here’s a brief overview of the Hotel Metropole in Brighton:\\n\\n### Hotel Metropole, Brighton\\n\\n- **Location**: Facing the seafront, situated in the heart of Brighton.\\n- **Accommodations**: Offers a range of rooms and suites with modern amenities.\\n- **Dining**: Features on-site dining options with local cuisine.\\n- **Facilities**: Includes meeting rooms, event spaces, and wellness services.\\n- **Nearby Attractions**: Close to the Brighton Pier, the Royal Pavilion, and various shopping areas.\\n\\nFor more precise details, visiting their official website or checking travel review platforms will provide you with the latest information and booking options.'"
      ]
     },
     "execution_count": 6,
     "metadata": {},
     "output_type": "execute_result"
    }
   ],
   "source": [
    "response1.output_text"
   ]
  },
  {
   "cell_type": "code",
   "execution_count": 7,
   "metadata": {
    "colab": {
     "base_uri": "https://localhost:8080/",
     "height": 528
    },
    "executionInfo": {
     "elapsed": 11,
     "status": "ok",
     "timestamp": 1748944248637,
     "user": {
      "displayName": "Diogo Resende",
      "userId": "05706604408624562002"
     },
     "user_tz": -120
    },
    "id": "J-MObDPDMBoU",
    "outputId": "9d9194e1-8508-4d2d-80d2-59c5a1f92787"
   },
   "outputs": [
    {
     "data": {
      "text/markdown": [
       "It seems that I fetched information about a different Hotel Metropole located in Venice, not Brighton. Here’s a brief overview of the Hotel Metropole in Brighton:\n",
       "\n",
       "### Hotel Metropole, Brighton\n",
       "\n",
       "- **Location**: Facing the seafront, situated in the heart of Brighton.\n",
       "- **Accommodations**: Offers a range of rooms and suites with modern amenities.\n",
       "- **Dining**: Features on-site dining options with local cuisine.\n",
       "- **Facilities**: Includes meeting rooms, event spaces, and wellness services.\n",
       "- **Nearby Attractions**: Close to the Brighton Pier, the Royal Pavilion, and various shopping areas.\n",
       "\n",
       "For more precise details, visiting their official website or checking travel review platforms will provide you with the latest information and booking options."
      ],
      "text/plain": [
       "<IPython.core.display.Markdown object>"
      ]
     },
     "execution_count": 7,
     "metadata": {},
     "output_type": "execute_result"
    }
   ],
   "source": [
    "# Display the output\n",
    "Markdown(response1.output_text)"
   ]
  },
  {
   "cell_type": "code",
   "execution_count": 8,
   "metadata": {
    "colab": {
     "base_uri": "https://localhost:8080/"
    },
    "executionInfo": {
     "elapsed": 7,
     "status": "ok",
     "timestamp": 1748944341542,
     "user": {
      "displayName": "Diogo Resende",
      "userId": "05706604408624562002"
     },
     "user_tz": -120
    },
    "id": "54R4OQ3QNKZ9",
    "outputId": "c269b237-e181-4635-a6a2-9b1b4925f3ad"
   },
   "outputs": [
    {
     "data": {
      "text/plain": [
       "[Mcp(server_label='fetch', server_url='https://remote.mcpservers.org/<redacted>', type='mcp', allowed_tools=None, headers=None, require_approval='never', server_description=None)]"
      ]
     },
     "execution_count": 8,
     "metadata": {},
     "output_type": "execute_result"
    }
   ],
   "source": [
    "# What tools were used\n",
    "response1.tools"
   ]
  }
 ],
 "metadata": {
  "colab": {
   "authorship_tag": "ABX9TyMxTRb+a2MrbVo2rw9XwYvw",
   "provenance": []
  },
  "kernelspec": {
   "display_name": "eval-framework",
   "language": "python",
   "name": "python3"
  },
  "language_info": {
   "codemirror_mode": {
    "name": "ipython",
    "version": 3
   },
   "file_extension": ".py",
   "mimetype": "text/x-python",
   "name": "python",
   "nbconvert_exporter": "python",
   "pygments_lexer": "ipython3",
   "version": "3.12.1"
  }
 },
 "nbformat": 4,
 "nbformat_minor": 0
}
