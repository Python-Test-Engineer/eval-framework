{
 "cells": [
  {
   "cell_type": "markdown",
   "id": "6fb2dfb5",
   "metadata": {},
   "source": [
    "In this eval, we see if the title is the same as the expected title."
   ]
  },
  {
   "cell_type": "code",
   "execution_count": 17,
   "id": "f3d26527-2e51-449e-9df1-d4102a89a6f4",
   "metadata": {},
   "outputs": [],
   "source": [
    "import pandas as pd\n",
    "import numpy as np\n",
    "import plotly.express as px"
   ]
  },
  {
   "cell_type": "code",
   "execution_count": null,
   "id": "556288cc",
   "metadata": {},
   "outputs": [],
   "source": [
    "# load dataset\n",
    "\n",
    "df = pd.read_csv(\n",
    "    \"./01_article_writer_should_write_with_ground_truth.csv\",\n",
    "    delimiter=\"|\",\n",
    "    names=[\n",
    "        \"datetime\",\n",
    "        \"app\",\n",
    "        \"evaluator\",\n",
    "        \"model\",\n",
    "        \"temperature\",\n",
    "        \"title\",\n",
    "        \"is_relevant\",\n",
    "        \"expected\",\n",
    "        \"input_tokens\",\n",
    "        \"output_tokens\",\n",
    "        \"total_tokens\",\n",
    "        \"time_taken\",\n",
    "    ],\n",
    ")"
   ]
  },
  {
   "cell_type": "code",
   "execution_count": 22,
   "id": "6d245b57",
   "metadata": {},
   "outputs": [
    {
     "data": {
      "application/vnd.microsoft.datawrangler.viewer.v0+json": {
       "columns": [
        {
         "name": "index",
         "rawType": "int64",
         "type": "integer"
        },
        {
         "name": "title",
         "rawType": "object",
         "type": "string"
        },
        {
         "name": "is_relevant",
         "rawType": "object",
         "type": "string"
        },
        {
         "name": "expected",
         "rawType": "object",
         "type": "string"
        },
        {
         "name": "equals",
         "rawType": "bool",
         "type": "boolean"
        }
       ],
       "ref": "69c9c66e-dba1-45e1-87dd-0bc9e7201676",
       "rows": [
        [
         "0",
         "The Art of Sourdough: From Starter to Perfect Loaf",
         "no",
         "no",
         "True"
        ],
        [
         "1",
         "Building Your First AI Agent: A Step-by-Step Guide",
         "yes",
         "yes",
         "True"
        ],
        [
         "2",
         "Minimalist Living: How Less Can Mean More",
         "no",
         "no",
         "True"
        ]
       ],
       "shape": {
        "columns": 4,
        "rows": 3
       }
      },
      "text/html": [
       "<div>\n",
       "<style scoped>\n",
       "    .dataframe tbody tr th:only-of-type {\n",
       "        vertical-align: middle;\n",
       "    }\n",
       "\n",
       "    .dataframe tbody tr th {\n",
       "        vertical-align: top;\n",
       "    }\n",
       "\n",
       "    .dataframe thead th {\n",
       "        text-align: right;\n",
       "    }\n",
       "</style>\n",
       "<table border=\"1\" class=\"dataframe\">\n",
       "  <thead>\n",
       "    <tr style=\"text-align: right;\">\n",
       "      <th></th>\n",
       "      <th>title</th>\n",
       "      <th>is_relevant</th>\n",
       "      <th>expected</th>\n",
       "      <th>equals</th>\n",
       "    </tr>\n",
       "  </thead>\n",
       "  <tbody>\n",
       "    <tr>\n",
       "      <th>0</th>\n",
       "      <td>The Art of Sourdough: From Starter to Perfect ...</td>\n",
       "      <td>no</td>\n",
       "      <td>no</td>\n",
       "      <td>True</td>\n",
       "    </tr>\n",
       "    <tr>\n",
       "      <th>1</th>\n",
       "      <td>Building Your First AI Agent: A Step-by-Step G...</td>\n",
       "      <td>yes</td>\n",
       "      <td>yes</td>\n",
       "      <td>True</td>\n",
       "    </tr>\n",
       "    <tr>\n",
       "      <th>2</th>\n",
       "      <td>Minimalist Living: How Less Can Mean More</td>\n",
       "      <td>no</td>\n",
       "      <td>no</td>\n",
       "      <td>True</td>\n",
       "    </tr>\n",
       "  </tbody>\n",
       "</table>\n",
       "</div>"
      ],
      "text/plain": [
       "                                               title is_relevant expected  \\\n",
       "0  The Art of Sourdough: From Starter to Perfect ...          no       no   \n",
       "1  Building Your First AI Agent: A Step-by-Step G...         yes      yes   \n",
       "2          Minimalist Living: How Less Can Mean More          no       no   \n",
       "\n",
       "   equals  \n",
       "0    True  \n",
       "1    True  \n",
       "2    True  "
      ]
     },
     "execution_count": 22,
     "metadata": {},
     "output_type": "execute_result"
    }
   ],
   "source": [
    "df.head(3)"
   ]
  },
  {
   "cell_type": "code",
   "execution_count": 23,
   "id": "cb825039",
   "metadata": {},
   "outputs": [
    {
     "data": {
      "application/vnd.microsoft.datawrangler.viewer.v0+json": {
       "columns": [
        {
         "name": "index",
         "rawType": "int64",
         "type": "integer"
        },
        {
         "name": "title",
         "rawType": "object",
         "type": "string"
        },
        {
         "name": "is_relevant",
         "rawType": "object",
         "type": "string"
        },
        {
         "name": "expected",
         "rawType": "object",
         "type": "string"
        },
        {
         "name": "equals",
         "rawType": "bool",
         "type": "boolean"
        }
       ],
       "ref": "4bc8fab2-a4ea-4a81-a034-3a7025af2e6d",
       "rows": [
        [
         "0",
         "The Art of Sourdough: From Starter to Perfect Loaf",
         "no",
         "no",
         "True"
        ],
        [
         "1",
         "Building Your First AI Agent: A Step-by-Step Guide",
         "yes",
         "yes",
         "True"
        ],
        [
         "2",
         "Minimalist Living: How Less Can Mean More",
         "no",
         "no",
         "True"
        ],
        [
         "3",
         "Why AI Agents Will Replace Traditional Software",
         "yes",
         "yes",
         "True"
        ],
        [
         "4",
         "Urban Gardening in Small Spaces: Maximizing Your Harvest",
         "no",
         "no",
         "True"
        ]
       ],
       "shape": {
        "columns": 4,
        "rows": 5
       }
      },
      "text/html": [
       "<div>\n",
       "<style scoped>\n",
       "    .dataframe tbody tr th:only-of-type {\n",
       "        vertical-align: middle;\n",
       "    }\n",
       "\n",
       "    .dataframe tbody tr th {\n",
       "        vertical-align: top;\n",
       "    }\n",
       "\n",
       "    .dataframe thead th {\n",
       "        text-align: right;\n",
       "    }\n",
       "</style>\n",
       "<table border=\"1\" class=\"dataframe\">\n",
       "  <thead>\n",
       "    <tr style=\"text-align: right;\">\n",
       "      <th></th>\n",
       "      <th>title</th>\n",
       "      <th>is_relevant</th>\n",
       "      <th>expected</th>\n",
       "      <th>equals</th>\n",
       "    </tr>\n",
       "  </thead>\n",
       "  <tbody>\n",
       "    <tr>\n",
       "      <th>0</th>\n",
       "      <td>The Art of Sourdough: From Starter to Perfect ...</td>\n",
       "      <td>no</td>\n",
       "      <td>no</td>\n",
       "      <td>True</td>\n",
       "    </tr>\n",
       "    <tr>\n",
       "      <th>1</th>\n",
       "      <td>Building Your First AI Agent: A Step-by-Step G...</td>\n",
       "      <td>yes</td>\n",
       "      <td>yes</td>\n",
       "      <td>True</td>\n",
       "    </tr>\n",
       "    <tr>\n",
       "      <th>2</th>\n",
       "      <td>Minimalist Living: How Less Can Mean More</td>\n",
       "      <td>no</td>\n",
       "      <td>no</td>\n",
       "      <td>True</td>\n",
       "    </tr>\n",
       "    <tr>\n",
       "      <th>3</th>\n",
       "      <td>Why AI Agents Will Replace Traditional Software</td>\n",
       "      <td>yes</td>\n",
       "      <td>yes</td>\n",
       "      <td>True</td>\n",
       "    </tr>\n",
       "    <tr>\n",
       "      <th>4</th>\n",
       "      <td>Urban Gardening in Small Spaces: Maximizing Yo...</td>\n",
       "      <td>no</td>\n",
       "      <td>no</td>\n",
       "      <td>True</td>\n",
       "    </tr>\n",
       "  </tbody>\n",
       "</table>\n",
       "</div>"
      ],
      "text/plain": [
       "                                               title is_relevant expected  \\\n",
       "0  The Art of Sourdough: From Starter to Perfect ...          no       no   \n",
       "1  Building Your First AI Agent: A Step-by-Step G...         yes      yes   \n",
       "2          Minimalist Living: How Less Can Mean More          no       no   \n",
       "3    Why AI Agents Will Replace Traditional Software         yes      yes   \n",
       "4  Urban Gardening in Small Spaces: Maximizing Yo...          no       no   \n",
       "\n",
       "   equals  \n",
       "0    True  \n",
       "1    True  \n",
       "2    True  \n",
       "3    True  \n",
       "4    True  "
      ]
     },
     "execution_count": 23,
     "metadata": {},
     "output_type": "execute_result"
    }
   ],
   "source": [
    "# comare title with expected\n",
    "\n",
    "df[\"equals\"]= df[\"is_relevant\"]== df[\"expected\"]\n",
    "# add this column to the dataframe\n",
    "\n",
    "# select title, is_relevant, expected, equals,columns\n",
    "df = df[[\"title\", \"is_relevant\", \"expected\", \"equals\"]]\n",
    "df.head(5)"
   ]
  },
  {
   "cell_type": "code",
   "execution_count": 27,
   "id": "dce81bdb",
   "metadata": {},
   "outputs": [
    {
     "name": "stdout",
     "output_type": "stream",
     "text": [
      "All titles match the expected title.\n",
      "Percentage of titles that match the expected title: 100.00%\n"
     ]
    }
   ],
   "source": [
    "# check if all titles match the expected title\n",
    "\n",
    "if len(df) != sum(df[\"equals\"]):\n",
    "    print(\"There are some titles that do not match the expected title.\") \n",
    "else:\n",
    "    print(\"All titles match the expected title.\")\n",
    "\n",
    "percentage_correct = sum(df[\"equals\"]) / len(df) * 100\n",
    "print(f\"Percentage of titles that match the expected title: {percentage_correct:.2f}%\")"
   ]
  }
 ],
 "metadata": {
  "kernelspec": {
   "display_name": "llm-evaluation-framework",
   "language": "python",
   "name": "python3"
  },
  "language_info": {
   "codemirror_mode": {
    "name": "ipython",
    "version": 3
   },
   "file_extension": ".py",
   "mimetype": "text/x-python",
   "name": "python",
   "nbconvert_exporter": "python",
   "pygments_lexer": "ipython3",
   "version": "3.12.1"
  }
 },
 "nbformat": 4,
 "nbformat_minor": 5
}
