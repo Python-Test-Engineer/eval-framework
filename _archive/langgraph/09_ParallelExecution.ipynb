{
 "cells": [
  {
   "cell_type": "markdown",
   "metadata": {},
   "source": [
    "### Parallel Execution"
   ]
  },
  {
   "cell_type": "code",
   "execution_count": 1,
   "metadata": {},
   "outputs": [],
   "source": [
    "import operator\n",
    "from typing import Annotated, Any\n",
    "\n",
    "from typing_extensions import TypedDict\n",
    "\n",
    "from langgraph.graph import StateGraph, START, END\n",
    "\n",
    "\n",
    "class InputState(TypedDict):\n",
    "    # string_value: str\n",
    "    string_value: Annotated[str, operator.add]"
   ]
  },
  {
   "cell_type": "code",
   "execution_count": 2,
   "metadata": {},
   "outputs": [],
   "source": [
    "def append_a(state: InputState) -> Any:\n",
    "    print(f\"append_a: Current string_value='{state['string_value']}'\")\n",
    "    state[\"string_value\"] += \"a\"\n",
    "    return state\n",
    "\n",
    "\n",
    "def append_b(state: InputState) -> Any:\n",
    "    print(f\"append_b: Current string_value='{state['string_value']}'\")\n",
    "    state[\"string_value\"] += \"b\"\n",
    "    return state\n",
    "\n",
    "\n",
    "def append_c(state: InputState) -> Any:\n",
    "    print(f\"append_c: Current string_value='{state['string_value']}'\")\n",
    "    state[\"string_value\"] += \"c\"\n",
    "    return state\n",
    "\n",
    "\n",
    "def combine_strings(state: InputState) -> Any:\n",
    "    combined_string = state[\"string_value\"]\n",
    "    print(f\"combine_strings: Combined string_value='{combined_string}'\")\n",
    "    final_string = combined_string.upper()\n",
    "    print(f\"combine_strings: Final string_value='{final_string}'\")\n",
    "    state[\"string_value\"] = final_string\n",
    "    return state"
   ]
  },
  {
   "cell_type": "code",
   "execution_count": 3,
   "metadata": {},
   "outputs": [],
   "source": [
    "builder = StateGraph(InputState)\n",
    "\n",
    "builder.add_node(\"start_node\", lambda state: state)\n",
    "builder.add_node(\"append_a_node\", append_a)\n",
    "builder.add_node(\"append_b_node\", append_b)\n",
    "builder.add_node(\"append_c_node\", append_c)\n",
    "builder.add_node(\"combine_node\", combine_strings)\n",
    "\n",
    "builder.add_edge(START, \"start_node\")\n",
    "\n",
    "builder.add_edge(\"start_node\", \"append_a_node\")\n",
    "builder.add_edge(\"start_node\", \"append_b_node\")\n",
    "builder.add_edge(\"start_node\", \"append_c_node\")\n",
    "\n",
    "builder.add_edge(\"append_a_node\", \"combine_node\")\n",
    "builder.add_edge(\"append_b_node\", \"combine_node\")\n",
    "builder.add_edge(\"append_c_node\", \"combine_node\")\n",
    "\n",
    "builder.add_edge(\"combine_node\", END)\n",
    "\n",
    "graph = builder.compile()\n",
    "\n",
    "initial_state = {\"string_value\": \"\"}"
   ]
  },
  {
   "cell_type": "code",
   "execution_count": 4,
   "metadata": {},
   "outputs": [
    {
     "data": {
      "image/png": "[encoded data removed]",
      "text/plain": [
       "<IPython.core.display.Image object>"
      ]
     },
     "metadata": {},
     "output_type": "display_data"
    }
   ],
   "source": [
    "from IPython.display import Image, display\n",
    "\n",
    "display(Image(graph.get_graph().draw_mermaid_png()))"
   ]
  },
  {
   "cell_type": "code",
   "execution_count": 5,
   "metadata": {},
   "outputs": [
    {
     "name": "stdout",
     "output_type": "stream",
     "text": [
      "append_a: Current string_value=''\n",
      "append_b: Current string_value=''\n",
      "append_c: Current string_value=''\n",
      "combine_strings: Combined string_value='abc'\n",
      "combine_strings: Final string_value='ABC'\n",
      "{'string_value': 'abcABC'}\n"
     ]
    }
   ],
   "source": [
    "result = graph.invoke(initial_state)\n",
    "print(result)"
   ]
  },
  {
   "cell_type": "markdown",
   "metadata": {},
   "source": [
    "### Mapreduce with Send API"
   ]
  },
  {
   "cell_type": "code",
   "execution_count": 6,
   "metadata": {},
   "outputs": [],
   "source": [
    "import operator\n",
    "import random\n",
    "from typing import Any, Annotated, List\n",
    "from typing_extensions import TypedDict\n",
    "from langgraph.graph import StateGraph, START, END\n",
    "from langgraph.types import Send\n",
    "from IPython.display import Image, display\n",
    "\n",
    "\n",
    "class State(TypedDict):\n",
    "    string_value: Annotated[str, operator.add]\n",
    "    letters: List[str]\n",
    "\n",
    "\n",
    "def generate_letters(_: State) -> Any:\n",
    "    num_nodes = random.randint(5, 10)\n",
    "    letters = random.choices([\"a\", \"b\", \"c\", \"d\", \"e\"], k=num_nodes)\n",
    "    print(f\"Generated letters: {letters}\")\n",
    "    return {\"letters\": letters}\n",
    "\n",
    "\n",
    "def generate_random_nodes(state: State):\n",
    "    letters = state[\"letters\"]\n",
    "    print(f\"Using letters from state: {letters}\")\n",
    "    return [Send(\"append_letter\", {\"letter\": letter}) for letter in letters]\n",
    "\n",
    "\n",
    "def append_letter(state: State) -> Any:\n",
    "    letter = state[\"letter\"]\n",
    "    print(f\"Appending '{letter}'\")\n",
    "    return {\"string_value\": letter}\n",
    "\n",
    "\n",
    "def combine_strings(state: State) -> Any:\n",
    "    combined_string = state[\"string_value\"]\n",
    "    print(f\"combine_strings: Combined string_value='{combined_string}'\")\n",
    "    final_string = combined_string.upper()\n",
    "    print(f\"combine_strings: Final string_value='{final_string}'\")\n",
    "    return {\"string_value\": final_string}\n",
    "\n",
    "\n",
    "builder = StateGraph(State)\n",
    "builder.add_node(\"start_node\", lambda state: state)\n",
    "builder.add_node(\"generate_letters\", generate_letters)\n",
    "builder.add_node(\"append_letter\", append_letter)\n",
    "builder.add_node(\"combine_node\", combine_strings)\n",
    "\n",
    "builder.add_edge(START, \"start_node\")\n",
    "builder.add_edge(\"start_node\", \"generate_letters\")\n",
    "builder.add_conditional_edges(\n",
    "    \"generate_letters\", generate_random_nodes, [\"append_letter\"]\n",
    ")\n",
    "builder.add_edge(\"append_letter\", \"combine_node\")\n",
    "builder.add_edge(\"combine_node\", END)\n",
    "\n",
    "graph = builder.compile()"
   ]
  },
  {
   "cell_type": "code",
   "execution_count": 7,
   "metadata": {},
   "outputs": [
    {
     "data": {
      "image/png": "[encoded data removed]",
      "text/plain": [
       "<IPython.core.display.Image object>"
      ]
     },
     "metadata": {},
     "output_type": "display_data"
    }
   ],
   "source": [
    "display(Image(graph.get_graph().draw_mermaid_png()))"
   ]
  },
  {
   "cell_type": "code",
   "execution_count": 8,
   "metadata": {},
   "outputs": [
    {
     "name": "stdout",
     "output_type": "stream",
     "text": [
      "Generated letters: ['b', 'd', 'e', 'e', 'c', 'a', 'b', 'a']\n",
      "Using letters from state: ['b', 'd', 'e', 'e', 'c', 'a', 'b', 'a']\n",
      "Appending 'b'\n",
      "Appending 'd'\n",
      "Appending 'e'\n",
      "Appending 'e'\n",
      "Appending 'c'\n",
      "Appending 'a'\n",
      "Appending 'b'\n",
      "Appending 'a'\n",
      "combine_strings: Combined string_value='bdeecaba'\n",
      "combine_strings: Final string_value='BDEECABA'\n",
      "{'string_value': 'bdeecabaBDEECABA', 'letters': ['b', 'd', 'e', 'e', 'c', 'a', 'b', 'a']}\n"
     ]
    }
   ],
   "source": [
    "initial_state = {\"string_value\": \"\"}\n",
    "result = graph.invoke(initial_state)\n",
    "\n",
    "print(result)"
   ]
  }
 ],
 "metadata": {
  "kernelspec": {
   "display_name": ".venv",
   "language": "python",
   "name": "python3"
  },
  "language_info": {
   "codemirror_mode": {
    "name": "ipython",
    "version": 3
   },
   "file_extension": ".py",
   "mimetype": "text/x-python",
   "name": "python",
   "nbconvert_exporter": "python",
   "pygments_lexer": "ipython3",
   "version": "3.12.10"
  }
 },
 "nbformat": 4,
 "nbformat_minor": 2
}
