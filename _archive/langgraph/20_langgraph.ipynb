{
 "cells": [
  {
   "cell_type": "code",
   "execution_count": 1,
   "metadata": {},
   "outputs": [
    {
     "data": {
      "text/plain": [
       "True"
      ]
     },
     "execution_count": 1,
     "metadata": {},
     "output_type": "execute_result"
    }
   ],
   "source": [
    "from dotenv import load_dotenv,find_dotenv\n",
    "import os\n",
    "\n",
    "load_dotenv(find_dotenv())"
   ]
  },
  {
   "cell_type": "markdown",
   "metadata": {},
   "source": [
    "### Nodes & Edges"
   ]
  },
  {
   "cell_type": "code",
   "execution_count": 2,
   "metadata": {},
   "outputs": [],
   "source": [
    "from langchain_core.messages import HumanMessage\n",
    "from langgraph.graph import END, MessageGraph\n",
    "import time\n",
    "\n",
    "def add_one(input: list[HumanMessage]):\n",
    "    input[0].content = input[0].content + \"a\"\n",
    "    time.sleep(1)\n",
    "    return input\n",
    "\n",
    "\n",
    "graph = MessageGraph()\n",
    "\n",
    "graph.add_node(\"branch_a\", add_one)\n",
    "graph.add_edge(\"branch_a\", \"branch_b\")\n",
    "graph.add_edge(\"branch_a\", \"branch_c\")\n",
    "\n",
    "graph.add_node(\"branch_b\", add_one)\n",
    "graph.add_node(\"branch_c\", add_one)\n",
    "\n",
    "graph.add_edge(\"branch_b\", \"final_node\")\n",
    "graph.add_edge(\"branch_c\", \"final_node\")\n",
    "\n",
    "graph.add_node(\"final_node\", add_one)\n",
    "graph.add_edge(\"final_node\", END)\n",
    "\n",
    "graph.set_entry_point(\"branch_a\")\n",
    "\n",
    "runnable = graph.compile()"
   ]
  },
  {
   "cell_type": "code",
   "execution_count": 3,
   "metadata": {},
   "outputs": [
    {
     "data": {
      "image/png": "[encoded data removed]",
      "text/plain": [
       "<IPython.core.display.Image object>"
      ]
     },
     "metadata": {},
     "output_type": "display_data"
    }
   ],
   "source": [
    "from IPython.display import Image, display\n",
    "\n",
    "display(Image(runnable.get_graph().draw_mermaid_png()))"
   ]
  },
  {
   "cell_type": "code",
   "execution_count": 4,
   "metadata": {},
   "outputs": [
    {
     "data": {
      "text/plain": [
       "[HumanMessage(content='aaaaa', additional_kwargs={}, response_metadata={}, id='4c990dfe-ac37-4646-9773-11645a221af4')]"
      ]
     },
     "execution_count": 4,
     "metadata": {},
     "output_type": "execute_result"
    }
   ],
   "source": [
    "runnable.invoke(\"a\")"
   ]
  },
  {
   "cell_type": "markdown",
   "metadata": {},
   "source": [
    "### Conditional Edges"
   ]
  },
  {
   "cell_type": "code",
   "execution_count": 5,
   "metadata": {},
   "outputs": [],
   "source": [
    "from langchain_core.messages import HumanMessage\n",
    "from langgraph.graph import END, MessageGraph\n",
    "\n",
    "\n",
    "def entry(input: list[HumanMessage]):\n",
    "    return input\n",
    "\n",
    "\n",
    "def work_with_b(input: list[HumanMessage]):\n",
    "    print(\"Using branch B\")\n",
    "    return input\n",
    "\n",
    "\n",
    "def work_with_c(input: list[HumanMessage]):\n",
    "    print(\"Using branch C\")\n",
    "    return input\n",
    "\n",
    "\n",
    "def router(input: list[HumanMessage]):\n",
    "    if \"use_b\" in input[0].content:\n",
    "        return \"branch_b\"\n",
    "    else:\n",
    "        return \"branch_c\"\n",
    "\n",
    "\n",
    "graph = MessageGraph()\n",
    "\n",
    "graph.add_node(\"branch_a\", entry)\n",
    "graph.add_node(\"branch_b\", work_with_b)\n",
    "graph.add_node(\"branch_c\", work_with_c)\n",
    "\n",
    "graph.add_conditional_edges(\n",
    "    \"branch_a\", router, {\"branch_b\": \"branch_b\", \"branch_c\": \"branch_c\"}\n",
    ")\n",
    "graph.add_edge(\"branch_b\", END)\n",
    "graph.add_edge(\"branch_c\", END)\n",
    "\n",
    "graph.set_entry_point(\"branch_a\")\n",
    "\n",
    "runnable = graph.compile()"
   ]
  },
  {
   "cell_type": "code",
   "execution_count": 6,
   "metadata": {},
   "outputs": [
    {
     "data": {
      "image/png": "[encoded data removed]",
      "text/plain": [
       "<IPython.core.display.Image object>"
      ]
     },
     "metadata": {},
     "output_type": "display_data"
    }
   ],
   "source": [
    "display(Image(runnable.get_graph().draw_mermaid_png()))"
   ]
  },
  {
   "cell_type": "code",
   "execution_count": 7,
   "metadata": {},
   "outputs": [
    {
     "name": "stdout",
     "output_type": "stream",
     "text": [
      "Using branch C\n"
     ]
    },
    {
     "data": {
      "text/plain": [
       "[HumanMessage(content='hello', additional_kwargs={}, response_metadata={}, id='7cf21777-61fe-4beb-bbe5-330be192b27d')]"
      ]
     },
     "execution_count": 7,
     "metadata": {},
     "output_type": "execute_result"
    }
   ],
   "source": [
    "runnable.invoke(\"hello\")"
   ]
  },
  {
   "cell_type": "code",
   "execution_count": 8,
   "metadata": {},
   "outputs": [
    {
     "name": "stdout",
     "output_type": "stream",
     "text": [
      "Using branch B\n"
     ]
    },
    {
     "data": {
      "text/plain": [
       "[HumanMessage(content='I want to use_b', additional_kwargs={}, response_metadata={}, id='8457fcee-a751-4b0d-aa4f-cc9fe637ed70')]"
      ]
     },
     "execution_count": 8,
     "metadata": {},
     "output_type": "execute_result"
    }
   ],
   "source": [
    "runnable.invoke(\"I want to use_b\")"
   ]
  },
  {
   "cell_type": "markdown",
   "metadata": {},
   "source": [
    "### Cycles"
   ]
  },
  {
   "cell_type": "code",
   "execution_count": 9,
   "metadata": {},
   "outputs": [],
   "source": [
    "from langchain_openai import ChatOpenAI\n",
    "from langchain_core.messages import HumanMessage\n",
    "from langgraph.graph import END, MessageGraph\n",
    "\n",
    "model = ChatOpenAI(temperature=0)\n",
    "\n",
    "\n",
    "def entry(input: list[HumanMessage]):\n",
    "    return input\n",
    "\n",
    "\n",
    "def action(input: list[HumanMessage]):\n",
    "    print(\"Action taken:\", [msg.content for msg in input])\n",
    "    if len(input) > 5:\n",
    "        input.append(HumanMessage(content=\"end\"))\n",
    "    else:\n",
    "        input.append(HumanMessage(content=\"continue\"))\n",
    "    return input\n",
    "\n",
    "\n",
    "def should_continue(input: list):\n",
    "    last_message = input[-1]\n",
    "    if \"end\" in last_message.content:\n",
    "        return \"__end__\"\n",
    "    return \"action\"\n",
    "\n",
    "\n",
    "graph = MessageGraph()\n",
    "\n",
    "graph.add_node(\"agent\", entry)\n",
    "graph.add_node(\"action\", action)\n",
    "\n",
    "graph.add_conditional_edges(\n",
    "    \"agent\", should_continue, {\"action\": \"action\", \"__end__\": END}\n",
    ")\n",
    "graph.add_edge(\"action\", \"agent\")\n",
    "\n",
    "graph.set_entry_point(\"agent\")\n",
    "\n",
    "runnable = graph.compile()"
   ]
  },
  {
   "cell_type": "code",
   "execution_count": 10,
   "metadata": {},
   "outputs": [
    {
     "data": {
      "image/png": "[encoded data removed]",
      "text/plain": [
       "<IPython.core.display.Image object>"
      ]
     },
     "metadata": {},
     "output_type": "display_data"
    }
   ],
   "source": [
    "display(Image(runnable.get_graph().draw_mermaid_png()))"
   ]
  },
  {
   "cell_type": "code",
   "execution_count": 11,
   "metadata": {},
   "outputs": [
    {
     "name": "stdout",
     "output_type": "stream",
     "text": [
      "Action taken: ['Hello']\n",
      "Action taken: ['Hello', 'continue']\n",
      "Action taken: ['Hello', 'continue', 'continue']\n",
      "Action taken: ['Hello', 'continue', 'continue', 'continue']\n",
      "Action taken: ['Hello', 'continue', 'continue', 'continue', 'continue']\n",
      "Action taken: ['Hello', 'continue', 'continue', 'continue', 'continue', 'continue']\n"
     ]
    },
    {
     "data": {
      "text/plain": [
       "[HumanMessage(content='Hello', additional_kwargs={}, response_metadata={}, id='e728881a-fce3-4443-b6f7-c8fc3d1d4189'),\n",
       " HumanMessage(content='continue', additional_kwargs={}, response_metadata={}, id='dc4041e1-4338-4477-896d-49adcca53a98'),\n",
       " HumanMessage(content='continue', additional_kwargs={}, response_metadata={}, id='8d94ee9e-8e1c-4c10-b302-d9a00e01f93f'),\n",
       " HumanMessage(content='continue', additional_kwargs={}, response_metadata={}, id='75d13258-9a98-4e43-a0e3-e7d545fda2f9'),\n",
       " HumanMessage(content='continue', additional_kwargs={}, response_metadata={}, id='fe344dc3-799f-43d4-ae1e-e0ee600a1575'),\n",
       " HumanMessage(content='continue', additional_kwargs={}, response_metadata={}, id='8f0705d8-ee79-43e1-bcb5-544aeb4a2afb'),\n",
       " HumanMessage(content='end', additional_kwargs={}, response_metadata={}, id='48e8af2c-5637-4b9d-9ce4-33cece4f66ca')]"
      ]
     },
     "execution_count": 11,
     "metadata": {},
     "output_type": "execute_result"
    }
   ],
   "source": [
    "runnable.invoke(\"Hello\")"
   ]
  },
  {
   "cell_type": "markdown",
   "metadata": {},
   "source": [
    "### Real Agent - now lets create an Agent that actually does something"
   ]
  },
  {
   "cell_type": "code",
   "execution_count": 12,
   "metadata": {},
   "outputs": [],
   "source": [
    "from langchain_openai import ChatOpenAI\n",
    "\n",
    "model = ChatOpenAI(temperature=0)"
   ]
  },
  {
   "cell_type": "code",
   "execution_count": 13,
   "metadata": {},
   "outputs": [],
   "source": [
    "from typing import TypedDict, Annotated, Sequence\n",
    "import operator\n",
    "from langchain_core.messages import BaseMessage\n",
    "\n",
    "\n",
    "class AgentState(TypedDict):\n",
    "    messages: Annotated[Sequence[BaseMessage], operator.add]\n",
    "    api_call_count: int = 0"
   ]
  },
  {
   "cell_type": "code",
   "execution_count": 14,
   "metadata": {},
   "outputs": [],
   "source": [
    "from langchain_core.tools import tool\n",
    "import random\n",
    "\n",
    "\n",
    "@tool\n",
    "def fake_weather_api(city: str) -> str:\n",
    "    \"\"\"Check the weather in a specified city. The API is available randomly, approximately every third call.\"\"\"\n",
    "\n",
    "    if random.randint(1, 3) == 1:  # Approximately one-third chance\n",
    "        return \"Sunny, 22°C\"\n",
    "    else:\n",
    "        return \"Service temporarily unavailable\""
   ]
  },
  {
   "cell_type": "code",
   "execution_count": 15,
   "metadata": {},
   "outputs": [
    {
     "name": "stdout",
     "output_type": "stream",
     "text": [
      "Sunny, 22°C\n",
      "Sunny, 22°C\n",
      "Service temporarily unavailable\n"
     ]
    },
    {
     "name": "stderr",
     "output_type": "stream",
     "text": [
      "C:\\Users\\owner\\AppData\\Local\\Temp\\ipykernel_4884\\3103669300.py:1: LangChainDeprecationWarning: The method `BaseTool.__call__` was deprecated in langchain-core 0.1.47 and will be removed in 1.0. Use :meth:`~invoke` instead.\n",
      "  print(fake_weather_api(\"New York\"))\n"
     ]
    }
   ],
   "source": [
    "print(fake_weather_api(\"New York\"))\n",
    "print(fake_weather_api(\"London\"))\n",
    "print(fake_weather_api(\"Berlin\"))"
   ]
  },
  {
   "cell_type": "code",
   "execution_count": 16,
   "metadata": {},
   "outputs": [],
   "source": [
    "llm_with_tools = model.bind_tools([fake_weather_api])"
   ]
  },
  {
   "cell_type": "code",
   "execution_count": 17,
   "metadata": {},
   "outputs": [
    {
     "name": "stdout",
     "output_type": "stream",
     "text": [
      "[HumanMessage(content='How will the weather be in munich today? I would like to eat outside if possible', additional_kwargs={}, response_metadata={}), AIMessage(content='', additional_kwargs={'tool_calls': [{'id': 'call_CNraMPCcMQWgvNWgxdK70GR0', 'function': {'arguments': '{\"city\":\"Munich\"}', 'name': 'fake_weather_api'}, 'type': 'function'}], 'refusal': None}, response_metadata={'token_usage': {'completion_tokens': 17, 'prompt_tokens': 76, 'total_tokens': 93, 'completion_tokens_details': {'accepted_prediction_tokens': 0, 'audio_tokens': 0, 'reasoning_tokens': 0, 'rejected_prediction_tokens': 0}, 'prompt_tokens_details': {'audio_tokens': 0, 'cached_tokens': 0}}, 'model_name': 'gpt-3.5-turbo-0125', 'system_fingerprint': None, 'id': 'chatcmpl-BpFbx1FZR8rxbLG4mRpPQ1RrMlYIe', 'service_tier': 'default', 'finish_reason': 'tool_calls', 'logprobs': None}, id='run--1f322335-455b-41e0-9327-e4c637524f1b-0', tool_calls=[{'name': 'fake_weather_api', 'args': {'city': 'Munich'}, 'id': 'call_CNraMPCcMQWgvNWgxdK70GR0', 'type': 'tool_call'}], usage_metadata={'input_tokens': 76, 'output_tokens': 17, 'total_tokens': 93, 'input_token_details': {'audio': 0, 'cache_read': 0}, 'output_token_details': {'audio': 0, 'reasoning': 0}})]\n"
     ]
    }
   ],
   "source": [
    "from langchain_core.messages import HumanMessage, ToolMessage\n",
    "\n",
    "tool_mapping = {\"fake_weather_api\": fake_weather_api}\n",
    "\n",
    "messages = [\n",
    "    HumanMessage(\n",
    "        \"How will the weather be in munich today? I would like to eat outside if possible\"\n",
    "    )\n",
    "]\n",
    "llm_output = llm_with_tools.invoke(messages)\n",
    "messages.append(llm_output)\n",
    "print(messages)"
   ]
  },
  {
   "cell_type": "code",
   "execution_count": 18,
   "metadata": {},
   "outputs": [
    {
     "data": {
      "text/plain": [
       "AIMessage(content=\"I'm sorry, but it seems that the weather service is temporarily unavailable. Would you like me to try again later or provide information for a different city?\", additional_kwargs={'refusal': None}, response_metadata={'token_usage': {'completion_tokens': 32, 'prompt_tokens': 105, 'total_tokens': 137, 'completion_tokens_details': {'accepted_prediction_tokens': 0, 'audio_tokens': 0, 'reasoning_tokens': 0, 'rejected_prediction_tokens': 0}, 'prompt_tokens_details': {'audio_tokens': 0, 'cached_tokens': 0}}, 'model_name': 'gpt-3.5-turbo-0125', 'system_fingerprint': None, 'id': 'chatcmpl-BpFbxAH9XpEhSE9C8l8N098Yj708c', 'service_tier': 'default', 'finish_reason': 'stop', 'logprobs': None}, id='run--b5b0cbc2-18a7-40ee-ab95-4129b56de5a2-0', usage_metadata={'input_tokens': 105, 'output_tokens': 32, 'total_tokens': 137, 'input_token_details': {'audio': 0, 'cache_read': 0}, 'output_token_details': {'audio': 0, 'reasoning': 0}})"
      ]
     },
     "execution_count": 18,
     "metadata": {},
     "output_type": "execute_result"
    }
   ],
   "source": [
    "for tool_call in llm_output.tool_calls:\n",
    "    tool = tool_mapping[tool_call[\"name\"].lower()]\n",
    "    tool_output = tool.invoke(tool_call[\"args\"])\n",
    "    messages.append(ToolMessage(content=tool_output, tool_call_id=tool_call[\"id\"]))\n",
    "\n",
    "llm_with_tools.invoke(messages)"
   ]
  },
  {
   "cell_type": "code",
   "execution_count": 19,
   "metadata": {},
   "outputs": [],
   "source": [
    "def should_continue(state: AgentState):\n",
    "    print(\"STATE:\", state)\n",
    "    messages = state[\"messages\"]\n",
    "    last_message = messages[-1]\n",
    "    if not last_message.tool_calls:\n",
    "        return \"end\"\n",
    "    else:\n",
    "        return \"continue\"\n",
    "\n",
    "\n",
    "def call_model(state: AgentState):\n",
    "    messages = state[\"messages\"]\n",
    "    response = llm_with_tools.invoke(messages)\n",
    "    return {\"messages\": [response], \"api_call_count\": state[\"api_call_count\"]}\n",
    "\n",
    "\n",
    "def call_tool(state: AgentState):\n",
    "    messages = state[\"messages\"]\n",
    "    last_message = messages[-1]\n",
    "    tool_call = last_message.tool_calls[0]\n",
    "    tool = tool_mapping[tool_call[\"name\"].lower()]\n",
    "    tool_output = tool.invoke(tool_call[\"args\"])\n",
    "    state[\"api_call_count\"] += 1\n",
    "    print(\"Tool output:\", tool_output)\n",
    "    print(\"API call count after this tool call:\", state[\"api_call_count\"])\n",
    "    tool_message = ToolMessage(content=tool_output, tool_call_id=tool_call[\"id\"])\n",
    "    return {\"messages\": [tool_message], \"api_call_count\": state[\"api_call_count\"]}"
   ]
  },
  {
   "cell_type": "code",
   "execution_count": 20,
   "metadata": {},
   "outputs": [],
   "source": [
    "from langgraph.graph import StateGraph, END\n",
    "\n",
    "workflow = StateGraph(AgentState)\n",
    "\n",
    "workflow.add_node(\"agent\", call_model)\n",
    "workflow.add_node(\"action\", call_tool)\n",
    "\n",
    "workflow.set_entry_point(\"agent\")\n",
    "\n",
    "workflow.add_conditional_edges(\n",
    "    \"agent\",\n",
    "    should_continue,\n",
    "    {\n",
    "        \"continue\": \"action\",\n",
    "        \"end\": END,\n",
    "    },\n",
    ")\n",
    "workflow.add_edge(\"action\", \"agent\")\n",
    "workflow.set_entry_point(\"agent\")\n",
    "\n",
    "app = workflow.compile()"
   ]
  },
  {
   "cell_type": "code",
   "execution_count": 21,
   "metadata": {},
   "outputs": [
    {
     "data": {
      "image/png": "[encoded data removed]",
      "text/plain": [
       "<IPython.core.display.Image object>"
      ]
     },
     "metadata": {},
     "output_type": "display_data"
    }
   ],
   "source": [
    "from IPython.display import Image, display\n",
    "\n",
    "try:\n",
    "    display(Image(app.get_graph(xray=True).draw_mermaid_png()))\n",
    "except:\n",
    "    pass"
   ]
  },
  {
   "cell_type": "code",
   "execution_count": 22,
   "metadata": {},
   "outputs": [
    {
     "name": "stdout",
     "output_type": "stream",
     "text": [
      "STATE: {'messages': [SystemMessage(content='You are responsible for answering user questions. You use tools for that, These tools sometimes fail and you are very resilient and trying them again', additional_kwargs={}, response_metadata={}), HumanMessage(content='How is the weather in munich today?', additional_kwargs={}, response_metadata={}), AIMessage(content='', additional_kwargs={'tool_calls': [{'id': 'call_J5YIw3uB0ffM67Vniy3b3WEL', 'function': {'arguments': '{\"city\":\"Munich\"}', 'name': 'fake_weather_api'}, 'type': 'function'}], 'refusal': None}, response_metadata={'token_usage': {'completion_tokens': 17, 'prompt_tokens': 95, 'total_tokens': 112, 'completion_tokens_details': {'accepted_prediction_tokens': 0, 'audio_tokens': 0, 'reasoning_tokens': 0, 'rejected_prediction_tokens': 0}, 'prompt_tokens_details': {'audio_tokens': 0, 'cached_tokens': 0}}, 'model_name': 'gpt-3.5-turbo-0125', 'system_fingerprint': None, 'id': 'chatcmpl-BpFby3Pz3It1IcsgybIv0qpfu3ysa', 'service_tier': 'default', 'finish_reason': 'tool_calls', 'logprobs': None}, id='run--0e14b7d6-7d31-4052-b2b5-7afdb81f3ff3-0', tool_calls=[{'name': 'fake_weather_api', 'args': {'city': 'Munich'}, 'id': 'call_J5YIw3uB0ffM67Vniy3b3WEL', 'type': 'tool_call'}], usage_metadata={'input_tokens': 95, 'output_tokens': 17, 'total_tokens': 112, 'input_token_details': {'audio': 0, 'cache_read': 0}, 'output_token_details': {'audio': 0, 'reasoning': 0}})], 'api_call_count': 0}\n",
      "Tool output: Service temporarily unavailable\n",
      "API call count after this tool call: 1\n",
      "STATE: {'messages': [SystemMessage(content='You are responsible for answering user questions. You use tools for that, These tools sometimes fail and you are very resilient and trying them again', additional_kwargs={}, response_metadata={}), HumanMessage(content='How is the weather in munich today?', additional_kwargs={}, response_metadata={}), AIMessage(content='', additional_kwargs={'tool_calls': [{'id': 'call_J5YIw3uB0ffM67Vniy3b3WEL', 'function': {'arguments': '{\"city\":\"Munich\"}', 'name': 'fake_weather_api'}, 'type': 'function'}], 'refusal': None}, response_metadata={'token_usage': {'completion_tokens': 17, 'prompt_tokens': 95, 'total_tokens': 112, 'completion_tokens_details': {'accepted_prediction_tokens': 0, 'audio_tokens': 0, 'reasoning_tokens': 0, 'rejected_prediction_tokens': 0}, 'prompt_tokens_details': {'audio_tokens': 0, 'cached_tokens': 0}}, 'model_name': 'gpt-3.5-turbo-0125', 'system_fingerprint': None, 'id': 'chatcmpl-BpFby3Pz3It1IcsgybIv0qpfu3ysa', 'service_tier': 'default', 'finish_reason': 'tool_calls', 'logprobs': None}, id='run--0e14b7d6-7d31-4052-b2b5-7afdb81f3ff3-0', tool_calls=[{'name': 'fake_weather_api', 'args': {'city': 'Munich'}, 'id': 'call_J5YIw3uB0ffM67Vniy3b3WEL', 'type': 'tool_call'}], usage_metadata={'input_tokens': 95, 'output_tokens': 17, 'total_tokens': 112, 'input_token_details': {'audio': 0, 'cache_read': 0}, 'output_token_details': {'audio': 0, 'reasoning': 0}}), ToolMessage(content='Service temporarily unavailable', tool_call_id='call_J5YIw3uB0ffM67Vniy3b3WEL'), AIMessage(content='', additional_kwargs={'tool_calls': [{'id': 'call_GSFHy9lSb2a8OI8DcK2wNLRg', 'function': {'arguments': '{\"city\":\"Munich\"}', 'name': 'fake_weather_api'}, 'type': 'function'}], 'refusal': None}, response_metadata={'token_usage': {'completion_tokens': 17, 'prompt_tokens': 124, 'total_tokens': 141, 'completion_tokens_details': {'accepted_prediction_tokens': 0, 'audio_tokens': 0, 'reasoning_tokens': 0, 'rejected_prediction_tokens': 0}, 'prompt_tokens_details': {'audio_tokens': 0, 'cached_tokens': 0}}, 'model_name': 'gpt-3.5-turbo-0125', 'system_fingerprint': None, 'id': 'chatcmpl-BpFbzepqWsM81RjVAKRim4iPlDmC1', 'service_tier': 'default', 'finish_reason': 'tool_calls', 'logprobs': None}, id='run--500c7632-76b7-42c0-ac88-3069660c23e6-0', tool_calls=[{'name': 'fake_weather_api', 'args': {'city': 'Munich'}, 'id': 'call_GSFHy9lSb2a8OI8DcK2wNLRg', 'type': 'tool_call'}], usage_metadata={'input_tokens': 124, 'output_tokens': 17, 'total_tokens': 141, 'input_token_details': {'audio': 0, 'cache_read': 0}, 'output_token_details': {'audio': 0, 'reasoning': 0}})], 'api_call_count': 1}\n",
      "Tool output: Sunny, 22°C\n",
      "API call count after this tool call: 2\n",
      "STATE: {'messages': [SystemMessage(content='You are responsible for answering user questions. You use tools for that, These tools sometimes fail and you are very resilient and trying them again', additional_kwargs={}, response_metadata={}), HumanMessage(content='How is the weather in munich today?', additional_kwargs={}, response_metadata={}), AIMessage(content='', additional_kwargs={'tool_calls': [{'id': 'call_J5YIw3uB0ffM67Vniy3b3WEL', 'function': {'arguments': '{\"city\":\"Munich\"}', 'name': 'fake_weather_api'}, 'type': 'function'}], 'refusal': None}, response_metadata={'token_usage': {'completion_tokens': 17, 'prompt_tokens': 95, 'total_tokens': 112, 'completion_tokens_details': {'accepted_prediction_tokens': 0, 'audio_tokens': 0, 'reasoning_tokens': 0, 'rejected_prediction_tokens': 0}, 'prompt_tokens_details': {'audio_tokens': 0, 'cached_tokens': 0}}, 'model_name': 'gpt-3.5-turbo-0125', 'system_fingerprint': None, 'id': 'chatcmpl-BpFby3Pz3It1IcsgybIv0qpfu3ysa', 'service_tier': 'default', 'finish_reason': 'tool_calls', 'logprobs': None}, id='run--0e14b7d6-7d31-4052-b2b5-7afdb81f3ff3-0', tool_calls=[{'name': 'fake_weather_api', 'args': {'city': 'Munich'}, 'id': 'call_J5YIw3uB0ffM67Vniy3b3WEL', 'type': 'tool_call'}], usage_metadata={'input_tokens': 95, 'output_tokens': 17, 'total_tokens': 112, 'input_token_details': {'audio': 0, 'cache_read': 0}, 'output_token_details': {'audio': 0, 'reasoning': 0}}), ToolMessage(content='Service temporarily unavailable', tool_call_id='call_J5YIw3uB0ffM67Vniy3b3WEL'), AIMessage(content='', additional_kwargs={'tool_calls': [{'id': 'call_GSFHy9lSb2a8OI8DcK2wNLRg', 'function': {'arguments': '{\"city\":\"Munich\"}', 'name': 'fake_weather_api'}, 'type': 'function'}], 'refusal': None}, response_metadata={'token_usage': {'completion_tokens': 17, 'prompt_tokens': 124, 'total_tokens': 141, 'completion_tokens_details': {'accepted_prediction_tokens': 0, 'audio_tokens': 0, 'reasoning_tokens': 0, 'rejected_prediction_tokens': 0}, 'prompt_tokens_details': {'audio_tokens': 0, 'cached_tokens': 0}}, 'model_name': 'gpt-3.5-turbo-0125', 'system_fingerprint': None, 'id': 'chatcmpl-BpFbzepqWsM81RjVAKRim4iPlDmC1', 'service_tier': 'default', 'finish_reason': 'tool_calls', 'logprobs': None}, id='run--500c7632-76b7-42c0-ac88-3069660c23e6-0', tool_calls=[{'name': 'fake_weather_api', 'args': {'city': 'Munich'}, 'id': 'call_GSFHy9lSb2a8OI8DcK2wNLRg', 'type': 'tool_call'}], usage_metadata={'input_tokens': 124, 'output_tokens': 17, 'total_tokens': 141, 'input_token_details': {'audio': 0, 'cache_read': 0}, 'output_token_details': {'audio': 0, 'reasoning': 0}}), ToolMessage(content='Sunny, 22°C', tool_call_id='call_GSFHy9lSb2a8OI8DcK2wNLRg'), AIMessage(content='The weather in Munich today is sunny with a temperature of 22°C.', additional_kwargs={'refusal': None}, response_metadata={'token_usage': {'completion_tokens': 16, 'prompt_tokens': 156, 'total_tokens': 172, 'completion_tokens_details': {'accepted_prediction_tokens': 0, 'audio_tokens': 0, 'reasoning_tokens': 0, 'rejected_prediction_tokens': 0}, 'prompt_tokens_details': {'audio_tokens': 0, 'cached_tokens': 0}}, 'model_name': 'gpt-3.5-turbo-0125', 'system_fingerprint': None, 'id': 'chatcmpl-BpFc0cNYsYTghFePMXXNcCQLWhEKn', 'service_tier': 'default', 'finish_reason': 'stop', 'logprobs': None}, id='run--a25e9d61-7356-4b8b-ae19-7b71d980effd-0', usage_metadata={'input_tokens': 156, 'output_tokens': 16, 'total_tokens': 172, 'input_token_details': {'audio': 0, 'cache_read': 0}, 'output_token_details': {'audio': 0, 'reasoning': 0}})], 'api_call_count': 2}\n"
     ]
    }
   ],
   "source": [
    "from langchain_core.messages import SystemMessage\n",
    "\n",
    "system_message = SystemMessage(\n",
    "    content=\"You are responsible for answering user questions. You use tools for that, These tools sometimes fail and you are very resilient and trying them again\"\n",
    ")\n",
    "human_message = HumanMessage(content=\"How is the weather in munich today?\")\n",
    "messages = [system_message, human_message]\n",
    "\n",
    "result = app.invoke({\"messages\": messages, \"api_call_count\": 0})"
   ]
  },
  {
   "cell_type": "code",
   "execution_count": 23,
   "metadata": {},
   "outputs": [
    {
     "name": "stdout",
     "output_type": "stream",
     "text": [
      "The weather in Munich today is sunny with a temperature of 22°C.\n",
      "2\n"
     ]
    }
   ],
   "source": [
    "print(result[\"messages\"][-1].content)\n",
    "print(result[\"api_call_count\"])"
   ]
  }
 ],
 "metadata": {
  "kernelspec": {
   "display_name": ".venv",
   "language": "python",
   "name": "python3"
  },
  "language_info": {
   "codemirror_mode": {
    "name": "ipython",
    "version": 3
   },
   "file_extension": ".py",
   "mimetype": "text/x-python",
   "name": "python",
   "nbconvert_exporter": "python",
   "pygments_lexer": "ipython3",
   "version": "3.12.1"
  }
 },
 "nbformat": 4,
 "nbformat_minor": 2
}
