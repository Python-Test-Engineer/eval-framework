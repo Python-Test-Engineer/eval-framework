{
 "cells": [
  {
   "cell_type": "markdown",
   "id": "eaf270b0",
   "metadata": {},
   "source": [
    "<img src=\"./images/02-api.png\" width=700px>\n"
   ]
  },
  {
   "cell_type": "markdown",
   "id": "095cd1f8",
   "metadata": {},
   "source": [
    "see _get_client.py"
   ]
  },
  {
   "cell_type": "code",
   "execution_count": 1,
   "id": "de23bb9e-37c5-4377-9a82-d7b6c648eeb6",
   "metadata": {},
   "outputs": [],
   "source": [
    "import os\n",
    "import json\n",
    "import requests\n",
    "from dotenv import load_dotenv\n",
    "from pprint import pprint\n",
    "\n",
    "# we now use OpenAI to send requests\n",
    "from openai import OpenAI\n",
    "\n",
    "# import openai"
   ]
  },
  {
   "cell_type": "code",
   "execution_count": 2,
   "id": "17ce3c2c",
   "metadata": {},
   "outputs": [],
   "source": [
    "# for console formatting I use the Rich library\n",
    "from rich.console import Console\n",
    "\n",
    "console = Console()"
   ]
  },
  {
   "cell_type": "code",
   "execution_count": 3,
   "id": "e8e3ff6d",
   "metadata": {},
   "outputs": [
    {
     "name": "stdout",
     "output_type": "stream",
     "text": [
      "{'type': 'general', 'setup': 'What did the scarf say to the hat?', 'punchline': 'You go on ahead, I am going to hang around a bit longer.', 'id': 183}\n"
     ]
    }
   ],
   "source": [
    "# We are familiar with a standard API request\n",
    "# This is a public API that returns a random joke\n",
    "# The API developers have a very deterministic response even if random\n",
    "# Both sides program imperatively\n",
    "\n",
    "get_random_joke_internet = requests.get(\n",
    "    \"https://official-joke-api.appspot.com/random_joke\"\n",
    ")\n",
    "print(get_random_joke_internet.json())"
   ]
  },
  {
   "cell_type": "code",
   "execution_count": 4,
   "id": "c5dd4d3a",
   "metadata": {},
   "outputs": [],
   "source": [
    "def get_llm_client(llm_choice):\n",
    "    if llm_choice == \"GROQ\":\n",
    "        client = OpenAI(\n",
    "            base_url=\"https://api.groq.com/openai/v1\",\n",
    "            api_key=os.environ.get(\"GROQ_API_KEY\"),\n",
    "        )\n",
    "        return client\n",
    "    elif llm_choice == \"OPENAI\":\n",
    "        load_dotenv()  # load environment variables from .env fil\n",
    "        client = OpenAI(api_key=os.environ.get(\"OPENAI_API_KEY\"))\n",
    "        return client\n",
    "    else:\n",
    "        raise ValueError(\"Invalid LLM choice. Please choose 'GROQ' or 'OPENAI'.\")"
   ]
  },
  {
   "cell_type": "code",
   "execution_count": 5,
   "id": "1179b4c5-cd1f-4131-a876-4c9f3f38d2ba",
   "metadata": {},
   "outputs": [
    {
     "name": "stdout",
     "output_type": "stream",
     "text": [
      "OPENAI_API_KEY exists and begins sk-proj-vIt-L1...\n",
      "GROQ_API_KEY exists and begins gsk_0yKDCuUXkz...\n",
      "LLM_CHOICE: GROQ - MODEL: llama-3.3-70b-versatile\n"
     ]
    }
   ],
   "source": [
    "# Load environment variables in a file called .env\n",
    "# Print the key prefixes to help with any debugging\n",
    "load_dotenv()\n",
    "\n",
    "OPENAI_API_KEY = os.getenv(\"OPENAI_API_KEY\")\n",
    "GROQ_API_KEY = os.getenv(\"GROQ_API_KEY\")\n",
    "\n",
    "LLM_CHOICE = \"OPENAI\"\n",
    "LLM_CHOICE = \"GROQ\"\n",
    "\n",
    "if OPENAI_API_KEY:\n",
    "    print(f\"OPENAI_API_KEY exists and begins {OPENAI_API_KEY[:14]}...\")\n",
    "else:\n",
    "    print(\"OPENAI_API_KEY not set\")\n",
    "\n",
    "if GROQ_API_KEY:\n",
    "    print(f\"GROQ_API_KEY exists and begins {GROQ_API_KEY[:14]}...\")\n",
    "else:\n",
    "    print(\"GROQ_API_KEY not set\")\n",
    "\n",
    "\n",
    "client = get_llm_client(LLM_CHOICE)\n",
    "if LLM_CHOICE == \"GROQ\":\n",
    "    MODEL = \"llama-3.3-70b-versatile\"\n",
    "else:\n",
    "    MODEL = \"gpt-4o-mini\"\n",
    "\n",
    "print(f\"LLM_CHOICE: {LLM_CHOICE} - MODEL: {MODEL}\")"
   ]
  },
  {
   "cell_type": "markdown",
   "id": "dabd0ce2",
   "metadata": {},
   "source": [
    "Essentially, we build up data to pass as SYSTEM MESSAGE that sets the context for the conversation and contexctual data for the LLM.\n",
    "\n",
    "I split this into core SYSTEM_MESSAGE and PROMPT_ENGINEERING = system_message\n",
    "\n",
    "We then create the USER PROMPT that is the input to the LLM.\n",
    "\n",
    "OpenAI was trained on this structure, so it is most effective to do it this way.\n"
   ]
  },
  {
   "cell_type": "code",
   "execution_count": 6,
   "id": "378a0296-59a2-45c6-82eb-941344d3eeff",
   "metadata": {},
   "outputs": [
    {
     "name": "stdout",
     "output_type": "stream",
     "text": [
      "Reading prompt engineering from file ./prompts/01_api_sample_prompt.md\n"
     ]
    }
   ],
   "source": [
    "# We now create our ENDPOINT but on the CLIENT side and in NATURAL LANGUAGE\n",
    "\n",
    "system_message = \"\"\"\n",
    "You are an assistant that is great at telling jokes.\n",
    "\"\"\"\n",
    "\n",
    "# Here is where we can do some prompt engineering - we are adding to the system message and creating our endpoint as it were.\n",
    "\n",
    "\n",
    "# We can also load a system message from a file if we want to keep it separate\n",
    "with open(\"./prompts/01_api_sample_prompt.md\", \"r\") as f:\n",
    "    prompt_engineering = f.read()\n",
    "    print(\"Reading prompt engineering from file ./prompts/01_api_sample_prompt.md\")\n",
    "    # print(prompt_engineering)\n",
    "\n",
    "\n",
    "# We add the prompt engineering to the system message\n",
    "system_message = prompt_engineering\n",
    "\n",
    "\n",
    "# We create our user prompt and will add all of these to the payload.\n",
    "user_prompt = \"Tell a light-hearted joke for a general audience\""
   ]
  },
  {
   "cell_type": "code",
   "execution_count": 7,
   "id": "f4d56a0f-2a3d-484d-9344-0efa6862aff4",
   "metadata": {},
   "outputs": [],
   "source": [
    "# We create a list of messages to pass to the LLM\n",
    "\n",
    "# OpenAI works was trained with a list of messages - system, user, assistant - so using this is most effective\n",
    "\n",
    "prompts = [\n",
    "    {\"role\": \"system\", \"content\": system_message},\n",
    "    {\"role\": \"user\", \"content\": user_prompt},\n",
    "]\n",
    "# we will get back as we have seen previously an 'assistant' message."
   ]
  },
  {
   "cell_type": "code",
   "execution_count": 8,
   "id": "d070d976",
   "metadata": {},
   "outputs": [
    {
     "name": "stdout",
     "output_type": "stream",
     "text": [
      "{\"setup\": \"Why couldn't the bicycle stand up by itself?\", \n",
      "\"punchline\": \"Because it was two-tired\", \n",
      "\"rating\": 9, \n",
      "\"next\": \"PUBLISH\", \n",
      "\"explanation\": \"This joke is funny because it plays on the common phrase 'two-tired' meaning exhausted, but also references the two tires on a bicycle\"}\n"
     ]
    }
   ],
   "source": [
    "response = client.chat.completions.create(\n",
    "    model=MODEL, messages=prompts, temperature=0.7\n",
    ")\n",
    "print(response.choices[0].message.content)\n",
    "output = response.choices[0].message.content.replace(\"\\n\", \"\")"
   ]
  },
  {
   "cell_type": "markdown",
   "id": "0c3ddd58",
   "metadata": {},
   "source": [
    "For the application, we could create a state object so that we can track the state of the application - it is custom.\n"
   ]
  },
  {
   "cell_type": "code",
   "execution_count": 9,
   "id": "e2378ced",
   "metadata": {},
   "outputs": [],
   "source": [
    "state = {\"next\": \"\", \"setup\": \"\", \"punchline\": \"\", \"rating\": \"\"}"
   ]
  },
  {
   "cell_type": "code",
   "execution_count": 10,
   "id": "b83b7094",
   "metadata": {},
   "outputs": [
    {
     "name": "stdout",
     "output_type": "stream",
     "text": [
      "{\"setup\": \"Why couldn't the bicycle stand up by itself?\", \"punchline\": \"Because it was two-tired\", \"rating\": 9, \"next\": \"PUBLISH\", \"explanation\": \"This joke is funny because it plays on the common phrase 'two-tired' meaning exhausted, but also references the two tires on a bicycle\"}\n"
     ]
    }
   ],
   "source": [
    "print(output)"
   ]
  },
  {
   "cell_type": "code",
   "execution_count": 11,
   "id": "43271806",
   "metadata": {},
   "outputs": [
    {
     "name": "stdout",
     "output_type": "stream",
     "text": [
      "{'next': 'PUBLISH',\n",
      " 'punchline': 'Because it was two-tired',\n",
      " 'rating': 9,\n",
      " 'setup': \"Why couldn't the bicycle stand up by itself?\"}\n"
     ]
    }
   ],
   "source": [
    "# We can update the state object for use in our app...\n",
    "result = json.loads(output)\n",
    "if result[\"next\"] == \"PUBLISH\":\n",
    "    state[\"next\"] = result[\"next\"]\n",
    "    state[\"setup\"] = result[\"setup\"]\n",
    "    state[\"rating\"] = result[\"rating\"]\n",
    "    state[\"punchline\"] = result[\"punchline\"]\n",
    "else:\n",
    "    state[\"next\"] = \"RETRY\"\n",
    "pprint(state)"
   ]
  },
  {
   "cell_type": "code",
   "execution_count": 12,
   "id": "8ee3edbe",
   "metadata": {},
   "outputs": [
    {
     "data": {
      "text/html": [
       "<pre style=\"white-space:pre;overflow-x:auto;line-height:normal;font-family:Menlo,'DejaVu Sans Mono',consolas,'Courier New',monospace\">Using GROQ and llama-<span style=\"color: #008080; text-decoration-color: #008080; font-weight: bold\">3.3</span>-70b-versatile -&gt; NEXT STEP: <span style=\"color: #ff8700; text-decoration-color: #ff8700; font-weight: bold\">PUBLISH</span>\n",
       "</pre>\n"
      ],
      "text/plain": [
       "Using GROQ and llama-\u001b[1;36m3.3\u001b[0m-70b-versatile -> NEXT STEP: \u001b[1;38;5;208mPUBLISH\u001b[0m\n"
      ]
     },
     "metadata": {},
     "output_type": "display_data"
    }
   ],
   "source": [
    "# We can extract the NEXT step from the Autonomous AI Agent. This could be app based or we could invoke another agent.\n",
    "\n",
    "# This can then be used in a range of sofware design patterns for program flow as in a ROUTER (04) or even a FILTER of data needed for the FAQ (03) example - e.g. {\"category\": \"sprints\"} with the DB searched for relevant 'sprint' information.\n",
    "\n",
    "# This illustrates the AUTONOMY aspect of AI Agents in that it determines the next part of the workflow.\n",
    "\n",
    "console.print(\n",
    "    f\"Using {LLM_CHOICE} and {MODEL} -> NEXT STEP: [dark_orange bold]{state['next']}[/]\"\n",
    ")"
   ]
  },
  {
   "cell_type": "markdown",
   "id": "eb9783f1",
   "metadata": {},
   "source": []
  },
  {
   "cell_type": "markdown",
   "id": "083a7c86",
   "metadata": {},
   "source": []
  }
 ],
 "metadata": {
  "kernelspec": {
   "display_name": "Python 3",
   "language": "python",
   "name": "python3"
  },
  "language_info": {
   "codemirror_mode": {
    "name": "ipython",
    "version": 3
   },
   "file_extension": ".py",
   "mimetype": "text/x-python",
   "name": "python",
   "nbconvert_exporter": "python",
   "pygments_lexer": "ipython3",
   "version": "3.12.10"
  }
 },
 "nbformat": 4,
 "nbformat_minor": 5
}
